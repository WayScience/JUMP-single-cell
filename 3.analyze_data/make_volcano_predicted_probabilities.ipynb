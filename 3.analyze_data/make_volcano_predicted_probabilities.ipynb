{
 "cells": [
  {
   "cell_type": "markdown",
   "metadata": {
    "jukit_cell_id": "SjFlYRUNIU"
   },
   "source": [
    "# Compare phenotypic expression among treatments with volcano plot visualizations\n",
    "We compare phenotypic expression for each (phenotype, statistical test, model type, treatment type) combination"
   ]
  },
  {
   "cell_type": "code",
   "execution_count": 1,
   "metadata": {
    "execution": {
     "iopub.execute_input": "2023-08-18T22:47:22.103495Z",
     "iopub.status.busy": "2023-08-18T22:47:22.103343Z",
     "iopub.status.idle": "2023-08-18T22:47:22.597723Z",
     "shell.execute_reply": "2023-08-18T22:47:22.597404Z"
    },
    "jukit_cell_id": "JwBLiV9bgM"
   },
   "outputs": [],
   "source": [
    "import pathlib\n",
    "\n",
    "import matplotlib.pyplot as plt\n",
    "import numpy as np\n",
    "import pandas as pd\n",
    "import seaborn as sns"
   ]
  },
  {
   "cell_type": "markdown",
   "metadata": {
    "jukit_cell_id": "1ORQeiU6e7"
   },
   "source": [
    "## Find the root of the git repo on the host system"
   ]
  },
  {
   "cell_type": "code",
   "execution_count": 2,
   "metadata": {
    "execution": {
     "iopub.execute_input": "2023-08-18T22:47:22.599977Z",
     "iopub.status.busy": "2023-08-18T22:47:22.599529Z",
     "iopub.status.idle": "2023-08-18T22:47:22.602442Z",
     "shell.execute_reply": "2023-08-18T22:47:22.602142Z"
    },
    "jukit_cell_id": "uK5qL090PL"
   },
   "outputs": [],
   "source": [
    "# Get the current working directory\n",
    "cwd = pathlib.Path.cwd()\n",
    "\n",
    "if (cwd / \".git\").is_dir():\n",
    "    root_dir = cwd\n",
    "\n",
    "else:\n",
    "    root_dir = None\n",
    "    for parent in cwd.parents:\n",
    "        if (parent / \".git\").is_dir():\n",
    "            root_dir = parent\n",
    "            break\n",
    "\n",
    "# Check if a Git root directory was found\n",
    "if root_dir is None:\n",
    "    raise FileNotFoundError(\"No Git root directory found.\")"
   ]
  },
  {
   "cell_type": "markdown",
   "metadata": {
    "jukit_cell_id": "5BE0GbxGjR"
   },
   "source": [
    "## Define the input dataframe from the parquet path"
   ]
  },
  {
   "cell_type": "code",
   "execution_count": 3,
   "metadata": {
    "execution": {
     "iopub.execute_input": "2023-08-18T22:47:22.603974Z",
     "iopub.status.busy": "2023-08-18T22:47:22.603720Z",
     "iopub.status.idle": "2023-08-18T22:47:22.662230Z",
     "shell.execute_reply": "2023-08-18T22:47:22.661928Z"
    },
    "jukit_cell_id": "yPcNeW6ieU"
   },
   "outputs": [],
   "source": [
    "drive_path = f\"{root_dir}/big_drive\"\n",
    "compdf = pd.read_parquet(f\"{drive_path}/statistical_test_comparisons/comparison_results.parquet\")"
   ]
  },
  {
   "cell_type": "markdown",
   "metadata": {
    "jukit_cell_id": "GJOd8OBTTj"
   },
   "source": [
    "## Define and create output path"
   ]
  },
  {
   "cell_type": "code",
   "execution_count": 4,
   "metadata": {
    "execution": {
     "iopub.execute_input": "2023-08-18T22:47:22.663616Z",
     "iopub.status.busy": "2023-08-18T22:47:22.663467Z",
     "iopub.status.idle": "2023-08-18T22:47:22.665468Z",
     "shell.execute_reply": "2023-08-18T22:47:22.665199Z"
    },
    "jukit_cell_id": "9s8ZLXfLnA"
   },
   "outputs": [],
   "source": [
    "output_path = pathlib.Path(\"figures\")\n",
    "\n",
    "output_path.mkdir(parents=True, exist_ok=True)"
   ]
  },
  {
   "cell_type": "code",
   "execution_count": 5,
   "metadata": {
    "execution": {
     "iopub.execute_input": "2023-08-18T22:47:22.666772Z",
     "iopub.status.busy": "2023-08-18T22:47:22.666541Z",
     "iopub.status.idle": "2023-08-18T22:47:44.271853Z",
     "shell.execute_reply": "2023-08-18T22:47:44.271454Z"
    },
    "jukit_cell_id": "Vn3o80gqv1"
   },
   "outputs": [],
   "source": [
    "# Bernoulli adjustment\n",
    "alpha = 0.05 / len(compdf)\n",
    "\n",
    "# Remove the zero values after the p-value adjustment\n",
    "compdf = compdf.loc[compdf[\"p_value\"] > 0]\n",
    "significance_threshold = -np.log10(alpha)\n",
    "\n",
    "# Define the unique groups to plot\n",
    "unique_comparisons = set(zip(compdf[\"phenotype\"], compdf[\"treatment_type\"], compdf[\"model_type\"], compdf[\"statistical_test\"]))\n",
    "\n",
    "# Specify colors according to categories\n",
    "colors = {\n",
    "'x_below_threshold': 'green',        # Color for x < 0 and y > significance_threshold\n",
    "'x_above_threshold': 'red',       # Color for x > 0 and y > significance_threshold\n",
    "'y_below_threshold': 'blue'          # Color for y < significance_threshold\n",
    "}\n",
    "\n",
    "# Convert the p-values to negative log p-values\n",
    "compdf[\"neg_log_p_value\"] = -np.log10(compdf[\"p_value\"])\n",
    "\n",
    "# Specify the (x,y) thresholds for coloring the plots\n",
    "compdf[\"category\"] = compdf.apply(lambda row:\n",
    "    'x_below_threshold' if row['comparison_metric_value'] < 0 and row['neg_log_p_value'] > significance_threshold else\n",
    "    'x_above_threshold' if row['comparison_metric_value'] > 0 and row['neg_log_p_value'] > significance_threshold else\n",
    "    'y_below_threshold',\n",
    "    axis=1\n",
    ")\n",
    "\n",
    "for comp in unique_comparisons:\n",
    "\n",
    "    fig, ax = plt.subplots(figsize=(15, 10))\n",
    "    groupdf = compdf.copy()\n",
    "\n",
    "    # Seperate the croups we are intersted in plotting\n",
    "    groupdf = groupdf.loc[((groupdf[\"phenotype\"] == comp[0]) & (groupdf[\"treatment_type\"] == comp[1]) & (groupdf[\"model_type\"] == comp[2]) & (groupdf[\"statistical_test\"] == comp[3]))]\n",
    "\n",
    "    # Create the scatter plot with size and color differentiation\n",
    "    sns.scatterplot(\n",
    "        data=groupdf,\n",
    "        x=\"comparison_metric_value\",\n",
    "        y=\"neg_log_p_value\",\n",
    "        hue=\"category\",\n",
    "        palette=colors,\n",
    "        legend=False,\n",
    "        ax = ax\n",
    "    )\n",
    "\n",
    "    # Add threshold lines\n",
    "    plt.axhline(\n",
    "        significance_threshold,\n",
    "        color=\"black\",\n",
    "        linestyle=\"--\",\n",
    "        label=\"Significance Threshold\",\n",
    "    )\n",
    "\n",
    "    # Get the name of the statistical test and apply formating\n",
    "    f_test_title = comp[3].replace(\"_\", \" \")\n",
    "    f_test_title = f_test_title.title()\n",
    "\n",
    "    # Set plot labels and title\n",
    "    plt.xlabel(\"median\")\n",
    "    plt.ylabel(\"-log10(p-value)\")\n",
    "    plt.title(f\"{f_test_title} tests of Treatment probabilities for phenotype {comp[0].upper()} and treatment type {comp[1].upper()} compared to DMSO\")\n",
    "\n",
    "    # Make the output directory if it doesn't exist\n",
    "    fig_path = output_path / f\"{comp[1]}/{comp[0]}/{comp[2]}/{comp[3]}\"\n",
    "    fig_path.mkdir(parents=True, exist_ok=True)\n",
    "\n",
    "    # Save the plot\n",
    "    plt.savefig(f\"{fig_path}/{comp[3]}_volcano_{comp[0]}_{comp[1]}.png\")\n",
    "    plt.close(fig)"
   ]
  }
 ],
 "metadata": {
  "anaconda-cloud": {},
  "kernelspec": {
   "display_name": "python",
   "language": "python",
   "name": "python3"
  },
  "language_info": {
   "codemirror_mode": {
    "name": "ipython",
    "version": 3
   },
   "file_extension": ".py",
   "mimetype": "text/x-python",
   "name": "python",
   "nbconvert_exporter": "python",
   "pygments_lexer": "ipython3",
   "version": "3.9.17"
  }
 },
 "nbformat": 4,
 "nbformat_minor": 4
}
