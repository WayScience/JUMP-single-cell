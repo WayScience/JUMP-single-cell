{
 "cells": [
  {
   "cell_type": "markdown",
   "metadata": {},
   "source": [
    "# Visualize UMAPs for only Mitocheck + JUMP embeddings"
   ]
  },
  {
   "cell_type": "markdown",
   "metadata": {},
   "source": [
    "## Import libraries"
   ]
  },
  {
   "cell_type": "code",
   "execution_count": 1,
   "metadata": {
    "vscode": {
     "languageId": "r"
    }
   },
   "outputs": [
    {
     "name": "stderr",
     "output_type": "stream",
     "text": [
      "Warning message:\n",
      "“package ‘ggplot2’ was built under R version 4.2.3”\n",
      "Warning message:\n",
      "“package ‘patchwork’ was built under R version 4.2.3”\n"
     ]
    }
   ],
   "source": [
    "suppressPackageStartupMessages(library(dplyr))\n",
    "suppressPackageStartupMessages(library(ggplot2))\n",
    "suppressPackageStartupMessages(library(patchwork))\n",
    "\n",
    "# Load variables important for plotting (e.g., themes, phenotypes, etc.)\n",
    "source(\"themes.r\")"
   ]
  },
  {
   "cell_type": "code",
   "execution_count": 2,
   "metadata": {
    "vscode": {
     "languageId": "r"
    }
   },
   "outputs": [
    {
     "name": "stdout",
     "output_type": "stream",
     "text": [
      "[1] \"./results/Mito_JUMP_zernike_features/Mito_JUMP_zernike_features_final_all_features_model.tsv\"            \n",
      "[2] \"./results/Mito_JUMP_zernike_features/Mito_JUMP_zernike_features_final_greg_areashape_model.tsv\"          \n",
      "[3] \"./results/Mito_JUMP_zernike_features/Mito_JUMP_zernike_features_shuffled_baseline_all_features_model.tsv\"\n",
      "[4] \"./results/Mito_JUMP_zernike_features/Mito_JUMP_zernike_features_shuffled_greg_areashape_model.tsv\"       \n",
      "$final_all_features_model\n",
      "[1] \"figures/Mito_JUMP_zernike_features/Mito_JUMP_zernike_features_final_all_features_model\"\n",
      "\n",
      "$final_greg_areashape_model\n",
      "[1] \"figures/Mito_JUMP_zernike_features/Mito_JUMP_zernike_features_final_greg_areashape_model\"\n",
      "\n",
      "$shuffled_baseline_all_features_model\n",
      "[1] \"figures/Mito_JUMP_zernike_features/Mito_JUMP_zernike_features_shuffled_baseline_all_features_model\"\n",
      "\n",
      "$shuffled_greg_areashape_model\n",
      "[1] \"figures/Mito_JUMP_zernike_features/Mito_JUMP_zernike_features_shuffled_greg_areashape_model\"\n",
      "\n"
     ]
    }
   ],
   "source": [
    "# Set directory for data split\n",
    "data_split_dir <- file.path(\"./results/Mito_JUMP_zernike_features\")\n",
    "# File structure in dir\n",
    "umap_files <- list.files(data_split_dir, full.names = TRUE)\n",
    "print(umap_files)\n",
    "\n",
    "output_fig_dir <- file.path(\"figures/Mito_JUMP_zernike_features\")\n",
    "umap_prefix <- \"Mito_JUMP_zernike_features_\"\n",
    "umap_suffix <- \".tsv\"\n",
    "\n",
    "# Define output figure paths as a dictionary where each plate has a figure output path\n",
    "output_umap_files <- list()\n",
    "for (umap_file in umap_files) {\n",
    "    # Use the file name to extract plate\n",
    "    file_name <- basename(umap_file)\n",
    "    plate <- gsub(umap_suffix, \"\", gsub(umap_prefix, \"\", file_name))\n",
    "\n",
    "    output_umap_files[[plate]] <- file.path(output_fig_dir, paste0(umap_prefix, plate))\n",
    "}\n",
    "        \n",
    "print(output_umap_files)"
   ]
  },
  {
   "cell_type": "markdown",
   "metadata": {},
   "source": [
    "## Load in data frames"
   ]
  },
  {
   "cell_type": "code",
   "execution_count": 3,
   "metadata": {
    "vscode": {
     "languageId": "r"
    }
   },
   "outputs": [
    {
     "data": {
      "text/html": [
       "<table class=\"dataframe\">\n",
       "<caption>A tibble: 6 × 6</caption>\n",
       "<thead>\n",
       "\t<tr><th scope=col>Metadata_data_name</th><th scope=col>Metadata_Predicted_Class</th><th scope=col>Metadata_Phenotypic_Value</th><th scope=col>UMAP0</th><th scope=col>UMAP1</th><th scope=col>Metadata_Plot_Label</th></tr>\n",
       "\t<tr><th scope=col>&lt;chr&gt;</th><th scope=col>&lt;fct&gt;</th><th scope=col>&lt;dbl&gt;</th><th scope=col>&lt;dbl&gt;</th><th scope=col>&lt;dbl&gt;</th><th scope=col>&lt;chr&gt;</th></tr>\n",
       "</thead>\n",
       "<tbody>\n",
       "\t<tr><td>mitocheck</td><td>Large</td><td>1</td><td> 6.1247270</td><td>-1.4459121</td><td>Large</td></tr>\n",
       "\t<tr><td>mitocheck</td><td>Large</td><td>1</td><td> 2.4282982</td><td>-0.6603640</td><td>Large</td></tr>\n",
       "\t<tr><td>mitocheck</td><td>Large</td><td>1</td><td> 6.5341134</td><td>-0.2127959</td><td>Large</td></tr>\n",
       "\t<tr><td>mitocheck</td><td>Large</td><td>1</td><td>10.2933990</td><td> 2.1077750</td><td>Large</td></tr>\n",
       "\t<tr><td>mitocheck</td><td>Large</td><td>1</td><td> 6.3646900</td><td> 1.6837864</td><td>Large</td></tr>\n",
       "\t<tr><td>mitocheck</td><td>Large</td><td>1</td><td> 0.8638661</td><td> 0.1533130</td><td>Large</td></tr>\n",
       "</tbody>\n",
       "</table>\n"
      ],
      "text/latex": [
       "A tibble: 6 × 6\n",
       "\\begin{tabular}{llllll}\n",
       " Metadata\\_data\\_name & Metadata\\_Predicted\\_Class & Metadata\\_Phenotypic\\_Value & UMAP0 & UMAP1 & Metadata\\_Plot\\_Label\\\\\n",
       " <chr> & <fct> & <dbl> & <dbl> & <dbl> & <chr>\\\\\n",
       "\\hline\n",
       "\t mitocheck & Large & 1 &  6.1247270 & -1.4459121 & Large\\\\\n",
       "\t mitocheck & Large & 1 &  2.4282982 & -0.6603640 & Large\\\\\n",
       "\t mitocheck & Large & 1 &  6.5341134 & -0.2127959 & Large\\\\\n",
       "\t mitocheck & Large & 1 & 10.2933990 &  2.1077750 & Large\\\\\n",
       "\t mitocheck & Large & 1 &  6.3646900 &  1.6837864 & Large\\\\\n",
       "\t mitocheck & Large & 1 &  0.8638661 &  0.1533130 & Large\\\\\n",
       "\\end{tabular}\n"
      ],
      "text/markdown": [
       "\n",
       "A tibble: 6 × 6\n",
       "\n",
       "| Metadata_data_name &lt;chr&gt; | Metadata_Predicted_Class &lt;fct&gt; | Metadata_Phenotypic_Value &lt;dbl&gt; | UMAP0 &lt;dbl&gt; | UMAP1 &lt;dbl&gt; | Metadata_Plot_Label &lt;chr&gt; |\n",
       "|---|---|---|---|---|---|\n",
       "| mitocheck | Large | 1 |  6.1247270 | -1.4459121 | Large |\n",
       "| mitocheck | Large | 1 |  2.4282982 | -0.6603640 | Large |\n",
       "| mitocheck | Large | 1 |  6.5341134 | -0.2127959 | Large |\n",
       "| mitocheck | Large | 1 | 10.2933990 |  2.1077750 | Large |\n",
       "| mitocheck | Large | 1 |  6.3646900 |  1.6837864 | Large |\n",
       "| mitocheck | Large | 1 |  0.8638661 |  0.1533130 | Large |\n",
       "\n"
      ],
      "text/plain": [
       "  Metadata_data_name Metadata_Predicted_Class Metadata_Phenotypic_Value\n",
       "1 mitocheck          Large                    1                        \n",
       "2 mitocheck          Large                    1                        \n",
       "3 mitocheck          Large                    1                        \n",
       "4 mitocheck          Large                    1                        \n",
       "5 mitocheck          Large                    1                        \n",
       "6 mitocheck          Large                    1                        \n",
       "  UMAP0      UMAP1      Metadata_Plot_Label\n",
       "1  6.1247270 -1.4459121 Large              \n",
       "2  2.4282982 -0.6603640 Large              \n",
       "3  6.5341134 -0.2127959 Large              \n",
       "4 10.2933990  2.1077750 Large              \n",
       "5  6.3646900  1.6837864 Large              \n",
       "6  0.8638661  0.1533130 Large              "
      ]
     },
     "metadata": {},
     "output_type": "display_data"
    }
   ],
   "source": [
    "# Load data\n",
    "umap_cp_df <- list()\n",
    "for (plate in names(output_umap_files)) {\n",
    "    # Find the umap file associated with the plate\n",
    "    umap_file <- umap_files[stringr::str_detect(umap_files, plate)]\n",
    "    \n",
    "    # Load in the umap data\n",
    "    df <- readr::read_tsv(\n",
    "        umap_file,\n",
    "        col_types = readr::cols(\n",
    "            .default = \"d\",\n",
    "            \"Metadata_data_name\" = \"c\",\n",
    "            \"Metadata_Predicted_Class\" = \"c\",\n",
    "            \"Metadata_Phenotypic_Value\" = \"n\"\n",
    "        )\n",
    "    ) %>%\n",
    "    # Generate a new column that we will use for plotting\n",
    "    # Note, we define focus_phenotypes in themes.r\n",
    "    dplyr::mutate(Metadata_Plot_Label = if_else(\n",
    "        Metadata_Predicted_Class %in% focus_phenotypes,\n",
    "        Metadata_Predicted_Class,\n",
    "        \"Other\"\n",
    "    ))\n",
    "\n",
    "    df$Metadata_Predicted_Class <-\n",
    "        dplyr::recode_factor(df$Metadata_Predicted_Class, !!!focus_phenotype_labels)\n",
    "\n",
    "    # Append the data frame to the list\n",
    "    umap_cp_df[[plate]] <- df \n",
    "}\n",
    "\n",
    "# print example of loaded in file\n",
    "head(df)"
   ]
  },
  {
   "cell_type": "markdown",
   "metadata": {},
   "source": [
    "## Create UMAP labeled with all phenotypic classes"
   ]
  },
  {
   "cell_type": "code",
   "execution_count": 4,
   "metadata": {
    "vscode": {
     "languageId": "r"
    }
   },
   "outputs": [],
   "source": [
    "for (plate in names(umap_cp_df)) {\n",
    "    # Focus phenotypic class UMAP file path\n",
    "    output_file <- output_umap_files[[plate]]\n",
    "    output_file <- paste0(output_file, \"_all_phenotypes_UMAP.png\")\n",
    "\n",
    "    # UMAP labelled with focus phenotypic classes\n",
    "    phenotype_gg <- (\n",
    "        ggplot(umap_cp_df[[plate]], aes(x = UMAP0, y = UMAP1))\n",
    "        + geom_point(\n",
    "            aes(color = Metadata_Predicted_Class), size = 0.4, alpha = 0.5\n",
    "        )\n",
    "        + theme_bw()\n",
    "        + scale_color_manual(\n",
    "            name = \"Phenotypes\",\n",
    "            values = all_phenotype_class_colors\n",
    "        )\n",
    "    )\n",
    "\n",
    "    ggsave(output_file, phenotype_gg, dpi = 500, height = 6, width = 8)\n",
    "}"
   ]
  },
  {
   "cell_type": "markdown",
   "metadata": {},
   "source": [
    "## Create UMAP labeled with focus phenotypic classes\n",
    "\n",
    "Note: From themes.r file"
   ]
  },
  {
   "cell_type": "code",
   "execution_count": null,
   "metadata": {
    "vscode": {
     "languageId": "r"
    }
   },
   "outputs": [],
   "source": [
    "for (plate in names(umap_cp_df)) {\n",
    "    # Focus phenotypic class UMAP file path\n",
    "    output_file <- output_umap_files[[plate]]\n",
    "    output_file <- paste0(output_file, \"_focused_phenotypes_UMAP.png\")\n",
    "\n",
    "    # UMAP labelled with focus phenotypic classes\n",
    "    phenotype_gg <- (\n",
    "        ggplot(umap_cp_df[[plate]], aes(x = UMAP0, y = UMAP1))\n",
    "        + geom_point(\n",
    "            aes(color = Metadata_Predicted_Class), size = 0.4, alpha = 0.5\n",
    "        )\n",
    "        + theme_bw()\n",
    "        + scale_color_manual(\n",
    "            name = \"Phenotypes\",\n",
    "            values = focus_phenotype_colors\n",
    "        )\n",
    "        # + theme(legend.position = \"none\")  # Remove the legend\n",
    "    )\n",
    "\n",
    "    ggsave(output_file, phenotype_gg, dpi = 500, height = 6, width = 8)\n",
    "}"
   ]
  },
  {
   "cell_type": "markdown",
   "metadata": {},
   "source": [
    "## Create UMAP labelled with data set name for only one iteration\n",
    "\n",
    "Note: Because the labels and morphology do not change and only the probabilities from the model, we only need to run this once for each data split (folder) to see how the distribution of the data sets look."
   ]
  },
  {
   "cell_type": "code",
   "execution_count": null,
   "metadata": {
    "vscode": {
     "languageId": "r"
    }
   },
   "outputs": [],
   "source": [
    "# Specify only one model and change file name to show only the data_split\n",
    "desired_plate <- \"final_greg_areashape_model\"\n",
    "output_file_name <- \"Mito_JUMP_all_features\"\n",
    "\n",
    "# Check if the plate is the desired one, and run the code only for that plate\n",
    "if (desired_plate %in% names(umap_cp_df)) {\n",
    "    plate <- desired_plate\n",
    "\n",
    "    # Data set name UMAP file path\n",
    "    output_file <- file.path(output_fig_dir, paste0(output_file_name, \"_data_set_label_UMAP.png\"))\n",
    "\n",
    "    # UMAP labelled with data set name\n",
    "    data_set_gg <- (\n",
    "        ggplot(umap_cp_df[[plate]], aes(x = UMAP0, y = UMAP1))\n",
    "        + geom_point(\n",
    "            aes(color = Metadata_data_name), size = 0.4, alpha = 0.3\n",
    "        )\n",
    "        + geom_point(\n",
    "            data = subset(umap_cp_df[[plate]], Metadata_data_name == \"mitocheck\"),\n",
    "            aes(x = UMAP0, y = UMAP1, color = Metadata_data_name),\n",
    "            size = 0.4, alpha = 0.3\n",
    "        )\n",
    "        + theme_bw()\n",
    "        + scale_color_manual(\n",
    "            name = \"Data set name\",\n",
    "            values = data_set_colors\n",
    "        )\n",
    "        + guides(\n",
    "            shape = guide_legend(override.aes = list(size = 3))\n",
    "        )\n",
    "        + theme(\n",
    "            axis.text = element_text(size = 14),\n",
    "            axis.title = element_text(size = 16)  # Change the font size here\n",
    "        )\n",
    "        + coord_cartesian(xlim = c(-5, 12), ylim = c(-4, 13))  # Set axis limits here\n",
    "    )\n",
    "\n",
    "    ggsave(output_file, data_set_gg, dpi = 500, height = 6, width = 8)\n",
    "}\n"
   ]
  },
  {
   "cell_type": "markdown",
   "metadata": {},
   "source": [
    "## Create faceted UMAP labeling only focus phenotypes split between phenotype and data set"
   ]
  },
  {
   "cell_type": "code",
   "execution_count": null,
   "metadata": {
    "vscode": {
     "languageId": "r"
    }
   },
   "outputs": [],
   "source": [
    "# Custom function for name repair\n",
    "name_repair_function <- function(names) {\n",
    "  names[2] <- paste0(names[2], \"_original\")\n",
    "  return(names)\n",
    "}\n",
    "\n",
    "for (plate in names(umap_cp_df)) {\n",
    "    # Focus phenotypic class/data set facet UMAP file path\n",
    "    output_file <- output_umap_files[[plate]]\n",
    "    output_file <- paste0(output_file, \"_facet_focus_phenotype_data_set_UMAP.png\")\n",
    "    \n",
    "    umap_focus_df <- umap_cp_df[[plate]] %>% dplyr::filter(Metadata_Predicted_Class %in% focus_phenotypes)\n",
    "\n",
    "    # add grey points to each facet by duplicating the UMAP coords for \n",
    "    df_background <- tidyr::crossing(\n",
    "        umap_focus_df,\n",
    "        .name_repair = name_repair_function\n",
    "    )\n",
    "\n",
    "    # Facet UMAP labelling phenotype and data set\n",
    "    umap_facet_phenotype_data_gg <- (\n",
    "        ggplot(\n",
    "            umap_cp_df[[plate]] %>% dplyr::filter(Metadata_Plot_Label %in% focus_phenotypes),\n",
    "            aes(x = UMAP0, y = UMAP1)\n",
    "        )\n",
    "        + geom_point(\n",
    "            data = df_background,\n",
    "            color = \"lightgray\",\n",
    "            size = 0.1,\n",
    "            alpha = 0.4\n",
    "        )\n",
    "        + geom_point(\n",
    "            aes(color = Metadata_Plot_Label),\n",
    "            size = 0.1\n",
    "        )\n",
    "\n",
    "        + facet_grid(\"Metadata_data_name~Metadata_Predicted_Class\")\n",
    "        + theme_bw()\n",
    "        + phenotypic_ggplot_theme\n",
    "        + guides(\n",
    "            color = guide_legend(\n",
    "                override.aes = list(size = 2)\n",
    "            )\n",
    "        )\n",
    "        + labs(x = \"UMAP0\", y = \"UMAP1\")\n",
    "        + scale_color_manual(\n",
    "            \"Phenotype\",\n",
    "            values = focus_phenotype_colors,\n",
    "            labels = focus_phenotype_labels\n",
    "        )\n",
    "    )\n",
    "\n",
    "    ggsave(output_file, umap_facet_phenotype_data_gg, dpi = 500, height = 4, width = 10)\n",
    "\n",
    "}"
   ]
  }
 ],
 "metadata": {
  "kernelspec": {
   "display_name": "R",
   "language": "R",
   "name": "ir"
  },
  "language_info": {
   "codemirror_mode": "r",
   "file_extension": ".r",
   "mimetype": "text/x-r-source",
   "name": "R",
   "pygments_lexer": "r",
   "version": "4.2.2"
  },
  "orig_nbformat": 4
 },
 "nbformat": 4,
 "nbformat_minor": 2
}
