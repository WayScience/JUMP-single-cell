{
 "cells": [
  {
   "cell_type": "markdown",
   "metadata": {},
   "source": [
    "# Visualize UMAPs for only the JUMP dataset embeddings"
   ]
  },
  {
   "cell_type": "code",
   "execution_count": 1,
   "metadata": {
    "vscode": {
     "languageId": "r"
    }
   },
   "outputs": [
    {
     "name": "stderr",
     "output_type": "stream",
     "text": [
      "Warning message:\n",
      "“package ‘ggplot2’ was built under R version 4.2.3”\n",
      "Warning message:\n",
      "“package ‘patchwork’ was built under R version 4.2.3”\n"
     ]
    }
   ],
   "source": [
    "suppressPackageStartupMessages(library(dplyr))\n",
    "suppressPackageStartupMessages(library(ggplot2))\n",
    "suppressPackageStartupMessages(library(patchwork))\n",
    "\n",
    "# Load variables important for plotting (e.g., themes, phenotypes, etc.)\n",
    "source(\"themes.r\")"
   ]
  },
  {
   "cell_type": "code",
   "execution_count": 2,
   "metadata": {
    "vscode": {
     "languageId": "r"
    }
   },
   "outputs": [
    {
     "name": "stdout",
     "output_type": "stream",
     "text": [
      "[1] \"./results/Only_JUMP_all_features/Only_JUMP_all_features_final_all_features_model.tsv\"            \n",
      "[2] \"./results/Only_JUMP_all_features/Only_JUMP_all_features_final_greg_areashape_model.tsv\"          \n",
      "[3] \"./results/Only_JUMP_all_features/Only_JUMP_all_features_shuffled_baseline_all_features_model.tsv\"\n",
      "[4] \"./results/Only_JUMP_all_features/Only_JUMP_all_features_shuffled_greg_areashape_model.tsv\"       \n",
      "$final_all_features_model\n",
      "[1] \"figures/Only_JUMP_all_features/Only_JUMP_all_features_final_all_features_model\"\n",
      "\n",
      "$final_greg_areashape_model\n",
      "[1] \"figures/Only_JUMP_all_features/Only_JUMP_all_features_final_greg_areashape_model\"\n",
      "\n",
      "$shuffled_baseline_all_features_model\n",
      "[1] \"figures/Only_JUMP_all_features/Only_JUMP_all_features_shuffled_baseline_all_features_model\"\n",
      "\n",
      "$shuffled_greg_areashape_model\n",
      "[1] \"figures/Only_JUMP_all_features/Only_JUMP_all_features_shuffled_greg_areashape_model\"\n",
      "\n"
     ]
    }
   ],
   "source": [
    "# Set directory for data split\n",
    "data_split_dir <- file.path(\"./results/Only_JUMP_all_features\")\n",
    "# File structure in dir\n",
    "umap_files <- list.files(data_split_dir, full.names = TRUE)\n",
    "print(umap_files)\n",
    "\n",
    "output_fig_dir <- file.path(\"figures/Only_JUMP_all_features\")\n",
    "umap_prefix <- \"Only_JUMP_all_features_\"\n",
    "umap_suffix <- \".tsv\"\n",
    "\n",
    "# Define output figure paths as a dictionary where each plate has a figure output path\n",
    "output_umap_files <- list()\n",
    "for (umap_file in umap_files) {\n",
    "    # Use the file name to extract plate\n",
    "    file_name <- basename(umap_file)\n",
    "    plate <- gsub(umap_suffix, \"\", gsub(umap_prefix, \"\", file_name))\n",
    "\n",
    "    output_umap_files[[plate]] <- file.path(output_fig_dir, paste0(umap_prefix, plate))\n",
    "}\n",
    "        \n",
    "print(output_umap_files)"
   ]
  },
  {
   "cell_type": "markdown",
   "metadata": {},
   "source": [
    "## Load in data frames"
   ]
  },
  {
   "cell_type": "code",
   "execution_count": 3,
   "metadata": {
    "vscode": {
     "languageId": "r"
    }
   },
   "outputs": [
    {
     "name": "stderr",
     "output_type": "stream",
     "text": [
      "Warning message:\n",
      "“\u001b[1m\u001b[22mOne or more parsing issues, call `problems()` on your data frame for details,\n",
      "e.g.:\n",
      "  dat <- vroom(...)\n",
      "  problems(dat)”\n",
      "Warning message:\n",
      "“\u001b[1m\u001b[22mOne or more parsing issues, call `problems()` on your data frame for details,\n",
      "e.g.:\n",
      "  dat <- vroom(...)\n",
      "  problems(dat)”\n",
      "Warning message:\n",
      "“\u001b[1m\u001b[22mOne or more parsing issues, call `problems()` on your data frame for details,\n",
      "e.g.:\n",
      "  dat <- vroom(...)\n",
      "  problems(dat)”\n",
      "Warning message:\n",
      "“\u001b[1m\u001b[22mOne or more parsing issues, call `problems()` on your data frame for details,\n",
      "e.g.:\n",
      "  dat <- vroom(...)\n",
      "  problems(dat)”\n"
     ]
    },
    {
     "data": {
      "text/html": [
       "<table class=\"dataframe\">\n",
       "<caption>A tibble: 6 × 32</caption>\n",
       "<thead>\n",
       "\t<tr><th scope=col>Metadata_Predicted_Class</th><th scope=col>Metadata_treatment</th><th scope=col>Metadata_Plate</th><th scope=col>Metadata_Well</th><th scope=col>Metadata_Site</th><th scope=col>Metadata_ObjectNumber_cytoplasm</th><th scope=col>Metadata_broad_sample</th><th scope=col>Metadata_solvent</th><th scope=col>Metadata_ImageNumber</th><th scope=col>Metadata_TableNumber</th><th scope=col>⋯</th><th scope=col>Metadata_gene</th><th scope=col>Metadata_target_sequence</th><th scope=col>Metadata_negcon_control_type</th><th scope=col>Metadata_model_type</th><th scope=col>Metadata_Nuclei_Location_Center_X</th><th scope=col>Metadata_Nuclei_Location_Center_Y</th><th scope=col>Metadata_Phenotypic_Value</th><th scope=col>UMAP0</th><th scope=col>UMAP1</th><th scope=col>Metadata_Plot_Label</th></tr>\n",
       "\t<tr><th scope=col>&lt;fct&gt;</th><th scope=col>&lt;chr&gt;</th><th scope=col>&lt;chr&gt;</th><th scope=col>&lt;chr&gt;</th><th scope=col>&lt;dbl&gt;</th><th scope=col>&lt;dbl&gt;</th><th scope=col>&lt;dbl&gt;</th><th scope=col>&lt;dbl&gt;</th><th scope=col>&lt;dbl&gt;</th><th scope=col>&lt;dbl&gt;</th><th scope=col>⋯</th><th scope=col>&lt;dbl&gt;</th><th scope=col>&lt;dbl&gt;</th><th scope=col>&lt;dbl&gt;</th><th scope=col>&lt;chr&gt;</th><th scope=col>&lt;dbl&gt;</th><th scope=col>&lt;dbl&gt;</th><th scope=col>&lt;dbl&gt;</th><th scope=col>&lt;dbl&gt;</th><th scope=col>&lt;dbl&gt;</th><th scope=col>&lt;chr&gt;</th></tr>\n",
       "</thead>\n",
       "<tbody>\n",
       "\t<tr><td>Binuclear         </td><td>compound</td><td>BR00117054</td><td>H04</td><td>1</td><td> 58</td><td>NA</td><td>NA</td><td>1540</td><td>2.286199e+38</td><td>⋯</td><td>NA</td><td>NA</td><td>NA</td><td>shuffled</td><td>148.7466</td><td>262.9333</td><td>0.1150475</td><td> 0.1643815</td><td> 3.012419</td><td>Other    </td></tr>\n",
       "\t<tr><td>Polylobed         </td><td>compound</td><td>BR00117054</td><td>H04</td><td>9</td><td> 90</td><td>NA</td><td>NA</td><td>1548</td><td>2.283918e+38</td><td>⋯</td><td>NA</td><td>NA</td><td>NA</td><td>shuffled</td><td>232.5218</td><td>387.4818</td><td>0.1459852</td><td>-1.1476176</td><td> 0.929445</td><td>Other    </td></tr>\n",
       "\t<tr><td>MetaphaseAlignment</td><td>compound</td><td>BR00117054</td><td>M17</td><td>6</td><td>200</td><td>NA</td><td>NA</td><td>2742</td><td>7.326611e+37</td><td>⋯</td><td>NA</td><td>NA</td><td>NA</td><td>shuffled</td><td>537.9539</td><td>999.6129</td><td>0.1671423</td><td>-2.6269443</td><td>-3.596078</td><td>Other    </td></tr>\n",
       "\t<tr><td>Metaphase         </td><td>compound</td><td>BR00117054</td><td>G14</td><td>6</td><td>102</td><td>NA</td><td>NA</td><td>1419</td><td>5.090849e+37</td><td>⋯</td><td>NA</td><td>NA</td><td>NA</td><td>shuffled</td><td>448.5000</td><td>482.7932</td><td>0.1767198</td><td> 8.3715990</td><td>-1.490912</td><td>Metaphase</td></tr>\n",
       "\t<tr><td>Elongated         </td><td>compound</td><td>BR00117054</td><td>D02</td><td>9</td><td>106</td><td>NA</td><td>NA</td><td> 666</td><td>2.997026e+38</td><td>⋯</td><td>NA</td><td>NA</td><td>NA</td><td>shuffled</td><td>179.4531</td><td>373.2509</td><td>0.1834371</td><td>-0.6425644</td><td>-3.611323</td><td>Elongated</td></tr>\n",
       "\t<tr><td>Hole              </td><td>compound</td><td>BR00117054</td><td>M08</td><td>5</td><td>143</td><td>NA</td><td>NA</td><td>2660</td><td>1.474988e+38</td><td>⋯</td><td>NA</td><td>NA</td><td>NA</td><td>shuffled</td><td>216.1765</td><td>652.9412</td><td>0.1940230</td><td>-2.1213010</td><td>-4.552017</td><td>Other    </td></tr>\n",
       "</tbody>\n",
       "</table>\n"
      ],
      "text/latex": [
       "A tibble: 6 × 32\n",
       "\\begin{tabular}{lllllllllllllllllllll}\n",
       " Metadata\\_Predicted\\_Class & Metadata\\_treatment & Metadata\\_Plate & Metadata\\_Well & Metadata\\_Site & Metadata\\_ObjectNumber\\_cytoplasm & Metadata\\_broad\\_sample & Metadata\\_solvent & Metadata\\_ImageNumber & Metadata\\_TableNumber & ⋯ & Metadata\\_gene & Metadata\\_target\\_sequence & Metadata\\_negcon\\_control\\_type & Metadata\\_model\\_type & Metadata\\_Nuclei\\_Location\\_Center\\_X & Metadata\\_Nuclei\\_Location\\_Center\\_Y & Metadata\\_Phenotypic\\_Value & UMAP0 & UMAP1 & Metadata\\_Plot\\_Label\\\\\n",
       " <fct> & <chr> & <chr> & <chr> & <dbl> & <dbl> & <dbl> & <dbl> & <dbl> & <dbl> & ⋯ & <dbl> & <dbl> & <dbl> & <chr> & <dbl> & <dbl> & <dbl> & <dbl> & <dbl> & <chr>\\\\\n",
       "\\hline\n",
       "\t Binuclear          & compound & BR00117054 & H04 & 1 &  58 & NA & NA & 1540 & 2.286199e+38 & ⋯ & NA & NA & NA & shuffled & 148.7466 & 262.9333 & 0.1150475 &  0.1643815 &  3.012419 & Other    \\\\\n",
       "\t Polylobed          & compound & BR00117054 & H04 & 9 &  90 & NA & NA & 1548 & 2.283918e+38 & ⋯ & NA & NA & NA & shuffled & 232.5218 & 387.4818 & 0.1459852 & -1.1476176 &  0.929445 & Other    \\\\\n",
       "\t MetaphaseAlignment & compound & BR00117054 & M17 & 6 & 200 & NA & NA & 2742 & 7.326611e+37 & ⋯ & NA & NA & NA & shuffled & 537.9539 & 999.6129 & 0.1671423 & -2.6269443 & -3.596078 & Other    \\\\\n",
       "\t Metaphase          & compound & BR00117054 & G14 & 6 & 102 & NA & NA & 1419 & 5.090849e+37 & ⋯ & NA & NA & NA & shuffled & 448.5000 & 482.7932 & 0.1767198 &  8.3715990 & -1.490912 & Metaphase\\\\\n",
       "\t Elongated          & compound & BR00117054 & D02 & 9 & 106 & NA & NA &  666 & 2.997026e+38 & ⋯ & NA & NA & NA & shuffled & 179.4531 & 373.2509 & 0.1834371 & -0.6425644 & -3.611323 & Elongated\\\\\n",
       "\t Hole               & compound & BR00117054 & M08 & 5 & 143 & NA & NA & 2660 & 1.474988e+38 & ⋯ & NA & NA & NA & shuffled & 216.1765 & 652.9412 & 0.1940230 & -2.1213010 & -4.552017 & Other    \\\\\n",
       "\\end{tabular}\n"
      ],
      "text/markdown": [
       "\n",
       "A tibble: 6 × 32\n",
       "\n",
       "| Metadata_Predicted_Class &lt;fct&gt; | Metadata_treatment &lt;chr&gt; | Metadata_Plate &lt;chr&gt; | Metadata_Well &lt;chr&gt; | Metadata_Site &lt;dbl&gt; | Metadata_ObjectNumber_cytoplasm &lt;dbl&gt; | Metadata_broad_sample &lt;dbl&gt; | Metadata_solvent &lt;dbl&gt; | Metadata_ImageNumber &lt;dbl&gt; | Metadata_TableNumber &lt;dbl&gt; | ⋯ ⋯ | Metadata_gene &lt;dbl&gt; | Metadata_target_sequence &lt;dbl&gt; | Metadata_negcon_control_type &lt;dbl&gt; | Metadata_model_type &lt;chr&gt; | Metadata_Nuclei_Location_Center_X &lt;dbl&gt; | Metadata_Nuclei_Location_Center_Y &lt;dbl&gt; | Metadata_Phenotypic_Value &lt;dbl&gt; | UMAP0 &lt;dbl&gt; | UMAP1 &lt;dbl&gt; | Metadata_Plot_Label &lt;chr&gt; |\n",
       "|---|---|---|---|---|---|---|---|---|---|---|---|---|---|---|---|---|---|---|---|---|\n",
       "| Binuclear          | compound | BR00117054 | H04 | 1 |  58 | NA | NA | 1540 | 2.286199e+38 | ⋯ | NA | NA | NA | shuffled | 148.7466 | 262.9333 | 0.1150475 |  0.1643815 |  3.012419 | Other     |\n",
       "| Polylobed          | compound | BR00117054 | H04 | 9 |  90 | NA | NA | 1548 | 2.283918e+38 | ⋯ | NA | NA | NA | shuffled | 232.5218 | 387.4818 | 0.1459852 | -1.1476176 |  0.929445 | Other     |\n",
       "| MetaphaseAlignment | compound | BR00117054 | M17 | 6 | 200 | NA | NA | 2742 | 7.326611e+37 | ⋯ | NA | NA | NA | shuffled | 537.9539 | 999.6129 | 0.1671423 | -2.6269443 | -3.596078 | Other     |\n",
       "| Metaphase          | compound | BR00117054 | G14 | 6 | 102 | NA | NA | 1419 | 5.090849e+37 | ⋯ | NA | NA | NA | shuffled | 448.5000 | 482.7932 | 0.1767198 |  8.3715990 | -1.490912 | Metaphase |\n",
       "| Elongated          | compound | BR00117054 | D02 | 9 | 106 | NA | NA |  666 | 2.997026e+38 | ⋯ | NA | NA | NA | shuffled | 179.4531 | 373.2509 | 0.1834371 | -0.6425644 | -3.611323 | Elongated |\n",
       "| Hole               | compound | BR00117054 | M08 | 5 | 143 | NA | NA | 2660 | 1.474988e+38 | ⋯ | NA | NA | NA | shuffled | 216.1765 | 652.9412 | 0.1940230 | -2.1213010 | -4.552017 | Other     |\n",
       "\n"
      ],
      "text/plain": [
       "  Metadata_Predicted_Class Metadata_treatment Metadata_Plate Metadata_Well\n",
       "1 Binuclear                compound           BR00117054     H04          \n",
       "2 Polylobed                compound           BR00117054     H04          \n",
       "3 MetaphaseAlignment       compound           BR00117054     M17          \n",
       "4 Metaphase                compound           BR00117054     G14          \n",
       "5 Elongated                compound           BR00117054     D02          \n",
       "6 Hole                     compound           BR00117054     M08          \n",
       "  Metadata_Site Metadata_ObjectNumber_cytoplasm Metadata_broad_sample\n",
       "1 1              58                             NA                   \n",
       "2 9              90                             NA                   \n",
       "3 6             200                             NA                   \n",
       "4 6             102                             NA                   \n",
       "5 9             106                             NA                   \n",
       "6 5             143                             NA                   \n",
       "  Metadata_solvent Metadata_ImageNumber Metadata_TableNumber ⋯ Metadata_gene\n",
       "1 NA               1540                 2.286199e+38         ⋯ NA           \n",
       "2 NA               1548                 2.283918e+38         ⋯ NA           \n",
       "3 NA               2742                 7.326611e+37         ⋯ NA           \n",
       "4 NA               1419                 5.090849e+37         ⋯ NA           \n",
       "5 NA                666                 2.997026e+38         ⋯ NA           \n",
       "6 NA               2660                 1.474988e+38         ⋯ NA           \n",
       "  Metadata_target_sequence Metadata_negcon_control_type Metadata_model_type\n",
       "1 NA                       NA                           shuffled           \n",
       "2 NA                       NA                           shuffled           \n",
       "3 NA                       NA                           shuffled           \n",
       "4 NA                       NA                           shuffled           \n",
       "5 NA                       NA                           shuffled           \n",
       "6 NA                       NA                           shuffled           \n",
       "  Metadata_Nuclei_Location_Center_X Metadata_Nuclei_Location_Center_Y\n",
       "1 148.7466                          262.9333                         \n",
       "2 232.5218                          387.4818                         \n",
       "3 537.9539                          999.6129                         \n",
       "4 448.5000                          482.7932                         \n",
       "5 179.4531                          373.2509                         \n",
       "6 216.1765                          652.9412                         \n",
       "  Metadata_Phenotypic_Value UMAP0      UMAP1     Metadata_Plot_Label\n",
       "1 0.1150475                  0.1643815  3.012419 Other              \n",
       "2 0.1459852                 -1.1476176  0.929445 Other              \n",
       "3 0.1671423                 -2.6269443 -3.596078 Other              \n",
       "4 0.1767198                  8.3715990 -1.490912 Metaphase          \n",
       "5 0.1834371                 -0.6425644 -3.611323 Elongated          \n",
       "6 0.1940230                 -2.1213010 -4.552017 Other              "
      ]
     },
     "metadata": {},
     "output_type": "display_data"
    }
   ],
   "source": [
    "# Load data\n",
    "umap_cp_df <- list()\n",
    "for (plate in names(output_umap_files)) {\n",
    "    # Find the umap file associated with the plate\n",
    "    umap_file <- umap_files[stringr::str_detect(umap_files, plate)]\n",
    "    \n",
    "    # Load in the umap data\n",
    "    df <- readr::read_tsv(\n",
    "        umap_file,\n",
    "        col_types = readr::cols(\n",
    "            .default = \"d\",\n",
    "            \"Metadata_Predicted_Class\" = \"c\",\n",
    "            \"Metadata_Phenotypic_Value\" = \"d\",\n",
    "            \"Metadata_model_type\" = \"c\",\n",
    "            \"Metadata_Well\" = \"c\",\n",
    "            \"Metadata_Plate\" = \"c\",\n",
    "            \"Metadata_Predicted_Class\" = \"c\",\n",
    "            \"Metadata_treatment\" = \"c\"\n",
    "        )\n",
    "    ) %>%\n",
    "    # Generate a new column that we will use for plotting\n",
    "    # Note, we define focus_phenotypes in themes.r\n",
    "    dplyr::mutate(Metadata_Plot_Label = if_else(\n",
    "        Metadata_Predicted_Class %in% focus_phenotypes,\n",
    "        Metadata_Predicted_Class,\n",
    "        \"Other\"\n",
    "    ))\n",
    "    \n",
    "    df$Metadata_Predicted_Class <-\n",
    "        dplyr::recode_factor(df$Metadata_Predicted_Class, !!!focus_phenotype_labels)\n",
    "\n",
    "    # Reorder columns, move Metadata_Predicted_Class to the second position\n",
    "    df <- dplyr::select(df, Metadata_Predicted_Class, everything())\n",
    "\n",
    "    # Append the data frame to the list\n",
    "    umap_cp_df[[plate]] <- df \n",
    "}\n",
    "\n",
    "# print example of loaded in file\n",
    "head(df)"
   ]
  },
  {
   "cell_type": "markdown",
   "metadata": {},
   "source": [
    "## Create UMAP labeling all phenotypic classes"
   ]
  },
  {
   "cell_type": "code",
   "execution_count": 4,
   "metadata": {
    "vscode": {
     "languageId": "r"
    }
   },
   "outputs": [],
   "source": [
    "for (plate in names(umap_cp_df)) {\n",
    "    # Focus phenotypic class UMAP file path\n",
    "    output_file <- output_umap_files[[plate]]\n",
    "    output_file <- paste0(output_file, \"_all_phenotypes_UMAP.png\")\n",
    "\n",
    "    # UMAP labelled with focus phenotypic classes\n",
    "    phenotype_gg <- (\n",
    "        ggplot(umap_cp_df[[plate]], aes(x = UMAP0, y = UMAP1))\n",
    "        + geom_point(\n",
    "            aes(color = Metadata_Predicted_Class), size = 0.4, alpha = 0.5\n",
    "        )\n",
    "        + theme_bw()\n",
    "        + scale_color_manual(\n",
    "            name = \"Phenotypes\",\n",
    "            values = all_phenotype_class_colors\n",
    "        )\n",
    "    )\n",
    "\n",
    "    ggsave(output_file, phenotype_gg, dpi = 500, height = 6, width = 8)\n",
    "}"
   ]
  },
  {
   "cell_type": "markdown",
   "metadata": {},
   "source": [
    "## Create UMAP labeling focus phenotypic classes"
   ]
  },
  {
   "cell_type": "code",
   "execution_count": null,
   "metadata": {
    "vscode": {
     "languageId": "r"
    }
   },
   "outputs": [],
   "source": [
    "for (plate in names(umap_cp_df)) {\n",
    "    # Focus phenotypic class UMAP file path\n",
    "    output_file <- output_umap_files[[plate]]\n",
    "    output_file <- paste0(output_file, \"_focused_phenotypes_UMAP.png\")\n",
    "\n",
    "    # UMAP labelled with focus phenotypic classes\n",
    "    phenotype_gg <- (\n",
    "        ggplot(umap_cp_df[[plate]], aes(x = UMAP0, y = UMAP1))\n",
    "        + geom_point(\n",
    "            aes(color = Metadata_Predicted_Class), size = 0.4, alpha = 0.5\n",
    "        )\n",
    "        + theme_bw()\n",
    "        + scale_color_manual(\n",
    "            name = \"Phenotypes\",\n",
    "            values = focus_phenotype_colors\n",
    "        )\n",
    "    )\n",
    "\n",
    "    ggsave(output_file, phenotype_gg, dpi = 500, height = 6, width = 8)\n",
    "}"
   ]
  },
  {
   "cell_type": "markdown",
   "metadata": {},
   "source": [
    "## Create UMAP labeling treatment\n",
    "\n",
    "Treatments include crispr, orf, or compound. Only need to create one of these figures, not one per model probabilities, since the compounds are data dependent."
   ]
  },
  {
   "cell_type": "code",
   "execution_count": null,
   "metadata": {
    "vscode": {
     "languageId": "r"
    }
   },
   "outputs": [],
   "source": [
    "# Specify only one model and change file name to show only the data_split\n",
    "desired_plate <- \"final_greg_areashape_model\"\n",
    "output_file_name <- \"Only_JUMP_all_features\"\n",
    "\n",
    "# Check if the plate is the desired one, and run the code only for that plate\n",
    "if (desired_plate %in% names(umap_cp_df)) {\n",
    "    plate <- desired_plate\n",
    "\n",
    "    # Treatment UMAP file path\n",
    "    output_file <- file.path(output_fig_dir, paste0(output_file_name, \"_treatment_UMAP.png\"))\n",
    "\n",
    "    # UMAP labelled with treatment\n",
    "    treatment_gg <- (\n",
    "        ggplot(umap_cp_df[[plate]], aes(x = UMAP0, y = UMAP1))\n",
    "        + geom_point(\n",
    "            aes(color = Metadata_treatment), size = 0.4, alpha = 0.5\n",
    "        )\n",
    "        + theme_bw()\n",
    "        + scale_color_manual(\n",
    "            name = \"Treatment\",\n",
    "            values = treatment_colors\n",
    "        )\n",
    "    )\n",
    "\n",
    "    ggsave(output_file, treatment_gg, dpi = 500, height = 6, width = 8)\n",
    "}"
   ]
  },
  {
   "cell_type": "markdown",
   "metadata": {},
   "source": [
    "## Create UMAP labeling plate\n",
    "\n",
    "Only need to create one of these figures, not one per model probabilities, since the plates are data dependent."
   ]
  },
  {
   "cell_type": "code",
   "execution_count": null,
   "metadata": {
    "vscode": {
     "languageId": "r"
    }
   },
   "outputs": [],
   "source": [
    "# Check if the plate is the desired one, and run the code only for that plate\n",
    "if (desired_plate %in% names(umap_cp_df)) {\n",
    "    plate <- desired_plate\n",
    "\n",
    "    # Treatment UMAP file path\n",
    "    output_file <- file.path(output_fig_dir, paste0(output_file_name, \"_plate_UMAP.png\"))\n",
    "\n",
    "    # UMAP labelled with treatment\n",
    "    treatment_gg <- (\n",
    "        ggplot(umap_cp_df[[plate]], aes(x = UMAP0, y = UMAP1))\n",
    "        + geom_point(\n",
    "            aes(color = Metadata_Plate), size = 0.4, alpha = 0.5\n",
    "        )\n",
    "        + theme_bw()\n",
    "        + scale_color_manual(\n",
    "            name = \"Plate\",\n",
    "            values = plate_colors\n",
    "        )\n",
    "        + theme(legend.position = \"none\")  # Remove the legend since there are 51 plates (too many to fit)\n",
    "    )\n",
    "\n",
    "    ggsave(output_file, treatment_gg, dpi = 500, height = 6, width = 8)\n",
    "}"
   ]
  },
  {
   "cell_type": "markdown",
   "metadata": {},
   "source": [
    "## Create faceted UMAP labeling only focus phenotypes split between phenotype"
   ]
  },
  {
   "cell_type": "code",
   "execution_count": null,
   "metadata": {
    "vscode": {
     "languageId": "r"
    }
   },
   "outputs": [],
   "source": [
    "# Custom function for name repair\n",
    "name_repair_function <- function(names) {\n",
    "  names[1] <- paste0(names[1], \"_original\")\n",
    "  return(names)\n",
    "}\n",
    "\n",
    "for (plate in names(umap_cp_df)) {\n",
    "    # Focus phenotypic class/data set facet UMAP file path\n",
    "    output_file <- output_umap_files[[plate]]\n",
    "    output_file <- paste0(output_file, \"_facet_focus_phenotype_UMAP.png\")\n",
    "    \n",
    "    umap_focus_df <- umap_cp_df[[plate]] %>% dplyr::filter(Metadata_Predicted_Class %in% focus_phenotypes)\n",
    "\n",
    "    # add grey points to each facet by duplicating the UMAP coords\n",
    "    df_background <- tidyr::crossing(\n",
    "        umap_focus_df,\n",
    "        .name_repair = name_repair_function\n",
    "    )\n",
    "\n",
    "    # Facet UMAP labelling phenotype and data set\n",
    "    umap_facet_phenotype_gg <- (\n",
    "        ggplot(\n",
    "            umap_cp_df[[plate]] %>% dplyr::filter(Metadata_Plot_Label %in% focus_phenotypes),\n",
    "            aes(x = UMAP0, y = UMAP1)\n",
    "        )\n",
    "        + geom_point(\n",
    "            data = df_background,\n",
    "            color = \"lightgray\",\n",
    "            size = 0.1,\n",
    "            alpha = 0.4\n",
    "        )\n",
    "        + geom_point(\n",
    "            aes(color = Metadata_Plot_Label),\n",
    "            size = 0.1\n",
    "        )\n",
    "\n",
    "        + facet_grid(\"~Metadata_Predicted_Class\")\n",
    "        + theme_bw()\n",
    "        + phenotypic_ggplot_theme\n",
    "        + guides(\n",
    "            color = guide_legend(\n",
    "                override.aes = list(size = 2)\n",
    "            )\n",
    "        )\n",
    "        + labs(x = \"UMAP0\", y = \"UMAP1\")\n",
    "        + scale_color_manual(\n",
    "            \"Phenotype\",\n",
    "            values = focus_phenotype_colors,\n",
    "            labels = focus_phenotype_labels\n",
    "        )\n",
    "    )\n",
    "\n",
    "    ggsave(output_file, umap_facet_phenotype_gg, dpi = 500, height = 4, width = 10)\n",
    "\n",
    "}"
   ]
  }
 ],
 "metadata": {
  "kernelspec": {
   "display_name": "R",
   "language": "R",
   "name": "ir"
  },
  "language_info": {
   "codemirror_mode": "r",
   "file_extension": ".r",
   "mimetype": "text/x-r-source",
   "name": "R",
   "pygments_lexer": "r",
   "version": "4.2.2"
  },
  "orig_nbformat": 4
 },
 "nbformat": 4,
 "nbformat_minor": 2
}
