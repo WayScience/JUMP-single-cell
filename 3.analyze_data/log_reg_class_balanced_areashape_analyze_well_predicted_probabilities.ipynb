{
 "cells": [
  {
   "cell_type": "markdown",
   "metadata": {
    "jukit_cell_id": "ORawNFJ1qn"
   },
   "source": [
    "# Compare Well Treatements\n",
    "We compare the treatments in each well using cell treatment probabilities and negative control probabilities for each phenotype.\n",
    "This comparison is accomplished with a KS Test."
   ]
  },
  {
   "cell_type": "code",
   "execution_count": 1,
   "metadata": {
    "execution": {
     "iopub.execute_input": "2023-11-29T00:51:56.020631Z",
     "iopub.status.busy": "2023-11-29T00:51:56.020532Z",
     "iopub.status.idle": "2023-11-29T00:51:56.349232Z",
     "shell.execute_reply": "2023-11-29T00:51:56.348875Z"
    },
    "jukit_cell_id": "551uyQMpHm"
   },
   "outputs": [],
   "source": [
    "import pathlib\n",
    "import sys\n",
    "\n",
    "import pandas as pd\n",
    "from scipy.stats import kstest\n",
    "\n",
    "# Import significance test utils\n",
    "sys.path.append(\"utils\")\n",
    "import well_significance_testing as sig_test"
   ]
  },
  {
   "cell_type": "markdown",
   "metadata": {
    "jukit_cell_id": "43KpvqBB8Z"
   },
   "source": [
    "## Find the root of the git repo on the host system"
   ]
  },
  {
   "cell_type": "code",
   "execution_count": 2,
   "metadata": {
    "execution": {
     "iopub.execute_input": "2023-11-29T00:51:56.350920Z",
     "iopub.status.busy": "2023-11-29T00:51:56.350763Z",
     "iopub.status.idle": "2023-11-29T00:51:56.353413Z",
     "shell.execute_reply": "2023-11-29T00:51:56.353148Z"
    },
    "jukit_cell_id": "2h8CHkah8U"
   },
   "outputs": [],
   "source": [
    "# Get the current working directory\n",
    "cwd = pathlib.Path.cwd()\n",
    "\n",
    "if (cwd / \".git\").is_dir():\n",
    "    root_dir = cwd\n",
    "\n",
    "else:\n",
    "    root_dir = None\n",
    "    for parent in cwd.parents:\n",
    "        if (parent / \".git\").is_dir():\n",
    "            root_dir = parent\n",
    "            break\n",
    "\n",
    "# Check if a Git root directory was found\n",
    "if root_dir is None:\n",
    "    raise FileNotFoundError(\"No Git root directory found.\")"
   ]
  },
  {
   "cell_type": "markdown",
   "metadata": {
    "jukit_cell_id": "iRHc4niHdx"
   },
   "source": [
    "## Input Paths"
   ]
  },
  {
   "cell_type": "code",
   "execution_count": 3,
   "metadata": {
    "execution": {
     "iopub.execute_input": "2023-11-29T00:51:56.354646Z",
     "iopub.status.busy": "2023-11-29T00:51:56.354543Z",
     "iopub.status.idle": "2023-11-29T00:52:01.946306Z",
     "shell.execute_reply": "2023-11-29T00:52:01.945747Z"
    },
    "jukit_cell_id": "zDRghRntC5"
   },
   "outputs": [],
   "source": [
    "# Input paths\n",
    "big_drive_path = f\"{root_dir}/big_drive\"\n",
    "sqlite_data_path = f\"{big_drive_path}/sc_data\"\n",
    "ref_path = f\"{root_dir}/reference_plate_data\"\n",
    "proba_path = f\"{big_drive_path}/class_balanced_log_reg_probability_sc_data/greg_areashape_log_reg_class_balanced_probabilities.parquet\"\n",
    "\n",
    "bar_plate_path = f\"{ref_path}/barcode_platemap.csv\"\n",
    "sig_test_path = \"utils/significance_testing\"\n",
    "\n",
    "# Define barcode platemap dataframe\n",
    "barcode_platemapdf = pd.read_csv(bar_plate_path)\n",
    "\n",
    "# Define the probabilities dataframe\n",
    "probadf = pd.read_parquet(proba_path)\n",
    "\n",
    "# Metadata and platemap paths and the name of the treatment_columns for each treatment type\n",
    "treatment_paths = {\"compound\":  # Name of the treatment type\n",
    "                   {\"metadata\": pd.read_csv(f\"{ref_path}/JUMP-Target-1_compound_metadata_targets.tsv\", sep=\"\\t\"),  # Metadata\n",
    "                    \"platemap\": pd.read_csv(f\"{ref_path}/JUMP-Target-1_compound_platemap.txt\", sep=\"\\t\"),  # Platemap data\n",
    "                    \"treatment_column\": \"pert_iname\",  # Name of the treatment column in the metadata\n",
    "                    \"Plate_Map_Name\": \"JUMP-Target-1_compound_platemap\"},  # Name of the plate for iterating through treatment types\n",
    "               \"crispr\":\n",
    "                   {\"metadata\": pd.read_csv(f\"{ref_path}/JUMP-Target-1_crispr_metadata.tsv\", sep=\"\\t\"),\n",
    "                    \"platemap\": pd.read_csv(f\"{ref_path}/JUMP-Target-1_crispr_platemap.txt\", sep=\"\\t\"),\n",
    "                    \"treatment_column\": \"gene\",\n",
    "                    \"Plate_Map_Name\": \"JUMP-Target-1_crispr_platemap\"},\n",
    "               \"orf\":\n",
    "                   {\"metadata\": pd.read_csv(f\"{ref_path}/JUMP-Target-1_orf_metadata.tsv\", sep=\"\\t\"),\n",
    "                    \"platemap\": pd.read_csv(f\"{ref_path}/JUMP-Target-1_orf_platemap.txt\", sep=\"\\t\"),\n",
    "                    \"treatment_column\": \"gene\",\n",
    "                    \"Plate_Map_Name\": \"JUMP-Target-1_orf_platemap\"}\n",
    "                   }"
   ]
  },
  {
   "cell_type": "markdown",
   "metadata": {
    "jukit_cell_id": "qWmYdhPyNy"
   },
   "source": [
    "## Define and create the output paths"
   ]
  },
  {
   "cell_type": "code",
   "execution_count": 4,
   "metadata": {
    "execution": {
     "iopub.execute_input": "2023-11-29T00:52:01.948770Z",
     "iopub.status.busy": "2023-11-29T00:52:01.948607Z",
     "iopub.status.idle": "2023-11-29T00:52:01.952831Z",
     "shell.execute_reply": "2023-11-29T00:52:01.952415Z"
    },
    "jukit_cell_id": "bvzjj5dqSv"
   },
   "outputs": [],
   "source": [
    "comparison_results_output_filename = \"class_balanced_well_log_reg_areashape_greg_model_comparisons.parquet\"\n",
    "output_path = pathlib.Path(\"class_balanced_well_log_reg_comparison_results\")\n",
    "output_path.mkdir(parents=True, exist_ok=True)\n",
    "\n",
    "# Fill blank broad samples in the broad_sample column with DMSO.\n",
    "# These samples are represented as DMSO in the platemap, but as nans when loaded as a DataFrame\n",
    "treatment_paths[\"compound\"][\"platemap\"][\"broad_sample\"].fillna(\"DMSO\", inplace=True)\n",
    "treatment_paths[\"compound\"][\"metadata\"][\"broad_sample\"].fillna(\"DMSO\", inplace=True)"
   ]
  },
  {
   "cell_type": "markdown",
   "metadata": {
    "jukit_cell_id": "FFPA3sxKJz"
   },
   "source": [
    "## KS test wrapper function"
   ]
  },
  {
   "cell_type": "code",
   "execution_count": 5,
   "metadata": {
    "execution": {
     "iopub.execute_input": "2023-11-29T00:52:01.954362Z",
     "iopub.status.busy": "2023-11-29T00:52:01.954206Z",
     "iopub.status.idle": "2023-11-29T00:52:01.957276Z",
     "shell.execute_reply": "2023-11-29T00:52:01.956984Z"
    },
    "jukit_cell_id": "nSE3TR3l3H"
   },
   "outputs": [],
   "source": [
    "def perform_ks_test(_dmso_probs, _treatment_probs):\n",
    "    \"\"\"\n",
    "    Parameters\n",
    "    ----------\n",
    "    _dmso_probs: pandas.Series\n",
    "        The down-sampled predicted probilities of DMSO for a treatment type and phenotype.\n",
    "\n",
    "    _treatment_probs: pandas.Series\n",
    "        The predicted probabilities of the treatment.\n",
    "\n",
    "    Returns\n",
    "    -------\n",
    "    A zipped object which represents can be referenced by p_value and a comparison_metric_value, which are later on represented in the resulting dictionary.\n",
    "    \"\"\"\n",
    "    stat, p_value = kstest(_dmso_probs, _treatment_probs, alternative=\"two-sided\")\n",
    "    return zip([\"comparison_metric_value\", \"p_value\"], [stat, p_value])"
   ]
  },
  {
   "cell_type": "markdown",
   "metadata": {
    "jukit_cell_id": "6hHxeDBTNc"
   },
   "source": [
    "## Defining tests and aggregation metric names"
   ]
  },
  {
   "cell_type": "code",
   "execution_count": 6,
   "metadata": {
    "execution": {
     "iopub.execute_input": "2023-11-29T00:52:01.958829Z",
     "iopub.status.busy": "2023-11-29T00:52:01.958508Z",
     "iopub.status.idle": "2023-11-29T00:52:01.961038Z",
     "shell.execute_reply": "2023-11-29T00:52:01.960653Z"
    },
    "jukit_cell_id": "19p1I4wojL"
   },
   "outputs": [],
   "source": [
    "# Create a dictionary where the keys represent the name of the comparison or test, and the values are dictionaries\n",
    "# the subdictionaries refer to the wrapper function for creating the comparison, and the metric name of the comparison being made\n",
    "comp_functions = {\"ks_test\":\n",
    "                  {\"statistical_test_function\": perform_ks_test,\n",
    "                   \"comparison_metric\": \"ks_statistic\"}\n",
    "                  }"
   ]
  },
  {
   "cell_type": "code",
   "execution_count": 7,
   "metadata": {
    "execution": {
     "iopub.execute_input": "2023-11-29T00:52:01.962389Z",
     "iopub.status.busy": "2023-11-29T00:52:01.962219Z",
     "iopub.status.idle": "2023-11-29T16:39:44.989483Z",
     "shell.execute_reply": "2023-11-29T16:39:44.988898Z"
    },
    "jukit_cell_id": "9pgP4YdWo4"
   },
   "outputs": [],
   "source": [
    "treatments = sig_test.get_treatment_comparison(comp_functions, treatment_paths, probadf, barcode_platemapdf)"
   ]
  },
  {
   "cell_type": "markdown",
   "metadata": {
    "jukit_cell_id": "D4XcyaYl7m"
   },
   "source": [
    "## Save the output of the treatment"
   ]
  },
  {
   "cell_type": "code",
   "execution_count": 8,
   "metadata": {
    "execution": {
     "iopub.execute_input": "2023-11-29T16:39:44.992086Z",
     "iopub.status.busy": "2023-11-29T16:39:44.991915Z",
     "iopub.status.idle": "2023-11-29T16:39:45.621899Z",
     "shell.execute_reply": "2023-11-29T16:39:45.621288Z"
    },
    "jukit_cell_id": "KcqfcwXHtJ"
   },
   "outputs": [],
   "source": [
    "treatments = pd.DataFrame(treatments)\n",
    "treatments.to_parquet(output_path / comparison_results_output_filename)"
   ]
  }
 ],
 "metadata": {
  "anaconda-cloud": {},
  "kernelspec": {
   "display_name": "Python 3 (ipykernel)",
   "language": "python",
   "name": "python3"
  },
  "language_info": {
   "codemirror_mode": {
    "name": "ipython",
    "version": 3
   },
   "file_extension": ".py",
   "mimetype": "text/x-python",
   "name": "python",
   "nbconvert_exporter": "python",
   "pygments_lexer": "ipython3",
   "version": "3.9.18"
  }
 },
 "nbformat": 4,
 "nbformat_minor": 4
}
