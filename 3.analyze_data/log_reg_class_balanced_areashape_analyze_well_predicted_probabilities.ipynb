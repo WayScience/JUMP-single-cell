{
 "cells": [
  {
   "cell_type": "markdown",
   "metadata": {
    "jukit_cell_id": "ORawNFJ1qn"
   },
   "source": [
    "# Compare Well Treatements\n",
    "We compare the treatments in each well using cell treatment probabilities and negative control probabilities for each phenotype.\n",
    "This comparison is accomplished with a KS Test."
   ]
  },
  {
   "cell_type": "code",
   "execution_count": 1,
   "metadata": {
    "execution": {
     "iopub.execute_input": "2024-02-13T16:50:33.149881Z",
     "iopub.status.busy": "2024-02-13T16:50:33.149461Z",
     "iopub.status.idle": "2024-02-13T16:50:33.787799Z",
     "shell.execute_reply": "2024-02-13T16:50:33.787164Z"
    },
    "jukit_cell_id": "551uyQMpHm"
   },
   "outputs": [],
   "source": [
    "import pathlib\n",
    "import sys\n",
    "\n",
    "import pandas as pd\n",
    "from scipy.stats import kstest\n",
    "\n",
    "# Import significance test utils\n",
    "sys.path.append(\"utils\")\n",
    "import well_significance_testing as sig_test"
   ]
  },
  {
   "cell_type": "markdown",
   "metadata": {
    "jukit_cell_id": "43KpvqBB8Z"
   },
   "source": [
    "## Find the root of the git repo on the host system"
   ]
  },
  {
   "cell_type": "code",
   "execution_count": 2,
   "metadata": {
    "execution": {
     "iopub.execute_input": "2024-02-13T16:50:33.791419Z",
     "iopub.status.busy": "2024-02-13T16:50:33.790943Z",
     "iopub.status.idle": "2024-02-13T16:50:33.795904Z",
     "shell.execute_reply": "2024-02-13T16:50:33.795140Z"
    },
    "jukit_cell_id": "2h8CHkah8U"
   },
   "outputs": [],
   "source": [
    "# Get the current working directory\n",
    "cwd = pathlib.Path.cwd()\n",
    "\n",
    "if (cwd / \".git\").is_dir():\n",
    "    root_dir = cwd\n",
    "\n",
    "else:\n",
    "    root_dir = None\n",
    "    for parent in cwd.parents:\n",
    "        if (parent / \".git\").is_dir():\n",
    "            root_dir = parent\n",
    "            break\n",
    "\n",
    "# Check if a Git root directory was found\n",
    "if root_dir is None:\n",
    "    raise FileNotFoundError(\"No Git root directory found.\")"
   ]
  },
  {
   "cell_type": "markdown",
   "metadata": {
    "jukit_cell_id": "iRHc4niHdx"
   },
   "source": [
    "## Input Paths"
   ]
  },
  {
   "cell_type": "code",
   "execution_count": 3,
   "metadata": {
    "execution": {
     "iopub.execute_input": "2024-02-13T16:50:33.800109Z",
     "iopub.status.busy": "2024-02-13T16:50:33.799251Z",
     "iopub.status.idle": "2024-02-13T16:50:33.817524Z",
     "shell.execute_reply": "2024-02-13T16:50:33.816303Z"
    },
    "jukit_cell_id": "zDRghRntC5"
   },
   "outputs": [],
   "source": [
    "# Input paths\n",
    "\n",
    "# Path to the drive storing the data\n",
    "big_drive_path = f\"{root_dir}/big_drive\"\n",
    "\n",
    "# Path to the reference plate manifest data\n",
    "ref_path = f\"{root_dir}/reference_plate_data\"\n",
    "\n",
    "# Path to the plate probability data\n",
    "proba_path = pathlib.Path(f\"{big_drive_path}/class_balanced_log_reg_probability_sc_data\")\n",
    "\n",
    "# Path to the platemap\n",
    "bar_plate_path = f\"{ref_path}/barcode_platemap.csv\"\n",
    "\n",
    "# Paths of each plate file\n",
    "proba_plate_paths = proba_path.glob(\"*.parquet\")\n",
    "\n",
    "# Define barcode platemap dataframe\n",
    "barcode_platemapdf = pd.read_csv(bar_plate_path)\n",
    "\n",
    "# Metadata and platemap paths and the name of the treatment_columns for each treatment type\n",
    "treatment_data = {\n",
    "\"compound\":  # Name of the treatment type\n",
    "    {\"metadata\": pd.read_csv(f\"{ref_path}/JUMP-Target-1_compound_metadata_targets.tsv\", sep=\"\\t\"),  # Metadata\n",
    "     \"platemap\": pd.read_csv(f\"{ref_path}/JUMP-Target-1_compound_platemap.txt\", sep=\"\\t\"),  # Platemap data\n",
    "     \"treatment_column\": \"pert_iname\",  # Name of the treatment column in the metadata\n",
    "     \"Plate_Map_Name\": \"JUMP-Target-1_compound_platemap\"},  # Name of the plate for iterating through treatment types\n",
    "\"crispr\":\n",
    "    {\"metadata\": pd.read_csv(f\"{ref_path}/JUMP-Target-1_crispr_metadata.tsv\", sep=\"\\t\"),\n",
    "     \"platemap\": pd.read_csv(f\"{ref_path}/JUMP-Target-1_crispr_platemap.txt\", sep=\"\\t\"),\n",
    "     \"treatment_column\": \"gene\",\n",
    "     \"Plate_Map_Name\": \"JUMP-Target-1_crispr_platemap\"},\n",
    "\"orf\":\n",
    "    {\"metadata\": pd.read_csv(f\"{ref_path}/JUMP-Target-1_orf_metadata.tsv\", sep=\"\\t\"),\n",
    "     \"platemap\": pd.read_csv(f\"{ref_path}/JUMP-Target-1_orf_platemap.txt\", sep=\"\\t\"),\n",
    "     \"treatment_column\": \"gene\",\n",
    "     \"Plate_Map_Name\": \"JUMP-Target-1_orf_platemap\"}\n",
    "}"
   ]
  },
  {
   "cell_type": "markdown",
   "metadata": {
    "jukit_cell_id": "qWmYdhPyNy"
   },
   "source": [
    "## Define and create the output paths"
   ]
  },
  {
   "cell_type": "code",
   "execution_count": 4,
   "metadata": {
    "execution": {
     "iopub.execute_input": "2024-02-13T16:50:33.822937Z",
     "iopub.status.busy": "2024-02-13T16:50:33.822451Z",
     "iopub.status.idle": "2024-02-13T16:50:33.826910Z",
     "shell.execute_reply": "2024-02-13T16:50:33.826184Z"
    },
    "jukit_cell_id": "bvzjj5dqSv"
   },
   "outputs": [],
   "source": [
    "comparison_results_output_filename = \"class_balanced_well_log_reg_areashape_model_comparisons.parquet\"\n",
    "output_path = pathlib.Path(\"class_balanced_well_log_reg_comparison_results\")\n",
    "output_path.mkdir(parents=True, exist_ok=True)"
   ]
  },
  {
   "cell_type": "markdown",
   "metadata": {
    "jukit_cell_id": "FFPA3sxKJz"
   },
   "source": [
    "## KS test wrapper function"
   ]
  },
  {
   "cell_type": "code",
   "execution_count": 5,
   "metadata": {
    "execution": {
     "iopub.execute_input": "2024-02-13T16:50:33.829875Z",
     "iopub.status.busy": "2024-02-13T16:50:33.829563Z",
     "iopub.status.idle": "2024-02-13T16:50:33.833903Z",
     "shell.execute_reply": "2024-02-13T16:50:33.833213Z"
    },
    "jukit_cell_id": "nSE3TR3l3H"
   },
   "outputs": [],
   "source": [
    "def perform_ks_test(_dmso_probs, _treatment_probs):\n",
    "    \"\"\"\n",
    "    Parameters\n",
    "    ----------\n",
    "    _dmso_probs: pandas.Series\n",
    "        The down-sampled predicted probilities of DMSO for a treatment type and phenotype.\n",
    "\n",
    "    _treatment_probs: pandas.Series\n",
    "        The predicted probabilities of the treatment.\n",
    "\n",
    "    Returns\n",
    "    -------\n",
    "    A zipped object which represents can be referenced by p_value and a comparison_metric_value, which are later on represented in the resulting dictionary.\n",
    "    \"\"\"\n",
    "    stat, p_value = kstest(_dmso_probs, _treatment_probs, alternative=\"two-sided\")\n",
    "    return zip([\"comparison_metric_value\", \"p_value\"], [stat, p_value])"
   ]
  },
  {
   "cell_type": "markdown",
   "metadata": {
    "jukit_cell_id": "bZHON2gP44"
   },
   "source": [
    "# Process the data"
   ]
  },
  {
   "cell_type": "markdown",
   "metadata": {
    "jukit_cell_id": "1sYB3f1gEc"
   },
   "source": [
    "## Combine the model probabilty and plate data"
   ]
  },
  {
   "cell_type": "code",
   "execution_count": 6,
   "metadata": {
    "execution": {
     "iopub.execute_input": "2024-02-13T16:50:33.836837Z",
     "iopub.status.busy": "2024-02-13T16:50:33.836481Z",
     "iopub.status.idle": "2024-02-13T16:50:33.842210Z",
     "shell.execute_reply": "2024-02-13T16:50:33.841571Z"
    },
    "jukit_cell_id": "JZE2tY7CHu"
   },
   "outputs": [],
   "source": [
    "def combine_meta(probadf):\n",
    "    \"\"\"\n",
    "    Parameters\n",
    "    ----------\n",
    "    probadf: pandas.Dataframe\n",
    "        The phenotypic probability data of a given plate\n",
    "\n",
    "    Returns\n",
    "    -------\n",
    "    The combined probability and plate metadata\n",
    "    \"\"\"\n",
    "    # Columns names to drop after merging data\n",
    "    drop_cols = [\"Assay_Plate_Barcode\", \"well_position\"]\n",
    "\n",
    "    # Retrieve the data that correspond to the plate names, where the plate names correspond to the treatment type\n",
    "    filtered_probadf = pd.merge(probadf, barcode_platemapdf, how=\"inner\", left_on=\"Metadata_Plate\", right_on=\"Assay_Plate_Barcode\")\n",
    "\n",
    "    filtered_probadf.rename(columns={\"Plate_Map_Name\": \"treatment_type\"}, inplace=True)\n",
    "\n",
    "    # Merge the metadata and platemaps for each type of treatment\n",
    "    broaddfs = {ttype: pd.merge(treatment_data[ttype][\"metadata\"], treatment_data[ttype][\"platemap\"], how=\"inner\", on=\"broad_sample\") for ttype in treatment_data.keys()}\n",
    "\n",
    "    # Iterate through each type of treatment\n",
    "    for ttype in broaddfs.keys():\n",
    "\n",
    "        # Rename the treatment columns\n",
    "        broaddfs[ttype].rename(columns={treatment_data[ttype][\"treatment_column\"]: \"treatment\"}, inplace=True)\n",
    "\n",
    "        # Set the type of treatment\n",
    "        broaddfs[ttype][\"treatment_type\"] = ttype\n",
    "\n",
    "        # Change the treatment type data values\n",
    "        filtered_probadf[\"treatment_type\"].replace({treatment_data[ttype][\"Plate_Map_Name\"]: ttype}, inplace=True)\n",
    "\n",
    "    combined_broaddf = pd.concat(broaddfs.values(), axis=0, ignore_index=True)\n",
    "\n",
    "    # Combine the probability and treatment data using the well\n",
    "    common_broaddf = pd.merge(filtered_probadf, combined_broaddf, how=\"inner\", left_on=[\"Metadata_Well\", \"treatment_type\"], right_on=[\"well_position\", \"treatment_type\"])\n",
    "\n",
    "    # Drop redundant columns from the merge operations\n",
    "    common_broaddf.drop(columns=drop_cols, inplace=True)\n",
    "\n",
    "    return common_broaddf"
   ]
  },
  {
   "cell_type": "code",
   "execution_count": 7,
   "metadata": {
    "execution": {
     "iopub.execute_input": "2024-02-13T16:50:33.845051Z",
     "iopub.status.busy": "2024-02-13T16:50:33.844733Z",
     "iopub.status.idle": "2024-02-13T16:50:33.849386Z",
     "shell.execute_reply": "2024-02-13T16:50:33.848746Z"
    },
    "jukit_cell_id": "8a6YT36HEf"
   },
   "outputs": [],
   "source": [
    "# Fill blank broad samples in the broad_sample column with DMSO.\n",
    "# These samples are represented as DMSO in the platemap, but as nans when loaded as a DataFrame\n",
    "treatment_data[\"compound\"][\"platemap\"][\"broad_sample\"].fillna(\"DMSO\", inplace=True)\n",
    "treatment_data[\"compound\"][\"metadata\"][\"broad_sample\"].fillna(\"DMSO\", inplace=True)"
   ]
  },
  {
   "cell_type": "markdown",
   "metadata": {
    "jukit_cell_id": "6hHxeDBTNc"
   },
   "source": [
    "## Defining tests and aggregation metric names"
   ]
  },
  {
   "cell_type": "code",
   "execution_count": 8,
   "metadata": {
    "execution": {
     "iopub.execute_input": "2024-02-13T16:50:33.852375Z",
     "iopub.status.busy": "2024-02-13T16:50:33.851961Z",
     "iopub.status.idle": "2024-02-13T16:50:33.855510Z",
     "shell.execute_reply": "2024-02-13T16:50:33.854938Z"
    },
    "jukit_cell_id": "19p1I4wojL"
   },
   "outputs": [],
   "source": [
    "# Create a dictionary where the keys represent the name of the comparison or test, and the values are dictionaries\n",
    "# the subdictionaries refer to the wrapper function for creating the comparison, and the metric name of the comparison being made\n",
    "comp_functions = {\"ks_test\":  # Name of the test to perform\n",
    "                  {\"statistical_test_function\": perform_ks_test,  # The function for making comparisons\n",
    "                   \"comparison_metric\": \"ks_statistic\"}  # The name of the comparison metric\n",
    "                  }"
   ]
  },
  {
   "cell_type": "markdown",
   "metadata": {
    "jukit_cell_id": "28E9H9eOpr"
   },
   "source": [
    "## Compare treatments and negative controls"
   ]
  },
  {
   "cell_type": "code",
   "execution_count": 9,
   "metadata": {
    "execution": {
     "iopub.execute_input": "2024-02-13T16:50:33.858312Z",
     "iopub.status.busy": "2024-02-13T16:50:33.857881Z",
     "iopub.status.idle": "2024-02-13T17:41:23.799885Z",
     "shell.execute_reply": "2024-02-13T17:41:23.799345Z"
    },
    "jukit_cell_id": "9pgP4YdWo4"
   },
   "outputs": [],
   "source": [
    "# Define columns to group by\n",
    "filt_cols = ['Metadata_Plate', 'treatment', 'Metadata_model_type', 'treatment_type', 'Metadata_Well']\n",
    "\n",
    "# Store phenotype column names\n",
    "phenotype_cols = None\n",
    "\n",
    "# Store comparison data\n",
    "comparisons = None\n",
    "\n",
    "# Compute comparisons by iterating through each plate\n",
    "for proba_path in list(proba_plate_paths):\n",
    "\n",
    "    # Combine the probability data with the plate manifest files\n",
    "    common_broaddf = combine_meta(pd.read_parquet(proba_path))\n",
    "\n",
    "    # Define the phenotypes only once\n",
    "    if phenotype_cols is None:\n",
    "        # Define phenotype columns\n",
    "        phenotype_cols = common_broaddf.loc[:, \"ADCCM\":\"SmallIrregular\"].columns.tolist()\n",
    "\n",
    "    # Compare the treatments and controls of each plate\n",
    "    plate_comparison = sig_test.get_treatment_comparison(\n",
    "        comp_functions,\n",
    "        common_broaddf.loc[common_broaddf[\"control_type\"] != \"negcon\"],\n",
    "        common_broaddf.loc[common_broaddf[\"control_type\"] == \"negcon\"],\n",
    "        phenotype_cols,\n",
    "        filt_cols\n",
    "    )\n",
    "\n",
    "    # Define the comparisons data structure for the first time\n",
    "    if comparisons is None:\n",
    "        comparisons = plate_comparison\n",
    "\n",
    "    # If the comparisons data structure is already defined append to the existing data structure\n",
    "    else:\n",
    "        for col, col_val in plate_comparison.items():\n",
    "            comparisons[col] += col_val"
   ]
  },
  {
   "cell_type": "markdown",
   "metadata": {
    "jukit_cell_id": "D4XcyaYl7m"
   },
   "source": [
    "## Save the output of the treatment"
   ]
  },
  {
   "cell_type": "code",
   "execution_count": 10,
   "metadata": {
    "execution": {
     "iopub.execute_input": "2024-02-13T17:41:23.803502Z",
     "iopub.status.busy": "2024-02-13T17:41:23.803140Z",
     "iopub.status.idle": "2024-02-13T17:41:24.546385Z",
     "shell.execute_reply": "2024-02-13T17:41:24.545800Z"
    },
    "jukit_cell_id": "KcqfcwXHtJ"
   },
   "outputs": [],
   "source": [
    "comparisons = pd.DataFrame(comparisons)\n",
    "comparisons.to_parquet(output_path / comparison_results_output_filename)"
   ]
  }
 ],
 "metadata": {
  "anaconda-cloud": {},
  "kernelspec": {
   "display_name": "python",
   "language": "python",
   "name": "python3"
  },
  "language_info": {
   "codemirror_mode": {
    "name": "ipython",
    "version": 3
   },
   "file_extension": ".py",
   "mimetype": "text/x-python",
   "name": "python",
   "nbconvert_exporter": "python",
   "pygments_lexer": "ipython3",
   "version": "3.9.18"
  }
 },
 "nbformat": 4,
 "nbformat_minor": 4
}
