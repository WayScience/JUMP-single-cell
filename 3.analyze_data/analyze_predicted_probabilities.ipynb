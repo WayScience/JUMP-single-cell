{
 "cells": [
  {
   "cell_type": "markdown",
   "metadata": {
    "jukit_cell_id": "67B2bwA0ER"
   },
   "source": [
    "# Test treatement probabilities and negative control probabilities for each phenotype"
   ]
  },
  {
   "cell_type": "code",
   "execution_count": 1,
   "metadata": {
    "execution": {
     "iopub.execute_input": "2023-09-11T23:39:29.872939Z",
     "iopub.status.busy": "2023-09-11T23:39:29.872844Z",
     "iopub.status.idle": "2023-09-11T23:39:30.408633Z",
     "shell.execute_reply": "2023-09-11T23:39:30.408238Z"
    },
    "jukit_cell_id": "551uyQMpHm"
   },
   "outputs": [],
   "source": [
    "import pathlib\n",
    "import sys\n",
    "\n",
    "import numpy as np\n",
    "import pandas as pd\n",
    "from scikit_posthocs import posthoc_dunn\n",
    "from scipy.stats import mannwhitneyu\n",
    "\n",
    "# Import significance test utils\n",
    "sys.path.append(\"utils\")\n",
    "import significance_testing as sig_test"
   ]
  },
  {
   "cell_type": "markdown",
   "metadata": {
    "jukit_cell_id": "43KpvqBB8Z"
   },
   "source": [
    "## Find the root of the git repo on the host system"
   ]
  },
  {
   "cell_type": "code",
   "execution_count": 2,
   "metadata": {
    "execution": {
     "iopub.execute_input": "2023-09-11T23:39:30.410878Z",
     "iopub.status.busy": "2023-09-11T23:39:30.410676Z",
     "iopub.status.idle": "2023-09-11T23:39:30.413494Z",
     "shell.execute_reply": "2023-09-11T23:39:30.413172Z"
    },
    "jukit_cell_id": "2h8CHkah8U"
   },
   "outputs": [],
   "source": [
    "# Get the current working directory\n",
    "cwd = pathlib.Path.cwd()\n",
    "\n",
    "if (cwd / \".git\").is_dir():\n",
    "    root_dir = cwd\n",
    "\n",
    "else:\n",
    "    root_dir = None\n",
    "    for parent in cwd.parents:\n",
    "        if (parent / \".git\").is_dir():\n",
    "            root_dir = parent\n",
    "            break\n",
    "\n",
    "# Check if a Git root directory was found\n",
    "if root_dir is None:\n",
    "    raise FileNotFoundError(\"No Git root directory found.\")"
   ]
  },
  {
   "cell_type": "markdown",
   "metadata": {
    "jukit_cell_id": "iRHc4niHdx"
   },
   "source": [
    "## Input Paths"
   ]
  },
  {
   "cell_type": "code",
   "execution_count": 3,
   "metadata": {
    "execution": {
     "iopub.execute_input": "2023-09-11T23:39:30.415138Z",
     "iopub.status.busy": "2023-09-11T23:39:30.414900Z",
     "iopub.status.idle": "2023-09-11T23:39:52.501224Z",
     "shell.execute_reply": "2023-09-11T23:39:52.500770Z"
    },
    "jukit_cell_id": "zDRghRntC5"
   },
   "outputs": [],
   "source": [
    "# Input paths\n",
    "big_drive_path = f\"{root_dir}/big_drive\"\n",
    "sqlite_data_path = f\"{big_drive_path}/sc_data\"\n",
    "ref_path = f\"{root_dir}/reference_plate_data\"\n",
    "proba_path = f\"{big_drive_path}/probability_sc_data/model_probabilities.parquet\"\n",
    "bar_plate_path = f\"{ref_path}/barcode_platemap.csv\"\n",
    "sig_test_path = \"utils/significance_testing\"\n",
    "\n",
    "# Define barcode platemap dataframe\n",
    "barcode_platemapdf = pd.read_csv(bar_plate_path)\n",
    "\n",
    "# Define the probabilities dataframe\n",
    "probadf = pd.read_parquet(proba_path)\n",
    "\n",
    "# Metadata and platemap paths and the name of the treatment_columns for each treatment type\n",
    "treatment_paths = {\"compound\":\n",
    "                   {\"metadata\": pd.read_csv(f\"{ref_path}/JUMP-Target-1_compound_metadata_targets.tsv\", sep=\"\\t\"), \"platemap\": pd.read_csv(f\"{ref_path}/JUMP-Target-1_compound_platemap.txt\", sep=\"\\t\"), \"treatment_column\": \"pert_iname\", \"Plate_Map_Name\": \"JUMP-Target-1_compound_platemap\"},\n",
    "               \"crispr\":\n",
    "                   {\"metadata\": pd.read_csv(f\"{ref_path}/JUMP-Target-1_crispr_metadata.tsv\", sep=\"\\t\"), \"platemap\": pd.read_csv(f\"{ref_path}/JUMP-Target-1_crispr_platemap.txt\", sep=\"\\t\"), \"treatment_column\": \"target_sequence\", \"Plate_Map_Name\": \"JUMP-Target-1_crispr_platemap\"},\n",
    "               \"orf\":\n",
    "                   {\"metadata\": pd.read_csv(f\"{ref_path}/JUMP-Target-1_orf_metadata.tsv\", sep=\"\\t\"), \"platemap\": pd.read_csv(f\"{ref_path}/JUMP-Target-1_orf_platemap.txt\", sep=\"\\t\"), \"treatment_column\": \"gene\", \"Plate_Map_Name\": \"JUMP-Target-1_orf_platemap\"}}"
   ]
  },
  {
   "cell_type": "markdown",
   "metadata": {
    "jukit_cell_id": "qWmYdhPyNy"
   },
   "source": [
    "## Define and create the output paths"
   ]
  },
  {
   "cell_type": "code",
   "execution_count": 4,
   "metadata": {
    "execution": {
     "iopub.execute_input": "2023-09-11T23:39:52.503406Z",
     "iopub.status.busy": "2023-09-11T23:39:52.503278Z",
     "iopub.status.idle": "2023-09-11T23:39:52.507040Z",
     "shell.execute_reply": "2023-09-11T23:39:52.506726Z"
    },
    "jukit_cell_id": "bvzjj5dqSv"
   },
   "outputs": [],
   "source": [
    "comparison_results_output_filename = \"comparison_results.parquet\"\n",
    "output_path = pathlib.Path(\"statistical_test_comparisons\")\n",
    "output_path.mkdir(parents=True, exist_ok=True)\n",
    "\n",
    "# Fill blank broad samples in the broad_sample column with DMSO.\n",
    "# These samples are represented as DMSO in the platemap, but as nans when loaded as a DataFrame\n",
    "treatment_paths[\"compound\"][\"platemap\"][\"broad_sample\"].fillna(\"DMSO\", inplace=True)\n",
    "treatment_paths[\"compound\"][\"metadata\"][\"broad_sample\"].fillna(\"DMSO\", inplace=True)"
   ]
  },
  {
   "cell_type": "markdown",
   "metadata": {
    "jukit_cell_id": "mncMGH9YmI"
   },
   "source": [
    "## Mann-whitney U wrapper function"
   ]
  },
  {
   "cell_type": "code",
   "execution_count": 5,
   "metadata": {
    "execution": {
     "iopub.execute_input": "2023-09-11T23:39:52.508601Z",
     "iopub.status.busy": "2023-09-11T23:39:52.508275Z",
     "iopub.status.idle": "2023-09-11T23:39:52.511271Z",
     "shell.execute_reply": "2023-09-11T23:39:52.510903Z"
    },
    "jukit_cell_id": "aXv3GRGOuI"
   },
   "outputs": [],
   "source": [
    "def perform_mannwhitneyu_median(_dmso_probs, _treatment_probs):\n",
    "    \"\"\"\n",
    "    Parameters\n",
    "    ----------\n",
    "    _dmso_probs: Pandas Series\n",
    "        The down-sampled predicted probilities of DMSO for a treatment type and phenotype.\n",
    "\n",
    "    _treatment_probs: Pandas Series\n",
    "        The predicted probabilities of the treatment.\n",
    "\n",
    "    Returns\n",
    "    -------\n",
    "    A zipped object which represents can be referenced by p_value and a comparison_metric_value, which are later on represented in the resulting dictionary.\n",
    "    \"\"\"\n",
    "\n",
    "    test_result = mannwhitneyu(_dmso_probs, _treatment_probs, alternative=\"two-sided\")\n",
    "    med_diff = _treatment_probs.median() - _dmso_probs.median()\n",
    "    return zip([\"comparison_metric_value\", \"p_value\"], [med_diff, test_result[1]])"
   ]
  },
  {
   "cell_type": "markdown",
   "metadata": {
    "jukit_cell_id": "RPvVZk062d"
   },
   "source": [
    "## Dunn wrapper function"
   ]
  },
  {
   "cell_type": "code",
   "execution_count": 6,
   "metadata": {
    "execution": {
     "iopub.execute_input": "2023-09-11T23:39:52.512720Z",
     "iopub.status.busy": "2023-09-11T23:39:52.512488Z",
     "iopub.status.idle": "2023-09-11T23:39:52.515817Z",
     "shell.execute_reply": "2023-09-11T23:39:52.515510Z"
    },
    "jukit_cell_id": "u7wFRFdwnU"
   },
   "outputs": [],
   "source": [
    "def perform_dunn_median(_dmso_probs, _treatment_probs):\n",
    "    \"\"\"\n",
    "    Parameters\n",
    "    import numpy as np\n",
    "    ----------\n",
    "    _dmso_probs: Pandas Series\n",
    "        The down-sampled predicted probilities of DMSO for a treatment type and phenotype.\n",
    "\n",
    "    _treatment_probs: Pandas Series\n",
    "        The predicted probabilities of the treatment.\n",
    "\n",
    "    Returns\n",
    "    -------\n",
    "    A zipped object which represents can be referenced by p_value and a comparison_metric_value, which are later on represented in the resulting dictionary.\n",
    "    \"\"\"\n",
    "    data = {\n",
    "        'probs': np.hstack((_dmso_probs.to_numpy(), _treatment_probs.to_numpy())),\n",
    "        'group': ['DMSO'] * len(_dmso_probs) + ['Treatment'] * len(_treatment_probs)\n",
    "    }\n",
    "\n",
    "    df = pd.DataFrame(data)\n",
    "    p_value = posthoc_dunn(df, val_col=\"probs\", group_col=\"group\")\n",
    "    med_diff = _treatment_probs.median() - _dmso_probs.median()\n",
    "    return zip([\"comparison_metric_value\", \"p_value\"], [med_diff, p_value.loc[\"DMSO\", \"Treatment\"]])"
   ]
  },
  {
   "cell_type": "markdown",
   "metadata": {
    "jukit_cell_id": "6hHxeDBTNc"
   },
   "source": [
    "## Defining tests and aggregation metric names"
   ]
  },
  {
   "cell_type": "code",
   "execution_count": 7,
   "metadata": {
    "execution": {
     "iopub.execute_input": "2023-09-11T23:39:52.517234Z",
     "iopub.status.busy": "2023-09-11T23:39:52.517000Z",
     "iopub.status.idle": "2023-09-11T23:39:52.519318Z",
     "shell.execute_reply": "2023-09-11T23:39:52.518970Z"
    },
    "jukit_cell_id": "19p1I4wojL"
   },
   "outputs": [],
   "source": [
    "comp_functions = {\"dunn\":\n",
    "                  {\"statistical_test_function\": perform_dunn_median,\n",
    "                   \"comparison_metric\": \"median_difference\"},\n",
    "                  \"mann_whitney_u\":\n",
    "                  {\"statistical_test_function\": perform_mannwhitneyu_median,\n",
    "                   \"comparison_metric\": \"median_difference\"}}"
   ]
  },
  {
   "cell_type": "code",
   "execution_count": 8,
   "metadata": {
    "execution": {
     "iopub.execute_input": "2023-09-11T23:39:52.520657Z",
     "iopub.status.busy": "2023-09-11T23:39:52.520434Z",
     "iopub.status.idle": "2023-09-12T13:48:50.388429Z",
     "shell.execute_reply": "2023-09-12T13:48:50.387851Z"
    },
    "jukit_cell_id": "9pgP4YdWo4"
   },
   "outputs": [],
   "source": [
    "treatments = sig_test.get_treatment_comparison(comp_functions, treatment_paths, probadf, barcode_platemapdf)"
   ]
  },
  {
   "cell_type": "markdown",
   "metadata": {
    "jukit_cell_id": "D4XcyaYl7m"
   },
   "source": [
    "## Save the output of the treatment"
   ]
  },
  {
   "cell_type": "code",
   "execution_count": 9,
   "metadata": {
    "execution": {
     "iopub.execute_input": "2023-09-12T13:48:50.390916Z",
     "iopub.status.busy": "2023-09-12T13:48:50.390756Z",
     "iopub.status.idle": "2023-09-12T13:48:51.185725Z",
     "shell.execute_reply": "2023-09-12T13:48:51.185155Z"
    },
    "jukit_cell_id": "KcqfcwXHtJ"
   },
   "outputs": [],
   "source": [
    "treatments = pd.DataFrame(treatments)\n",
    "treatments.to_parquet(output_path / comparison_results_output_filename)"
   ]
  }
 ],
 "metadata": {
  "anaconda-cloud": {},
  "kernelspec": {
   "display_name": "python",
   "language": "python",
   "name": "python3"
  },
  "language_info": {
   "codemirror_mode": {
    "name": "ipython",
    "version": 3
   },
   "file_extension": ".py",
   "mimetype": "text/x-python",
   "name": "python",
   "nbconvert_exporter": "python",
   "pygments_lexer": "ipython3",
   "version": "3.9.17"
  }
 },
 "nbformat": 4,
 "nbformat_minor": 4
}
