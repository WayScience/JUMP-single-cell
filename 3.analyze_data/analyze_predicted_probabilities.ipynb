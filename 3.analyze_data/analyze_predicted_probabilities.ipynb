{
 "cells": [
  {
   "cell_type": "markdown",
   "metadata": {
    "jukit_cell_id": "67B2bwA0ER"
   },
   "source": [
    "# Test treatement probabilities and negative control probabilities for each phenotype"
   ]
  },
  {
   "cell_type": "code",
   "execution_count": 1,
   "metadata": {
    "execution": {
     "iopub.execute_input": "2023-09-12T23:05:48.581140Z",
     "iopub.status.busy": "2023-09-12T23:05:48.581040Z",
     "iopub.status.idle": "2023-09-12T23:05:49.100048Z",
     "shell.execute_reply": "2023-09-12T23:05:49.099651Z"
    },
    "jukit_cell_id": "551uyQMpHm"
   },
   "outputs": [],
   "source": [
    "import pathlib\n",
    "import sys\n",
    "\n",
    "import numpy as np\n",
    "import pandas as pd\n",
    "from scikit_posthocs import posthoc_dunn\n",
    "from scipy.stats import mannwhitneyu, ttest_ind\n",
    "\n",
    "# Import significance test utils\n",
    "sys.path.append(\"utils\")\n",
    "import significance_testing as sig_test"
   ]
  },
  {
   "cell_type": "markdown",
   "metadata": {
    "jukit_cell_id": "43KpvqBB8Z"
   },
   "source": [
    "## Find the root of the git repo on the host system"
   ]
  },
  {
   "cell_type": "code",
   "execution_count": 2,
   "metadata": {
    "execution": {
     "iopub.execute_input": "2023-09-12T23:05:49.102250Z",
     "iopub.status.busy": "2023-09-12T23:05:49.101998Z",
     "iopub.status.idle": "2023-09-12T23:05:49.104854Z",
     "shell.execute_reply": "2023-09-12T23:05:49.104579Z"
    },
    "jukit_cell_id": "2h8CHkah8U"
   },
   "outputs": [],
   "source": [
    "# Get the current working directory\n",
    "cwd = pathlib.Path.cwd()\n",
    "\n",
    "if (cwd / \".git\").is_dir():\n",
    "    root_dir = cwd\n",
    "\n",
    "else:\n",
    "    root_dir = None\n",
    "    for parent in cwd.parents:\n",
    "        if (parent / \".git\").is_dir():\n",
    "            root_dir = parent\n",
    "            break\n",
    "\n",
    "# Check if a Git root directory was found\n",
    "if root_dir is None:\n",
    "    raise FileNotFoundError(\"No Git root directory found.\")"
   ]
  },
  {
   "cell_type": "markdown",
   "metadata": {
    "jukit_cell_id": "iRHc4niHdx"
   },
   "source": [
    "## Input Paths"
   ]
  },
  {
   "cell_type": "code",
   "execution_count": 3,
   "metadata": {
    "execution": {
     "iopub.execute_input": "2023-09-12T23:05:49.106460Z",
     "iopub.status.busy": "2023-09-12T23:05:49.106168Z",
     "iopub.status.idle": "2023-09-12T23:05:53.364233Z",
     "shell.execute_reply": "2023-09-12T23:05:53.363696Z"
    },
    "jukit_cell_id": "zDRghRntC5"
   },
   "outputs": [],
   "source": [
    "# Input paths\n",
    "big_drive_path = f\"{root_dir}/big_drive\"\n",
    "sqlite_data_path = f\"{big_drive_path}/sc_data\"\n",
    "ref_path = f\"{root_dir}/reference_plate_data\"\n",
    "proba_path = f\"{big_drive_path}/probability_sc_data/model_probabilities.parquet\"\n",
    "bar_plate_path = f\"{ref_path}/barcode_platemap.csv\"\n",
    "sig_test_path = \"utils/significance_testing\"\n",
    "\n",
    "# Define barcode platemap dataframe\n",
    "barcode_platemapdf = pd.read_csv(bar_plate_path)\n",
    "\n",
    "# Define the probabilities dataframe\n",
    "probadf = pd.read_parquet(proba_path)\n",
    "\n",
    "# Metadata and platemap paths and the name of the treatment_columns for each treatment type\n",
    "treatment_paths = {\"compound\":\n",
    "                   {\"metadata\": pd.read_csv(f\"{ref_path}/JUMP-Target-1_compound_metadata_targets.tsv\", sep=\"\\t\"), \"platemap\": pd.read_csv(f\"{ref_path}/JUMP-Target-1_compound_platemap.txt\", sep=\"\\t\"), \"treatment_column\": \"pert_iname\", \"Plate_Map_Name\": \"JUMP-Target-1_compound_platemap\"},\n",
    "               \"crispr\":\n",
    "                   {\"metadata\": pd.read_csv(f\"{ref_path}/JUMP-Target-1_crispr_metadata.tsv\", sep=\"\\t\"), \"platemap\": pd.read_csv(f\"{ref_path}/JUMP-Target-1_crispr_platemap.txt\", sep=\"\\t\"), \"treatment_column\": \"target_sequence\", \"Plate_Map_Name\": \"JUMP-Target-1_crispr_platemap\"},\n",
    "               \"orf\":\n",
    "                   {\"metadata\": pd.read_csv(f\"{ref_path}/JUMP-Target-1_orf_metadata.tsv\", sep=\"\\t\"), \"platemap\": pd.read_csv(f\"{ref_path}/JUMP-Target-1_orf_platemap.txt\", sep=\"\\t\"), \"treatment_column\": \"gene\", \"Plate_Map_Name\": \"JUMP-Target-1_orf_platemap\"}}"
   ]
  },
  {
   "cell_type": "markdown",
   "metadata": {
    "jukit_cell_id": "qWmYdhPyNy"
   },
   "source": [
    "## Define and create the output paths"
   ]
  },
  {
   "cell_type": "code",
   "execution_count": 4,
   "metadata": {
    "execution": {
     "iopub.execute_input": "2023-09-12T23:05:53.366886Z",
     "iopub.status.busy": "2023-09-12T23:05:53.366723Z",
     "iopub.status.idle": "2023-09-12T23:05:53.371486Z",
     "shell.execute_reply": "2023-09-12T23:05:53.370947Z"
    },
    "jukit_cell_id": "bvzjj5dqSv"
   },
   "outputs": [],
   "source": [
    "comparison_results_output_filename = \"comparison_results.parquet\"\n",
    "output_path = pathlib.Path(\"statistical_test_comparisons\")\n",
    "output_path.mkdir(parents=True, exist_ok=True)\n",
    "\n",
    "# Fill blank broad samples in the broad_sample column with DMSO.\n",
    "# These samples are represented as DMSO in the platemap, but as nans when loaded as a DataFrame\n",
    "treatment_paths[\"compound\"][\"platemap\"][\"broad_sample\"].fillna(\"DMSO\", inplace=True)\n",
    "treatment_paths[\"compound\"][\"metadata\"][\"broad_sample\"].fillna(\"DMSO\", inplace=True)"
   ]
  },
  {
   "cell_type": "markdown",
   "metadata": {
    "jukit_cell_id": "mncMGH9YmI"
   },
   "source": [
    "## Mann-whitney U wrapper function"
   ]
  },
  {
   "cell_type": "code",
   "execution_count": 5,
   "metadata": {
    "execution": {
     "iopub.execute_input": "2023-09-12T23:05:53.374164Z",
     "iopub.status.busy": "2023-09-12T23:05:53.373797Z",
     "iopub.status.idle": "2023-09-12T23:05:53.377785Z",
     "shell.execute_reply": "2023-09-12T23:05:53.377235Z"
    },
    "jukit_cell_id": "aXv3GRGOuI"
   },
   "outputs": [],
   "source": [
    "def perform_mannwhitneyu_median(_dmso_probs, _treatment_probs):\n",
    "    \"\"\"\n",
    "    Parameters\n",
    "    ----------\n",
    "    _dmso_probs: pandas.Series\n",
    "        The down-sampled predicted probilities of DMSO for a treatment type and phenotype.\n",
    "\n",
    "    _treatment_probs: pandas.Series\n",
    "        The predicted probabilities of the treatment.\n",
    "\n",
    "    Returns\n",
    "    -------\n",
    "    A zipped object which represents can be referenced by p_value and a comparison_metric_value, which are later on represented in the resulting dictionary.\n",
    "    \"\"\"\n",
    "\n",
    "    test_result = mannwhitneyu(_dmso_probs, _treatment_probs, alternative=\"two-sided\")\n",
    "    med_diff = _treatment_probs.median() - _dmso_probs.median()\n",
    "    return zip([\"comparison_metric_value\", \"p_value\"], [med_diff, test_result[1]])"
   ]
  },
  {
   "cell_type": "markdown",
   "metadata": {
    "jukit_cell_id": "FFPA3sxKJz"
   },
   "source": [
    "## T test wrapper function"
   ]
  },
  {
   "cell_type": "code",
   "execution_count": 6,
   "metadata": {
    "execution": {
     "iopub.execute_input": "2023-09-12T23:05:53.380255Z",
     "iopub.status.busy": "2023-09-12T23:05:53.379970Z",
     "iopub.status.idle": "2023-09-12T23:05:53.383459Z",
     "shell.execute_reply": "2023-09-12T23:05:53.382905Z"
    },
    "jukit_cell_id": "nSE3TR3l3H"
   },
   "outputs": [],
   "source": [
    "def perform_t_test(_dmso_probs, _treatment_probs):\n",
    "    \"\"\"\n",
    "    Parameters\n",
    "    ----------\n",
    "    _dmso_probs: pandas.Series\n",
    "        The down-sampled predicted probilities of DMSO for a treatment type and phenotype.\n",
    "\n",
    "    _treatment_probs: pandas.Series\n",
    "        The predicted probabilities of the treatment.\n",
    "\n",
    "    Returns\n",
    "    -------\n",
    "    A zipped object which represents can be referenced by p_value and a comparison_metric_value, which are later on represented in the resulting dictionary.\n",
    "    \"\"\"\n",
    "\n",
    "    stat, p_value = ttest_ind(_dmso_probs, _treatment_probs, alternative=\"two-sided\", random_state=0)\n",
    "    return zip([\"comparison_metric_value\", \"p_value\"], [stat, p_value])"
   ]
  },
  {
   "cell_type": "markdown",
   "metadata": {
    "jukit_cell_id": "RPvVZk062d"
   },
   "source": [
    "## Dunn wrapper function"
   ]
  },
  {
   "cell_type": "code",
   "execution_count": 7,
   "metadata": {
    "execution": {
     "iopub.execute_input": "2023-09-12T23:05:53.385876Z",
     "iopub.status.busy": "2023-09-12T23:05:53.385580Z",
     "iopub.status.idle": "2023-09-12T23:05:53.389887Z",
     "shell.execute_reply": "2023-09-12T23:05:53.389327Z"
    },
    "jukit_cell_id": "u7wFRFdwnU"
   },
   "outputs": [],
   "source": [
    "def perform_dunn_median(_dmso_probs, _treatment_probs):\n",
    "    \"\"\"\n",
    "    Parameters\n",
    "    import numpy as np\n",
    "    ----------\n",
    "    _dmso_probs: pandas.Series\n",
    "        The down-sampled predicted probilities of DMSO for a treatment type and phenotype.\n",
    "\n",
    "    _treatment_probs: pandas.Series\n",
    "        The predicted probabilities of the treatment.\n",
    "\n",
    "    Returns\n",
    "    -------\n",
    "    A zipped object which represents can be referenced by p_value and a comparison_metric_value, which are later on represented in the resulting dictionary.\n",
    "    \"\"\"\n",
    "    data = {\n",
    "        'probs': np.hstack((_dmso_probs.to_numpy(), _treatment_probs.to_numpy())),\n",
    "        'group': ['DMSO'] * len(_dmso_probs) + ['Treatment'] * len(_treatment_probs)\n",
    "    }\n",
    "\n",
    "    df = pd.DataFrame(data)\n",
    "    p_value = posthoc_dunn(df, val_col=\"probs\", group_col=\"group\")\n",
    "    med_diff = _treatment_probs.median() - _dmso_probs.median()\n",
    "    return zip([\"comparison_metric_value\", \"p_value\"], [med_diff, p_value.loc[\"DMSO\", \"Treatment\"]])"
   ]
  },
  {
   "cell_type": "markdown",
   "metadata": {
    "jukit_cell_id": "6hHxeDBTNc"
   },
   "source": [
    "## Defining tests and aggregation metric names"
   ]
  },
  {
   "cell_type": "code",
   "execution_count": 8,
   "metadata": {
    "execution": {
     "iopub.execute_input": "2023-09-12T23:05:53.392301Z",
     "iopub.status.busy": "2023-09-12T23:05:53.392026Z",
     "iopub.status.idle": "2023-09-12T23:05:53.395210Z",
     "shell.execute_reply": "2023-09-12T23:05:53.394662Z"
    },
    "jukit_cell_id": "19p1I4wojL"
   },
   "outputs": [],
   "source": [
    "# Create a dictionary where the keys represent the name of the comparison or test, and the values are dictionaries\n",
    "# the subdictionaries refer to the wrapper function for creating the comparison, and the metric name of the comparison being made\n",
    "comp_functions = {\"dunn\":\n",
    "                  {\"statistical_test_function\": perform_dunn_median,\n",
    "                   \"comparison_metric\": \"median_difference\"},\n",
    "                  \"mann_whitney_u\":\n",
    "                  {\"statistical_test_function\": perform_mannwhitneyu_median,\n",
    "                   \"comparison_metric\": \"median_difference\"},\n",
    "                  \"t_test\":\n",
    "                  {\"statistical_test_function\": perform_t_test,\n",
    "                   \"comparison_metric\": \"t_statistic\"}}"
   ]
  },
  {
   "cell_type": "code",
   "execution_count": 9,
   "metadata": {
    "execution": {
     "iopub.execute_input": "2023-09-12T23:05:53.397552Z",
     "iopub.status.busy": "2023-09-12T23:05:53.397279Z",
     "iopub.status.idle": "2023-09-13T12:04:28.136550Z",
     "shell.execute_reply": "2023-09-13T12:04:28.135873Z"
    },
    "jukit_cell_id": "9pgP4YdWo4"
   },
   "outputs": [],
   "source": [
    "treatments = sig_test.get_treatment_comparison(comp_functions, treatment_paths, probadf, barcode_platemapdf)"
   ]
  },
  {
   "cell_type": "markdown",
   "metadata": {
    "jukit_cell_id": "D4XcyaYl7m"
   },
   "source": [
    "## Save the output of the treatment"
   ]
  },
  {
   "cell_type": "code",
   "execution_count": 10,
   "metadata": {
    "execution": {
     "iopub.execute_input": "2023-09-13T12:04:28.139483Z",
     "iopub.status.busy": "2023-09-13T12:04:28.139335Z",
     "iopub.status.idle": "2023-09-13T12:04:29.242431Z",
     "shell.execute_reply": "2023-09-13T12:04:29.241768Z"
    },
    "jukit_cell_id": "KcqfcwXHtJ"
   },
   "outputs": [],
   "source": [
    "treatments = pd.DataFrame(treatments)\n",
    "treatments.to_parquet(output_path / comparison_results_output_filename)"
   ]
  }
 ],
 "metadata": {
  "anaconda-cloud": {},
  "kernelspec": {
   "display_name": "Python 3 (ipykernel)",
   "language": "python",
   "name": "python3"
  },
  "language_info": {
   "codemirror_mode": {
    "name": "ipython",
    "version": 3
   },
   "file_extension": ".py",
   "mimetype": "text/x-python",
   "name": "python",
   "nbconvert_exporter": "python",
   "pygments_lexer": "ipython3",
   "version": "3.9.17"
  }
 },
 "nbformat": 4,
 "nbformat_minor": 4
}
