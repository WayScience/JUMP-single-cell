{
 "cells": [
  {
   "cell_type": "markdown",
   "id": "e3d62700",
   "metadata": {
    "papermill": {
     "duration": 0.003163,
     "end_time": "2025-03-03T19:17:27.298052",
     "exception": false,
     "start_time": "2025-03-03T19:17:27.294889",
     "status": "completed"
    },
    "tags": []
   },
   "source": [
    "## Perform single-cell quality control to remove erroneous, technical outlier segmentations\n",
    "\n",
    "Using coSMicQC, we decided on three morphology features (related to shape and intensity) to maximize removal of poor quality nuclei segmentations that could impact downstream analysis.\n",
    "\n",
    "The original indices are saved as a parquet file to be used for filtering downstream."
   ]
  },
  {
   "cell_type": "markdown",
   "id": "73031c7f",
   "metadata": {
    "papermill": {
     "duration": 0.002277,
     "end_time": "2025-03-03T19:17:27.303682",
     "exception": false,
     "start_time": "2025-03-03T19:17:27.301405",
     "status": "completed"
    },
    "tags": []
   },
   "source": [
    "## Set papermill parameters"
   ]
  },
  {
   "cell_type": "code",
   "execution_count": 1,
   "id": "afb151be",
   "metadata": {
    "execution": {
     "iopub.execute_input": "2025-03-03T19:17:27.309399Z",
     "iopub.status.busy": "2025-03-03T19:17:27.309219Z",
     "iopub.status.idle": "2025-03-03T19:17:27.314809Z",
     "shell.execute_reply": "2025-03-03T19:17:27.314384Z"
    },
    "papermill": {
     "duration": 0.009801,
     "end_time": "2025-03-03T19:17:27.315795",
     "exception": false,
     "start_time": "2025-03-03T19:17:27.305994",
     "status": "completed"
    },
    "tags": [
     "parameters"
    ]
   },
   "outputs": [],
   "source": [
    "# Papermill notebook parameters\n",
    "# (including notebook cell tag).\n",
    "# We set a default here which may be overridden\n",
    "# during Papermill execution.\n",
    "# See here for more information:\n",
    "# https://papermill.readthedocs.io/en/latest/usage-parameterize.html\n",
    "plate_id = \"BR00117010\""
   ]
  },
  {
   "cell_type": "code",
   "execution_count": 2,
   "id": "0a896b84",
   "metadata": {
    "execution": {
     "iopub.execute_input": "2025-03-03T19:17:27.322739Z",
     "iopub.status.busy": "2025-03-03T19:17:27.322419Z",
     "iopub.status.idle": "2025-03-03T19:17:27.325986Z",
     "shell.execute_reply": "2025-03-03T19:17:27.325293Z"
    },
    "papermill": {
     "duration": 0.008343,
     "end_time": "2025-03-03T19:17:27.327243",
     "exception": false,
     "start_time": "2025-03-03T19:17:27.318900",
     "status": "completed"
    },
    "tags": [
     "injected-parameters"
    ]
   },
   "outputs": [],
   "source": [
    "# Parameters\n",
    "plate_id = \"BR00117006\"\n"
   ]
  },
  {
   "cell_type": "markdown",
   "id": "5391c242",
   "metadata": {
    "papermill": {
     "duration": 0.004555,
     "end_time": "2025-03-03T19:17:27.336523",
     "exception": false,
     "start_time": "2025-03-03T19:17:27.331968",
     "status": "completed"
    },
    "tags": []
   },
   "source": [
    "## Import libraries"
   ]
  },
  {
   "cell_type": "code",
   "execution_count": 3,
   "id": "5fc6958e",
   "metadata": {
    "execution": {
     "iopub.execute_input": "2025-03-03T19:17:27.343950Z",
     "iopub.status.busy": "2025-03-03T19:17:27.343341Z",
     "iopub.status.idle": "2025-03-03T19:17:27.891255Z",
     "shell.execute_reply": "2025-03-03T19:17:27.890771Z"
    },
    "papermill": {
     "duration": 0.553109,
     "end_time": "2025-03-03T19:17:27.892473",
     "exception": false,
     "start_time": "2025-03-03T19:17:27.339364",
     "status": "completed"
    },
    "tags": []
   },
   "outputs": [],
   "source": [
    "from pathlib import Path\n",
    "\n",
    "import cosmicqc\n",
    "import pandas as pd\n",
    "from cytodataframe import CytoDataFrame\n",
    "from pyarrow import parquet"
   ]
  },
  {
   "cell_type": "markdown",
   "id": "040475a7",
   "metadata": {
    "papermill": {
     "duration": 0.004083,
     "end_time": "2025-03-03T19:17:27.901125",
     "exception": false,
     "start_time": "2025-03-03T19:17:27.897042",
     "status": "completed"
    },
    "tags": []
   },
   "source": [
    "## Load in the plate data to process with only relevant metadata columns"
   ]
  },
  {
   "cell_type": "code",
   "execution_count": 4,
   "id": "99da20fd",
   "metadata": {
    "execution": {
     "iopub.execute_input": "2025-03-03T19:17:27.911437Z",
     "iopub.status.busy": "2025-03-03T19:17:27.911013Z",
     "iopub.status.idle": "2025-03-03T19:17:28.646819Z",
     "shell.execute_reply": "2025-03-03T19:17:28.646394Z"
    },
    "papermill": {
     "duration": 0.742532,
     "end_time": "2025-03-03T19:17:28.647852",
     "exception": false,
     "start_time": "2025-03-03T19:17:27.905320",
     "status": "completed"
    },
    "tags": []
   },
   "outputs": [
    {
     "data": {
      "text/plain": [
       "<pyarrow._parquet.FileMetaData object at 0x7049834350e0>\n",
       "  created_by: parquet-cpp-arrow version 17.0.0\n",
       "  num_columns: 7390\n",
       "  num_rows: 491838\n",
       "  num_row_groups: 53\n",
       "  format_version: 2.6\n",
       "  serialized_size: 58923224"
      ]
     },
     "execution_count": 4,
     "metadata": {},
     "output_type": "execute_result"
    }
   ],
   "source": [
    "# set path to save qc results\n",
    "qc_results_dir = Path(\"./qc_results\")\n",
    "qc_results_dir.mkdir(parents=True, exist_ok=True)\n",
    "\n",
    "# form a path to the parquet file with single-cell profiles\n",
    "merged_single_cells = f\"/media/jenna/8TB-C/work/JUMP-single-cell/0.download_data/data/plates/{plate_id}/{plate_id}.parquet\"\n",
    "\n",
    "# read only the metadata from parquet file\n",
    "parquet.ParquetFile(merged_single_cells).metadata"
   ]
  },
  {
   "cell_type": "code",
   "execution_count": 5,
   "id": "8a1bd162",
   "metadata": {
    "execution": {
     "iopub.execute_input": "2025-03-03T19:17:28.658693Z",
     "iopub.status.busy": "2025-03-03T19:17:28.658557Z",
     "iopub.status.idle": "2025-03-03T19:17:31.282143Z",
     "shell.execute_reply": "2025-03-03T19:17:31.281434Z"
    },
    "papermill": {
     "duration": 2.630159,
     "end_time": "2025-03-03T19:17:31.283352",
     "exception": false,
     "start_time": "2025-03-03T19:17:28.653193",
     "status": "completed"
    },
    "tags": []
   },
   "outputs": [
    {
     "name": "stdout",
     "output_type": "stream",
     "text": [
      "(491838, 19)\n"
     ]
    },
    {
     "data": {
      "text/html": [
       "<div>\n",
       "<style scoped>\n",
       "    .dataframe tbody tr th:only-of-type {\n",
       "        vertical-align: middle;\n",
       "    }\n",
       "\n",
       "    .dataframe tbody tr th {\n",
       "        vertical-align: top;\n",
       "    }\n",
       "\n",
       "    .dataframe thead th {\n",
       "        text-align: right;\n",
       "    }\n",
       "</style>\n",
       "<table border=\"1\" class=\"dataframe\">\n",
       "  <thead>\n",
       "    <tr style=\"text-align: right;\">\n",
       "      <th></th>\n",
       "      <th>Image_TableNumber</th>\n",
       "      <th>Metadata_ImageNumber</th>\n",
       "      <th>Image_Metadata_Site</th>\n",
       "      <th>Metadata_ObjectNumber</th>\n",
       "      <th>Metadata_Plate</th>\n",
       "      <th>Metadata_Well</th>\n",
       "      <th>Image_Metadata_Col</th>\n",
       "      <th>Image_Metadata_Row</th>\n",
       "      <th>Image_FileName_CellOutlines</th>\n",
       "      <th>Image_FileName_NucleiOutlines</th>\n",
       "      <th>Image_FileName_OrigDNA</th>\n",
       "      <th>Image_FileName_OrigRNA</th>\n",
       "      <th>Nuclei_AreaShape_BoundingBoxMaximum_X</th>\n",
       "      <th>Nuclei_AreaShape_BoundingBoxMaximum_Y</th>\n",
       "      <th>Nuclei_AreaShape_BoundingBoxMinimum_X</th>\n",
       "      <th>Nuclei_AreaShape_BoundingBoxMinimum_Y</th>\n",
       "      <th>Nuclei_AreaShape_FormFactor</th>\n",
       "      <th>Nuclei_Intensity_MassDisplacement_DNA</th>\n",
       "      <th>Nuclei_AreaShape_Compactness</th>\n",
       "    </tr>\n",
       "  </thead>\n",
       "  <tbody>\n",
       "    <tr>\n",
       "      <th>0</th>\n",
       "      <td>100953712601233197982859519342258171194</td>\n",
       "      <td>1</td>\n",
       "      <td>1</td>\n",
       "      <td>2</td>\n",
       "      <td>BR00117006</td>\n",
       "      <td>A01</td>\n",
       "      <td>1</td>\n",
       "      <td>1</td>\n",
       "      <td>A01_s1--cell_outlines.png</td>\n",
       "      <td>A01_s1--nuclei_outlines.png</td>\n",
       "      <td>r01c01f01p01-ch5sk1fk1fl1.tiff</td>\n",
       "      <td>r01c01f01p01-ch3sk1fk1fl1.tiff</td>\n",
       "      <td>906</td>\n",
       "      <td>39</td>\n",
       "      <td>879</td>\n",
       "      <td>10</td>\n",
       "      <td>0.919634</td>\n",
       "      <td>0.157198</td>\n",
       "      <td>1.087389</td>\n",
       "    </tr>\n",
       "    <tr>\n",
       "      <th>1</th>\n",
       "      <td>10948179779460722453965434149548305036</td>\n",
       "      <td>2</td>\n",
       "      <td>2</td>\n",
       "      <td>1</td>\n",
       "      <td>BR00117006</td>\n",
       "      <td>A01</td>\n",
       "      <td>1</td>\n",
       "      <td>1</td>\n",
       "      <td>A01_s2--cell_outlines.png</td>\n",
       "      <td>A01_s2--nuclei_outlines.png</td>\n",
       "      <td>r01c01f02p01-ch5sk1fk1fl1.tiff</td>\n",
       "      <td>r01c01f02p01-ch3sk1fk1fl1.tiff</td>\n",
       "      <td>43</td>\n",
       "      <td>32</td>\n",
       "      <td>13</td>\n",
       "      <td>3</td>\n",
       "      <td>0.939079</td>\n",
       "      <td>0.032054</td>\n",
       "      <td>1.064873</td>\n",
       "    </tr>\n",
       "    <tr>\n",
       "      <th>2</th>\n",
       "      <td>10948179779460722453965434149548305036</td>\n",
       "      <td>2</td>\n",
       "      <td>2</td>\n",
       "      <td>2</td>\n",
       "      <td>BR00117006</td>\n",
       "      <td>A01</td>\n",
       "      <td>1</td>\n",
       "      <td>1</td>\n",
       "      <td>A01_s2--cell_outlines.png</td>\n",
       "      <td>A01_s2--nuclei_outlines.png</td>\n",
       "      <td>r01c01f02p01-ch5sk1fk1fl1.tiff</td>\n",
       "      <td>r01c01f02p01-ch3sk1fk1fl1.tiff</td>\n",
       "      <td>173</td>\n",
       "      <td>34</td>\n",
       "      <td>143</td>\n",
       "      <td>9</td>\n",
       "      <td>0.941767</td>\n",
       "      <td>0.063976</td>\n",
       "      <td>1.061834</td>\n",
       "    </tr>\n",
       "    <tr>\n",
       "      <th>3</th>\n",
       "      <td>10948179779460722453965434149548305036</td>\n",
       "      <td>2</td>\n",
       "      <td>2</td>\n",
       "      <td>3</td>\n",
       "      <td>BR00117006</td>\n",
       "      <td>A01</td>\n",
       "      <td>1</td>\n",
       "      <td>1</td>\n",
       "      <td>A01_s2--cell_outlines.png</td>\n",
       "      <td>A01_s2--nuclei_outlines.png</td>\n",
       "      <td>r01c01f02p01-ch5sk1fk1fl1.tiff</td>\n",
       "      <td>r01c01f02p01-ch3sk1fk1fl1.tiff</td>\n",
       "      <td>821</td>\n",
       "      <td>34</td>\n",
       "      <td>793</td>\n",
       "      <td>5</td>\n",
       "      <td>0.884215</td>\n",
       "      <td>0.416156</td>\n",
       "      <td>1.130947</td>\n",
       "    </tr>\n",
       "    <tr>\n",
       "      <th>4</th>\n",
       "      <td>22362509688399705307174787699161992705</td>\n",
       "      <td>4</td>\n",
       "      <td>4</td>\n",
       "      <td>2</td>\n",
       "      <td>BR00117006</td>\n",
       "      <td>A01</td>\n",
       "      <td>1</td>\n",
       "      <td>1</td>\n",
       "      <td>A01_s4--cell_outlines.png</td>\n",
       "      <td>A01_s4--nuclei_outlines.png</td>\n",
       "      <td>r01c01f04p01-ch5sk1fk1fl1.tiff</td>\n",
       "      <td>r01c01f04p01-ch3sk1fk1fl1.tiff</td>\n",
       "      <td>847</td>\n",
       "      <td>93</td>\n",
       "      <td>818</td>\n",
       "      <td>67</td>\n",
       "      <td>0.961052</td>\n",
       "      <td>0.057564</td>\n",
       "      <td>1.040526</td>\n",
       "    </tr>\n",
       "  </tbody>\n",
       "</table>\n",
       "</div>"
      ],
      "text/plain": [
       "                         Image_TableNumber  Metadata_ImageNumber  \\\n",
       "0  100953712601233197982859519342258171194                     1   \n",
       "1   10948179779460722453965434149548305036                     2   \n",
       "2   10948179779460722453965434149548305036                     2   \n",
       "3   10948179779460722453965434149548305036                     2   \n",
       "4   22362509688399705307174787699161992705                     4   \n",
       "\n",
       "   Image_Metadata_Site  Metadata_ObjectNumber Metadata_Plate Metadata_Well  \\\n",
       "0                    1                      2     BR00117006           A01   \n",
       "1                    2                      1     BR00117006           A01   \n",
       "2                    2                      2     BR00117006           A01   \n",
       "3                    2                      3     BR00117006           A01   \n",
       "4                    4                      2     BR00117006           A01   \n",
       "\n",
       "   Image_Metadata_Col  Image_Metadata_Row Image_FileName_CellOutlines  \\\n",
       "0                   1                   1   A01_s1--cell_outlines.png   \n",
       "1                   1                   1   A01_s2--cell_outlines.png   \n",
       "2                   1                   1   A01_s2--cell_outlines.png   \n",
       "3                   1                   1   A01_s2--cell_outlines.png   \n",
       "4                   1                   1   A01_s4--cell_outlines.png   \n",
       "\n",
       "  Image_FileName_NucleiOutlines          Image_FileName_OrigDNA  \\\n",
       "0   A01_s1--nuclei_outlines.png  r01c01f01p01-ch5sk1fk1fl1.tiff   \n",
       "1   A01_s2--nuclei_outlines.png  r01c01f02p01-ch5sk1fk1fl1.tiff   \n",
       "2   A01_s2--nuclei_outlines.png  r01c01f02p01-ch5sk1fk1fl1.tiff   \n",
       "3   A01_s2--nuclei_outlines.png  r01c01f02p01-ch5sk1fk1fl1.tiff   \n",
       "4   A01_s4--nuclei_outlines.png  r01c01f04p01-ch5sk1fk1fl1.tiff   \n",
       "\n",
       "           Image_FileName_OrigRNA  Nuclei_AreaShape_BoundingBoxMaximum_X  \\\n",
       "0  r01c01f01p01-ch3sk1fk1fl1.tiff                                    906   \n",
       "1  r01c01f02p01-ch3sk1fk1fl1.tiff                                     43   \n",
       "2  r01c01f02p01-ch3sk1fk1fl1.tiff                                    173   \n",
       "3  r01c01f02p01-ch3sk1fk1fl1.tiff                                    821   \n",
       "4  r01c01f04p01-ch3sk1fk1fl1.tiff                                    847   \n",
       "\n",
       "   Nuclei_AreaShape_BoundingBoxMaximum_Y  \\\n",
       "0                                     39   \n",
       "1                                     32   \n",
       "2                                     34   \n",
       "3                                     34   \n",
       "4                                     93   \n",
       "\n",
       "   Nuclei_AreaShape_BoundingBoxMinimum_X  \\\n",
       "0                                    879   \n",
       "1                                     13   \n",
       "2                                    143   \n",
       "3                                    793   \n",
       "4                                    818   \n",
       "\n",
       "   Nuclei_AreaShape_BoundingBoxMinimum_Y  Nuclei_AreaShape_FormFactor  \\\n",
       "0                                     10                     0.919634   \n",
       "1                                      3                     0.939079   \n",
       "2                                      9                     0.941767   \n",
       "3                                      5                     0.884215   \n",
       "4                                     67                     0.961052   \n",
       "\n",
       "   Nuclei_Intensity_MassDisplacement_DNA  Nuclei_AreaShape_Compactness  \n",
       "0                               0.157198                      1.087389  \n",
       "1                               0.032054                      1.064873  \n",
       "2                               0.063976                      1.061834  \n",
       "3                               0.416156                      1.130947  \n",
       "4                               0.057564                      1.040526  "
      ]
     },
     "execution_count": 5,
     "metadata": {},
     "output_type": "execute_result"
    }
   ],
   "source": [
    "# set a list of metadata columns for use throughout\n",
    "metadata_cols = [\n",
    "    \"Image_TableNumber\",\n",
    "    \"Metadata_ImageNumber\",\n",
    "    \"Image_Metadata_Site\",\n",
    "    \"Metadata_ObjectNumber\",\n",
    "    \"Metadata_Plate\",\n",
    "    \"Metadata_Well\",\n",
    "    \"Image_Metadata_Col\",\n",
    "    \"Image_Metadata_Row\",\n",
    "    \"Image_FileName_CellOutlines\",\n",
    "    \"Image_FileName_NucleiOutlines\",\n",
    "    \"Image_FileName_OrigDNA\",\n",
    "    \"Image_FileName_OrigRNA\",\n",
    "    \"Nuclei_AreaShape_BoundingBoxMaximum_X\",\n",
    "    \"Nuclei_AreaShape_BoundingBoxMaximum_Y\",\n",
    "    \"Nuclei_AreaShape_BoundingBoxMinimum_X\",\n",
    "    \"Nuclei_AreaShape_BoundingBoxMinimum_Y\",\n",
    "]\n",
    "\n",
    "# read only metadata columns with feature columns used for outlier detection\n",
    "df_merged_single_cells = pd.read_parquet(\n",
    "    path=merged_single_cells,\n",
    "    columns=[\n",
    "        *metadata_cols,\n",
    "        \"Nuclei_AreaShape_FormFactor\",\n",
    "        \"Nuclei_Intensity_MassDisplacement_DNA\",\n",
    "        \"Nuclei_AreaShape_Compactness\",\n",
    "    ],\n",
    ")\n",
    "print(df_merged_single_cells.shape)\n",
    "df_merged_single_cells.head()"
   ]
  },
  {
   "cell_type": "markdown",
   "id": "3579f0a4",
   "metadata": {
    "papermill": {
     "duration": 0.005238,
     "end_time": "2025-03-03T19:17:31.294223",
     "exception": false,
     "start_time": "2025-03-03T19:17:31.288985",
     "status": "completed"
    },
    "tags": []
   },
   "source": [
    "## Create mapping for the outlines to the images for CytoDataFrame"
   ]
  },
  {
   "cell_type": "code",
   "execution_count": 6,
   "id": "c0b86565",
   "metadata": {
    "execution": {
     "iopub.execute_input": "2025-03-03T19:17:31.319264Z",
     "iopub.status.busy": "2025-03-03T19:17:31.318717Z",
     "iopub.status.idle": "2025-03-03T19:17:32.072301Z",
     "shell.execute_reply": "2025-03-03T19:17:32.071853Z"
    },
    "papermill": {
     "duration": 0.771581,
     "end_time": "2025-03-03T19:17:32.073282",
     "exception": false,
     "start_time": "2025-03-03T19:17:31.301701",
     "status": "completed"
    },
    "tags": []
   },
   "outputs": [
    {
     "data": {
      "text/plain": [
       "('A01_s1--nuclei_outlines\\\\.png', 'r01c01f01p(\\\\d{2})-.*\\\\.tiff')"
      ]
     },
     "execution_count": 6,
     "metadata": {},
     "output_type": "execute_result"
    }
   ],
   "source": [
    "# create an outline and orig mapping dictionary to map original images to outlines\n",
    "# note: we turn off formatting here to avoid the key-value pairing definintion\n",
    "# from being reformatted by black, which is normally preferred.\n",
    "# fmt: off\n",
    "outline_to_orig_mapping = {\n",
    "    rf\"{record['Metadata_Well']}_s{record['Image_Metadata_Site']}--nuclei_outlines\\.png\":\n",
    "    rf\"r{record['Image_Metadata_Row']:02d}c{record['Image_Metadata_Col']:02d}f{record['Image_Metadata_Site']:02d}p(\\d{{2}})-.*\\.tiff\"\n",
    "    for record in df_merged_single_cells[\n",
    "        [\n",
    "            \"Metadata_Well\",\n",
    "            \"Image_Metadata_Row\",\n",
    "            \"Image_Metadata_Col\",\n",
    "            \"Image_Metadata_Site\",\n",
    "        ]\n",
    "    ].to_dict(orient=\"records\")\n",
    "}\n",
    "# fmt: on\n",
    "\n",
    "next(iter(outline_to_orig_mapping.items()))"
   ]
  },
  {
   "cell_type": "markdown",
   "id": "d237fa5d",
   "metadata": {
    "papermill": {
     "duration": 0.005297,
     "end_time": "2025-03-03T19:17:32.084475",
     "exception": false,
     "start_time": "2025-03-03T19:17:32.079178",
     "status": "completed"
    },
    "tags": []
   },
   "source": [
    "## Detect technically mis-segmented nuclei\n",
    "\n",
    "We define technically mis-segmented nuclei as segmentations that include more than one nuclei, under or over-segmentation, or segmentation of background/smudging.\n",
    "\n",
    "We are using the measurements in two different conditions:\n"
   ]
  },
  {
   "cell_type": "markdown",
   "id": "ef111895",
   "metadata": {
    "papermill": {
     "duration": 0.00606,
     "end_time": "2025-03-03T19:17:32.097827",
     "exception": false,
     "start_time": "2025-03-03T19:17:32.091767",
     "status": "completed"
    },
    "tags": []
   },
   "source": [
    "1. Irregular shaped nuclei where the intensity based center is much different than the shape's center\n",
    "\n",
    "This condition looks to detect any technical outliers with irregular shape and very high difference in centeroids, which can be detecting multiple different types of technical outliers.\n",
    "\n",
    "- `FormFactor`, which detects how irregular the shape is. \n",
    "- `MassDisplacement`, which detects how different the segmentation versus intensity based centeroids are (which can reflect multiple nuclei within one segmentation).\n",
    "We understand that interesting phenotypes will occur, so we are going to evaluate if this will identify the mis-segmentationsb"
   ]
  },
  {
   "cell_type": "markdown",
   "id": "e29ba3c9",
   "metadata": {
    "papermill": {
     "duration": 0.005921,
     "end_time": "2025-03-03T19:17:32.109694",
     "exception": false,
     "start_time": "2025-03-03T19:17:32.103773",
     "status": "completed"
    },
    "tags": []
   },
   "source": [
    "### Detect outliers and show single-cell image crops with CytoDataFrame (cdf)"
   ]
  },
  {
   "cell_type": "code",
   "execution_count": 7,
   "id": "44559bab",
   "metadata": {
    "execution": {
     "iopub.execute_input": "2025-03-03T19:17:32.123489Z",
     "iopub.status.busy": "2025-03-03T19:17:32.123036Z",
     "iopub.status.idle": "2025-03-03T19:17:40.911269Z",
     "shell.execute_reply": "2025-03-03T19:17:40.910835Z"
    },
    "papermill": {
     "duration": 8.795805,
     "end_time": "2025-03-03T19:17:40.911978",
     "exception": false,
     "start_time": "2025-03-03T19:17:32.116173",
     "status": "completed"
    },
    "tags": []
   },
   "outputs": [
    {
     "name": "stdout",
     "output_type": "stream",
     "text": [
      "Number of outliers: 3801 (0.77%)\n",
      "Outliers Range:\n",
      "Nuclei_AreaShape_FormFactor Min: 0.23113739750863993\n",
      "Nuclei_AreaShape_FormFactor Max: 0.760638693620542\n",
      "Nuclei_Intensity_MassDisplacement_DNA Min: 0.6397183314369549\n",
      "Nuclei_Intensity_MassDisplacement_DNA Max: 7.26280904251638\n",
      "(3801, 3)\n"
     ]
    },
    {
     "data": {
      "text/html": [
       "<table border=\"1\" class=\"dataframe\">\n",
       "  <thead>\n",
       "    <tr style=\"text-align: right;\">\n",
       "      <th></th>\n",
       "      <th>Nuclei_AreaShape_FormFactor</th>\n",
       "      <th>Nuclei_Intensity_MassDisplacement_DNA</th>\n",
       "      <th>Image_FileName_OrigDNA</th>\n",
       "    </tr>\n",
       "  </thead>\n",
       "  <tbody>\n",
       "    <tr>\n",
       "      <th>19664</th>\n",
       "      <td>0.760639</td>\n",
       "      <td>1.086892</td>\n",
       "      <td><img src=\"data:image/png;base64,iVBORw0KGgoAAAANSUhEUgAAABsAAAAlCAIAAAA8xgXfAAAEZElEQVR4nG2WPW8bRxCGZz/u9k4UATb6C+ocQAIcBzyKciqHgtNYqZzKKRw4vdzFPyByGXdx3FqwEbmJASOOKCASJVKGXcS/RXfH248ULzlcMZrieLzbfXbmndnZE+vr60REREqppStMSimEUEoJISbjCV1nN7+8KYTAvWacEAKTpZTMwispJVhFryAiIYQQIkR2NjljuoCPWmv4FePYxufj3lZPShkvTEQhBOec9945d/LPCRF1i+41REAx7cPFByLa6m8ppfTcwA0hgOWcs9Y6546Hx7OoGYehzL2YXHSLLlhJkiRJkqZpmqZaayICDixrbdM0Mx2BA1HMTSk1GU+KXiGV1FqnaQpclmVMBEspZa1lAhFpvoszMxlPels94Ng1Y0yWZXA2hKC1ttbCA9ZqQWQW8lD0CqWVUoqDBQ4OIvve+9ibg5cHRHRv956+Fodp7CBwxhittZQSV0gGYiyi2NzcREKEEIxjM8akaZrneZ7naZpyGcCJEELTNHVdT6dT59yL318QkeZa52UhM+OyLAORK2FRzEJgJBI147C0Z6Oz/nYfZYx4EWye55yQ2H2oyVonSfLwx4dEpBHC+dl5f7sflx4cNMYkSbJUWxyy9x75wZNnvz6bRc3q8MYwxhhjoJ1SynsPYpwZEEMImLv/yz4RPfrpkRZCjE5H/e2+ShbBQrjV1VUpJXYuOkK8fNwEnvz8hIj2Hu9VupplJhYly7Isy1qtljEGICYiTPaL+8WV3OIHi4OI/CZJgtC4VjAf0LincerRinS8BTlqJIQ3BmZyZsDFLL4nIuijT09Ob399WyazVqjmBvkxGnGwjljAOcd9F0RrbQhBL7UcLoWlzhoHyHUOp2IfZ1Gz0kuSca/kPCAtrCA7Gy8gu0X3eHjMk1HMbm6c2VjuOAjEdEXHOC6+9943TbNUKDEuXiMWIYQgWQUuOryz1tZ1jb6CK6xpGmttXPNCiL3He0T0/Lfn3nsNIq7AxWLHvkNHZsW7m5Vxzml0IT83vMM43glL57j3fikzT/efEtH97+9772VVVbe+unX09xHngSVnWeM6FdFJbed2RUd+hGyAG+chrp54n/ChWlXVgx8eENHBywPnnEQGiKhpGrR4Fp6iDwI8gTLMQtKqqqrreve7XSJ6/eq1tNZWVbWxuTE8GmJQTGRjoa210+kUlOl0WpZlWZYIDiM1jrGyLImICyVNU/pf04axfFiVnXhz+IaI7n57VyJea+2NL24Mj4Z1XZdlyS6gJOO/YDnn+BRsmubwj0MiGuwMvPczHy8vL4loY3Pj3cd3g51BCCHPc601786lxoHYWXruPVJKsba2RkR8nrXb7U8fP9355g4f0DEuTjSIuL7/6/1iX3Y6nSRJACUinDCf//2MKNB3+bORU4So3/75FpSiVywU73Q6eAofcZNlWbvdxscjbLAzgINMAQhpQXueBdRqtWIfY2e11isrK8YYKeXodIS33aIbQoB2CBlTQgg4o/4DsgKs/IACHn4AAAAASUVORK5CYII=\" style=\"width:300px;\"/></td>\n",
       "    </tr>\n",
       "    <tr>\n",
       "      <th>4012</th>\n",
       "      <td>0.760626</td>\n",
       "      <td>0.749094</td>\n",
       "      <td><img src=\"data:image/png;base64,iVBORw0KGgoAAAANSUhEUgAAACQAAAAgCAIAAAD1803ZAAAFFklEQVR4nH1W23ITORBt3eZq2Ke88AVsqMTJQiiCbySmQhX7yzEOpGrZ5ZbYjv0bVCXFOB5JM/twxo1isqsHlzSe0elz+nRLIssyujuMMUQURRERZVmW53kURZcXl3Tf2NndsdY657C01m5MMDfGWGv1vVsw0sOHD2fTGREdHR8ppZRSQoiqqqqq8t47586n57vtXSllVVW/QobRG2NEyIw5GWOMMUAavBrEcRxFEZCklPV6eO+Long3ekdE20+2y7LcYAZCvP/9zIwxrVZrNp31B/00S+M4NsZIKYlICEFEUkpQVEoNXw9HpyP8G+oWEsBDGdIErSzLWq3W/Gre7XXTtEFSSmmtzXpgGcdxlmVZlvUH/avZ1YZC1toNPXUYCATM83x+Ne90O+CktUa2MAGzuq6b77WO4zhJEnzOAIhpQ7Cf3IGUZdlivnjZeZmmaZIk+AacoihKkgTPma5SKoqiKIq6ve5ivvgVYDNn2AhI8As2xY5aa4BhKYSo69o555yz1koplVLYAUQ38MKl5veMMWmaTifTwatBkifsScBgF6UUEXnv8bEQAv6EyDAOJ4zuutEY08iI4m3sl6ahdGma5nmepincT0SoM04bE+p0O4v5gpUIfde8BgZpmi7mi063kz3IQgHjOMYSJOq6RjkDDIOI2EEgBwdUVYW51hr1LpEqKJmuR5IkSDsgIZRSSkqJOQcLGaWUYHPw/AA2QSKRgiRJsizTrFWTqgcJnAYAThII8e5aa/ATQnjvUQ8oDK3102dPv15+JaKD5wdCCKUUdzKN2OFAwGAgXiJyznnv67oOexU6CAhBOkAqpeI47va6QojzT+eIr9fvobdppRRomQcmLFtuSGVZOufquoYM6LnAxhLwcA0bUmt98uYEbjr9cHr48pCIJLLFGeLEQD3vfVmWy+Xy9vZ2tVo557jlowDwclVVOGjwUN0dw9fDj399VErp2XTW7XWj3xovgBkbD7ugVpRSgMdzyAj2QAJY2K+5FuFJzVWCMuLv2eXMQGsNR+A5Mo9TzVqLifcee4Z2FUIcHR+N/x43YBghLciICdKAaJAYdCx0E++9tZYrnX0b7tCQY92ZL9cpL9nZUNI5J6V0zpVlCa5gxmXOqBx000Ho7mBHwWxgCU/L9eCw2CzIK2TkFsOp/Zk2jp1TxWWELgCtYLkQiXn79aiqajqZIujh62HIaXQ66g/6GgECg52NogYq6iHUJ1SCjxvn3MW3i+0n20qpNE1H/4zwwtHxES4p3vvmpIajmASUgQMhHTBYN04GTIjC5xe01i8OX8C94w/jXr+H8hDtdntyOXn759tWq4VOyEXN7RVuDusBc+/9arUqiuLm5uZsfPb498eADFsEso7moOGI5XKJDh0a0lpbliWqguuBwxdCsIBn47Od3Z2lW9r1QExccw2Y935vf298MT55c8IOpHWn57oOXYr8wVDQkNZ3KeQCExwrAHPOFUWhy7KEesvlErlBnvjmS0RlWXJ14x2WtCzL0elob3/v+/L7xg21KAq6e63T1lqt9W5793xy3h/0q6qKoojdyJXHv6gBrqfb21sEHsLwHHcQfigePXqEa0Ecx5PLCREdD4/DyzbrxupBWOccPN3ea//48aMoio0raTgALLa2tnB+53mOyZfPXwCJIzE8brgvvD97T0TPDp5Za1er1fX19f8jNcy2trZofYHle5XW+vOnz//1MRHt/7EPd8D69yKxjPzkX0MtZ5Hsa686AAAAAElFTkSuQmCC\" style=\"width:300px;\"/></td>\n",
       "    </tr>\n",
       "  </tbody>\n",
       "</table>"
      ],
      "text/plain": [
       "       Nuclei_AreaShape_FormFactor  Nuclei_Intensity_MassDisplacement_DNA  \\\n",
       "19664                     0.760639                               1.086892   \n",
       "4012                      0.760626                               0.749094   \n",
       "\n",
       "               Image_FileName_OrigDNA  \n",
       "19664  r16c20f02p01-ch5sk1fk1fl1.tiff  \n",
       "4012   r06c17f04p01-ch5sk1fk1fl1.tiff  "
      ]
     },
     "execution_count": 7,
     "metadata": {},
     "output_type": "execute_result"
    }
   ],
   "source": [
    "# find irregular shaped nuclei using thresholds that maximizes\n",
    "# removing most technical outliers and minimizes good cells\n",
    "feature_thresholds = {\n",
    "    \"Nuclei_AreaShape_FormFactor\": -2.35,\n",
    "    \"Nuclei_Intensity_MassDisplacement_DNA\": 1.5,\n",
    "}\n",
    "\n",
    "irregular_nuclei_outliers = cosmicqc.find_outliers(\n",
    "    df=df_merged_single_cells,\n",
    "    metadata_columns=metadata_cols,\n",
    "    feature_thresholds=feature_thresholds,\n",
    ")\n",
    "\n",
    "irregular_nuclei_outliers_cdf = CytoDataFrame(\n",
    "    data=pd.DataFrame(irregular_nuclei_outliers),\n",
    "    data_context_dir=f\"/media/jenna/8TB-C/work/JUMP-download-images/JUMP-single-cell/0.download_data/data/images/{plate_id}/orig\",\n",
    "    data_outline_context_dir=f\"/media/jenna/8TB-C/work/JUMP-download-images/JUMP-single-cell/0.download_data/data/images/{plate_id}/outlines\",\n",
    "    segmentation_file_regex=outline_to_orig_mapping,\n",
    ")[\n",
    "    [\n",
    "        \"Nuclei_AreaShape_FormFactor\",\n",
    "        \"Nuclei_Intensity_MassDisplacement_DNA\",\n",
    "        \"Image_FileName_OrigDNA\",\n",
    "    ]\n",
    "]\n",
    "\n",
    "\n",
    "print(irregular_nuclei_outliers_cdf.shape)\n",
    "irregular_nuclei_outliers_cdf.sort_values(\n",
    "    by=\"Nuclei_AreaShape_FormFactor\", ascending=False\n",
    ").head(2)"
   ]
  },
  {
   "cell_type": "markdown",
   "id": "c5ac8357",
   "metadata": {
    "papermill": {
     "duration": 0.002776,
     "end_time": "2025-03-03T19:17:40.917981",
     "exception": false,
     "start_time": "2025-03-03T19:17:40.915205",
     "status": "completed"
    },
    "tags": []
   },
   "source": [
    "### Randomly sample outlier rows to visually inspect if the threshold looks to be optimized"
   ]
  },
  {
   "cell_type": "code",
   "execution_count": 8,
   "id": "d9ecd86e",
   "metadata": {
    "execution": {
     "iopub.execute_input": "2025-03-03T19:17:40.925067Z",
     "iopub.status.busy": "2025-03-03T19:17:40.924718Z",
     "iopub.status.idle": "2025-03-03T19:17:40.935704Z",
     "shell.execute_reply": "2025-03-03T19:17:40.935106Z"
    },
    "papermill": {
     "duration": 0.016217,
     "end_time": "2025-03-03T19:17:40.936965",
     "exception": false,
     "start_time": "2025-03-03T19:17:40.920748",
     "status": "completed"
    },
    "tags": []
   },
   "outputs": [
    {
     "data": {
      "text/html": [
       "<table border=\"1\" class=\"dataframe\">\n",
       "  <thead>\n",
       "    <tr style=\"text-align: right;\">\n",
       "      <th></th>\n",
       "      <th>Nuclei_AreaShape_FormFactor</th>\n",
       "      <th>Nuclei_Intensity_MassDisplacement_DNA</th>\n",
       "      <th>Image_FileName_OrigDNA</th>\n",
       "    </tr>\n",
       "  </thead>\n",
       "  <tbody>\n",
       "    <tr>\n",
       "      <th>93222</th>\n",
       "      <td>0.758155</td>\n",
       "      <td>0.853840</td>\n",
       "      <td><img src=\"data:image/png;base64,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\" style=\"width:300px;\"/></td>\n",
       "    </tr>\n",
       "    <tr>\n",
       "      <th>179009</th>\n",
       "      <td>0.725754</td>\n",
       "      <td>1.016294</td>\n",
       "      <td><img src=\"data:image/png;base64,iVBORw0KGgoAAAANSUhEUgAAABkAAAAUCAIAAAD3FQHqAAADf0lEQVR4nG1UTW8URxCtrv6eGWl3fbC0l734sve94A8i1mtyMOSEI/IDyIUcyAnHCEfAAXMIIQSF34B/QjjESPHaJrZw+CW21tLOTHdPdw5FVlZIH1qa6epXr+q9atbtdgFASgkAACCEmH2mlKy1H//+SEe3v7nd7XallE3TAIBSSimFiN77GGMIAS8DXV5CCAJaXFocrY0AYPfNrrVWSskYc86FECgSEZVS1lqUUn5OSgihlCKgLMtardbd7+4CwM7TnRgjY0xKqZTinBP9lBJjDAklyzLKKaXUWhtjTj+cXv3ialEU7XZ7fn6+3W5vPdgCgGc7z1JKFImIAMA5Z4w1TcN6vV6WZUIIRKT95PgEAEZrI2ttURStVqvT6WitnXPT6fTlLy8B4P7mfWMMIhKjlJL3nvX7fWst51wIcXR4BADXv7wupbTWZllWFEWe53TNe19VVQjh1a+vAODh9kMqEBFjjN57NhgMlFKHB4cAsH5j3RhD/aJKlVLGGK01ADRN45xzznHOn//0HAC2f9xu/l3ee2GMGe+P12+sK6Vsy+Z5rpSKMXLOSXLGGFXBGENEKSW1HADoqGmauq5DCAwS3PzqJrEgBZRSIQSqmlorhIgxxhipIgJ98vgJAGw92KrruizLuq6RXGeMyfM8yzKlFGPMWmuM4ZwjIvEnfyIiSSSEePT4EbmkqqqyLKfTKZKtqM3WWoqmQqgW771zLsZIRwAQY6QCN3/YBIDXv70uy3IymSD91VrneY6I5OaUEo2F9z6EMLtMWCEEahAA3Pv+Ho1EWZZImUMIVVWdn59fXFxQnHOuqioyQUqJdCTQEMJ0Oq3rmiS68+0dANj7Y4+trKzs/7m/8fWGlLKqKiHE3NxclmUhhKZpQgiziaHxQkRKQwm895PJ5Ozs7O3vb9lgMNBaH4wPhqvDlFKWZZ1OxxgTLy3OubWWRkcp9eLnF5+/BQDA+v2+1hoRTz+cAsC14bWiKIgFtdk5BwDk4d03u/+L8glrYWFBSjkbV0IcrY3IR+T1lJIQ4t3eO7pza+MW+cB7P8sXQmC9Xm+GJYSg/eT4ZHllmbBIr+O/jgFguDqkB8p7PzPd7NkRM4aUhHNOYqWUxvtjAFhaXjoYHwDAlcUrjn8yGkUSKWKtlGK9Xu/yK2it1Vq/P3r/n16sjlYpB42UEIKG1DnXNA2J8w+gM/JkanJ0FAAAAABJRU5ErkJggg==\" style=\"width:300px;\"/></td>\n",
       "    </tr>\n",
       "    <tr>\n",
       "      <th>119166</th>\n",
       "      <td>0.727870</td>\n",
       "      <td>0.695138</td>\n",
       "      <td><img src=\"data:image/png;base64,iVBORw0KGgoAAAANSUhEUgAAABoAAAAWCAIAAABR6hviAAADQklEQVR4nHVUTU9bRxS98/Fm5tmFyv+Ctf8GdEU2brANFUrFDzBKbFOEiyFS06yaRSM1Tcq2amLw819ijxD2m88uDkwoUq8s2XOf77nnnnvmsY2NjeIhhBBFUXDOlVJCCCmlEOLzP5/pv7H9bNt7b6211nrvnXPee2RkxlJKyYcoiuJydonine4OY4wxxjlnjMUYP/39CY82tzattblNSom1221ggZpSqppXRNTr98A0pRRjTCkBEWUpJefcxV8XW99t1XUNgjFG1m63jTGgppRaVItur6u11lpzzmOMzrkQQoZ7TLOu649/ftzc2qzrGvNySIYBF9Xi+c7zZrNZliUQIR/nXAiRf2AIrXWj0dj7Ya+aV0opJO8fgxoRGWPQgDGmtS7LEse8GURRFFprY0yj0ej1e4tqAcoy/3X2Zba7t2uaRmtNRIwxPLLWhhCICAXISynzyGVZElFRFCEEDr2FEESktQYEyEOvvGsk8zHrIKXs7/bnV3POuSQiIcTsy6y/2xdNwRgDCmOMiGKMQAQjGEIpBV7gIaXEQEKIe844oB5WQmfUg4JSinPOOcdc1lpsGZlur3uxuJBCiGpedb7viG8EEYUQGGPee8j3WKyiKIwxUkqYDu7z3gMR3CUoYH2AgFEzQbgPHLXWSinnHHillMAxSyHxhVuRXYpu6OG9B+W86xACBnTO4Yg8Ecmry6tev1d+WwohUkpAzP7KU+Q2oJ8jhADuyEv4Q2uNnea14pgVzAWPgbz3uNE5+TCwlNh9hgA0FEwphRBCCHVdox6vIywE03xll20Mo+QLkC0COOfc7e0tZn8Mh8z9zSGid7+9m55Os8uyajlwjDEOXw1vbm4OB4fL5RKXD9Q45845ImKUvsoxGo9SSmfTs5PJCQgqpQ4Hh/Q/8fLVy9fnr8dH45TS9fX1hz8+ECXqdDoHBweU6MlnMpk8yRwfH1OiwWDwJD8cDvf39ykRo0Tbz7bX19dbrdbbX98S0fhofPrzaaZwMjnB+zXGuFqt7u7u4EQievPLm9F4ND2dEtGLH1+8//39Pdza2lqr1TLGwBZw9Xg0PvrpiHNelmVZlowxa+1yuazrerVaZfdyzs/PztH7X7RL0IqlMYayAAAAAElFTkSuQmCC\" style=\"width:300px;\"/></td>\n",
       "    </tr>\n",
       "    <tr>\n",
       "      <th>232985</th>\n",
       "      <td>0.641028</td>\n",
       "      <td>1.412864</td>\n",
       "      <td><img src=\"data:image/png;base64,iVBORw0KGgoAAAANSUhEUgAAABgAAAAfCAIAAAByEJoXAAAD2UlEQVR4nG1WTU9VZxCe9+vccwlhyU/h1i4EY22CsRtrY2M3QgXubQSlC2nsui5qiuWjGDCpBVPA1E2ti7qSmhTrH+Le837M28VzmHu0PYubw3tmnnlm5pl5UZ1O5+0/b4mIiC59cqkoCqUU/jTGWGvxq7XGCz4xMzPLJyLScJs6N0VEL/54obWGjzFGnJnZe++9DyHknHPORJRzZuacs1LKGFMDKaWmL04T0bPfnjnntB6eIyDcmDmlJBAppZRSjJGZdU1Ma6XU5U8vE9H+r/s4hD9iAhFmNQWtiSicPooynZ08WxRFq9Vqt9sjIyN7u3tEdPXzqygTfHLOxhhUEGRTSswcQlBKWWvryCCFgDOzM0T09PApHJARGIGLUgqHOWccMnMNJOTxe33mOhEdHhw658AIBtZa9LHZUBi8UwuhZq2d/XKWiHZ/2S3LsiiKoYPW1lrnXFEUOMfhMDV1+kgu3V6XiHa2d1qtVlmWzjmYoVhlWbZaLWutUirnrJt5IUJTI0u3lohoc2Nzc2NTZAEskIJ9jFFRpsmpybIsR0dHx8fHrbWQRkoJrXTO3f/+Pv3nufvtXSLy3p+cnAwGg3cYoXig3W63nXOgfWflzso3K+8B3fvuXgiBmbd+2jLGKMo0dW6q3W6PjY2BEZxFpcgRmtJaMzOkvL623sStGcFOVC+HOPHe9/t97718yjnfXLwJiIXuAhFZaRm0B2ekCTre+8FgICMijU4pdXtdZt7e3h4CSaeaqjXGxBirqgohgK/QwTsz72zvENGNuRv/AyRTCtMYowzQe+oFytz8nNLKNr9hAo0xcig5QtnICMYPtx4SUbfXVVZpra2gyIqBpzB1ziE1kGLmtR/X8GlxaZEN12MIIIHLOccYEVx2G6BR79UfVoFye/m2skoWlpX6oWUotqQgWAjwYPUBES1/vSwLRBjoMx+eOXp1JFyAGEKoqqqqKu89xiWltLG+QURLt5YQoLkwiMhCYzDFSlZKgY4oSyn1aOcREfW+6rHhpuhFelYSkcjNTYKJefzzYyKaX5gnQ80iIIl6VeacJzoTR6+OkE4IAQnKtQGUufk5aQsCY+cjiRijlVSrqoLksE/Rpid7T2rJnUpUUkY8KVZ9Z3U+6Lz+6/VgMMBy6ff7IYSD/QMiuvbFtRCCNFTIoqYyT8MrmIi899Ckc+7578+J6MpnV5Kp+yC3kCBKsYwxw5090Zl4c/wmxhhjfPnnSyKavjjtvRcfodNsMYrNzBYRZJkd/30M3AsfX5DVIBMLY5GL1KtWNt6a83X+o/PGGbl2ZDeBjgBR45+DfwFuS1wwdPaceQAAAABJRU5ErkJggg==\" style=\"width:300px;\"/></td>\n",
       "    </tr>\n",
       "    <tr>\n",
       "      <th>293186</th>\n",
       "      <td>0.736369</td>\n",
       "      <td>0.844214</td>\n",
       "      <td><img src=\"data:image/png;base64,iVBORw0KGgoAAAANSUhEUgAAACAAAAAfCAIAAAAJNFjbAAAFFElEQVR4nGVWXVPcNhSVZMmWtVuGPOQpz/kb2QWa7CYsX4EGOuTnlSmEIYWFKUnDbgq/iAl4JVuS3Ydj7ngaPYDXH/fce+45V+IvXrwwxuR5nj2t2c2M/bRWVlfqum6apq5rxlhd13VdxxhjjIyxEAL9ZYx57733uJBKKSmllDLLMq31zbebnfc7aZoqpfCN9z7GeD4/Z4wNhgMhBKIIIYQQSZLEGEMICBJCCCHgW2Dwly9f5nlujDHGzGfzvd/2tNZ5nmutkyQpy7IsyxBCWZbW2unFdDAcNE2DIrqlAJUKQmbeewBLpdR8Nt95v6N7utfr9fv9paUlKWVVVUVROOestZzzycbk6t+r4coQ0VEHVYM7gKyqCj+lUirLMhSFHhhjtNZCCAArpay1UkpKkHNOvUFoznmSJMBomibGKKVMkqQoCimlFELMZ/PtnW3Zl2maZlnGGHPONU0DYCml1rppmhDC5tbmdD59NXjVzX0+m/9PFK/fvE6SBN/KNE3bq6clhKiqylqLlOu6BpJzDhdCCLDEOZ/P5lvbW1mWJUkCmcUYz/45G78dtzIAFMkJJXPOm6ZBk/E0TVM8pQ4zxr7Pv29ubRpjep1ljDn4/eDL9RettZBS3ny72d3bRSlKKbBJKgQqbkI/b0Zv7m7vmqa5u70bjUdpmuZ53u/3KTpctX+wf/33dcsPTKC1RppIP4RASJxz1N40Ded8MBzc3t2urq3KXCqltNbGGAghhFAUBWlX4m6appB/lmWUL8gBhzHGsixhOghxMBxwyVF3nud5nkNdSZI45zjnIFN+/fL1w/6H5JcEL4EWpRRxTf2oqsp7H0IgWwGb2oMqvfeouPUB/gGQek6ipvECE9BCdBgFRUBCvLMghNYadV2HENBDck3Xn2TRroeRSldaGIhkN8aYGI1Hp59OQwhgAGygmfQenoIcAkAeWMgvhGCtXSwWzjlEY4xJfIDHYBx04wILww4dRmgIAQvvV1VVliX+eu+dc9CIpMENTOChAtgV2XWjU+5gxntfFEWMEREQKoRwOb1cWV2RaKP3vizLx8dHDD4aA6AIn7VNe6Ie0SkumCQaSQjCe7+6tnr+17lzbrFY/PjxwzkHqVBZYI+id40N9kALvQN1tS6z1uIHthRwqrUm+QMM7QEAHkHsaBL9pE+EELt7u2fXZ8Jaa60dDAfTiymIstY656BaYoMmEs1E2qlgNNoHsyyD79pxjQaAMiQLHmmaY/w1TeO9R3uQKUITDPKAIhCq3TCg0bquR+PR57PPcArpHYKhKUuGR9ZZluWdRY6Dh9pRgc2TItIwgBJCCJgqRDe1WimV53l3+sLMNA3bl+EDa21VVe/W350cn0A2kBBa8vj4WBQFTTp0FRhaayklGZ6UGmM8OT5Zn6y3TkFjy7KcbEyO/jhC5xeLxcPDw/39/f39/cPDw2KxgGMpR5pR0DScTEjtMH7+/DkINcY8e/bMGJNl2dXlFWPs8OMhucl7f/rpFBG3trdwjur1elmWkRnJNN774z+P1yfrZVm2KuoeCOq6Hr8dK6WOpkfd+2u/ruEEd3Fzsbu3i56jSTTsaCxCOzFGvry8DKNRHTjoQTbAw5fOOcYYdlacXw8/HiqloAKS+MnxCWNs/HYMh/Pl5WVEJwz1tHDWZJ3DLGPMGLO0tITN9XJ6yRjbP9hnjCEuY2yyMSGNWGtbAMLAosPvz0spBQytNaoEzMbmBo1esIQB9R8lLrT/WkvfsQAAAABJRU5ErkJggg==\" style=\"width:300px;\"/></td>\n",
       "    </tr>\n",
       "  </tbody>\n",
       "</table>"
      ],
      "text/plain": [
       "        Nuclei_AreaShape_FormFactor  Nuclei_Intensity_MassDisplacement_DNA  \\\n",
       "93222                      0.758155                               0.853840   \n",
       "179009                     0.725754                               1.016294   \n",
       "119166                     0.727870                               0.695138   \n",
       "232985                     0.641028                               1.412864   \n",
       "293186                     0.736369                               0.844214   \n",
       "\n",
       "                Image_FileName_OrigDNA  \n",
       "93222   r01c17f01p01-ch5sk1fk1fl1.tiff  \n",
       "179009  r09c22f01p01-ch5sk1fk1fl1.tiff  \n",
       "119166  r07c13f07p01-ch5sk1fk1fl1.tiff  \n",
       "232985  r01c11f01p01-ch5sk1fk1fl1.tiff  \n",
       "293186  r12c01f07p01-ch5sk1fk1fl1.tiff  "
      ]
     },
     "execution_count": 8,
     "metadata": {},
     "output_type": "execute_result"
    }
   ],
   "source": [
    "irregular_nuclei_outliers_cdf.sample(n=5, random_state=0)"
   ]
  },
  {
   "cell_type": "markdown",
   "id": "6141a7b8",
   "metadata": {
    "papermill": {
     "duration": 0.006799,
     "end_time": "2025-03-03T19:17:40.950536",
     "exception": false,
     "start_time": "2025-03-03T19:17:40.943737",
     "status": "completed"
    },
    "tags": []
   },
   "source": [
    "### Generate a new dataframe to save the original indices for filtering prior to further preprocessing"
   ]
  },
  {
   "cell_type": "code",
   "execution_count": 9,
   "id": "5f2e8933",
   "metadata": {
    "execution": {
     "iopub.execute_input": "2025-03-03T19:17:40.965091Z",
     "iopub.status.busy": "2025-03-03T19:17:40.964930Z",
     "iopub.status.idle": "2025-03-03T19:17:41.005674Z",
     "shell.execute_reply": "2025-03-03T19:17:41.005061Z"
    },
    "papermill": {
     "duration": 0.048787,
     "end_time": "2025-03-03T19:17:41.006936",
     "exception": false,
     "start_time": "2025-03-03T19:17:40.958149",
     "status": "completed"
    },
    "tags": []
   },
   "outputs": [
    {
     "name": "stdout",
     "output_type": "stream",
     "text": [
      "(3801, 18)\n"
     ]
    },
    {
     "data": {
      "text/html": [
       "<div>\n",
       "<style scoped>\n",
       "    .dataframe tbody tr th:only-of-type {\n",
       "        vertical-align: middle;\n",
       "    }\n",
       "\n",
       "    .dataframe tbody tr th {\n",
       "        vertical-align: top;\n",
       "    }\n",
       "\n",
       "    .dataframe thead th {\n",
       "        text-align: right;\n",
       "    }\n",
       "</style>\n",
       "<table border=\"1\" class=\"dataframe\">\n",
       "  <thead>\n",
       "    <tr style=\"text-align: right;\">\n",
       "      <th></th>\n",
       "      <th>Image_TableNumber</th>\n",
       "      <th>Metadata_ImageNumber</th>\n",
       "      <th>Image_Metadata_Site</th>\n",
       "      <th>Metadata_ObjectNumber</th>\n",
       "      <th>Metadata_Plate</th>\n",
       "      <th>Metadata_Well</th>\n",
       "      <th>Image_Metadata_Col</th>\n",
       "      <th>Image_Metadata_Row</th>\n",
       "      <th>Image_FileName_CellOutlines</th>\n",
       "      <th>Image_FileName_NucleiOutlines</th>\n",
       "      <th>Image_FileName_OrigDNA</th>\n",
       "      <th>Image_FileName_OrigRNA</th>\n",
       "      <th>Nuclei_AreaShape_BoundingBoxMaximum_X</th>\n",
       "      <th>Nuclei_AreaShape_BoundingBoxMaximum_Y</th>\n",
       "      <th>Nuclei_AreaShape_BoundingBoxMinimum_X</th>\n",
       "      <th>Nuclei_AreaShape_BoundingBoxMinimum_Y</th>\n",
       "      <th>original_index</th>\n",
       "      <th>cqc.formfactor_displacement_outlier.is_outlier</th>\n",
       "    </tr>\n",
       "  </thead>\n",
       "  <tbody>\n",
       "    <tr>\n",
       "      <th>0</th>\n",
       "      <td>69459963208210734185096132903982422119</td>\n",
       "      <td>74</td>\n",
       "      <td>2</td>\n",
       "      <td>1</td>\n",
       "      <td>BR00117006</td>\n",
       "      <td>A09</td>\n",
       "      <td>9</td>\n",
       "      <td>1</td>\n",
       "      <td>A09_s2--cell_outlines.png</td>\n",
       "      <td>A09_s2--nuclei_outlines.png</td>\n",
       "      <td>r01c09f02p01-ch5sk1fk1fl1.tiff</td>\n",
       "      <td>r01c09f02p01-ch3sk1fk1fl1.tiff</td>\n",
       "      <td>596</td>\n",
       "      <td>31</td>\n",
       "      <td>569</td>\n",
       "      <td>5</td>\n",
       "      <td>102</td>\n",
       "      <td>True</td>\n",
       "    </tr>\n",
       "    <tr>\n",
       "      <th>1</th>\n",
       "      <td>272004832586908140273863469260939669360</td>\n",
       "      <td>239</td>\n",
       "      <td>5</td>\n",
       "      <td>3</td>\n",
       "      <td>BR00117006</td>\n",
       "      <td>B03</td>\n",
       "      <td>3</td>\n",
       "      <td>2</td>\n",
       "      <td>B03_s5--cell_outlines.png</td>\n",
       "      <td>B03_s5--nuclei_outlines.png</td>\n",
       "      <td>r02c03f05p01-ch5sk1fk1fl1.tiff</td>\n",
       "      <td>r02c03f05p01-ch3sk1fk1fl1.tiff</td>\n",
       "      <td>473</td>\n",
       "      <td>56</td>\n",
       "      <td>437</td>\n",
       "      <td>29</td>\n",
       "      <td>389</td>\n",
       "      <td>True</td>\n",
       "    </tr>\n",
       "    <tr>\n",
       "      <th>2</th>\n",
       "      <td>106551575141517557626179295758086866364</td>\n",
       "      <td>244</td>\n",
       "      <td>1</td>\n",
       "      <td>3</td>\n",
       "      <td>BR00117006</td>\n",
       "      <td>B04</td>\n",
       "      <td>4</td>\n",
       "      <td>2</td>\n",
       "      <td>B04_s1--cell_outlines.png</td>\n",
       "      <td>B04_s1--nuclei_outlines.png</td>\n",
       "      <td>r02c04f01p01-ch5sk1fk1fl1.tiff</td>\n",
       "      <td>r02c04f01p01-ch3sk1fk1fl1.tiff</td>\n",
       "      <td>1064</td>\n",
       "      <td>40</td>\n",
       "      <td>1035</td>\n",
       "      <td>15</td>\n",
       "      <td>395</td>\n",
       "      <td>True</td>\n",
       "    </tr>\n",
       "    <tr>\n",
       "      <th>3</th>\n",
       "      <td>245747665552168333667480201534104719103</td>\n",
       "      <td>614</td>\n",
       "      <td>2</td>\n",
       "      <td>1</td>\n",
       "      <td>BR00117006</td>\n",
       "      <td>C21</td>\n",
       "      <td>21</td>\n",
       "      <td>3</td>\n",
       "      <td>C21_s2--cell_outlines.png</td>\n",
       "      <td>C21_s2--nuclei_outlines.png</td>\n",
       "      <td>r03c21f02p01-ch5sk1fk1fl1.tiff</td>\n",
       "      <td>r03c21f02p01-ch3sk1fk1fl1.tiff</td>\n",
       "      <td>192</td>\n",
       "      <td>29</td>\n",
       "      <td>165</td>\n",
       "      <td>2</td>\n",
       "      <td>1184</td>\n",
       "      <td>True</td>\n",
       "    </tr>\n",
       "    <tr>\n",
       "      <th>4</th>\n",
       "      <td>164520559472283748380831895597373580469</td>\n",
       "      <td>88</td>\n",
       "      <td>7</td>\n",
       "      <td>1</td>\n",
       "      <td>BR00117006</td>\n",
       "      <td>A10</td>\n",
       "      <td>10</td>\n",
       "      <td>1</td>\n",
       "      <td>A10_s7--cell_outlines.png</td>\n",
       "      <td>A10_s7--nuclei_outlines.png</td>\n",
       "      <td>r01c10f07p01-ch5sk1fk1fl1.tiff</td>\n",
       "      <td>r01c10f07p01-ch3sk1fk1fl1.tiff</td>\n",
       "      <td>886</td>\n",
       "      <td>46</td>\n",
       "      <td>841</td>\n",
       "      <td>3</td>\n",
       "      <td>1450</td>\n",
       "      <td>True</td>\n",
       "    </tr>\n",
       "  </tbody>\n",
       "</table>\n",
       "</div>"
      ],
      "text/plain": [
       "                         Image_TableNumber  Metadata_ImageNumber  \\\n",
       "0   69459963208210734185096132903982422119                    74   \n",
       "1  272004832586908140273863469260939669360                   239   \n",
       "2  106551575141517557626179295758086866364                   244   \n",
       "3  245747665552168333667480201534104719103                   614   \n",
       "4  164520559472283748380831895597373580469                    88   \n",
       "\n",
       "   Image_Metadata_Site  Metadata_ObjectNumber Metadata_Plate Metadata_Well  \\\n",
       "0                    2                      1     BR00117006           A09   \n",
       "1                    5                      3     BR00117006           B03   \n",
       "2                    1                      3     BR00117006           B04   \n",
       "3                    2                      1     BR00117006           C21   \n",
       "4                    7                      1     BR00117006           A10   \n",
       "\n",
       "   Image_Metadata_Col  Image_Metadata_Row Image_FileName_CellOutlines  \\\n",
       "0                   9                   1   A09_s2--cell_outlines.png   \n",
       "1                   3                   2   B03_s5--cell_outlines.png   \n",
       "2                   4                   2   B04_s1--cell_outlines.png   \n",
       "3                  21                   3   C21_s2--cell_outlines.png   \n",
       "4                  10                   1   A10_s7--cell_outlines.png   \n",
       "\n",
       "  Image_FileName_NucleiOutlines          Image_FileName_OrigDNA  \\\n",
       "0   A09_s2--nuclei_outlines.png  r01c09f02p01-ch5sk1fk1fl1.tiff   \n",
       "1   B03_s5--nuclei_outlines.png  r02c03f05p01-ch5sk1fk1fl1.tiff   \n",
       "2   B04_s1--nuclei_outlines.png  r02c04f01p01-ch5sk1fk1fl1.tiff   \n",
       "3   C21_s2--nuclei_outlines.png  r03c21f02p01-ch5sk1fk1fl1.tiff   \n",
       "4   A10_s7--nuclei_outlines.png  r01c10f07p01-ch5sk1fk1fl1.tiff   \n",
       "\n",
       "           Image_FileName_OrigRNA  Nuclei_AreaShape_BoundingBoxMaximum_X  \\\n",
       "0  r01c09f02p01-ch3sk1fk1fl1.tiff                                    596   \n",
       "1  r02c03f05p01-ch3sk1fk1fl1.tiff                                    473   \n",
       "2  r02c04f01p01-ch3sk1fk1fl1.tiff                                   1064   \n",
       "3  r03c21f02p01-ch3sk1fk1fl1.tiff                                    192   \n",
       "4  r01c10f07p01-ch3sk1fk1fl1.tiff                                    886   \n",
       "\n",
       "   Nuclei_AreaShape_BoundingBoxMaximum_Y  \\\n",
       "0                                     31   \n",
       "1                                     56   \n",
       "2                                     40   \n",
       "3                                     29   \n",
       "4                                     46   \n",
       "\n",
       "   Nuclei_AreaShape_BoundingBoxMinimum_X  \\\n",
       "0                                    569   \n",
       "1                                    437   \n",
       "2                                   1035   \n",
       "3                                    165   \n",
       "4                                    841   \n",
       "\n",
       "   Nuclei_AreaShape_BoundingBoxMinimum_Y  original_index  \\\n",
       "0                                      5             102   \n",
       "1                                     29             389   \n",
       "2                                     15             395   \n",
       "3                                      2            1184   \n",
       "4                                      3            1450   \n",
       "\n",
       "   cqc.formfactor_displacement_outlier.is_outlier  \n",
       "0                                            True  \n",
       "1                                            True  \n",
       "2                                            True  \n",
       "3                                            True  \n",
       "4                                            True  "
      ]
     },
     "execution_count": 9,
     "metadata": {},
     "output_type": "execute_result"
    }
   ],
   "source": [
    "# Create a new dataframe for failed QC indices\n",
    "failed_qc_indices = irregular_nuclei_outliers[metadata_cols].copy()\n",
    "failed_qc_indices[\"original_index\"] = failed_qc_indices.index  # Store original index\n",
    "failed_qc_indices = failed_qc_indices.reset_index(drop=True)  # Reset index\n",
    "failed_qc_indices[\"cqc.formfactor_displacement_outlier.is_outlier\"] = True\n",
    "\n",
    "print(failed_qc_indices.shape)\n",
    "failed_qc_indices.head()"
   ]
  },
  {
   "cell_type": "markdown",
   "id": "0ce3a7a5",
   "metadata": {
    "papermill": {
     "duration": 0.004928,
     "end_time": "2025-03-03T19:17:41.019764",
     "exception": false,
     "start_time": "2025-03-03T19:17:41.014836",
     "status": "completed"
    },
    "tags": []
   },
   "source": [
    "2. Nuclei segmentations with holes and also irregular shaped\n",
    "\n",
    "We need to include this extra condition as it was discovered that there were more poorly segmented cells not caught, especially those over-segmented nuclei that contained holes, which is not common for a nuclei segmentation.\n",
    "\n",
    "- `Compactness`, which detects irregular nuclei and nuclei containing holes."
   ]
  },
  {
   "cell_type": "markdown",
   "id": "9608be20",
   "metadata": {
    "papermill": {
     "duration": 0.0048,
     "end_time": "2025-03-03T19:17:41.029421",
     "exception": false,
     "start_time": "2025-03-03T19:17:41.024621",
     "status": "completed"
    },
    "tags": []
   },
   "source": [
    "### Detect outliers and show single-cell image crops with CytoDataFrame (cdf)"
   ]
  },
  {
   "cell_type": "code",
   "execution_count": 10,
   "id": "e8156371",
   "metadata": {
    "execution": {
     "iopub.execute_input": "2025-03-03T19:17:41.037504Z",
     "iopub.status.busy": "2025-03-03T19:17:41.037067Z",
     "iopub.status.idle": "2025-03-03T19:17:49.703459Z",
     "shell.execute_reply": "2025-03-03T19:17:49.703109Z"
    },
    "papermill": {
     "duration": 8.671616,
     "end_time": "2025-03-03T19:17:49.704759",
     "exception": false,
     "start_time": "2025-03-03T19:17:41.033143",
     "status": "completed"
    },
    "tags": []
   },
   "outputs": [
    {
     "name": "stdout",
     "output_type": "stream",
     "text": [
      "Number of outliers: 2608 (0.53%)\n",
      "Outliers Range:\n",
      "Nuclei_AreaShape_Compactness Min: 1.4446025015717159\n",
      "Nuclei_AreaShape_Compactness Max: 4.326430992036327\n",
      "(2608, 2)\n"
     ]
    },
    {
     "data": {
      "text/html": [
       "<table border=\"1\" class=\"dataframe\">\n",
       "  <thead>\n",
       "    <tr style=\"text-align: right;\">\n",
       "      <th></th>\n",
       "      <th>Nuclei_AreaShape_Compactness</th>\n",
       "      <th>Image_FileName_OrigDNA</th>\n",
       "    </tr>\n",
       "  </thead>\n",
       "  <tbody>\n",
       "    <tr>\n",
       "      <th>241712</th>\n",
       "      <td>1.444603</td>\n",
       "      <td><img src=\"data:image/png;base64,iVBORw0KGgoAAAANSUhEUgAAAB0AAAAXCAIAAAB4atM+AAADiElEQVR4nG1Vy24URxS99ezxqGVZ44W/wsLBHodBGBsJe4yzJgsikQVZ4Ue+JEgxYREkCP8QhCVjBMjKjOIQCTbhT6a7ul5ZnPGlhX0XpVY9Tt176tzTYnFx0RijlFJKCSFSSiGEpmlSSlprY4y1dvTXiC6LG2s3vPd1Xdd1PZlMvPe8pK211trxaHzpScTWcEsphe+UUs4Z45vTN0Q0uD5AZs45733TNFPc8Wg83B5qrVNKOInlnHNRFNZaUxi+A6DYOdwe5pyPR8dEtNJfkVJiT9M0gjLd2bljrZVSxhhzzjjpvU8pWWuLomjnLqUErhAi5xxjxOaT1yf91X5VVVVVEZEmok6nw2XmnIlICKGUAq4xBlULITDP23LOIYQYo5Ty9ubtk7OT/mo/peSc00RkjMGLoRAppZQScCAOSQkhtNZaa2xGZVLKEIIQgogAfXX5aoxR41osYJRSKqWklACSUnrvcRjyAO5XRXDFRVE0TSOJqK0PIQTyVUohWczgpDkPpRRyt9Z2Oh2IqiiKne92xqOxMUYTkXPOGMO44A7oXDLQ2yOYYXK893hGItJay9VvV49eHVVVFULAAiKEwMzgPL8+LubnRQVc5bRo59zg+uDlny/runbOhRAgXgQnzrLFrSxhEMV3CyGG28Ozv8805HZtcO1ofMStBSxUyrlw1+AOwH3VgbiYiPRkMsHa8sqyMeZ4fExE6xvrkEFKqSxLa63Wmtnn1MA1Q4M9EKi994AOIWitl75ZklK+//c9bAUKVUpZayFY1iUkwe/84o8Xd7+/G0J49/YdEYmFhQW0BkZoSEqptf708dP6xnpZlnNzc2VZgmV+cbjdo18eXWpVU6fwrajrmm3JOQcbRF+wswghHh8+boPe//E+PjZubRCR6PV6nCwW+KPT6Xz+7/PazbXZ2dn5+fmyLIkI3vT096fYc/DzASzbOdc0TV3XVVV57/XFErj9jDFXlq6cfjzd3NqEbYLQJ789IaK9/T2ttVDT1udspiy14dprmIFJxhhhEcYYgO7u7ZKYEsJSAUt4Vd3GugiN4HY4/PWQiPYP9rP4IgzAwfbyeXzxnfYIYbRxU0rPnz0nooe7D1E4JEzn/seKBlei1+vxecbqdrvIvdvtzszMfPjnA+Yf/PQAQjTGQNp8Fh0Bxuq61sYYzvHi07Vd5t4P96KNoBIlYzWEgF8Ru1WM8X8IxbU70O4U4QAAAABJRU5ErkJggg==\" style=\"width:300px;\"/></td>\n",
       "    </tr>\n",
       "    <tr>\n",
       "      <th>315355</th>\n",
       "      <td>1.444606</td>\n",
       "      <td><img src=\"data:image/png;base64,iVBORw0KGgoAAAANSUhEUgAAABAAAAAPCAIAAABiEdh4AAABpUlEQVR4nG2Rz04bMRDGP3udeLNbJa9BkpJUomdSKirRA2hzoCdKX6+hCVLDgUjl0HBq/qioPMxq1+vxcJiwqmjnMLLG32/s+UaBMXwzbDQaaZq2221r7fTbFP/E4eiwKIr1am0AhBCYWfILdTbOiOhmfnO/vJeKAr9sdvnlMoTgvSciyc65xe3i/8DF5wtrLTN77wVzzpVlmed5nuerXysDYDAcWGvTNO10OvyKmVkpFUVRFEVaa4EBMDMADeDxz6NSSiklVSJiZq21UkoyERFRCGEHAFiv1lEUKaVkermWg/e+qioi2m623V5X7w/2D94eALj7cScfqEVVVTnniqIQQN7XxhhjzNH7IwDXs2vpWqvLsnTOiVeyAG2MsdZaa7NxBuBqcjX5OqmZqqr8c+yAZrNprY3j2Bhz/ulcRppNZyISgIgefj/sdfe89zpJkiRJBAghZOPs9OwUwPz7XJjaHznoVqsVx7F+Dpnh5OMJgMXtQgzdbra9fk/G0OKmOPD3No4/HANY/lyKTtp773Xt4G4vWtfM6N0IwGa96b/uC+CcewLoUmoOjPg2GQAAAABJRU5ErkJggg==\" style=\"width:300px;\"/></td>\n",
       "    </tr>\n",
       "  </tbody>\n",
       "</table>"
      ],
      "text/plain": [
       "        Nuclei_AreaShape_Compactness          Image_FileName_OrigDNA\n",
       "241712                      1.444603  r16c19f09p01-ch5sk1fk1fl1.tiff\n",
       "315355                      1.444606  r03c12f01p01-ch5sk1fk1fl1.tiff"
      ]
     },
     "execution_count": 10,
     "metadata": {},
     "output_type": "execute_result"
    }
   ],
   "source": [
    "# find mis-segmented nuclei due using thresholds that maximizes\n",
    "# removing most technical outliers and minimizes good cells\n",
    "feature_thresholds = {\n",
    "    \"Nuclei_AreaShape_Compactness\": 4.05,\n",
    "}\n",
    "\n",
    "misshapen_nuclei_outliers = cosmicqc.find_outliers(\n",
    "    df=df_merged_single_cells,\n",
    "    metadata_columns=metadata_cols,\n",
    "    feature_thresholds=feature_thresholds,\n",
    ")\n",
    "\n",
    "misshapen_nuclei_outliers_cdf = CytoDataFrame(\n",
    "    data=pd.DataFrame(misshapen_nuclei_outliers),\n",
    "    data_context_dir=f\"/media/jenna/8TB-C/work/JUMP-download-images/JUMP-single-cell/0.download_data/data/images/{plate_id}/orig\",\n",
    "    data_outline_context_dir=f\"/media/jenna/8TB-C/work/JUMP-download-images/JUMP-single-cell/0.download_data/data/images/{plate_id}/outlines\",\n",
    "    segmentation_file_regex=outline_to_orig_mapping,\n",
    ")[\n",
    "    [\n",
    "        \"Nuclei_AreaShape_Compactness\",\n",
    "        \"Image_FileName_OrigDNA\",\n",
    "    ]\n",
    "]\n",
    "\n",
    "\n",
    "print(misshapen_nuclei_outliers_cdf.shape)\n",
    "misshapen_nuclei_outliers_cdf.sort_values(\n",
    "    by=\"Nuclei_AreaShape_Compactness\", ascending=True\n",
    ").head(2)"
   ]
  },
  {
   "cell_type": "markdown",
   "id": "b8e261be",
   "metadata": {
    "papermill": {
     "duration": 0.00663,
     "end_time": "2025-03-03T19:17:49.718329",
     "exception": false,
     "start_time": "2025-03-03T19:17:49.711699",
     "status": "completed"
    },
    "tags": []
   },
   "source": [
    "### Randomly sample outlier rows to visually inspect if the threshold looks to be optimized"
   ]
  },
  {
   "cell_type": "code",
   "execution_count": 11,
   "id": "12eb354c",
   "metadata": {
    "execution": {
     "iopub.execute_input": "2025-03-03T19:17:49.733630Z",
     "iopub.status.busy": "2025-03-03T19:17:49.733422Z",
     "iopub.status.idle": "2025-03-03T19:17:49.742654Z",
     "shell.execute_reply": "2025-03-03T19:17:49.742188Z"
    },
    "papermill": {
     "duration": 0.018142,
     "end_time": "2025-03-03T19:17:49.743757",
     "exception": false,
     "start_time": "2025-03-03T19:17:49.725615",
     "status": "completed"
    },
    "tags": []
   },
   "outputs": [
    {
     "data": {
      "text/html": [
       "<table border=\"1\" class=\"dataframe\">\n",
       "  <thead>\n",
       "    <tr style=\"text-align: right;\">\n",
       "      <th></th>\n",
       "      <th>Nuclei_AreaShape_Compactness</th>\n",
       "      <th>Image_FileName_OrigDNA</th>\n",
       "    </tr>\n",
       "  </thead>\n",
       "  <tbody>\n",
       "    <tr>\n",
       "      <th>409567</th>\n",
       "      <td>1.477600</td>\n",
       "      <td><img src=\"data:image/png;base64,iVBORw0KGgoAAAANSUhEUgAAACIAAAAaCAIAAABdDBlVAAAErklEQVR4nJ1WyW5URxS9Nb6h1TT2gg0bIqJne2VkhrbxgOQpElmQBdmQzwu7sApCGGF7YRvbCIKMcISM8gMgGRC4h6p6VZXFMUXHOFnkLp761au65w7nnmpWVZWUUgihteacc86f7j6lL9aebPd6vU6n0+/3u90uESml8EkppZQSQtCACSGstc455xwR4UlEsigKrbVSinO+tblFRMs/LGutGWMhhAe7D4ho4vLEoHetNSJjjCEy732MkYgYY1pray3AEhJrt9ta682NTSJaWFxQSjUaDaVUjDHtu//7fSIaHRtNSbz44wX909qTbSDFGK21xhjnHGrgnJPAWFpe4pxzzbXWeZ5LKWOMKEie57d+unV4eLj1eis5XVpeYowREeecMeacW91dJaLpmekQgvdeCBFCSEVmFI/PcM611lrroiiQDfYRkTHm8PCw0+lorZvNptaaiEIIMUYcdM6hSmura0R09dpVJPQ1GxRUCCGEkFJKKZF4CCGEkOCbzaaUMs/zRqMhhEB9YDFG7721ttfrLSwurK2uIUWki2wktgJJSolvzrm6rr33Ukqwo9FoZFkmpQQhU7mAUdc1Y6yua2vt3I25jd2NicsT2AakYxjOeaKm995775zD+Rgj4JVS6Jn3nn8xcAzGOVdKodTASD6/xpUwkAdeEaC1FnhoL4Ko6zo1D8UA1xuNxuLS4vNnz5FHnudaa3mixAkP4aevaUQ454g9LabfeLXWaq2nrk/t7O+MXxpH6Hxmdmbl4QowYMmvlDLLsqIo8jwviiLLsizLwPiyLLMsQ2UGUVM0ZVnOzs2+3HuZZZlSil25cqUoCoznzR9vokl4Ytph0JXkCGSr69oY0+12rbVYB9FB7hijMebRyqNr7WtsbGwMYQohtp9sp+lDKhhVbADlOOdQGnj59OnT+/fvnXNlWeZ5rpTy3htj0La6ro+OjlYerkjEYowRQoxfGkekj589Bt78wrxSqizLZrMJ9YPcpV4aY7z3RVHgK45DD8E9zLKE7qI+RIRnNVIh6vVX60Q0dX3q8+fPw8PDZ8+ehSNUpt/vxxhbrVZZlhAO6AI2gLQI95hp1trE4DRTRHThuwtCiJ2/doho7sZcCGFoaIi+6KNzDgTJsgxdgXCEEED3uq7h8KsKpLsBAOnVOXfx+4tKqY3XG7Nzs977VquFpNGzJFHwCNaFEIwxxhgsHsvl4HVC3xjmcXRsdHNj8+3bt+/evet0OtgspUyiMqg9KGkaD57KdSpASsh73+/3q5Fq+8n2hw8fPn78iEiToTEoVLfb7fV6kMTjlg+6U0qdKN0gEshajVQ7BzuTU5Pwizsw8QKpICxkiYRkcjHYj8HFwRUcq0aq3YNdIppfmB8aGmq1WmB5Ej0igqomWZGnOkVaWIT3FIdSylpbjVRSyvU/12dmZ5xzZ86cwQZIHC66QemSJ5wOIv1b9fADLo6OjsBjjFRd1ykPCAHuAokp/R/GGKtGqr2DvcHFO7/cAaEBlq4Ydv78+RNhnprECSuKAh1+c/Dm1A23f75977d7+D09M83OnTv3bf//AwMAGJf9V/sTlyfwT2F4eFgpdffXu98emZya/BsjZUxspg1DcAAAAABJRU5ErkJggg==\" style=\"width:300px;\"/></td>\n",
       "    </tr>\n",
       "    <tr>\n",
       "      <th>471000</th>\n",
       "      <td>1.455228</td>\n",
       "      <td><img src=\"data:image/png;base64,iVBORw0KGgoAAAANSUhEUgAAABwAAAAiCAIAAADDHy4eAAAFdUlEQVR4nF1WS1MVRxj9erp7XvfOTdzwd4ygYAEXNAryMEZjFsaYBf4Ft3ETfARKI2ARsIyRW2qAWMnvcQly59WP6SwOdN3Qi6npnu7TX5/vfKeHkSMimpqeqqoqz/M8z4uiICIiklKmaZqmaZIkcRxHUfRq+9Xc/FxVVf1+/9OnT3mea6211kSEJ5q4++Nda+1Kb4WIxifGhRBSyqIopJQAiqJob3cPs29/f/v51nMimuxOZlmmlNJaSyk9HKBFp9Nxzi3dX8rzfPXDKhGd/eos51yetP29/ZnZGcQrEnHvp3uPlh9FURTHcavVAtBgmETEHjx4QETGmDzPj46OPn/+vPX71vDIMOf8498fiWhhcSGOY0TNOXfOFUXx9MnTC6MXDg4OyrJUSjHGEDWakFI654gojmOlVJqmM7Mzr/95TURXZ6622+30yzRJkiiKhBDOOWOMUoqIOOcYNMYYY6SUWus8z4lIcM6bppFSNk0jhOCch2GIU7RarSzLzpw5k6YppmmtnXOMscXri5u7m+eGz0VR1DQNwjLGpGl6cHAgOOecc2ttcNI45wDNsqzT6WRZlqYpY8xaW1WVMYYxxhjrTnXf/ftufGI8CALMb5omTdM4jgX6zrnmpG2sbxDRnR/utL5otVotKSXnHEBRFNV1jTiCIJjsTr7/8N7n59rcNWMM51wAyBgDjldXVono1ne3ZFvGcRyGIZJDRIyxIAhAEZQXBMH8wjwSyBh7tv2MiGavzQrQpLUuy3L5l2UgIteQFOJyzllrm6YhIlAE9CRJwDhjbOn+kjFm+dWyUEpZa4uiePjzQyK68e0NGcs0TTudTrvdTpIEC7A3sgTqhRBEFIZhFEUYYYxhUJRlaYwpyxK8BEGQJAnyg+pE3oGISKGnIAjQ9Z/8iEBCHz96TETXv7meZEmWZe12u9VqRVEUhiFjrGkaa60xBiQYY7C4aZqyLAGHTD55/OQ40pVfV4AopQRHUDu07U/AGAOQtVZrjafWen1tfVAAWmsBxLn5OcssKjoMQyQBbAIRDRVljEG8SqneTm9icgIMENGhO9RaC+8u0LBf7Of55gehQmttb6c3cn6kb/peG9hSENH0pWnVKCFEM9CstdZaXxfo+p180qqq8ljeWAMi6u30wD1OpLU2J82/YyfnHEQKWkDxIOJxAkbHRkfHRnf/2sU88OWz4buAgxKRQ1iEL3zfpJSB1vpYXEJIKYUQEAdoAi6OjBhxxyRJAjMDqHNu0P8F/ImIoijyvglcBI79fGlKKa21mOl3ov/fUQHKAyuxGMf0JuJV6WdiMkD9COI9/uotFqNIMVCwB1KBLiaDLsB5OwabWmvGWICcdKe662vrSKJSSilV17VSypcmRrzz4+ALiwu4x4DonwICBHd1XQshiqJI03RQtl6qpwoMRXxKAM45Udc1woaSoUGkwssADHiL8gxgD8YYGMAPAxEJmALnfOzi2Obe5vzCvFKqLMuqqgCNBV6zAPVW0p3qHtIh9O8rXmit67pGf3RsdGt/i4jm5ufquvbyRGiwcwx6xvx1MPhLIXCJ47O1dnhkWAixvb995eoVOLG3VITj9YuFvqA9p1rrAOkuiqIsy36/n+d5WZbnL5x/88eboijyPK+qCkqAzkCCtfbFby+mL02DlkHEY/H74P0yrfXYxbHtre26rgcR/VcwBpGdcpNjl0KwAB10pu5Ud2N9o65r78qYU9f12ou1ye5kXdf9fr8oCq11URR4ISI2NDTkvSAMQ/gFrgC4QW+nd/PWTZSWtfblxksimpqeKori6Oio3+/7U/pI2dDQ0GBJhGEIE5JShmGYJEmSJG//fOtPd/nry/hJKMvy8PDw1E8vnv8BTb0Dt0p/FL8AAAAASUVORK5CYII=\" style=\"width:300px;\"/></td>\n",
       "    </tr>\n",
       "    <tr>\n",
       "      <th>46627</th>\n",
       "      <td>1.826400</td>\n",
       "      <td><img src=\"data:image/png;base64,iVBORw0KGgoAAAANSUhEUgAAABMAAAAhCAIAAAC0gAc9AAADDElEQVR4nI1VTU9TQRQ9M2/62r7yW0gwwVrABCkJJrgAEReYYEKCC2rApE0FhWD4jICshIVIZCciEVjRRITIQr4S5c80wPsaF7e9DAUTz6KZubnn3nPP3JeKZDKptdZanxyf4CbU3KrRWl+PK6UUAK11qi6ltT48OASQvJPk7OPfxzdWVJFIhHoC2P+5D6DhboNWmsoBoIp8BXB0eARA2bZNzJ3vOwDSzekwEnIeF+VfIUSpJzFZQyQSoYPJCcOQgnRoSjft/tiVdhlt7W0ACtsF+yqiV2HbNlVX0Wg0DEOt9dqXNQCdjzt1Sf6lkArNW5tbAJSUUgjBeZZlmdk0FQs255RCCCmlZVndT7sBrH5eNaVGDCilbNte/7oOoOtJl+jp6aEyyx+XAfQ+6wVAKkx7Tf0rn1YAyEQZAy8GACx9WHIcJx6Px2KxWCwWj8cdx0kkElVVVYlEwnEcovVl+lQ0GqWeszOzALK5rLY0DUxxKSWPOv9uvpQT04otKc0tJVlNZ6KxT5Rj27YQQtIAQRBkc1nqLMqgPDqQkYNDgwCmp6allCKfz1MxUpt/mWczyHPmE8IwnJqcAqA4ys9oNmEaPy9rlpZl0TLwJggDlGfOyUxFSxgEQemuFDdnV6k/FWIhiupNTkwCGH0zirLTrLli6RjK8zyOBkHAb1jB5ODw62EAY+NjIpfL0Ugzb2fIW8qggUkbrbtSiq4jwyMAlOu6ppKLiwv+BkznKrQAUOTNwvsFAJnnGR8+e8DGsnLzoy2515fpYz5zeA1paYMg8H1/YnwCwNCrIRWGoRBicWGRehJBCBEEAb0BGUtMluN5nvQ8z3Vdvvu+7/u+53l89n3fdV26uq7bP9APYG52Tp2dnfHQ5+fn4h+gzqaXqlgsbm5sAmh/2F6URX4JyjPNRPlbLbkNDQAt91vYQAbRTKYQYuPbBoCORx0CGo33Gs0HuF6CI4XtAoDWB61CiFLPVF3qOrOCv7e7ByDdnC4nXf2Dq71dayrk88GvAwD1DfWX5aqrq82k0z+n+D/8Ba4W1J/7uQbYAAAAAElFTkSuQmCC\" style=\"width:300px;\"/></td>\n",
       "    </tr>\n",
       "    <tr>\n",
       "      <th>296020</th>\n",
       "      <td>1.478600</td>\n",
       "      <td><img src=\"data:image/png;base64,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\" style=\"width:300px;\"/></td>\n",
       "    </tr>\n",
       "    <tr>\n",
       "      <th>186330</th>\n",
       "      <td>1.460929</td>\n",
       "      <td><img src=\"data:image/png;base64,iVBORw0KGgoAAAANSUhEUgAAABwAAAAlCAIAAADeGh6mAAAFg0lEQVR4nG1W224URxCt7unuuezM7lriQ3jzBcfg2zr4wj0vROQBIpFPCnkIUngIQQKbYBNb2Gtb7Ar+BizYy8x09+Th2OWRoR5WuzM7Z06dOlXV4vLly2EYBkGgtT4+OqbvxbX5a9basiyLovjy5Qu+lGVJRPVPDqW1DoLAGHN0eLS6thoEQRAEUkrvfVVV+Nw+3CaiuatzQggiGo/HWmtAf4tIRGJqaioMw+Oj4/WNdaUUEIUQjEhE1lrn3M72DhFNz0x77621RVGMRqOyLAeDQVmWdWgxOzvbe99bW18zxjBN3GNQ771zDk/u7e6BtXPOWjscDk9OTobDYV0HBQittVJKCCGlZNzqLICrlNJab9zY8N7vHO8Q0fzCvNbaGHNycvL58+eyLCGLoIpW11aTJNFaCyFYgaqqoCC+gOyFeL31eml5CTp8+vRpMBgMh0MiUkTEBJVSxhillPfee4/r+AMkRsqQ2Fp7+87tzXebS8tL3vssy4qi0FoTkayDRlEUx3EURWAthIDVjDFRFEVRBN1RSSmllPLmrZv77/a11mEYtlqtc1AWjoi4VlDAOee9l1ICF6B4xHsPQmvra4fdQ2OMMabRaGit5ewPszvbO9ZaGCXPc+cclwspQwoUSinFmoAHfiKnOI611so5R0R5nqNECKRTlqW1tm5YiI4qsei4JaXEXWOMtNaiSfI8L8sSJcLz7DNONgiCJEniOEZny7NY31g/2D9gg0vv/eTU5P67/dFoNBqNAF0UhbWWEwQuvKWUiqIoDMMwDFkNFkRKqbWWSGR6Znpvd284HH79+nUwGOR5Dt9UVQV9640rhAjDENAXmvCUKbrFWjs9M7373+5gMICHx+NxWZZ4OejADFA5CAIwxfuAxRaSzjnMMeDu7e6NRqPhcIh2Bi9wRDB9iA6HQXGWXjFn8IUT8IxSCsWpqoonAwKtYYwpioKZAvE0/bIs2SWTU5OH3cOiKJg+i8ul4J4Ow9AYg3csd5b7vf7pkMaIIiIYFpJDu7IsQRCvZJosH7cyX5dSRlF0XjXUkcnWOUJZMAIibxdrLbSCuCAuGZG+F0ARZwG4oijyPB+Px+PxmM2gte6sdPq9vtZa1SGcc2wRzosRUQqwg1ZsBjSFUmphcaH7oavqNIGCn/VCQ0H4lAVhA9XF7R50iUh9i9jv9Zc7yypRda8URcE+5flyaiApMR7f/PuGiDornXNQ8Pr44eP8wryKTq/DuVyfqqrQZvW5h1548c8LIrp1+5YLnWI4IQQQMeq11jxPUU9uG3Yep/j0z6dEdP/n+y50VVUppIysF5cWTWSMMZgUdYK8B/kKF/DJ70+I6OGjh96cSqzgst773sqPKyY5R2Qi9WGKtVpfP388+YOIHv/2mDQRkVIqjmMFxOur18M4xDJAs6MsdYLOubr568qi9FEUpWmaJMnp1MAexUswWerTE+Kypgz97K9nRPTo10fCiCRJms1mo9FoNBqCKrpx80aSJFjCQggcb+BwsIPuF5z0/O/nRPTglwfGmCzLLl26lGVZmqZpmio6W0c8GfkAwp0jpQR37oLNV5tEdO+nez70xph2u52mabPZbDabWZapb1ubOdZxua+I6O3OWyJa31ivwkop1Wq1srNoNpvtdlvR2aBDfS4gFkWBY96F6Kx0vPJCiDiOJyYmQBCgExMTan5hfqu7dffeXW441nT7zTYRzVyZAVmucr/Xd85hlaZp2mg02u12q9VK07TVarXbbTUejxcWF14evCSiO3fveO+3NrcAMXd1Ls/z3OY4MaNHWFZeq2EYQtA0TbMsi+NYFUVRVdXc1Tml1KuDV0S0uLSII+6oGGGn4h04fkopr8xe6fa6q2urbDitdZIkaZrGcRwEwf9afHKV19Nt3QAAAABJRU5ErkJggg==\" style=\"width:300px;\"/></td>\n",
       "    </tr>\n",
       "  </tbody>\n",
       "</table>"
      ],
      "text/plain": [
       "        Nuclei_AreaShape_Compactness          Image_FileName_OrigDNA\n",
       "409567                      1.477600  r08c21f01p01-ch5sk1fk1fl1.tiff\n",
       "471000                      1.455228  r10c03f06p01-ch5sk1fk1fl1.tiff\n",
       "46627                       1.826400  r10c12f04p01-ch5sk1fk1fl1.tiff\n",
       "296020                      1.478600  r12c19f03p01-ch5sk1fk1fl1.tiff\n",
       "186330                      1.460929  r05c02f03p01-ch5sk1fk1fl1.tiff"
      ]
     },
     "execution_count": 11,
     "metadata": {},
     "output_type": "execute_result"
    }
   ],
   "source": [
    "misshapen_nuclei_outliers_cdf.sample(n=5, random_state=0)"
   ]
  },
  {
   "cell_type": "markdown",
   "id": "35d94481",
   "metadata": {
    "papermill": {
     "duration": 0.006339,
     "end_time": "2025-03-03T19:17:49.757722",
     "exception": false,
     "start_time": "2025-03-03T19:17:49.751383",
     "status": "completed"
    },
    "tags": []
   },
   "source": [
    "### Save the original indices for failed single cells to parquet files"
   ]
  },
  {
   "cell_type": "code",
   "execution_count": 12,
   "id": "d1354350",
   "metadata": {
    "execution": {
     "iopub.execute_input": "2025-03-03T19:17:49.773052Z",
     "iopub.status.busy": "2025-03-03T19:17:49.772863Z",
     "iopub.status.idle": "2025-03-03T19:17:49.851700Z",
     "shell.execute_reply": "2025-03-03T19:17:49.851341Z"
    },
    "papermill": {
     "duration": 0.088303,
     "end_time": "2025-03-03T19:17:49.853549",
     "exception": false,
     "start_time": "2025-03-03T19:17:49.765246",
     "status": "completed"
    },
    "tags": []
   },
   "outputs": [
    {
     "name": "stdout",
     "output_type": "stream",
     "text": [
      "Failed QC indices shape: (5423, 19)\n",
      "Percentage of single cells removed: 1.10%\n"
     ]
    },
    {
     "name": "stderr",
     "output_type": "stream",
     "text": [
      "/tmp/ipykernel_49840/1514537371.py:18: FutureWarning: Downcasting object dtype arrays on .fillna, .ffill, .bfill is deprecated and will change in a future version. Call result.infer_objects(copy=False) instead. To opt-in to the future behavior, set `pd.set_option('future.no_silent_downcasting', True)`\n",
      "  ] = failed_qc_indices[\n"
     ]
    },
    {
     "data": {
      "text/html": [
       "<div>\n",
       "<style scoped>\n",
       "    .dataframe tbody tr th:only-of-type {\n",
       "        vertical-align: middle;\n",
       "    }\n",
       "\n",
       "    .dataframe tbody tr th {\n",
       "        vertical-align: top;\n",
       "    }\n",
       "\n",
       "    .dataframe thead th {\n",
       "        text-align: right;\n",
       "    }\n",
       "</style>\n",
       "<table border=\"1\" class=\"dataframe\">\n",
       "  <thead>\n",
       "    <tr style=\"text-align: right;\">\n",
       "      <th></th>\n",
       "      <th>Image_TableNumber</th>\n",
       "      <th>Metadata_ImageNumber</th>\n",
       "      <th>Image_Metadata_Site</th>\n",
       "      <th>Metadata_ObjectNumber</th>\n",
       "      <th>Metadata_Plate</th>\n",
       "      <th>Metadata_Well</th>\n",
       "      <th>Image_Metadata_Col</th>\n",
       "      <th>Image_Metadata_Row</th>\n",
       "      <th>Image_FileName_CellOutlines</th>\n",
       "      <th>Image_FileName_NucleiOutlines</th>\n",
       "      <th>Image_FileName_OrigDNA</th>\n",
       "      <th>Image_FileName_OrigRNA</th>\n",
       "      <th>Nuclei_AreaShape_BoundingBoxMaximum_X</th>\n",
       "      <th>Nuclei_AreaShape_BoundingBoxMaximum_Y</th>\n",
       "      <th>Nuclei_AreaShape_BoundingBoxMinimum_X</th>\n",
       "      <th>Nuclei_AreaShape_BoundingBoxMinimum_Y</th>\n",
       "      <th>original_index</th>\n",
       "      <th>cqc.formfactor_displacement_outlier.is_outlier</th>\n",
       "      <th>cqc.compactness_outlier.is_outlier</th>\n",
       "    </tr>\n",
       "  </thead>\n",
       "  <tbody>\n",
       "    <tr>\n",
       "      <th>0</th>\n",
       "      <td>69459963208210734185096132903982422119</td>\n",
       "      <td>74</td>\n",
       "      <td>2</td>\n",
       "      <td>1</td>\n",
       "      <td>BR00117006</td>\n",
       "      <td>A09</td>\n",
       "      <td>9</td>\n",
       "      <td>1</td>\n",
       "      <td>A09_s2--cell_outlines.png</td>\n",
       "      <td>A09_s2--nuclei_outlines.png</td>\n",
       "      <td>r01c09f02p01-ch5sk1fk1fl1.tiff</td>\n",
       "      <td>r01c09f02p01-ch3sk1fk1fl1.tiff</td>\n",
       "      <td>596</td>\n",
       "      <td>31</td>\n",
       "      <td>569</td>\n",
       "      <td>5</td>\n",
       "      <td>102</td>\n",
       "      <td>True</td>\n",
       "      <td>False</td>\n",
       "    </tr>\n",
       "    <tr>\n",
       "      <th>1</th>\n",
       "      <td>247634561082235873146216276711644102284</td>\n",
       "      <td>118</td>\n",
       "      <td>1</td>\n",
       "      <td>1</td>\n",
       "      <td>BR00117006</td>\n",
       "      <td>A14</td>\n",
       "      <td>14</td>\n",
       "      <td>1</td>\n",
       "      <td>A14_s1--cell_outlines.png</td>\n",
       "      <td>A14_s1--nuclei_outlines.png</td>\n",
       "      <td>r01c14f01p01-ch5sk1fk1fl1.tiff</td>\n",
       "      <td>r01c14f01p01-ch3sk1fk1fl1.tiff</td>\n",
       "      <td>1065</td>\n",
       "      <td>27</td>\n",
       "      <td>1023</td>\n",
       "      <td>2</td>\n",
       "      <td>169</td>\n",
       "      <td>False</td>\n",
       "      <td>True</td>\n",
       "    </tr>\n",
       "    <tr>\n",
       "      <th>2</th>\n",
       "      <td>15540175052208848045391526125020691728</td>\n",
       "      <td>124</td>\n",
       "      <td>7</td>\n",
       "      <td>2</td>\n",
       "      <td>BR00117006</td>\n",
       "      <td>A14</td>\n",
       "      <td>14</td>\n",
       "      <td>1</td>\n",
       "      <td>A14_s7--cell_outlines.png</td>\n",
       "      <td>A14_s7--nuclei_outlines.png</td>\n",
       "      <td>r01c14f07p01-ch5sk1fk1fl1.tiff</td>\n",
       "      <td>r01c14f07p01-ch3sk1fk1fl1.tiff</td>\n",
       "      <td>139</td>\n",
       "      <td>51</td>\n",
       "      <td>113</td>\n",
       "      <td>5</td>\n",
       "      <td>183</td>\n",
       "      <td>False</td>\n",
       "      <td>True</td>\n",
       "    </tr>\n",
       "    <tr>\n",
       "      <th>3</th>\n",
       "      <td>272004832586908140273863469260939669360</td>\n",
       "      <td>239</td>\n",
       "      <td>5</td>\n",
       "      <td>3</td>\n",
       "      <td>BR00117006</td>\n",
       "      <td>B03</td>\n",
       "      <td>3</td>\n",
       "      <td>2</td>\n",
       "      <td>B03_s5--cell_outlines.png</td>\n",
       "      <td>B03_s5--nuclei_outlines.png</td>\n",
       "      <td>r02c03f05p01-ch5sk1fk1fl1.tiff</td>\n",
       "      <td>r02c03f05p01-ch3sk1fk1fl1.tiff</td>\n",
       "      <td>473</td>\n",
       "      <td>56</td>\n",
       "      <td>437</td>\n",
       "      <td>29</td>\n",
       "      <td>389</td>\n",
       "      <td>True</td>\n",
       "      <td>False</td>\n",
       "    </tr>\n",
       "    <tr>\n",
       "      <th>4</th>\n",
       "      <td>106551575141517557626179295758086866364</td>\n",
       "      <td>244</td>\n",
       "      <td>1</td>\n",
       "      <td>1</td>\n",
       "      <td>BR00117006</td>\n",
       "      <td>B04</td>\n",
       "      <td>4</td>\n",
       "      <td>2</td>\n",
       "      <td>B04_s1--cell_outlines.png</td>\n",
       "      <td>B04_s1--nuclei_outlines.png</td>\n",
       "      <td>r02c04f01p01-ch5sk1fk1fl1.tiff</td>\n",
       "      <td>r02c04f01p01-ch3sk1fk1fl1.tiff</td>\n",
       "      <td>994</td>\n",
       "      <td>46</td>\n",
       "      <td>959</td>\n",
       "      <td>13</td>\n",
       "      <td>393</td>\n",
       "      <td>False</td>\n",
       "      <td>True</td>\n",
       "    </tr>\n",
       "  </tbody>\n",
       "</table>\n",
       "</div>"
      ],
      "text/plain": [
       "                         Image_TableNumber  Metadata_ImageNumber  \\\n",
       "0   69459963208210734185096132903982422119                    74   \n",
       "1  247634561082235873146216276711644102284                   118   \n",
       "2   15540175052208848045391526125020691728                   124   \n",
       "3  272004832586908140273863469260939669360                   239   \n",
       "4  106551575141517557626179295758086866364                   244   \n",
       "\n",
       "   Image_Metadata_Site  Metadata_ObjectNumber Metadata_Plate Metadata_Well  \\\n",
       "0                    2                      1     BR00117006           A09   \n",
       "1                    1                      1     BR00117006           A14   \n",
       "2                    7                      2     BR00117006           A14   \n",
       "3                    5                      3     BR00117006           B03   \n",
       "4                    1                      1     BR00117006           B04   \n",
       "\n",
       "   Image_Metadata_Col  Image_Metadata_Row Image_FileName_CellOutlines  \\\n",
       "0                   9                   1   A09_s2--cell_outlines.png   \n",
       "1                  14                   1   A14_s1--cell_outlines.png   \n",
       "2                  14                   1   A14_s7--cell_outlines.png   \n",
       "3                   3                   2   B03_s5--cell_outlines.png   \n",
       "4                   4                   2   B04_s1--cell_outlines.png   \n",
       "\n",
       "  Image_FileName_NucleiOutlines          Image_FileName_OrigDNA  \\\n",
       "0   A09_s2--nuclei_outlines.png  r01c09f02p01-ch5sk1fk1fl1.tiff   \n",
       "1   A14_s1--nuclei_outlines.png  r01c14f01p01-ch5sk1fk1fl1.tiff   \n",
       "2   A14_s7--nuclei_outlines.png  r01c14f07p01-ch5sk1fk1fl1.tiff   \n",
       "3   B03_s5--nuclei_outlines.png  r02c03f05p01-ch5sk1fk1fl1.tiff   \n",
       "4   B04_s1--nuclei_outlines.png  r02c04f01p01-ch5sk1fk1fl1.tiff   \n",
       "\n",
       "           Image_FileName_OrigRNA  Nuclei_AreaShape_BoundingBoxMaximum_X  \\\n",
       "0  r01c09f02p01-ch3sk1fk1fl1.tiff                                    596   \n",
       "1  r01c14f01p01-ch3sk1fk1fl1.tiff                                   1065   \n",
       "2  r01c14f07p01-ch3sk1fk1fl1.tiff                                    139   \n",
       "3  r02c03f05p01-ch3sk1fk1fl1.tiff                                    473   \n",
       "4  r02c04f01p01-ch3sk1fk1fl1.tiff                                    994   \n",
       "\n",
       "   Nuclei_AreaShape_BoundingBoxMaximum_Y  \\\n",
       "0                                     31   \n",
       "1                                     27   \n",
       "2                                     51   \n",
       "3                                     56   \n",
       "4                                     46   \n",
       "\n",
       "   Nuclei_AreaShape_BoundingBoxMinimum_X  \\\n",
       "0                                    569   \n",
       "1                                   1023   \n",
       "2                                    113   \n",
       "3                                    437   \n",
       "4                                    959   \n",
       "\n",
       "   Nuclei_AreaShape_BoundingBoxMinimum_Y  original_index  \\\n",
       "0                                      5             102   \n",
       "1                                      2             169   \n",
       "2                                      5             183   \n",
       "3                                     29             389   \n",
       "4                                     13             393   \n",
       "\n",
       "   cqc.formfactor_displacement_outlier.is_outlier  \\\n",
       "0                                            True   \n",
       "1                                           False   \n",
       "2                                           False   \n",
       "3                                            True   \n",
       "4                                           False   \n",
       "\n",
       "   cqc.compactness_outlier.is_outlier  \n",
       "0                               False  \n",
       "1                                True  \n",
       "2                                True  \n",
       "3                               False  \n",
       "4                                True  "
      ]
     },
     "execution_count": 12,
     "metadata": {},
     "output_type": "execute_result"
    }
   ],
   "source": [
    "# Create a new dataframe for poor nuclei outliers\n",
    "poor_qc_indices = misshapen_nuclei_outliers[metadata_cols].copy()\n",
    "poor_qc_indices[\"original_index\"] = poor_qc_indices.index  # Store original index\n",
    "poor_qc_indices = poor_qc_indices.reset_index(drop=True)  # Reset index\n",
    "poor_qc_indices[\"cqc.compactness_outlier.is_outlier\"] = True\n",
    "\n",
    "# Merge both outlier dataframes on metadata columns and original_index\n",
    "failed_qc_indices = failed_qc_indices.merge(\n",
    "    poor_qc_indices, on=[*metadata_cols, \"original_index\"], how=\"outer\"\n",
    ")\n",
    "\n",
    "# Fill missing values with False (ensuring only detected outliers are True)\n",
    "failed_qc_indices[\n",
    "    [\n",
    "        \"cqc.formfactor_displacement_outlier.is_outlier\",\n",
    "        \"cqc.compactness_outlier.is_outlier\",\n",
    "    ]\n",
    "] = failed_qc_indices[\n",
    "    [\n",
    "        \"cqc.formfactor_displacement_outlier.is_outlier\",\n",
    "        \"cqc.compactness_outlier.is_outlier\",\n",
    "    ]\n",
    "].fillna(\n",
    "    False\n",
    ")\n",
    "\n",
    "# Calculate percentage removed\n",
    "num_outliers = failed_qc_indices[\"original_index\"].nunique()\n",
    "total_cells = len(df_merged_single_cells)\n",
    "percentage_removed = (num_outliers / total_cells) * 100\n",
    "\n",
    "# Sort by original index to maintain consistent order\n",
    "failed_qc_indices = failed_qc_indices.sort_values(by=\"original_index\").reset_index(\n",
    "    drop=True\n",
    ")\n",
    "\n",
    "# Save the indices for failed single-cells as a parquet file\n",
    "failed_qc_indices.to_parquet(\n",
    "    Path(f\"{qc_results_dir}/{plate_id}_failed_qc_indices.parquet\")\n",
    ")\n",
    "\n",
    "print(f\"Failed QC indices shape: {failed_qc_indices.shape}\")\n",
    "print(f\"Percentage of single cells removed: {percentage_removed:.2f}%\")\n",
    "failed_qc_indices.head()"
   ]
  }
 ],
 "metadata": {
  "kernelspec": {
   "display_name": "jump_sc",
   "language": "python",
   "name": "python3"
  },
  "language_info": {
   "codemirror_mode": {
    "name": "ipython",
    "version": 3
   },
   "file_extension": ".py",
   "mimetype": "text/x-python",
   "name": "python",
   "nbconvert_exporter": "python",
   "pygments_lexer": "ipython3",
   "version": "3.9.21"
  },
  "papermill": {
   "default_parameters": {},
   "duration": 23.729305,
   "end_time": "2025-03-03T19:17:50.274991",
   "environment_variables": {},
   "exception": null,
   "input_path": "single_cell_qc.ipynb",
   "output_path": "single_cell_qc.ipynb",
   "parameters": {
    "plate_id": "BR00116999"
   },
   "start_time": "2025-03-03T19:17:26.545686",
   "version": "2.6.0"
  }
 },
 "nbformat": 4,
 "nbformat_minor": 5
}
