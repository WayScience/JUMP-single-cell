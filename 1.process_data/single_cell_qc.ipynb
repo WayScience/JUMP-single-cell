{
 "cells": [
  {
   "cell_type": "markdown",
   "id": "e3d62700",
   "metadata": {
    "papermill": {
     "duration": 0.007066,
     "end_time": "2025-02-20T21:40:42.042546",
     "exception": false,
     "start_time": "2025-02-20T21:40:42.035480",
     "status": "completed"
    },
    "tags": []
   },
   "source": [
    "## Perform single-cell quality control to remove erroneous, technical outlier segmentations\n",
    "\n",
    "Using coSMicQC, we decided on three morphology features (related to shape and intensity) to maximize removal of poor quality nuclei segmentations that could impact downstream analysis.\n",
    "\n",
    "The original indices are saved as a CSV file to be used for filtering downstream."
   ]
  },
  {
   "cell_type": "markdown",
   "id": "73031c7f",
   "metadata": {
    "papermill": {
     "duration": 0.005361,
     "end_time": "2025-02-20T21:40:42.055394",
     "exception": false,
     "start_time": "2025-02-20T21:40:42.050033",
     "status": "completed"
    },
    "tags": []
   },
   "source": [
    "## Set papermill parameters"
   ]
  },
  {
   "cell_type": "code",
   "execution_count": 1,
   "id": "afb151be",
   "metadata": {
    "execution": {
     "iopub.execute_input": "2025-02-20T21:40:42.067415Z",
     "iopub.status.busy": "2025-02-20T21:40:42.067157Z",
     "iopub.status.idle": "2025-02-20T21:40:42.074282Z",
     "shell.execute_reply": "2025-02-20T21:40:42.073655Z"
    },
    "papermill": {
     "duration": 0.014824,
     "end_time": "2025-02-20T21:40:42.075652",
     "exception": false,
     "start_time": "2025-02-20T21:40:42.060828",
     "status": "completed"
    },
    "tags": [
     "parameters"
    ]
   },
   "outputs": [],
   "source": [
    "# Papermill notebook parameters\n",
    "# (including notebook cell tag).\n",
    "# We set a default here which may be overridden\n",
    "# during Papermill execution.\n",
    "# See here for more information:\n",
    "# https://papermill.readthedocs.io/en/latest/usage-parameterize.html\n",
    "plate_id = \"BR00117010\""
   ]
  },
  {
   "cell_type": "markdown",
   "id": "5391c242",
   "metadata": {
    "papermill": {
     "duration": 0.005392,
     "end_time": "2025-02-20T21:40:42.103164",
     "exception": false,
     "start_time": "2025-02-20T21:40:42.097772",
     "status": "completed"
    },
    "tags": []
   },
   "source": [
    "## Import libraries"
   ]
  },
  {
   "cell_type": "code",
   "execution_count": 2,
   "id": "5fc6958e",
   "metadata": {
    "execution": {
     "iopub.execute_input": "2025-02-20T21:40:42.115661Z",
     "iopub.status.busy": "2025-02-20T21:40:42.115066Z",
     "iopub.status.idle": "2025-02-20T21:40:42.698254Z",
     "shell.execute_reply": "2025-02-20T21:40:42.697745Z"
    },
    "papermill": {
     "duration": 0.59093,
     "end_time": "2025-02-20T21:40:42.699559",
     "exception": false,
     "start_time": "2025-02-20T21:40:42.108629",
     "status": "completed"
    },
    "tags": []
   },
   "outputs": [],
   "source": [
    "from pathlib import Path\n",
    "\n",
    "import cosmicqc\n",
    "import pandas as pd\n",
    "from cytodataframe import CytoDataFrame\n",
    "from pyarrow import parquet"
   ]
  },
  {
   "cell_type": "markdown",
   "id": "040475a7",
   "metadata": {
    "papermill": {
     "duration": 0.004851,
     "end_time": "2025-02-20T21:40:42.709777",
     "exception": false,
     "start_time": "2025-02-20T21:40:42.704926",
     "status": "completed"
    },
    "tags": []
   },
   "source": [
    "## Load in the plate data to process with only relevant metadata columns"
   ]
  },
  {
   "cell_type": "code",
   "execution_count": 3,
   "id": "99da20fd",
   "metadata": {
    "execution": {
     "iopub.execute_input": "2025-02-20T21:40:42.720960Z",
     "iopub.status.busy": "2025-02-20T21:40:42.720592Z",
     "iopub.status.idle": "2025-02-20T21:40:43.139553Z",
     "shell.execute_reply": "2025-02-20T21:40:43.139179Z"
    },
    "papermill": {
     "duration": 0.425571,
     "end_time": "2025-02-20T21:40:43.140487",
     "exception": false,
     "start_time": "2025-02-20T21:40:42.714916",
     "status": "completed"
    },
    "tags": []
   },
   "outputs": [
    {
     "data": {
      "text/plain": [
       "<pyarrow._parquet.FileMetaData object at 0x7c6127afff40>\n",
       "  created_by: parquet-cpp-arrow version 17.0.0\n",
       "  num_columns: 7390\n",
       "  num_rows: 289077\n",
       "  num_row_groups: 32\n",
       "  format_version: 2.6\n",
       "  serialized_size: 35722809"
      ]
     },
     "execution_count": 3,
     "metadata": {},
     "output_type": "execute_result"
    }
   ],
   "source": [
    "# set path to save qc results\n",
    "qc_results_dir = Path(\"./qc_results\")\n",
    "qc_results_dir.mkdir(parents=True, exist_ok=True)\n",
    "\n",
    "# form a path to the parquet file with single-cell profiles\n",
    "merged_single_cells = (\n",
    "    f\"/media/jenna/8TB-C/work/JUMP-single-cell/0.download_data/data/plates/{plate_id}/{plate_id}.parquet\"\n",
    ")\n",
    "\n",
    "# read only the metadata from parquet file\n",
    "parquet.ParquetFile(merged_single_cells).metadata"
   ]
  },
  {
   "cell_type": "code",
   "execution_count": 4,
   "id": "8a1bd162",
   "metadata": {
    "execution": {
     "iopub.execute_input": "2025-02-20T21:40:43.150483Z",
     "iopub.status.busy": "2025-02-20T21:40:43.150198Z",
     "iopub.status.idle": "2025-02-20T21:40:43.813940Z",
     "shell.execute_reply": "2025-02-20T21:40:43.813346Z"
    },
    "papermill": {
     "duration": 0.669833,
     "end_time": "2025-02-20T21:40:43.815021",
     "exception": false,
     "start_time": "2025-02-20T21:40:43.145188",
     "status": "completed"
    },
    "tags": []
   },
   "outputs": [
    {
     "name": "stdout",
     "output_type": "stream",
     "text": [
      "(289077, 18)\n"
     ]
    },
    {
     "data": {
      "text/html": [
       "<div>\n",
       "<style scoped>\n",
       "    .dataframe tbody tr th:only-of-type {\n",
       "        vertical-align: middle;\n",
       "    }\n",
       "\n",
       "    .dataframe tbody tr th {\n",
       "        vertical-align: top;\n",
       "    }\n",
       "\n",
       "    .dataframe thead th {\n",
       "        text-align: right;\n",
       "    }\n",
       "</style>\n",
       "<table border=\"1\" class=\"dataframe\">\n",
       "  <thead>\n",
       "    <tr style=\"text-align: right;\">\n",
       "      <th></th>\n",
       "      <th>Metadata_ImageNumber</th>\n",
       "      <th>Image_Metadata_Site</th>\n",
       "      <th>Metadata_ObjectNumber</th>\n",
       "      <th>Metadata_Plate</th>\n",
       "      <th>Metadata_Well</th>\n",
       "      <th>Image_Metadata_Col</th>\n",
       "      <th>Image_Metadata_Row</th>\n",
       "      <th>Image_FileName_CellOutlines</th>\n",
       "      <th>Image_FileName_NucleiOutlines</th>\n",
       "      <th>Image_FileName_OrigDNA</th>\n",
       "      <th>Image_FileName_OrigRNA</th>\n",
       "      <th>Nuclei_AreaShape_BoundingBoxMaximum_X</th>\n",
       "      <th>Nuclei_AreaShape_BoundingBoxMaximum_Y</th>\n",
       "      <th>Nuclei_AreaShape_BoundingBoxMinimum_X</th>\n",
       "      <th>Nuclei_AreaShape_BoundingBoxMinimum_Y</th>\n",
       "      <th>Nuclei_AreaShape_FormFactor</th>\n",
       "      <th>Nuclei_Intensity_MassDisplacement_DNA</th>\n",
       "      <th>Nuclei_AreaShape_Compactness</th>\n",
       "    </tr>\n",
       "  </thead>\n",
       "  <tbody>\n",
       "    <tr>\n",
       "      <th>0</th>\n",
       "      <td>1</td>\n",
       "      <td>1</td>\n",
       "      <td>2</td>\n",
       "      <td>BR00117010</td>\n",
       "      <td>A01</td>\n",
       "      <td>1</td>\n",
       "      <td>1</td>\n",
       "      <td>A01_s1--cell_outlines.png</td>\n",
       "      <td>A01_s1--nuclei_outlines.png</td>\n",
       "      <td>r01c01f01p01-ch5sk1fk1fl1.tiff</td>\n",
       "      <td>r01c01f01p01-ch3sk1fk1fl1.tiff</td>\n",
       "      <td>241</td>\n",
       "      <td>58</td>\n",
       "      <td>184</td>\n",
       "      <td>26</td>\n",
       "      <td>0.829066</td>\n",
       "      <td>0.079098</td>\n",
       "      <td>1.206177</td>\n",
       "    </tr>\n",
       "    <tr>\n",
       "      <th>1</th>\n",
       "      <td>1</td>\n",
       "      <td>1</td>\n",
       "      <td>3</td>\n",
       "      <td>BR00117010</td>\n",
       "      <td>A01</td>\n",
       "      <td>1</td>\n",
       "      <td>1</td>\n",
       "      <td>A01_s1--cell_outlines.png</td>\n",
       "      <td>A01_s1--nuclei_outlines.png</td>\n",
       "      <td>r01c01f01p01-ch5sk1fk1fl1.tiff</td>\n",
       "      <td>r01c01f01p01-ch3sk1fk1fl1.tiff</td>\n",
       "      <td>377</td>\n",
       "      <td>96</td>\n",
       "      <td>331</td>\n",
       "      <td>52</td>\n",
       "      <td>0.826115</td>\n",
       "      <td>0.261505</td>\n",
       "      <td>1.210486</td>\n",
       "    </tr>\n",
       "    <tr>\n",
       "      <th>2</th>\n",
       "      <td>2</td>\n",
       "      <td>2</td>\n",
       "      <td>1</td>\n",
       "      <td>BR00117010</td>\n",
       "      <td>A01</td>\n",
       "      <td>1</td>\n",
       "      <td>1</td>\n",
       "      <td>A01_s2--cell_outlines.png</td>\n",
       "      <td>A01_s2--nuclei_outlines.png</td>\n",
       "      <td>r01c01f02p01-ch5sk1fk1fl1.tiff</td>\n",
       "      <td>r01c01f02p01-ch3sk1fk1fl1.tiff</td>\n",
       "      <td>1071</td>\n",
       "      <td>48</td>\n",
       "      <td>1030</td>\n",
       "      <td>4</td>\n",
       "      <td>0.712837</td>\n",
       "      <td>0.310597</td>\n",
       "      <td>1.402846</td>\n",
       "    </tr>\n",
       "    <tr>\n",
       "      <th>3</th>\n",
       "      <td>2</td>\n",
       "      <td>2</td>\n",
       "      <td>2</td>\n",
       "      <td>BR00117010</td>\n",
       "      <td>A01</td>\n",
       "      <td>1</td>\n",
       "      <td>1</td>\n",
       "      <td>A01_s2--cell_outlines.png</td>\n",
       "      <td>A01_s2--nuclei_outlines.png</td>\n",
       "      <td>r01c01f02p01-ch5sk1fk1fl1.tiff</td>\n",
       "      <td>r01c01f02p01-ch3sk1fk1fl1.tiff</td>\n",
       "      <td>973</td>\n",
       "      <td>43</td>\n",
       "      <td>937</td>\n",
       "      <td>6</td>\n",
       "      <td>0.884273</td>\n",
       "      <td>0.106305</td>\n",
       "      <td>1.130873</td>\n",
       "    </tr>\n",
       "    <tr>\n",
       "      <th>4</th>\n",
       "      <td>2</td>\n",
       "      <td>2</td>\n",
       "      <td>3</td>\n",
       "      <td>BR00117010</td>\n",
       "      <td>A01</td>\n",
       "      <td>1</td>\n",
       "      <td>1</td>\n",
       "      <td>A01_s2--cell_outlines.png</td>\n",
       "      <td>A01_s2--nuclei_outlines.png</td>\n",
       "      <td>r01c01f02p01-ch5sk1fk1fl1.tiff</td>\n",
       "      <td>r01c01f02p01-ch3sk1fk1fl1.tiff</td>\n",
       "      <td>452</td>\n",
       "      <td>45</td>\n",
       "      <td>410</td>\n",
       "      <td>9</td>\n",
       "      <td>0.890275</td>\n",
       "      <td>0.040183</td>\n",
       "      <td>1.123248</td>\n",
       "    </tr>\n",
       "  </tbody>\n",
       "</table>\n",
       "</div>"
      ],
      "text/plain": [
       "   Metadata_ImageNumber  Image_Metadata_Site  Metadata_ObjectNumber  \\\n",
       "0                     1                    1                      2   \n",
       "1                     1                    1                      3   \n",
       "2                     2                    2                      1   \n",
       "3                     2                    2                      2   \n",
       "4                     2                    2                      3   \n",
       "\n",
       "  Metadata_Plate Metadata_Well  Image_Metadata_Col  Image_Metadata_Row  \\\n",
       "0     BR00117010           A01                   1                   1   \n",
       "1     BR00117010           A01                   1                   1   \n",
       "2     BR00117010           A01                   1                   1   \n",
       "3     BR00117010           A01                   1                   1   \n",
       "4     BR00117010           A01                   1                   1   \n",
       "\n",
       "  Image_FileName_CellOutlines Image_FileName_NucleiOutlines  \\\n",
       "0   A01_s1--cell_outlines.png   A01_s1--nuclei_outlines.png   \n",
       "1   A01_s1--cell_outlines.png   A01_s1--nuclei_outlines.png   \n",
       "2   A01_s2--cell_outlines.png   A01_s2--nuclei_outlines.png   \n",
       "3   A01_s2--cell_outlines.png   A01_s2--nuclei_outlines.png   \n",
       "4   A01_s2--cell_outlines.png   A01_s2--nuclei_outlines.png   \n",
       "\n",
       "           Image_FileName_OrigDNA          Image_FileName_OrigRNA  \\\n",
       "0  r01c01f01p01-ch5sk1fk1fl1.tiff  r01c01f01p01-ch3sk1fk1fl1.tiff   \n",
       "1  r01c01f01p01-ch5sk1fk1fl1.tiff  r01c01f01p01-ch3sk1fk1fl1.tiff   \n",
       "2  r01c01f02p01-ch5sk1fk1fl1.tiff  r01c01f02p01-ch3sk1fk1fl1.tiff   \n",
       "3  r01c01f02p01-ch5sk1fk1fl1.tiff  r01c01f02p01-ch3sk1fk1fl1.tiff   \n",
       "4  r01c01f02p01-ch5sk1fk1fl1.tiff  r01c01f02p01-ch3sk1fk1fl1.tiff   \n",
       "\n",
       "   Nuclei_AreaShape_BoundingBoxMaximum_X  \\\n",
       "0                                    241   \n",
       "1                                    377   \n",
       "2                                   1071   \n",
       "3                                    973   \n",
       "4                                    452   \n",
       "\n",
       "   Nuclei_AreaShape_BoundingBoxMaximum_Y  \\\n",
       "0                                     58   \n",
       "1                                     96   \n",
       "2                                     48   \n",
       "3                                     43   \n",
       "4                                     45   \n",
       "\n",
       "   Nuclei_AreaShape_BoundingBoxMinimum_X  \\\n",
       "0                                    184   \n",
       "1                                    331   \n",
       "2                                   1030   \n",
       "3                                    937   \n",
       "4                                    410   \n",
       "\n",
       "   Nuclei_AreaShape_BoundingBoxMinimum_Y  Nuclei_AreaShape_FormFactor  \\\n",
       "0                                     26                     0.829066   \n",
       "1                                     52                     0.826115   \n",
       "2                                      4                     0.712837   \n",
       "3                                      6                     0.884273   \n",
       "4                                      9                     0.890275   \n",
       "\n",
       "   Nuclei_Intensity_MassDisplacement_DNA  Nuclei_AreaShape_Compactness  \n",
       "0                               0.079098                      1.206177  \n",
       "1                               0.261505                      1.210486  \n",
       "2                               0.310597                      1.402846  \n",
       "3                               0.106305                      1.130873  \n",
       "4                               0.040183                      1.123248  "
      ]
     },
     "execution_count": 4,
     "metadata": {},
     "output_type": "execute_result"
    }
   ],
   "source": [
    "# set a list of metadata columns for use throughout\n",
    "metadata_cols = [\n",
    "    \"Metadata_ImageNumber\",\n",
    "    \"Image_Metadata_Site\",\n",
    "    \"Metadata_ObjectNumber\",\n",
    "    \"Metadata_Plate\",\n",
    "    \"Metadata_Well\",\n",
    "    \"Image_Metadata_Col\",\n",
    "    \"Image_Metadata_Row\",\n",
    "    \"Image_FileName_CellOutlines\",\n",
    "    \"Image_FileName_NucleiOutlines\",\n",
    "    \"Image_FileName_OrigDNA\",\n",
    "    \"Image_FileName_OrigRNA\",\n",
    "    \"Nuclei_AreaShape_BoundingBoxMaximum_X\",\n",
    "    \"Nuclei_AreaShape_BoundingBoxMaximum_Y\",\n",
    "    \"Nuclei_AreaShape_BoundingBoxMinimum_X\",\n",
    "    \"Nuclei_AreaShape_BoundingBoxMinimum_Y\",\n",
    "]\n",
    "\n",
    "# read only metadata columns with feature columns used for outlier detection\n",
    "df_merged_single_cells = pd.read_parquet(\n",
    "    path=merged_single_cells,\n",
    "    columns=[\n",
    "        *metadata_cols,\n",
    "        \"Nuclei_AreaShape_FormFactor\",\n",
    "        \"Nuclei_Intensity_MassDisplacement_DNA\",\n",
    "        \"Nuclei_AreaShape_Compactness\",\n",
    "    ],\n",
    ")\n",
    "print(df_merged_single_cells.shape)\n",
    "df_merged_single_cells.head()"
   ]
  },
  {
   "cell_type": "markdown",
   "id": "3579f0a4",
   "metadata": {
    "papermill": {
     "duration": 0.005496,
     "end_time": "2025-02-20T21:40:43.826314",
     "exception": false,
     "start_time": "2025-02-20T21:40:43.820818",
     "status": "completed"
    },
    "tags": []
   },
   "source": [
    "## Create mapping for the outlines to the images for CytoDataFrame"
   ]
  },
  {
   "cell_type": "code",
   "execution_count": 5,
   "id": "c0b86565",
   "metadata": {
    "execution": {
     "iopub.execute_input": "2025-02-20T21:40:43.847891Z",
     "iopub.status.busy": "2025-02-20T21:40:43.847210Z",
     "iopub.status.idle": "2025-02-20T21:40:44.645421Z",
     "shell.execute_reply": "2025-02-20T21:40:44.645037Z"
    },
    "papermill": {
     "duration": 0.813914,
     "end_time": "2025-02-20T21:40:44.646100",
     "exception": false,
     "start_time": "2025-02-20T21:40:43.832186",
     "status": "completed"
    },
    "tags": []
   },
   "outputs": [
    {
     "data": {
      "text/plain": [
       "('A01_s1--nuclei_outlines\\\\.png', 'r01c01f01p(\\\\d{2})-.*\\\\.tiff')"
      ]
     },
     "execution_count": 5,
     "metadata": {},
     "output_type": "execute_result"
    }
   ],
   "source": [
    "# create an outline and orig mapping dictionary to map original images to outlines\n",
    "# note: we turn off formatting here to avoid the key-value pairing definintion\n",
    "# from being reformatted by black, which is normally preferred.\n",
    "# fmt: off\n",
    "outline_to_orig_mapping = {\n",
    "    rf\"{record['Metadata_Well']}_s{record['Image_Metadata_Site']}--nuclei_outlines\\.png\":\n",
    "    rf\"r{record['Image_Metadata_Row']:02d}c{record['Image_Metadata_Col']:02d}f{record['Image_Metadata_Site']:02d}p(\\d{{2}})-.*\\.tiff\"\n",
    "    for record in df_merged_single_cells[\n",
    "        [\n",
    "            \"Metadata_Well\",\n",
    "            \"Image_Metadata_Row\",\n",
    "            \"Image_Metadata_Col\",\n",
    "            \"Image_Metadata_Site\",\n",
    "        ]\n",
    "    ].to_dict(orient=\"records\")\n",
    "}\n",
    "# fmt: on\n",
    "\n",
    "next(iter(outline_to_orig_mapping.items()))"
   ]
  },
  {
   "cell_type": "markdown",
   "id": "d237fa5d",
   "metadata": {
    "papermill": {
     "duration": 0.002716,
     "end_time": "2025-02-20T21:40:44.651899",
     "exception": false,
     "start_time": "2025-02-20T21:40:44.649183",
     "status": "completed"
    },
    "tags": []
   },
   "source": [
    "## Detect technically mis-segmented nuclei\n",
    "\n",
    "We define technically mis-segmented nuclei as segmentations that include more than one nuclei, under or over-segmentation, or segmentation of background/smudging.\n",
    "\n",
    "We are using the measurements in two different conditions:\n"
   ]
  },
  {
   "cell_type": "markdown",
   "id": "ef111895",
   "metadata": {
    "papermill": {
     "duration": 0.002865,
     "end_time": "2025-02-20T21:40:44.657550",
     "exception": false,
     "start_time": "2025-02-20T21:40:44.654685",
     "status": "completed"
    },
    "tags": []
   },
   "source": [
    "1. Irregular shaped nuclei where the intensity based center is much different than the shape's center\n",
    "\n",
    "This condition looks to detect any technical outliers with irregular shape and very high difference in centeroids, which can be detecting multiple different types of technical outliers.\n",
    "\n",
    "- `FormFactor`, which detects how irregular the shape is. \n",
    "- `MassDisplacement`, which detects how different the segmentation versus intensity based centeroids are (which can reflect multiple nuclei within one segmentation).\n",
    "We understand that interesting phenotypes will occur, so we are going to evaluate if this will identify the mis-segmentationsb"
   ]
  },
  {
   "cell_type": "markdown",
   "id": "e29ba3c9",
   "metadata": {
    "papermill": {
     "duration": 0.002719,
     "end_time": "2025-02-20T21:40:44.663134",
     "exception": false,
     "start_time": "2025-02-20T21:40:44.660415",
     "status": "completed"
    },
    "tags": []
   },
   "source": [
    "### Detect outliers and show single-cell image crops with CytoDataFrame (cdf)"
   ]
  },
  {
   "cell_type": "code",
   "execution_count": 6,
   "id": "44559bab",
   "metadata": {
    "execution": {
     "iopub.execute_input": "2025-02-20T21:40:44.669834Z",
     "iopub.status.busy": "2025-02-20T21:40:44.669540Z",
     "iopub.status.idle": "2025-02-20T21:40:52.510161Z",
     "shell.execute_reply": "2025-02-20T21:40:52.509712Z"
    },
    "papermill": {
     "duration": 7.845253,
     "end_time": "2025-02-20T21:40:52.511147",
     "exception": false,
     "start_time": "2025-02-20T21:40:44.665894",
     "status": "completed"
    },
    "tags": []
   },
   "outputs": [
    {
     "name": "stdout",
     "output_type": "stream",
     "text": [
      "Number of outliers: 1545 (0.53%)\n",
      "Outliers Range:\n",
      "Nuclei_AreaShape_FormFactor Min: 0.186143530668769\n",
      "Nuclei_AreaShape_FormFactor Max: 0.6953710587942782\n",
      "Nuclei_Intensity_MassDisplacement_DNA Min: 0.8742943217349056\n",
      "Nuclei_Intensity_MassDisplacement_DNA Max: 8.587189359459938\n",
      "(1545, 3)\n"
     ]
    },
    {
     "data": {
      "text/html": [
       "<table border=\"1\" class=\"dataframe\">\n",
       "  <thead>\n",
       "    <tr style=\"text-align: right;\">\n",
       "      <th></th>\n",
       "      <th>Nuclei_AreaShape_FormFactor</th>\n",
       "      <th>Nuclei_Intensity_MassDisplacement_DNA</th>\n",
       "      <th>Image_FileName_OrigDNA</th>\n",
       "    </tr>\n",
       "  </thead>\n",
       "  <tbody>\n",
       "    <tr>\n",
       "      <th>91694</th>\n",
       "      <td>0.695371</td>\n",
       "      <td>1.687776</td>\n",
       "      <td><img src=\"data:image/png;base64,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\" style=\"width:300px;\"/></td>\n",
       "    </tr>\n",
       "    <tr>\n",
       "      <th>48588</th>\n",
       "      <td>0.695320</td>\n",
       "      <td>1.017374</td>\n",
       "      <td><img src=\"data:image/png;base64,iVBORw0KGgoAAAANSUhEUgAAAC0AAAAkCAIAAACSdyQFAAAFWUlEQVR4nI1Yy1bjOBAtWZLDhixgT5/mTcIrr/7/zfT09BniDCRAgDP9FyTEkt2L61wKJ2GmFjmyLLuuqm7dkmOazaZ8NO89BnmeY2yM0fMYWGuTpU0fpyLSardEJISQ5/l8Pt/0TllnbhMIjtM0XfVtjHmaPnFlp9sxxgwnQxG5ur4SkRijdsnxJhym2Wxq33RpjHGuQumcg++X5xcuu7q+SpIEyJxziFlZlt//+N5qt2azmQ4J3OPXe6/RVO52d3drU957IFjr2xhjjEFUrLXee+99kiRYEEJ4fX39+dfPvS972vcnkai2WnMP30mSMOzwXRGhkcAlQTjnEIyyLIulraaDXjbyAxtC8K211lqQ7rpzTd/AB8NjyAWgIEIxRhEpiiKEsNYTWb8RB91Yax8fHq87184527CYt0uDexExS8NdIlssFm9vb6Ns9HX/6zyfr916jRzvOAji+elZRHr9nk3fA26tpT8wEQjwMAEhKYvFAtysFct/QvHeVyBAzF6/hzQ557z3DIOIaBwaBN8VQpjNZm9vb7KOBJ8nRUScMcZa+3D/0Ov30jQlS6y1GItIWZaICndPEMaYoihijEjK/eR+78teLnUcJOnavOR57sCJTrfjG1UFsmQwkI+EEJEkSTQUEUFSaoW6KSRrtbXyBDkyyriCCDDJZbhblmVZltByVOzn8RelaXqlQ4HYhgUDNA68FxDlIyFwC0kBCNTt/zGmRsej0s1aPOC4LEu6ZDzKpRVFgUGe5yEELV+yoShkJWtc5kSlfzUp4EFRFOAEg6EtxlgUBfiO+Omwr0WzalXAsTN9o7Zv7ZiXokoJxXXWOvv17y/oLB1TsjeZ9z6hSzoolWGvYGIIIS6NuJEv732j0fDep2kKKN77ra0tjWATlKqr6N0j/uQgc8RQad5wBvHAG/BI+7w9eZkcHB6ISAgBIhlC+OQ09I4DOZZlFegxBaMGUfOaA7D+8ury9uVWRI6Oj3QTRhdcBeRkybtVzaDhLvVDlLpzve69zrk0TQffBnmej55GWHNweFAUhXMOUAgIUEy73Z6MJ/1BX5/58Gpe1uoIXnkM0HoTYwwhsJ4XiwVmQgi3/9yKyPHJMTnHdhhCcBQJbp2HDK0cuqCwkoQgaXDpnOPYWku17Q/6McZsmuElh0eH6GLz+dw5Z05PT51z47txr9/jLnVjY1SAg471AoYQa7g31l0IAbFBMGKMo2yE8GDecaO6WGpsLcuSm9aCRjc10uhLVABJitopimLwbRBCyKbZyelJnucJMLbP29kwgzzjMeyGTNTCtVZYV5VQVxAGEJg0TTnoD/rTx2mapmZ/f59njvHduNPtrPYaTUnumGmq1a1RxyX8Mh3MHbojDy43f98kek/nF+fZMCOfuTOt8Vp28aJNWswFtXmtCzhtiUiCMiNkDUUnQr9L50IvoFcuZh/gq/hsokxEXNV23fsH5vnFeXaXdbod6rQWD0ReNzktIWwOHOswaHrVWkQiIjhA6KiAtpAgTq5NTS0pjEqtL7ICtIgxNiJidnZ29KcUv1mMMfeTexHpdDs1YdU01DM1zSVKig0QGHWoizH++PPHxeWFWz0tQgStta12yxiTjSsF7Pa6ujRWcWghYV3QMRhNfAgJe43Z3t4W9YnLj2x8v9CHtfbu9k6WfzHoqtaOsWlNF/nYB7TwxBiHN8Oz1tlisahwiOrFREMh0b/juzEZ3e11+SWh06E113w8ZZJDw5uhiJy1zvCnzTsOmj7J1dCIaivGGERIZ63m2yw7DkHAvYi02i2E5DMctV9+2AEKkFED4FVj+sQuLi/gHghQVnme/wbCZLDQCfevGAAAAABJRU5ErkJggg==\" style=\"width:300px;\"/></td>\n",
       "    </tr>\n",
       "  </tbody>\n",
       "</table>"
      ],
      "text/plain": [
       "       Nuclei_AreaShape_FormFactor  Nuclei_Intensity_MassDisplacement_DNA  \\\n",
       "91694                     0.695371                               1.687776   \n",
       "48588                     0.695320                               1.017374   \n",
       "\n",
       "               Image_FileName_OrigDNA  \n",
       "91694  r10c17f03p01-ch5sk1fk1fl1.tiff  \n",
       "48588  r15c02f08p01-ch5sk1fk1fl1.tiff  "
      ]
     },
     "execution_count": 6,
     "metadata": {},
     "output_type": "execute_result"
    }
   ],
   "source": [
    "# find irregular shaped nuclei using thresholds that maximizes\n",
    "# removing most technical outliers and minimizes good cells\n",
    "feature_thresholds = {\n",
    "    \"Nuclei_AreaShape_FormFactor\": -2.35,\n",
    "    \"Nuclei_Intensity_MassDisplacement_DNA\": 1.5\n",
    "}\n",
    "\n",
    "irregular_nuclei_outliers = cosmicqc.find_outliers(\n",
    "    df=df_merged_single_cells,\n",
    "    metadata_columns=metadata_cols,\n",
    "    feature_thresholds=feature_thresholds\n",
    ")\n",
    "\n",
    "irregular_nuclei_outliers_cdf = CytoDataFrame(\n",
    "    data=pd.DataFrame(irregular_nuclei_outliers),\n",
    "    data_context_dir=f\"/media/jenna/8TB-C/work/JUMP-download-images/JUMP-single-cell/0.download_data/data/images/{plate_id}/orig\",\n",
    "    data_outline_context_dir=f\"/media/jenna/8TB-C/work/JUMP-download-images/JUMP-single-cell/0.download_data/data/images/{plate_id}/outlines\",\n",
    "    segmentation_file_regex=outline_to_orig_mapping,\n",
    ")[\n",
    "    [\n",
    "        \"Nuclei_AreaShape_FormFactor\",\n",
    "        \"Nuclei_Intensity_MassDisplacement_DNA\",\n",
    "        \"Image_FileName_OrigDNA\",\n",
    "    ]\n",
    "]\n",
    "\n",
    "\n",
    "print(irregular_nuclei_outliers_cdf.shape)\n",
    "irregular_nuclei_outliers_cdf.sort_values(by=\"Nuclei_AreaShape_FormFactor\", ascending=False).head(2)"
   ]
  },
  {
   "cell_type": "markdown",
   "id": "c5ac8357",
   "metadata": {
    "papermill": {
     "duration": 0.005619,
     "end_time": "2025-02-20T21:40:52.522794",
     "exception": false,
     "start_time": "2025-02-20T21:40:52.517175",
     "status": "completed"
    },
    "tags": []
   },
   "source": [
    "### Randomly sample outlier rows to visually inspect if the threshold looks to be optimized"
   ]
  },
  {
   "cell_type": "code",
   "execution_count": 7,
   "id": "d9ecd86e",
   "metadata": {
    "execution": {
     "iopub.execute_input": "2025-02-20T21:40:52.535392Z",
     "iopub.status.busy": "2025-02-20T21:40:52.535189Z",
     "iopub.status.idle": "2025-02-20T21:40:52.544030Z",
     "shell.execute_reply": "2025-02-20T21:40:52.543608Z"
    },
    "papermill": {
     "duration": 0.016598,
     "end_time": "2025-02-20T21:40:52.545014",
     "exception": false,
     "start_time": "2025-02-20T21:40:52.528416",
     "status": "completed"
    },
    "tags": []
   },
   "outputs": [
    {
     "data": {
      "text/html": [
       "<table border=\"1\" class=\"dataframe\">\n",
       "  <thead>\n",
       "    <tr style=\"text-align: right;\">\n",
       "      <th></th>\n",
       "      <th>Nuclei_AreaShape_FormFactor</th>\n",
       "      <th>Nuclei_Intensity_MassDisplacement_DNA</th>\n",
       "      <th>Image_FileName_OrigDNA</th>\n",
       "    </tr>\n",
       "  </thead>\n",
       "  <tbody>\n",
       "    <tr>\n",
       "      <th>128919</th>\n",
       "      <td>0.667177</td>\n",
       "      <td>1.027070</td>\n",
       "      <td><img src=\"data:image/png;base64,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\" style=\"width:300px;\"/></td>\n",
       "    </tr>\n",
       "    <tr>\n",
       "      <th>17915</th>\n",
       "      <td>0.691802</td>\n",
       "      <td>0.909502</td>\n",
       "      <td><img src=\"data:image/png;base64,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\" style=\"width:300px;\"/></td>\n",
       "    </tr>\n",
       "    <tr>\n",
       "      <th>147544</th>\n",
       "      <td>0.684497</td>\n",
       "      <td>1.175926</td>\n",
       "      <td><img src=\"data:image/png;base64,iVBORw0KGgoAAAANSUhEUgAAACsAAAAoCAIAAADoq5Q5AAAItklEQVR4nI1YS28UVxY+t269q+mHHwiJkTJSBmWUMQYCGNsE27yCHcxIRDBRRpr8hck+s89sJ39gsstsMlEmIWBFWWSw3d2GBFDEksCCBX5g96O66101i6/7UGmbSe7Cqlff851zvvOdcy1s26bc0jQtiiJN03Cr6zoeEpGqqvwNrqWURKQoiqqq9+/dp5ev8SPjaZoSUdJfeB7Hsbr76wHzWAPmpZSKouA5bM/Mzui6jldCiDRN0zRNkiSKoiiKVh6sAIeiKFLKJEnSNI3jmIhEqVSKomi3+T0DoGmaYRjYRQgB22fPndU0zbKs4eFhx3E0TRNChGEIM51Op9Vqua7r+/7K8goRjR0e43jEcSxKpRLs5YO/2zy7DgOwPXd2zrIsx3FKpVKhUHAcB19KKeM4juNYCCGEiKKo0Wg8ffq01Wr5vl9drY4dHmO3XyDIr93eW5al67qUkmNuGIZt20NDQ8Vikd8SkZRS13UhRJZlUkrDMLIs832/0+lsbGw8efKk2WyuLK+8/ofXB2OQNz9gG64/uP+AiGbnZnVdZ9cdxzFNU9M00ALh1XXdMAxAgTOghed56+vrDx8+3Nraqq5WX/v9a4NMZNcRc1VVQa57P9yDbcMwrLJVLBZLpZJpmlJKZiVW2l9JkvA+/Bwfx3Hs+z6iFcexmic8XLcsS1VVeHb3zl0iOn/hvK7relm3LKtcLheLRdM0sS8oCSgcBiGE1l+qqgohGIRt28PDw5VKZWp6qvqw+urvXlXztjVNM00TMYTtCxcvmKZpDVmItmmahmHgb5ZlQMBLCEF9eUDiAAvFCRyqqtq2XS6Xnz17hkSrkKC865Zl1aq1i29dNE3TrJiO41iWZRgG+4Ry4MjDHhCwGSzWBiBjabFtm+tO5cTDxe/vfk9E8wvzTtEpl8sgFNtgJYClLMvgd5ZlYL7y85UnGT/RNM22bWRfStkrdNu2Eflz58/pum7bdrFYhLxkWQYb4JeUEiFllWR7IrcYVq/o+6BRIIVCwbIsUEG1LAt5rdfq5y+cN0zDNE1gBGTeKE1TOI3bJEmYZfksMAK2nY8WaGvbtmVZPV0H7+q1+vzCvGZrqHXbtlFsQPB/fOXbLMtwjWhh95dFBeHEQ9U0zXqtfnnxsumYYBkAGoaBOMdxjB1BCNCbL2AG5vOSwIjxlmOQpmkYho1Go91uL99eHj8y3tMDx3HQcrC7YRggvxAC/Q2QQRpstzseyEWWZQDN4PiWiKIo2tzcfPToUafT6ZXu8u3lxSuLRsUwTTOfNs4iM44XUq4oCiDiY64U/AruwnYYhkEQxHEchmGz2fzpp5/W19chi4qivKhG5h1+w1zD1owDhcDFySqULz/UCyIXBEGr1Wq3267rNhqNnZ0ddOpatTZxaoJUUnvClFNvmEck4B8aBLQF6cj6C+A4HWh38L7dbjebzUajsbW11e12gyCIoigIgtWVVSI6cfIEKSSEUOErlwqHIU1TKDSLrqIoGDqwBtiAfPu+32q1ut1ut9tdX1/f2dnxPA9jUnW1iggde+OYoigZ9eipEhECBVXmauFMcxXhFUeeCw+wgiDodDqu625vb29ubrqu2+12wzAMw/DO2h0iGj8yDm8TmXB5CyHUyanJG9Ubi1cW4zhGBcJj4IiiiLPLGeGiEEJgFvI8z/O8ZrO5sbHx/Plzz/PAvnqtTkRHjh4hIhI9aqMuXmhrEART01NfrX41vzAfBAEECqwOggAyjNmSU47YIDxRFPm+7/t+t9tF4j3PC4IgDMN6rX7sjWNch0zSgcpSPc9L0/TkxMlba7fw6PLi5U6nAz3AmAWFxsADzcYrUI8lCOrebreTJKnX6hOnJlKZUn9won57xC1UTgihYmROkmTs8Bis3qjewA8uvnURwcBfwzAwHQkhWDERG9w6jpMkSaPRYP9YNLm+KNemgUPtdrvUn1Da7bZlWWOHx2D1mx++4U8xHiLUAI3ZGq44jgOieJ7HVB0IPldcXvGISMV4wrMzX2ia9spvX0G+pZTf/fjd9OlpeIxMq6qK0Q8VC8PoZ4wgH3Y+YPF1rzMhPrsXoPC4N3Z4bPXH1XPnz0kpuW1Sf7CGeUVR8nMz/x0YVTgqRFRdrQ5q/ssAIU1oE9yxUFp8ggM/bNtWVXVyarJWrU1OTVKO/9wz1+preDJ3dm6Pc+PLAE2cmvi2/u2169cgvdjRdV3qnymA4ODBgzs7O3EcT5+eXq2uTp+eRrIg4bA9MzuDVqA52i8g4BVFEazGcYyWQ0Q4DAVBgFMb1GJkZGT//v1Jkvi+/+aZN5dXlvP7zMzOSCmlLg3DsCxrZGTkVyGI+gvXrutqmqbrOiQZ50Mism1bSlksFg8dOpRl2cbGRhAE2GF2brY3Rpsqjr/lcvnAgQNDQ0N7nxvZMNIPupVKpX379q3V166+cxVzLNLPgx2WYRhCiO3t7cePH3/8j4+JaOHtBZ6ycMQeGRkpl8uVSsU0zZci2P1/DNu2K5VKoVBYvr189Z2r6GSqqrL5QqGAE7RhGET07p/eJaIP//bhxsZGp9NJ07RUKo2OjsJ1tHvCeWHPlT/Jh2Go6zq6u5TyzMyZz//7+ZU/XkF/Ylnk5qkoyvVr14nos39/Fo6FmE2CICgUCqOjoxiDUU1JkvwyD/IHy263CxpOn57+cuXLhbcX8BYILMtCm4D5r29+TVYvR5VKBXVrWRYEA+3+Zwh0Xefaw75wPZ8XXLiumyTJqclTN2s3L81fIiIhhOM4qJf3//I+EX3xny+E3hvScUoBUD5ZQBuyLOt1vLylPb3P4+h2u61Wq9VqHT9xfOnWku/7YRi6ruu67gd//YCIPv3Xp4gwT8xo6BgpsA8fxX6tHgyA4IwcP3F86e7SpflLWZZ98s9PiOijv3/UGe3gS+6r3K7QynnkHOTBnk5jMRnRJjgjzWbz6LGjS/eWcPven9/b/s02JkrHcfjfMZz4OI551gWl/gehiGd1RTzFSAAAAABJRU5ErkJggg==\" style=\"width:300px;\"/></td>\n",
       "    </tr>\n",
       "    <tr>\n",
       "      <th>97537</th>\n",
       "      <td>0.683746</td>\n",
       "      <td>3.750594</td>\n",
       "      <td><img src=\"data:image/png;base64,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\" style=\"width:300px;\"/></td>\n",
       "    </tr>\n",
       "    <tr>\n",
       "      <th>264203</th>\n",
       "      <td>0.664092</td>\n",
       "      <td>0.956389</td>\n",
       "      <td><img src=\"data:image/png;base64,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\" style=\"width:300px;\"/></td>\n",
       "    </tr>\n",
       "  </tbody>\n",
       "</table>"
      ],
      "text/plain": [
       "        Nuclei_AreaShape_FormFactor  Nuclei_Intensity_MassDisplacement_DNA  \\\n",
       "128919                     0.667177                               1.027070   \n",
       "17915                      0.691802                               0.909502   \n",
       "147544                     0.684497                               1.175926   \n",
       "97537                      0.683746                               3.750594   \n",
       "264203                     0.664092                               0.956389   \n",
       "\n",
       "                Image_FileName_OrigDNA  \n",
       "128919  r16c06f06p01-ch5sk1fk1fl1.tiff  \n",
       "17915   r13c21f01p01-ch5sk1fk1fl1.tiff  \n",
       "147544  r04c09f04p01-ch5sk1fk1fl1.tiff  \n",
       "97537   r04c13f06p01-ch5sk1fk1fl1.tiff  \n",
       "264203  r16c05f09p01-ch5sk1fk1fl1.tiff  "
      ]
     },
     "execution_count": 7,
     "metadata": {},
     "output_type": "execute_result"
    }
   ],
   "source": [
    "irregular_nuclei_outliers_cdf.sample(n=5, random_state=0)"
   ]
  },
  {
   "cell_type": "markdown",
   "id": "6141a7b8",
   "metadata": {
    "papermill": {
     "duration": 0.005715,
     "end_time": "2025-02-20T21:40:52.556622",
     "exception": false,
     "start_time": "2025-02-20T21:40:52.550907",
     "status": "completed"
    },
    "tags": []
   },
   "source": [
    "### Generate a new dataframe to save the original indices for filtering prior to further preprocessing"
   ]
  },
  {
   "cell_type": "code",
   "execution_count": 8,
   "id": "5f2e8933",
   "metadata": {
    "execution": {
     "iopub.execute_input": "2025-02-20T21:40:52.568800Z",
     "iopub.status.busy": "2025-02-20T21:40:52.568648Z",
     "iopub.status.idle": "2025-02-20T21:40:52.600833Z",
     "shell.execute_reply": "2025-02-20T21:40:52.600437Z"
    },
    "papermill": {
     "duration": 0.039689,
     "end_time": "2025-02-20T21:40:52.601943",
     "exception": false,
     "start_time": "2025-02-20T21:40:52.562254",
     "status": "completed"
    },
    "tags": []
   },
   "outputs": [
    {
     "name": "stdout",
     "output_type": "stream",
     "text": [
      "(1545, 17)\n"
     ]
    },
    {
     "data": {
      "text/html": [
       "<div>\n",
       "<style scoped>\n",
       "    .dataframe tbody tr th:only-of-type {\n",
       "        vertical-align: middle;\n",
       "    }\n",
       "\n",
       "    .dataframe tbody tr th {\n",
       "        vertical-align: top;\n",
       "    }\n",
       "\n",
       "    .dataframe thead th {\n",
       "        text-align: right;\n",
       "    }\n",
       "</style>\n",
       "<table border=\"1\" class=\"dataframe\">\n",
       "  <thead>\n",
       "    <tr style=\"text-align: right;\">\n",
       "      <th></th>\n",
       "      <th>Metadata_ImageNumber</th>\n",
       "      <th>Image_Metadata_Site</th>\n",
       "      <th>Metadata_ObjectNumber</th>\n",
       "      <th>Metadata_Plate</th>\n",
       "      <th>Metadata_Well</th>\n",
       "      <th>Image_Metadata_Col</th>\n",
       "      <th>Image_Metadata_Row</th>\n",
       "      <th>Image_FileName_CellOutlines</th>\n",
       "      <th>Image_FileName_NucleiOutlines</th>\n",
       "      <th>Image_FileName_OrigDNA</th>\n",
       "      <th>Image_FileName_OrigRNA</th>\n",
       "      <th>Nuclei_AreaShape_BoundingBoxMaximum_X</th>\n",
       "      <th>Nuclei_AreaShape_BoundingBoxMaximum_Y</th>\n",
       "      <th>Nuclei_AreaShape_BoundingBoxMinimum_X</th>\n",
       "      <th>Nuclei_AreaShape_BoundingBoxMinimum_Y</th>\n",
       "      <th>original_index</th>\n",
       "      <th>cqc.formfactor_displacement_outlier</th>\n",
       "    </tr>\n",
       "  </thead>\n",
       "  <tbody>\n",
       "    <tr>\n",
       "      <th>0</th>\n",
       "      <td>167</td>\n",
       "      <td>5</td>\n",
       "      <td>3</td>\n",
       "      <td>BR00117010</td>\n",
       "      <td>A19</td>\n",
       "      <td>19</td>\n",
       "      <td>1</td>\n",
       "      <td>A19_s5--cell_outlines.png</td>\n",
       "      <td>A19_s5--nuclei_outlines.png</td>\n",
       "      <td>r01c19f05p01-ch5sk1fk1fl1.tiff</td>\n",
       "      <td>r01c19f05p01-ch3sk1fk1fl1.tiff</td>\n",
       "      <td>82</td>\n",
       "      <td>138</td>\n",
       "      <td>11</td>\n",
       "      <td>99</td>\n",
       "      <td>271</td>\n",
       "      <td>True</td>\n",
       "    </tr>\n",
       "    <tr>\n",
       "      <th>1</th>\n",
       "      <td>174</td>\n",
       "      <td>3</td>\n",
       "      <td>2</td>\n",
       "      <td>BR00117010</td>\n",
       "      <td>A20</td>\n",
       "      <td>20</td>\n",
       "      <td>1</td>\n",
       "      <td>A20_s3--cell_outlines.png</td>\n",
       "      <td>A20_s3--nuclei_outlines.png</td>\n",
       "      <td>r01c20f03p01-ch5sk1fk1fl1.tiff</td>\n",
       "      <td>r01c20f03p01-ch3sk1fk1fl1.tiff</td>\n",
       "      <td>356</td>\n",
       "      <td>40</td>\n",
       "      <td>310</td>\n",
       "      <td>18</td>\n",
       "      <td>284</td>\n",
       "      <td>True</td>\n",
       "    </tr>\n",
       "    <tr>\n",
       "      <th>2</th>\n",
       "      <td>207</td>\n",
       "      <td>9</td>\n",
       "      <td>1</td>\n",
       "      <td>BR00117010</td>\n",
       "      <td>A23</td>\n",
       "      <td>23</td>\n",
       "      <td>1</td>\n",
       "      <td>A23_s9--cell_outlines.png</td>\n",
       "      <td>A23_s9--nuclei_outlines.png</td>\n",
       "      <td>r01c23f09p01-ch5sk1fk1fl1.tiff</td>\n",
       "      <td>r01c23f09p01-ch3sk1fk1fl1.tiff</td>\n",
       "      <td>711</td>\n",
       "      <td>73</td>\n",
       "      <td>625</td>\n",
       "      <td>29</td>\n",
       "      <td>352</td>\n",
       "      <td>True</td>\n",
       "    </tr>\n",
       "    <tr>\n",
       "      <th>3</th>\n",
       "      <td>208</td>\n",
       "      <td>1</td>\n",
       "      <td>1</td>\n",
       "      <td>BR00117010</td>\n",
       "      <td>A24</td>\n",
       "      <td>24</td>\n",
       "      <td>1</td>\n",
       "      <td>A24_s1--cell_outlines.png</td>\n",
       "      <td>A24_s1--nuclei_outlines.png</td>\n",
       "      <td>r01c24f01p01-ch5sk1fk1fl1.tiff</td>\n",
       "      <td>r01c24f01p01-ch3sk1fk1fl1.tiff</td>\n",
       "      <td>861</td>\n",
       "      <td>192</td>\n",
       "      <td>830</td>\n",
       "      <td>120</td>\n",
       "      <td>355</td>\n",
       "      <td>True</td>\n",
       "    </tr>\n",
       "    <tr>\n",
       "      <th>4</th>\n",
       "      <td>257</td>\n",
       "      <td>5</td>\n",
       "      <td>1</td>\n",
       "      <td>BR00117010</td>\n",
       "      <td>B05</td>\n",
       "      <td>5</td>\n",
       "      <td>2</td>\n",
       "      <td>B05_s5--cell_outlines.png</td>\n",
       "      <td>B05_s5--nuclei_outlines.png</td>\n",
       "      <td>r02c05f05p01-ch5sk1fk1fl1.tiff</td>\n",
       "      <td>r02c05f05p01-ch3sk1fk1fl1.tiff</td>\n",
       "      <td>79</td>\n",
       "      <td>57</td>\n",
       "      <td>21</td>\n",
       "      <td>16</td>\n",
       "      <td>452</td>\n",
       "      <td>True</td>\n",
       "    </tr>\n",
       "  </tbody>\n",
       "</table>\n",
       "</div>"
      ],
      "text/plain": [
       "   Metadata_ImageNumber  Image_Metadata_Site  Metadata_ObjectNumber  \\\n",
       "0                   167                    5                      3   \n",
       "1                   174                    3                      2   \n",
       "2                   207                    9                      1   \n",
       "3                   208                    1                      1   \n",
       "4                   257                    5                      1   \n",
       "\n",
       "  Metadata_Plate Metadata_Well  Image_Metadata_Col  Image_Metadata_Row  \\\n",
       "0     BR00117010           A19                  19                   1   \n",
       "1     BR00117010           A20                  20                   1   \n",
       "2     BR00117010           A23                  23                   1   \n",
       "3     BR00117010           A24                  24                   1   \n",
       "4     BR00117010           B05                   5                   2   \n",
       "\n",
       "  Image_FileName_CellOutlines Image_FileName_NucleiOutlines  \\\n",
       "0   A19_s5--cell_outlines.png   A19_s5--nuclei_outlines.png   \n",
       "1   A20_s3--cell_outlines.png   A20_s3--nuclei_outlines.png   \n",
       "2   A23_s9--cell_outlines.png   A23_s9--nuclei_outlines.png   \n",
       "3   A24_s1--cell_outlines.png   A24_s1--nuclei_outlines.png   \n",
       "4   B05_s5--cell_outlines.png   B05_s5--nuclei_outlines.png   \n",
       "\n",
       "           Image_FileName_OrigDNA          Image_FileName_OrigRNA  \\\n",
       "0  r01c19f05p01-ch5sk1fk1fl1.tiff  r01c19f05p01-ch3sk1fk1fl1.tiff   \n",
       "1  r01c20f03p01-ch5sk1fk1fl1.tiff  r01c20f03p01-ch3sk1fk1fl1.tiff   \n",
       "2  r01c23f09p01-ch5sk1fk1fl1.tiff  r01c23f09p01-ch3sk1fk1fl1.tiff   \n",
       "3  r01c24f01p01-ch5sk1fk1fl1.tiff  r01c24f01p01-ch3sk1fk1fl1.tiff   \n",
       "4  r02c05f05p01-ch5sk1fk1fl1.tiff  r02c05f05p01-ch3sk1fk1fl1.tiff   \n",
       "\n",
       "   Nuclei_AreaShape_BoundingBoxMaximum_X  \\\n",
       "0                                     82   \n",
       "1                                    356   \n",
       "2                                    711   \n",
       "3                                    861   \n",
       "4                                     79   \n",
       "\n",
       "   Nuclei_AreaShape_BoundingBoxMaximum_Y  \\\n",
       "0                                    138   \n",
       "1                                     40   \n",
       "2                                     73   \n",
       "3                                    192   \n",
       "4                                     57   \n",
       "\n",
       "   Nuclei_AreaShape_BoundingBoxMinimum_X  \\\n",
       "0                                     11   \n",
       "1                                    310   \n",
       "2                                    625   \n",
       "3                                    830   \n",
       "4                                     21   \n",
       "\n",
       "   Nuclei_AreaShape_BoundingBoxMinimum_Y  original_index  \\\n",
       "0                                     99             271   \n",
       "1                                     18             284   \n",
       "2                                     29             352   \n",
       "3                                    120             355   \n",
       "4                                     16             452   \n",
       "\n",
       "   cqc.formfactor_displacement_outlier  \n",
       "0                                 True  \n",
       "1                                 True  \n",
       "2                                 True  \n",
       "3                                 True  \n",
       "4                                 True  "
      ]
     },
     "execution_count": 8,
     "metadata": {},
     "output_type": "execute_result"
    }
   ],
   "source": [
    "# Create a new dataframe for failed QC indices\n",
    "failed_qc_indices = irregular_nuclei_outliers[metadata_cols].copy()\n",
    "failed_qc_indices[\"original_index\"] = failed_qc_indices.index  # Store original index\n",
    "failed_qc_indices = failed_qc_indices.reset_index(drop=True)  # Reset index\n",
    "failed_qc_indices[\"cqc.formfactor_displacement_outlier\"] = True\n",
    "\n",
    "print(failed_qc_indices.shape)\n",
    "failed_qc_indices.head()"
   ]
  },
  {
   "cell_type": "markdown",
   "id": "0ce3a7a5",
   "metadata": {
    "papermill": {
     "duration": 0.007395,
     "end_time": "2025-02-20T21:40:52.616849",
     "exception": false,
     "start_time": "2025-02-20T21:40:52.609454",
     "status": "completed"
    },
    "tags": []
   },
   "source": [
    "2. Nuclei segmentations with holes and also irregular shaped\n",
    "\n",
    "We need to include this extra condition as it was discovered that there were more poorly segmented cells not caught, especially those over-segmented nuclei that contained holes, which is not common for a nuclei segmentation.\n",
    "\n",
    "- `Compactness`, which detects irregular nuclei and nuclei containing holes."
   ]
  },
  {
   "cell_type": "markdown",
   "id": "9608be20",
   "metadata": {
    "papermill": {
     "duration": 0.005456,
     "end_time": "2025-02-20T21:40:52.629748",
     "exception": false,
     "start_time": "2025-02-20T21:40:52.624292",
     "status": "completed"
    },
    "tags": []
   },
   "source": [
    "### Detect outliers and show single-cell image crops with CytoDataFrame (cdf)"
   ]
  },
  {
   "cell_type": "code",
   "execution_count": 9,
   "id": "e8156371",
   "metadata": {
    "execution": {
     "iopub.execute_input": "2025-02-20T21:40:52.641395Z",
     "iopub.status.busy": "2025-02-20T21:40:52.640854Z",
     "iopub.status.idle": "2025-02-20T21:41:00.424189Z",
     "shell.execute_reply": "2025-02-20T21:41:00.423752Z"
    },
    "papermill": {
     "duration": 7.790138,
     "end_time": "2025-02-20T21:41:00.425152",
     "exception": false,
     "start_time": "2025-02-20T21:40:52.635014",
     "status": "completed"
    },
    "tags": []
   },
   "outputs": [
    {
     "name": "stdout",
     "output_type": "stream",
     "text": [
      "Number of outliers: 1513 (0.52%)\n",
      "Outliers Range:\n",
      "Nuclei_AreaShape_Compactness Min: 1.605079322494332\n",
      "Nuclei_AreaShape_Compactness Max: 5.372198520180853\n",
      "(1513, 2)\n"
     ]
    },
    {
     "data": {
      "text/html": [
       "<table border=\"1\" class=\"dataframe\">\n",
       "  <thead>\n",
       "    <tr style=\"text-align: right;\">\n",
       "      <th></th>\n",
       "      <th>Nuclei_AreaShape_Compactness</th>\n",
       "      <th>Image_FileName_OrigDNA</th>\n",
       "    </tr>\n",
       "  </thead>\n",
       "  <tbody>\n",
       "    <tr>\n",
       "      <th>53688</th>\n",
       "      <td>1.605079</td>\n",
       "      <td><img src=\"data:image/png;base64,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\" style=\"width:300px;\"/></td>\n",
       "    </tr>\n",
       "    <tr>\n",
       "      <th>27641</th>\n",
       "      <td>1.605422</td>\n",
       "      <td><img src=\"data:image/png;base64,iVBORw0KGgoAAAANSUhEUgAAAEUAAAA6CAIAAABpmwNqAAAOIklEQVR4nJ1a2VIcRxbNzMqq6upGxn9hT4h9tSWgu0GrPf/rkRUW+2KBGgjbMf/gCIcfBN215zwc8nCpbjQxkw9EU+s9dzl3ydIzMzNhGAZBcHF+ocRaXFqs67qqqqqqyrJ0zjnn6rrG2bqurbVKKWOMFgtn+aOua9yI31jGGPwrX1eWJe4qy7JxHD+stY1T4xcrpWwYhpeDS6XUs+fPnHN4qNb6eHBMYHmel2VZVRVEAQwiMcYEQcAjkB4LKqAiCKkBm6uqqqZ81j4m+kSQFiJ2e10Tm7quKeLOix3Y52BwoJSanZstikK+T2sd+GWt/XTxafx9SqmV1RXnV1VVhES7AW0QBPKusiwh60SzfAGhVk4933gehqG1Fi+gviFBnudZlp2enAIStAtTWGuttTBvr9+Daqqqoonquj46PGq8Ep4sgfEv9EWtjftew1yNC4qi0Mqpjc2NMAwBwDkHfePOqqoKv06OT57OPAUeGAdgur1uGIZhGMLZyrLka/BAhhYkJsKl5aWyLBmlgCTjSoo7jm3cPnd4trpbMAgeFwRBHMcgCfgYUI1Go7PTs6czT4Hn999+V0p1e90oinCx8hHS8EyGFq2Hyw72D4iq8kt5qsBfCj0RG35In9TKqW6vGwSB1hqvsda2Wq04jnEEOi6K4ubmZjgckgZX11aTJIGjGmPorrgYoUK2UN5FlWCFuq7LsiSqoihgLuWJkb4H9iuKYiKkJh7Yh14RhmEcx1EUAQ9p9Pb29vPnz3meO+eMMVEUtdvtMAwhAYTGKbgQPA14YBMYCjDwWBwvimJ/b18pNTc/R87gWaCiwYuiwL0S3r2tcBuCG14XBAGDAXGCa1qtVlEUVDbMGARBWZZQLTQCueXtJHEmAyAEPBzp9XtFURxfHy8uLcL9YCLgH2c/6F2iQsDrpaWlwafBi5cv4GAMdK11WZawgzEGL6iqipEGcUmAlI8OxiPAI9MxORBPgzoAA4aaX5iH7zWoD1JJf2tYyfI0MECFDY+31kZRFARBFEVJkhhjYJM0TdM0pXvwLlKlMYamlrxMseiNeEtd19s720VRHF4dLi4tQlYgCYKgUVJghWEoIemnT59GUXQ5uOxv98HakBs/rLXg4iiKWq1WkiSMq6qqRqPR7e3tzc1NmqZQHimB6o/jOAgCFE00DgkQaMnXoHukh4P9A0CCoZAMH0s7QKW1tnAqxhnICn4VRRG4GGAQ/XguRGHIWWvp8XQPPA2GBQDQg/L0xejCcfozFNHtdfcH+/ML86SEcePQRAxOC90sLC4cXR5tbm0yNshgURTFcQzGU0qhloMpjDGtVgtyp2lK6gODEQA8CuUfbsRv2J+Oes+5ogiMoqiRZBn6zcrN2rIsDdPl4tLi4cFhlmV5nkMUEF2SJK1WC+kFUsq6yxjT6XSmp6efPHkCzHEct9ttUB98CRIz7bJ4pW3hAvB2WePuvNg5/3gOlyF+1i4T150u4bWERFQof8hpwIkEBenxjna7/eTJk06nAyekfGQCqIbeBT+koLIw5xE8p7/dvxxcgqugFxgTZwnjvq3AL9m95HlujMnzPM9zYGDNRsLAs3CKEsBo8Ea+GBhwAXwB2oHdZMZElyX9E09TntbZR4FgGmDuCJPGwY+Z2Znzj+es8MuyzLIsTdOiKKDmJEna7TYKPGKDtjqdTqfToSUpB+AZsZjiSB7wZNwCRgXZWGu7ve7l4JIqYwpuhNOdI8LFmbNxHR0ASYZ2oPRIQRCdCScIgna7XVXV7e0tSFa6Ex4IJoRA1DFZURqfaPM8Vz7/4I3Mikrk0/t6Ry7igYh0OVAZ9Q0Xkl6KH1EUTU1NQRHS8XgZ3RKuxfTqRFfLGMNZ2dhD49Ad04bMp1Y+xfh2GkLQiZFAIQeVKk+xctNax3FM5pBFGiRGkGi/ZCXBVlf5WkkekbpjvNE+ZHCrRI8u/c2IqQUyAGgdrECeoAoAFeEehuFXX30VBAGqIVwAIkUcIi9TiXB7OjOjl0QiNY6XPpZePayHjE53l8QwGo2IlvqW4OmE5GWtdZZljfqNb2HZylOsTlhASFekSaE1aGcCnvEFa1JKxAN0jIeiilOi8ZaxDlM455Ik0VqzNybRAQldiO0Nn6lEEUhmpyM0pGXyCcPwHk9VVahw19bXfvn1lx//+SObVtzA9AojMJ0z1VCd7IWwhsMheAWughtp24Y7yNKG5elEpXPJxHo/E6LjQvo8z8lLHAkAxmg0Yhph7SOpmYmClKB8KGrRgeMaNjkSFa4EWQPPRAJUY1WcoTPI4ZjyAxRpZbZ0mI2MRiPpCbyXoYzF7oPBLcmNL5Joje+74OfOubX1tavLKyIhiyDzPsBDJoAF8OiV1ZXdD7uYtlFhjPuyLNM0HY1GqPHo/fCW0i96F8o85atShhD5gNUdjqMyRH2Aahilvcx4tHOjkHuQfzj+Mcasf7f+/uz92x/eMlrwApkr0zSVOYFe5ERvA1+NoqgsS1TrLOSUKFtYjDvfCJJ4kiT5+++/N7c2Dy8P5xfmGXsT21VLMPRFdhBKKUiMuRTeAcUjPSPKcQRKlfmRjoEmwjmHptBaWxQFbEtKxPW0tnMOlnTOocN1zj17/uzk6mR+YV77QgGqwQOb9uHCOa318sry7sVuf7sPo7E44ABADnfgNjJyYCKOFliS00M4tWqkZtoWD8Tf6elpFHLSI/DkqqpY9TTx8B1Q2Mrqyu75bn+7D2VgBtSwADSNW1gaM9wlPUAgIyaM5EByCYtjmS3quu50OsPhUAlybwADJDteHNB2uAGQlFJvf3jbbrfZTjlfEWs/Rq2qqt1uT01Nsf1SorFhBYjjMk6MMXBdsj8hOT8VC8Ow3W73+r29wd7s3CweArpXomS7J7cG8aHzgXaXV5bDMPzp9Cel1KvXr8AqeZ7Ds7Wv6MqyhK0QToDK2S/HHc6PL1njIFTSNCUe5jrtB5SBn6orn5qUKDi57i3TSMP0SDrD6tpqEAQ/n/6MC16+esltBcxKwzDEtCRNU5Cs8ZsubNqgS4STE+2nE7U8KIFjmcAvBh4znvJ0r3xZNLkeBRJCAh4QwNLyEt7x/uw9Lu5v9yEf5kEwLLSOWIJzwu9B32VZMhRJGBy50NVhJS2qbC0KPDWJsvXXX38t/U/aR4nSiHzNSoct9PnHc6XuNpFardb09DQ6P6gzjmOYjsRgrcVBY4zcUGAIyfYbINM0zbLs5ubmzz///Ouvv85Oz2ZmZ2qxk8n24cF2l0TFoSPAONHJ3d3p23XkuKPB0bPnz4IgKIqC5I5qRWZkUh/eyE4BnMH+n0dQo8jKS/tBj/bFITR1x7FSxEZtJw3FMSzXaDTCnAQl48LiwsnxCVyfw/WyLIfD4e3tLYYQKLqgtdpvyylfkSDtciirxe6TEmFsjFlbX7u+usYmFRwHMamUsk7sZDQWTdSgPnkBVSU7WeVzLtSM32iZmHwqsc+Duo5QpWW0r6OdmJiGYdjr9/Y+7imlvvv+uyzLlI+l+24Za2KzAbdRYxzIhWctLS/t7+1zQsCKGzwO6lNicAMD4hQj0zzcB+AR43egEXtxHL9+8/rlq5dnp2eIz7vp5ETpKbfsOnBQnsW/kJLZEO7HYIVAdV2nafr582f0dlmWoeNI0xSQ4KLAxnoXIjq/zY6sCldUvlDYebFzenKKDKa11p1OZ+I4GD7GU3RIuh+dkIM/UPbF+cXrN6+npqbwYiPGNFBtkiRIpoh7aRPjJ1hkLagvy7LhcAiWw3J+cAX7737YXV5ZTtN0Qv6REy2ecn7axMsYeHJfQGu9tr727td3b96+wTibDolAQnbCgJ/dFMoIbpLT/ZzfXc2yjHWd8VuGBFP7TyKMMQ/mVdKvuMZJD+8exyb7reFw6JxLkgSdAlmV6QU8xrEgfzClgAyYf/EvawVM+Wiore7WwceDxaXFBy24BCZLo3GKa2AmpeLfhcWFg8sDpdT2zjaH3dLOcLY8z2Eldq+y0CYDsR8xYm944vAgCIIHlpHAZIZtgLGPfFPDFOmcm1+YD8Pww/mHbq+b5zkYiUGifEJTSmmtsfsC23LmSAIsxaYTn49rCPW+x+l0OuOSSUONjxonXt+gBwRD6D/e6vV73DIiFyk/A0OhhNbaOZdlGRiSCRcEyAE8+2hyKUy6v7dvG3UNZJIO1vBGNzbO0/7rBlYSgd8wret6dm7WWrs32FP+4xigIu1C35guYJ4M1uaAofazZZIEbMIaT2q5ydQUt4FQTSrDx29puDXcva7rufm5IAj2B/tKqY3NDVjJ+u3kRv2PnpxDPICR8yD3cHRMvdzhmZg9v7xC8W3GeDUko4vzE2PM7NysMebo6u77qo3NDTYCTnwd55yL4xhpSnZQsgtkjnIPx9waoy25JuaiRnrlqQezLzshm1m/gw25ZaNxfXX9mL5WVleSJAHdG/HJD6QlDShv1SAI3v3r3dr62gT/kcz2hdkx+wJ5RI2Zi7bibKgoCvDBt//4Vo5N6EJa64t/Xyh196EUv8hwfvMLD5S9Xe1nun6M8PjXpgTGHEr1PxZRj+mIi/Mg/lWi2TTGfPPtN2EYHvx2sLm1ib5I+UKWfaESRXrp97Ym+BsRjks8nojUpN5WjSloYscRPPxqqnEKKfiP3/9QSvW3++AP7T/HoJqQr46Pjufm57Isa+IZN9S4uDwig2rcVhOt18jU48/kABBpCgX19dX15tYmIdEzUYkqpebm5+76jsfs82U8lBVanFguPHb7f72AgBE5qCrweSfW5tbm4cEhfq+srqABudvR+T/wyOOPta7/KxgqRaZv6z8g0f5zQ/wdfBosrywzclDj4fd/AIKrmBzHJTy8AAAAAElFTkSuQmCC\" style=\"width:300px;\"/></td>\n",
       "    </tr>\n",
       "  </tbody>\n",
       "</table>"
      ],
      "text/plain": [
       "       Nuclei_AreaShape_Compactness          Image_FileName_OrigDNA\n",
       "53688                      1.605079  r05c13f06p01-ch5sk1fk1fl1.tiff\n",
       "27641                      1.605422  r13c19f06p01-ch5sk1fk1fl1.tiff"
      ]
     },
     "execution_count": 9,
     "metadata": {},
     "output_type": "execute_result"
    }
   ],
   "source": [
    "# find mis-segmented nuclei due using thresholds that maximizes\n",
    "# removing most technical outliers and minimizes good cells\n",
    "feature_thresholds = {\n",
    "    \"Nuclei_AreaShape_Compactness\": 4.05,\n",
    "}\n",
    "\n",
    "poor_nuclei_outliers = cosmicqc.find_outliers(\n",
    "    df=df_merged_single_cells,\n",
    "    metadata_columns=metadata_cols,\n",
    "    feature_thresholds=feature_thresholds\n",
    ")\n",
    "\n",
    "poor_nuclei_outliers_cdf = CytoDataFrame(\n",
    "    data=pd.DataFrame(poor_nuclei_outliers),\n",
    "    data_context_dir=f\"/media/jenna/8TB-C/work/JUMP-download-images/JUMP-single-cell/0.download_data/data/images/{plate_id}/orig\",\n",
    "    data_outline_context_dir=f\"/media/jenna/8TB-C/work/JUMP-download-images/JUMP-single-cell/0.download_data/data/images/{plate_id}/outlines\",\n",
    "    segmentation_file_regex=outline_to_orig_mapping,\n",
    ")[\n",
    "    [\n",
    "        \"Nuclei_AreaShape_Compactness\",\n",
    "        \"Image_FileName_OrigDNA\",\n",
    "    ]\n",
    "]\n",
    "\n",
    "\n",
    "print(poor_nuclei_outliers_cdf.shape)\n",
    "poor_nuclei_outliers_cdf.sort_values(by=\"Nuclei_AreaShape_Compactness\", ascending=True).head(2)"
   ]
  },
  {
   "cell_type": "markdown",
   "id": "b8e261be",
   "metadata": {
    "papermill": {
     "duration": 0.006495,
     "end_time": "2025-02-20T21:41:00.438373",
     "exception": false,
     "start_time": "2025-02-20T21:41:00.431878",
     "status": "completed"
    },
    "tags": []
   },
   "source": [
    "### Randomly sample outlier rows to visually inspect if the threshold looks to be optimized"
   ]
  },
  {
   "cell_type": "code",
   "execution_count": 10,
   "id": "12eb354c",
   "metadata": {
    "execution": {
     "iopub.execute_input": "2025-02-20T21:41:00.471278Z",
     "iopub.status.busy": "2025-02-20T21:41:00.471070Z",
     "iopub.status.idle": "2025-02-20T21:41:00.479582Z",
     "shell.execute_reply": "2025-02-20T21:41:00.479192Z"
    },
    "papermill": {
     "duration": 0.035858,
     "end_time": "2025-02-20T21:41:00.480517",
     "exception": false,
     "start_time": "2025-02-20T21:41:00.444659",
     "status": "completed"
    },
    "tags": []
   },
   "outputs": [
    {
     "data": {
      "text/html": [
       "<table border=\"1\" class=\"dataframe\">\n",
       "  <thead>\n",
       "    <tr style=\"text-align: right;\">\n",
       "      <th></th>\n",
       "      <th>Nuclei_AreaShape_Compactness</th>\n",
       "      <th>Image_FileName_OrigDNA</th>\n",
       "    </tr>\n",
       "  </thead>\n",
       "  <tbody>\n",
       "    <tr>\n",
       "      <th>185724</th>\n",
       "      <td>1.673944</td>\n",
       "      <td><img src=\"data:image/png;base64,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\" style=\"width:300px;\"/></td>\n",
       "    </tr>\n",
       "    <tr>\n",
       "      <th>99612</th>\n",
       "      <td>1.622201</td>\n",
       "      <td><img src=\"data:image/png;base64,iVBORw0KGgoAAAANSUhEUgAAABsAAABACAIAAABk/5s2AAAFm0lEQVR4nH1Y21LjOhAcS7JdwDdQPJGQsMudJfv/D1t1EhK2NlwC7GcsFVtSdB46bk9Mwjy4gm21pmd6RmOyg4MD2bQ8z/XVOeecw4/H+WPn5dNvpyGEEIL3Hlcnu03D5Xk+/zO/ub3J89xam2VZSinG+Gv+S0T6J/3VahVCEJHss4/AghVFgevj/HH0c4SbzjkiVlW1XC4n48lx77iqqhDCFh/BV0RcY4Ary7IsS/goIjFGY4yIpJSwKsYYQjC7gkjKz0/Ptz9u8zwnIncyxjjniqIY/Rw9PT4VRVGW5c44OuestS/PL1fXV6503MNaa4zJsizLshgjPHXOYckWH7338NEYA1I6oMYYay1TjxRlWWatvRvdzf/MrbVbWIM4FmNnwAGLfOEa/cXLxhjXgSNlY8zT49Pd6K7YL/b398uytNZq32OMWZbhN292EbXhDWstsqF1g/w657z3mbLbH7fj+bhlrUsFXIBI9SEOVDie4iYQ1650ckLQxcvi6vqKXLCA11VjpMwIOO0j40jK8JFZSikBCLqBtnFtw9XJCdMCXC11ljMQQwjwEXdSSoDeXjPrZ8YATmsFT2OMHe+wWYvIIGrWUBle5R5aLlSiLvAtrJkHGpmCJt9BNhBl+vtVf2TURCSEQF64EtFaC7VvZKZjr4vXi8sLcmEGmGvGAX8yCDsRSY0BhRE0NkbcDT3qnsgwk5RuDdC2zhXDx+23xJGVgJorigKFiAV4CvXwT11RWxCxUlQfA2KrOGOstWSKtDAzX/UelgoYpZTAmrkGa8ZnZ2ZIwTSmMyObqqK1AdXaFhFr7d/3v9/PvqNNSCMa5gE+0kGEki+0rIHLRLPrpZRCCCgJypOLiUXBbrDWzrKJ6qgxDlo90Kbepj3ttI+grFcylbzJOKAVUe1G+8XOCiVKI7fP4Sdr/Wgt5E6WFy+Ly6tL2xhXspz5g0s6XjuGT59HmEl4B7zwW1c09aSPnXVdY/H72/vZ+ZnbdxhxUM4sOCCyUXYy3h5kpMycsJaZKK5PyuCpqH48vZ8OhgOn0yIinD9JmWW+FS4qw96OEXx7fbu4vMj326GJgddZ1ukmVgiBGxgOEYAuimJvbw/T22e5iDph8BSzNygPT4cpJaOz7Nw6J5AOg0iJsHXyDsd6EYGnhlk+vzhHQyQcrRNH+oiEeO+n99OTwUmMsa5rpymz+Fi8Wh8Ikz5kdARDCHVde++dzjIPAF1eumBAHPOJ976u6xDCbDrr9Xt1qJfL5fp75u317fzi3B20iFjJ8LPB6G34VSQiQPfee+83WgOCqCtEFywtaz5mYoyz6ey4d8zkiEg7eULYeFvrg+XFhsbZDA6GEMAXoE6nRZqTSDuCqHEb7AENMieEExGHgcQeWM7YzDXFQRliTWjs98Pv497xv/hPx8SJmmV5GJAgk0thr1YrJIGFrB1cI6J10zp1hvd4mODrkqpexmVn9mx9ZKdhnXAPdgF6xJzUdS2btu4ILBLIkGLUWUJ5IILco0NZ0HH1nMjagEd6/ND19zB76J/0tQw3EKU5SVgbgA4hpObDiH2I8qQStrCmUxiNmUS8kTWjMT/U7yf3g+GgitVnuLWPdEofoYygHiW4E978CrFTElqPSc1NHcqf4VpETZMx7czbOogxRtSyiHQE5ESNWDjmUcicFDpws+msf9JfxiUhiqLoItILIPI84U4pJTRXfUBvDaKImF6/N5vO0DIpYFq9aSyVXUEUEadPCQzbOq0MJSqPlD8+Pnb6mFLqn/Qn4wn+u4T/K5EjfldVVVXV+L/x8HS4VdXasqOjI3wTLF4W1zfX/PcG3QT9yXhy+u0UXQcOdnDzPMed7OjoiN+fr4tXPL6+uZamQdxP7kVkMBwAZSvcho+Hh4csCf5YvCz4xmA4oKdE7KBwCPXe/w8dVJ8TvMChjgAAAABJRU5ErkJggg==\" style=\"width:300px;\"/></td>\n",
       "    </tr>\n",
       "    <tr>\n",
       "      <th>209053</th>\n",
       "      <td>1.722580</td>\n",
       "      <td><img src=\"data:image/png;base64,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\" style=\"width:300px;\"/></td>\n",
       "    </tr>\n",
       "    <tr>\n",
       "      <th>102623</th>\n",
       "      <td>1.607841</td>\n",
       "      <td><img src=\"data:image/png;base64,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\" style=\"width:300px;\"/></td>\n",
       "    </tr>\n",
       "    <tr>\n",
       "      <th>37864</th>\n",
       "      <td>1.610069</td>\n",
       "      <td><img src=\"data:image/png;base64,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\" style=\"width:300px;\"/></td>\n",
       "    </tr>\n",
       "  </tbody>\n",
       "</table>"
      ],
      "text/plain": [
       "        Nuclei_AreaShape_Compactness          Image_FileName_OrigDNA\n",
       "185724                      1.673944  r01c17f09p01-ch5sk1fk1fl1.tiff\n",
       "99612                       1.622201  r08c06f02p01-ch5sk1fk1fl1.tiff\n",
       "209053                      1.722580  r11c02f01p01-ch5sk1fk1fl1.tiff\n",
       "102623                      1.607841  r15c03f06p01-ch5sk1fk1fl1.tiff\n",
       "37864                       1.610069  r14c04f03p01-ch5sk1fk1fl1.tiff"
      ]
     },
     "execution_count": 10,
     "metadata": {},
     "output_type": "execute_result"
    }
   ],
   "source": [
    "poor_nuclei_outliers_cdf.sample(n=5, random_state=0)"
   ]
  },
  {
   "cell_type": "markdown",
   "id": "35d94481",
   "metadata": {
    "papermill": {
     "duration": 0.006975,
     "end_time": "2025-02-20T21:41:00.494158",
     "exception": false,
     "start_time": "2025-02-20T21:41:00.487183",
     "status": "completed"
    },
    "tags": []
   },
   "source": [
    "### Save the original indices for failed single cells to compressed CSV files"
   ]
  },
  {
   "cell_type": "code",
   "execution_count": 11,
   "id": "d1354350",
   "metadata": {
    "execution": {
     "iopub.execute_input": "2025-02-20T21:41:00.510239Z",
     "iopub.status.busy": "2025-02-20T21:41:00.509831Z",
     "iopub.status.idle": "2025-02-20T21:41:00.668046Z",
     "shell.execute_reply": "2025-02-20T21:41:00.667273Z"
    },
    "papermill": {
     "duration": 0.16758,
     "end_time": "2025-02-20T21:41:00.669056",
     "exception": false,
     "start_time": "2025-02-20T21:41:00.501476",
     "status": "completed"
    },
    "tags": []
   },
   "outputs": [
    {
     "name": "stdout",
     "output_type": "stream",
     "text": [
      "Failed QC indices shape: (2524, 18)\n",
      "Percentage of single cells removed: 0.87%\n"
     ]
    },
    {
     "name": "stderr",
     "output_type": "stream",
     "text": [
      "/tmp/ipykernel_1967626/3549774745.py:16: FutureWarning: Downcasting object dtype arrays on .fillna, .ffill, .bfill is deprecated and will change in a future version. Call result.infer_objects(copy=False) instead. To opt-in to the future behavior, set `pd.set_option('future.no_silent_downcasting', True)`\n",
      "  failed_qc_indices[[\"cqc.formfactor_displacement_outlier\", \"cqc.compactness_outlier\"]]\n"
     ]
    },
    {
     "data": {
      "text/html": [
       "<div>\n",
       "<style scoped>\n",
       "    .dataframe tbody tr th:only-of-type {\n",
       "        vertical-align: middle;\n",
       "    }\n",
       "\n",
       "    .dataframe tbody tr th {\n",
       "        vertical-align: top;\n",
       "    }\n",
       "\n",
       "    .dataframe thead th {\n",
       "        text-align: right;\n",
       "    }\n",
       "</style>\n",
       "<table border=\"1\" class=\"dataframe\">\n",
       "  <thead>\n",
       "    <tr style=\"text-align: right;\">\n",
       "      <th></th>\n",
       "      <th>Metadata_ImageNumber</th>\n",
       "      <th>Image_Metadata_Site</th>\n",
       "      <th>Metadata_ObjectNumber</th>\n",
       "      <th>Metadata_Plate</th>\n",
       "      <th>Metadata_Well</th>\n",
       "      <th>Image_Metadata_Col</th>\n",
       "      <th>Image_Metadata_Row</th>\n",
       "      <th>Image_FileName_CellOutlines</th>\n",
       "      <th>Image_FileName_NucleiOutlines</th>\n",
       "      <th>Image_FileName_OrigDNA</th>\n",
       "      <th>Image_FileName_OrigRNA</th>\n",
       "      <th>Nuclei_AreaShape_BoundingBoxMaximum_X</th>\n",
       "      <th>Nuclei_AreaShape_BoundingBoxMaximum_Y</th>\n",
       "      <th>Nuclei_AreaShape_BoundingBoxMinimum_X</th>\n",
       "      <th>Nuclei_AreaShape_BoundingBoxMinimum_Y</th>\n",
       "      <th>original_index</th>\n",
       "      <th>cqc.formfactor_displacement_outlier</th>\n",
       "      <th>cqc.compactness_outlier</th>\n",
       "    </tr>\n",
       "  </thead>\n",
       "  <tbody>\n",
       "    <tr>\n",
       "      <th>0</th>\n",
       "      <td>155</td>\n",
       "      <td>2</td>\n",
       "      <td>3</td>\n",
       "      <td>BR00117010</td>\n",
       "      <td>A18</td>\n",
       "      <td>18</td>\n",
       "      <td>1</td>\n",
       "      <td>A18_s2--cell_outlines.png</td>\n",
       "      <td>A18_s2--nuclei_outlines.png</td>\n",
       "      <td>r01c18f02p01-ch5sk1fk1fl1.tiff</td>\n",
       "      <td>r01c18f02p01-ch3sk1fk1fl1.tiff</td>\n",
       "      <td>321</td>\n",
       "      <td>103</td>\n",
       "      <td>267</td>\n",
       "      <td>36</td>\n",
       "      <td>249</td>\n",
       "      <td>False</td>\n",
       "      <td>True</td>\n",
       "    </tr>\n",
       "    <tr>\n",
       "      <th>1</th>\n",
       "      <td>160</td>\n",
       "      <td>7</td>\n",
       "      <td>3</td>\n",
       "      <td>BR00117010</td>\n",
       "      <td>A18</td>\n",
       "      <td>18</td>\n",
       "      <td>1</td>\n",
       "      <td>A18_s7--cell_outlines.png</td>\n",
       "      <td>A18_s7--nuclei_outlines.png</td>\n",
       "      <td>r01c18f07p01-ch5sk1fk1fl1.tiff</td>\n",
       "      <td>r01c18f07p01-ch3sk1fk1fl1.tiff</td>\n",
       "      <td>879</td>\n",
       "      <td>192</td>\n",
       "      <td>817</td>\n",
       "      <td>134</td>\n",
       "      <td>258</td>\n",
       "      <td>False</td>\n",
       "      <td>True</td>\n",
       "    </tr>\n",
       "    <tr>\n",
       "      <th>2</th>\n",
       "      <td>167</td>\n",
       "      <td>5</td>\n",
       "      <td>3</td>\n",
       "      <td>BR00117010</td>\n",
       "      <td>A19</td>\n",
       "      <td>19</td>\n",
       "      <td>1</td>\n",
       "      <td>A19_s5--cell_outlines.png</td>\n",
       "      <td>A19_s5--nuclei_outlines.png</td>\n",
       "      <td>r01c19f05p01-ch5sk1fk1fl1.tiff</td>\n",
       "      <td>r01c19f05p01-ch3sk1fk1fl1.tiff</td>\n",
       "      <td>82</td>\n",
       "      <td>138</td>\n",
       "      <td>11</td>\n",
       "      <td>99</td>\n",
       "      <td>271</td>\n",
       "      <td>True</td>\n",
       "      <td>False</td>\n",
       "    </tr>\n",
       "    <tr>\n",
       "      <th>3</th>\n",
       "      <td>174</td>\n",
       "      <td>3</td>\n",
       "      <td>2</td>\n",
       "      <td>BR00117010</td>\n",
       "      <td>A20</td>\n",
       "      <td>20</td>\n",
       "      <td>1</td>\n",
       "      <td>A20_s3--cell_outlines.png</td>\n",
       "      <td>A20_s3--nuclei_outlines.png</td>\n",
       "      <td>r01c20f03p01-ch5sk1fk1fl1.tiff</td>\n",
       "      <td>r01c20f03p01-ch3sk1fk1fl1.tiff</td>\n",
       "      <td>356</td>\n",
       "      <td>40</td>\n",
       "      <td>310</td>\n",
       "      <td>18</td>\n",
       "      <td>284</td>\n",
       "      <td>True</td>\n",
       "      <td>False</td>\n",
       "    </tr>\n",
       "    <tr>\n",
       "      <th>4</th>\n",
       "      <td>207</td>\n",
       "      <td>9</td>\n",
       "      <td>1</td>\n",
       "      <td>BR00117010</td>\n",
       "      <td>A23</td>\n",
       "      <td>23</td>\n",
       "      <td>1</td>\n",
       "      <td>A23_s9--cell_outlines.png</td>\n",
       "      <td>A23_s9--nuclei_outlines.png</td>\n",
       "      <td>r01c23f09p01-ch5sk1fk1fl1.tiff</td>\n",
       "      <td>r01c23f09p01-ch3sk1fk1fl1.tiff</td>\n",
       "      <td>711</td>\n",
       "      <td>73</td>\n",
       "      <td>625</td>\n",
       "      <td>29</td>\n",
       "      <td>352</td>\n",
       "      <td>True</td>\n",
       "      <td>True</td>\n",
       "    </tr>\n",
       "  </tbody>\n",
       "</table>\n",
       "</div>"
      ],
      "text/plain": [
       "   Metadata_ImageNumber  Image_Metadata_Site  Metadata_ObjectNumber  \\\n",
       "0                   155                    2                      3   \n",
       "1                   160                    7                      3   \n",
       "2                   167                    5                      3   \n",
       "3                   174                    3                      2   \n",
       "4                   207                    9                      1   \n",
       "\n",
       "  Metadata_Plate Metadata_Well  Image_Metadata_Col  Image_Metadata_Row  \\\n",
       "0     BR00117010           A18                  18                   1   \n",
       "1     BR00117010           A18                  18                   1   \n",
       "2     BR00117010           A19                  19                   1   \n",
       "3     BR00117010           A20                  20                   1   \n",
       "4     BR00117010           A23                  23                   1   \n",
       "\n",
       "  Image_FileName_CellOutlines Image_FileName_NucleiOutlines  \\\n",
       "0   A18_s2--cell_outlines.png   A18_s2--nuclei_outlines.png   \n",
       "1   A18_s7--cell_outlines.png   A18_s7--nuclei_outlines.png   \n",
       "2   A19_s5--cell_outlines.png   A19_s5--nuclei_outlines.png   \n",
       "3   A20_s3--cell_outlines.png   A20_s3--nuclei_outlines.png   \n",
       "4   A23_s9--cell_outlines.png   A23_s9--nuclei_outlines.png   \n",
       "\n",
       "           Image_FileName_OrigDNA          Image_FileName_OrigRNA  \\\n",
       "0  r01c18f02p01-ch5sk1fk1fl1.tiff  r01c18f02p01-ch3sk1fk1fl1.tiff   \n",
       "1  r01c18f07p01-ch5sk1fk1fl1.tiff  r01c18f07p01-ch3sk1fk1fl1.tiff   \n",
       "2  r01c19f05p01-ch5sk1fk1fl1.tiff  r01c19f05p01-ch3sk1fk1fl1.tiff   \n",
       "3  r01c20f03p01-ch5sk1fk1fl1.tiff  r01c20f03p01-ch3sk1fk1fl1.tiff   \n",
       "4  r01c23f09p01-ch5sk1fk1fl1.tiff  r01c23f09p01-ch3sk1fk1fl1.tiff   \n",
       "\n",
       "   Nuclei_AreaShape_BoundingBoxMaximum_X  \\\n",
       "0                                    321   \n",
       "1                                    879   \n",
       "2                                     82   \n",
       "3                                    356   \n",
       "4                                    711   \n",
       "\n",
       "   Nuclei_AreaShape_BoundingBoxMaximum_Y  \\\n",
       "0                                    103   \n",
       "1                                    192   \n",
       "2                                    138   \n",
       "3                                     40   \n",
       "4                                     73   \n",
       "\n",
       "   Nuclei_AreaShape_BoundingBoxMinimum_X  \\\n",
       "0                                    267   \n",
       "1                                    817   \n",
       "2                                     11   \n",
       "3                                    310   \n",
       "4                                    625   \n",
       "\n",
       "   Nuclei_AreaShape_BoundingBoxMinimum_Y  original_index  \\\n",
       "0                                     36             249   \n",
       "1                                    134             258   \n",
       "2                                     99             271   \n",
       "3                                     18             284   \n",
       "4                                     29             352   \n",
       "\n",
       "   cqc.formfactor_displacement_outlier  cqc.compactness_outlier  \n",
       "0                                False                     True  \n",
       "1                                False                     True  \n",
       "2                                 True                    False  \n",
       "3                                 True                    False  \n",
       "4                                 True                     True  "
      ]
     },
     "execution_count": 11,
     "metadata": {},
     "output_type": "execute_result"
    }
   ],
   "source": [
    "# Create a new dataframe for poor nuclei outliers\n",
    "poor_qc_indices = poor_nuclei_outliers[metadata_cols].copy()\n",
    "poor_qc_indices[\"original_index\"] = poor_qc_indices.index  # Store original index\n",
    "poor_qc_indices = poor_qc_indices.reset_index(drop=True)  # Reset index\n",
    "poor_qc_indices[\"cqc.compactness_outlier\"] = True\n",
    "\n",
    "# Merge both outlier dataframes on metadata columns and original_index\n",
    "failed_qc_indices = failed_qc_indices.merge(\n",
    "    poor_qc_indices,\n",
    "    on=[*metadata_cols, \"original_index\"],\n",
    "    how=\"outer\"\n",
    ")\n",
    "\n",
    "# Fill missing values with False (ensuring only detected outliers are True)\n",
    "failed_qc_indices[[\"cqc.formfactor_displacement_outlier\", \"cqc.compactness_outlier\"]] = (\n",
    "    failed_qc_indices[[\"cqc.formfactor_displacement_outlier\", \"cqc.compactness_outlier\"]]\n",
    "    .fillna(False)\n",
    ")\n",
    "\n",
    "# Calculate percentage removed\n",
    "num_outliers = failed_qc_indices[\"original_index\"].nunique()\n",
    "total_cells = len(df_merged_single_cells)\n",
    "percentage_removed = (num_outliers / total_cells) * 100\n",
    "\n",
    "# Sort by original index to maintain consistent order\n",
    "failed_qc_indices = failed_qc_indices.sort_values(by=\"original_index\").reset_index(drop=True)\n",
    "\n",
    "# Save the indices for failed single-cells as a compressed CSV file\n",
    "failed_qc_indices.to_csv(Path(f\"{qc_results_dir}/{plate_id}_failed_qc_indices.csv.gz\"), compression=\"gzip\")  # noqa: E501\n",
    "\n",
    "print(f\"Failed QC indices shape: {failed_qc_indices.shape}\")\n",
    "print(f\"Percentage of single cells removed: {percentage_removed:.2f}%\")\n",
    "failed_qc_indices.head()"
   ]
  }
 ],
 "metadata": {
  "kernelspec": {
   "display_name": "jump_sc",
   "language": "python",
   "name": "python3"
  },
  "language_info": {
   "codemirror_mode": {
    "name": "ipython",
    "version": 3
   },
   "file_extension": ".py",
   "mimetype": "text/x-python",
   "name": "python",
   "nbconvert_exporter": "python",
   "pygments_lexer": "ipython3",
   "version": "3.9.21"
  },
  "papermill": {
   "default_parameters": {},
   "duration": 20.153408,
   "end_time": "2025-02-20T21:41:01.198387",
   "environment_variables": {},
   "exception": null,
   "input_path": "single_cell_qc.ipynb",
   "output_path": "single_cell_qc.ipynb",
   "parameters": {
    "plate_id": "BR00116999"
   },
   "start_time": "2025-02-20T21:40:41.044979",
   "version": "2.6.0"
  }
 },
 "nbformat": 4,
 "nbformat_minor": 5
}
