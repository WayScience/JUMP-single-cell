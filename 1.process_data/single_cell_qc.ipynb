{
 "cells": [
  {
   "cell_type": "markdown",
   "id": "e3d62700",
   "metadata": {
    "papermill": {
     "duration": 0.006137,
     "end_time": "2025-02-20T21:01:41.395080",
     "exception": false,
     "start_time": "2025-02-20T21:01:41.388943",
     "status": "completed"
    },
    "tags": []
   },
   "source": [
    "## Perform single-cell quality control to remove erroneous, technical outlier segmentations\n",
    "\n",
    "Using coSMicQC, we decided on three morphology features (related to shape and intensity) to maximize removal of poor quality nuclei segmentations that could impact downstream analysis.\n",
    "\n",
    "The original indices are saved as a CSV file to be used for filtering downstream."
   ]
  },
  {
   "cell_type": "markdown",
   "id": "73031c7f",
   "metadata": {
    "papermill": {
     "duration": 0.004463,
     "end_time": "2025-02-20T21:01:41.406060",
     "exception": false,
     "start_time": "2025-02-20T21:01:41.401597",
     "status": "completed"
    },
    "tags": []
   },
   "source": [
    "## Set papermill parameters"
   ]
  },
  {
   "cell_type": "code",
   "execution_count": 1,
   "id": "afb151be",
   "metadata": {
    "execution": {
     "iopub.execute_input": "2025-02-20T21:01:41.417199Z",
     "iopub.status.busy": "2025-02-20T21:01:41.416733Z",
     "iopub.status.idle": "2025-02-20T21:01:41.423477Z",
     "shell.execute_reply": "2025-02-20T21:01:41.422925Z"
    },
    "papermill": {
     "duration": 0.013557,
     "end_time": "2025-02-20T21:01:41.424623",
     "exception": false,
     "start_time": "2025-02-20T21:01:41.411066",
     "status": "completed"
    },
    "tags": [
     "parameters"
    ]
   },
   "outputs": [],
   "source": [
    "# Papermill notebook parameters\n",
    "# (including notebook cell tag).\n",
    "# We set a default here which may be overridden\n",
    "# during Papermill execution.\n",
    "# See here for more information:\n",
    "# https://papermill.readthedocs.io/en/latest/usage-parameterize.html\n",
    "plate_id = \"BR00117010\""
   ]
  },
  {
   "cell_type": "code",
   "execution_count": 2,
   "id": "a0875496",
   "metadata": {
    "execution": {
     "iopub.execute_input": "2025-02-20T21:01:41.437053Z",
     "iopub.status.busy": "2025-02-20T21:01:41.436551Z",
     "iopub.status.idle": "2025-02-20T21:01:41.439628Z",
     "shell.execute_reply": "2025-02-20T21:01:41.439079Z"
    },
    "papermill": {
     "duration": 0.010231,
     "end_time": "2025-02-20T21:01:41.440593",
     "exception": false,
     "start_time": "2025-02-20T21:01:41.430362",
     "status": "completed"
    },
    "tags": [
     "injected-parameters"
    ]
   },
   "outputs": [],
   "source": [
    "# Parameters\n",
    "plate_id = \"BR00116999\"\n"
   ]
  },
  {
   "cell_type": "markdown",
   "id": "5391c242",
   "metadata": {
    "papermill": {
     "duration": 0.004777,
     "end_time": "2025-02-20T21:01:41.450174",
     "exception": false,
     "start_time": "2025-02-20T21:01:41.445397",
     "status": "completed"
    },
    "tags": []
   },
   "source": [
    "## Import libraries"
   ]
  },
  {
   "cell_type": "code",
   "execution_count": 3,
   "id": "5fc6958e",
   "metadata": {
    "execution": {
     "iopub.execute_input": "2025-02-20T21:01:41.461116Z",
     "iopub.status.busy": "2025-02-20T21:01:41.460646Z",
     "iopub.status.idle": "2025-02-20T21:01:42.127059Z",
     "shell.execute_reply": "2025-02-20T21:01:42.125439Z"
    },
    "papermill": {
     "duration": 0.673726,
     "end_time": "2025-02-20T21:01:42.128595",
     "exception": false,
     "start_time": "2025-02-20T21:01:41.454869",
     "status": "completed"
    },
    "tags": []
   },
   "outputs": [],
   "source": [
    "from pathlib import Path\n",
    "\n",
    "import cosmicqc\n",
    "import pandas as pd\n",
    "from cytodataframe import CytoDataFrame\n",
    "from pyarrow import parquet"
   ]
  },
  {
   "cell_type": "markdown",
   "id": "040475a7",
   "metadata": {
    "papermill": {
     "duration": 0.004713,
     "end_time": "2025-02-20T21:01:42.137830",
     "exception": false,
     "start_time": "2025-02-20T21:01:42.133117",
     "status": "completed"
    },
    "tags": []
   },
   "source": [
    "## Load in the plate data to process with only relevant metadata columns"
   ]
  },
  {
   "cell_type": "code",
   "execution_count": 4,
   "id": "99da20fd",
   "metadata": {
    "execution": {
     "iopub.execute_input": "2025-02-20T21:01:42.151293Z",
     "iopub.status.busy": "2025-02-20T21:01:42.150559Z",
     "iopub.status.idle": "2025-02-20T21:01:42.638728Z",
     "shell.execute_reply": "2025-02-20T21:01:42.638226Z"
    },
    "papermill": {
     "duration": 0.496412,
     "end_time": "2025-02-20T21:01:42.639792",
     "exception": false,
     "start_time": "2025-02-20T21:01:42.143380",
     "status": "completed"
    },
    "tags": []
   },
   "outputs": [
    {
     "data": {
      "text/plain": [
       "<pyarrow._parquet.FileMetaData object at 0x750003767540>\n",
       "  created_by: parquet-cpp-arrow version 17.0.0\n",
       "  num_columns: 7390\n",
       "  num_rows: 390137\n",
       "  num_row_groups: 44\n",
       "  format_version: 2.6\n",
       "  serialized_size: 48882510"
      ]
     },
     "execution_count": 4,
     "metadata": {},
     "output_type": "execute_result"
    }
   ],
   "source": [
    "# set path to save qc results\n",
    "qc_results_dir = Path(\"./qc_results\")\n",
    "qc_results_dir.mkdir(parents=True, exist_ok=True)\n",
    "\n",
    "# form a path to the parquet file with single-cell profiles\n",
    "merged_single_cells = (\n",
    "    f\"/media/jenna/8TB-C/work/JUMP-single-cell/0.download_data/data/plates/{plate_id}/{plate_id}.parquet\"\n",
    ")\n",
    "\n",
    "# read only the metadata from parquet file\n",
    "parquet.ParquetFile(merged_single_cells).metadata"
   ]
  },
  {
   "cell_type": "code",
   "execution_count": 5,
   "id": "8a1bd162",
   "metadata": {
    "execution": {
     "iopub.execute_input": "2025-02-20T21:01:42.651492Z",
     "iopub.status.busy": "2025-02-20T21:01:42.651077Z",
     "iopub.status.idle": "2025-02-20T21:01:43.343171Z",
     "shell.execute_reply": "2025-02-20T21:01:43.342684Z"
    },
    "papermill": {
     "duration": 0.699131,
     "end_time": "2025-02-20T21:01:43.344202",
     "exception": false,
     "start_time": "2025-02-20T21:01:42.645071",
     "status": "completed"
    },
    "tags": []
   },
   "outputs": [
    {
     "name": "stdout",
     "output_type": "stream",
     "text": [
      "(390137, 18)\n"
     ]
    },
    {
     "data": {
      "text/html": [
       "<div>\n",
       "<style scoped>\n",
       "    .dataframe tbody tr th:only-of-type {\n",
       "        vertical-align: middle;\n",
       "    }\n",
       "\n",
       "    .dataframe tbody tr th {\n",
       "        vertical-align: top;\n",
       "    }\n",
       "\n",
       "    .dataframe thead th {\n",
       "        text-align: right;\n",
       "    }\n",
       "</style>\n",
       "<table border=\"1\" class=\"dataframe\">\n",
       "  <thead>\n",
       "    <tr style=\"text-align: right;\">\n",
       "      <th></th>\n",
       "      <th>Metadata_ImageNumber</th>\n",
       "      <th>Image_Metadata_Site</th>\n",
       "      <th>Metadata_ObjectNumber</th>\n",
       "      <th>Metadata_Plate</th>\n",
       "      <th>Metadata_Well</th>\n",
       "      <th>Image_Metadata_Col</th>\n",
       "      <th>Image_Metadata_Row</th>\n",
       "      <th>Image_FileName_CellOutlines</th>\n",
       "      <th>Image_FileName_NucleiOutlines</th>\n",
       "      <th>Image_FileName_OrigDNA</th>\n",
       "      <th>Image_FileName_OrigRNA</th>\n",
       "      <th>Nuclei_AreaShape_BoundingBoxMaximum_X</th>\n",
       "      <th>Nuclei_AreaShape_BoundingBoxMaximum_Y</th>\n",
       "      <th>Nuclei_AreaShape_BoundingBoxMinimum_X</th>\n",
       "      <th>Nuclei_AreaShape_BoundingBoxMinimum_Y</th>\n",
       "      <th>Nuclei_AreaShape_FormFactor</th>\n",
       "      <th>Nuclei_Intensity_MassDisplacement_DNA</th>\n",
       "      <th>Nuclei_AreaShape_Compactness</th>\n",
       "    </tr>\n",
       "  </thead>\n",
       "  <tbody>\n",
       "    <tr>\n",
       "      <th>0</th>\n",
       "      <td>1</td>\n",
       "      <td>1</td>\n",
       "      <td>1</td>\n",
       "      <td>BR00116999</td>\n",
       "      <td>A01</td>\n",
       "      <td>1</td>\n",
       "      <td>1</td>\n",
       "      <td>A01_s1--cell_outlines.png</td>\n",
       "      <td>A01_s1--nuclei_outlines.png</td>\n",
       "      <td>r01c01f01p01-ch5sk1fk1fl1.tiff</td>\n",
       "      <td>r01c01f01p01-ch3sk1fk1fl1.tiff</td>\n",
       "      <td>490</td>\n",
       "      <td>267</td>\n",
       "      <td>458</td>\n",
       "      <td>224</td>\n",
       "      <td>0.898131</td>\n",
       "      <td>0.209406</td>\n",
       "      <td>1.113423</td>\n",
       "    </tr>\n",
       "    <tr>\n",
       "      <th>1</th>\n",
       "      <td>1</td>\n",
       "      <td>1</td>\n",
       "      <td>2</td>\n",
       "      <td>BR00116999</td>\n",
       "      <td>A01</td>\n",
       "      <td>1</td>\n",
       "      <td>1</td>\n",
       "      <td>A01_s1--cell_outlines.png</td>\n",
       "      <td>A01_s1--nuclei_outlines.png</td>\n",
       "      <td>r01c01f01p01-ch5sk1fk1fl1.tiff</td>\n",
       "      <td>r01c01f01p01-ch3sk1fk1fl1.tiff</td>\n",
       "      <td>496</td>\n",
       "      <td>371</td>\n",
       "      <td>457</td>\n",
       "      <td>334</td>\n",
       "      <td>0.899824</td>\n",
       "      <td>0.269529</td>\n",
       "      <td>1.111328</td>\n",
       "    </tr>\n",
       "    <tr>\n",
       "      <th>2</th>\n",
       "      <td>2</td>\n",
       "      <td>2</td>\n",
       "      <td>1</td>\n",
       "      <td>BR00116999</td>\n",
       "      <td>A01</td>\n",
       "      <td>1</td>\n",
       "      <td>1</td>\n",
       "      <td>A01_s2--cell_outlines.png</td>\n",
       "      <td>A01_s2--nuclei_outlines.png</td>\n",
       "      <td>r01c01f02p01-ch5sk1fk1fl1.tiff</td>\n",
       "      <td>r01c01f02p01-ch3sk1fk1fl1.tiff</td>\n",
       "      <td>652</td>\n",
       "      <td>39</td>\n",
       "      <td>615</td>\n",
       "      <td>10</td>\n",
       "      <td>0.903621</td>\n",
       "      <td>0.257325</td>\n",
       "      <td>1.106659</td>\n",
       "    </tr>\n",
       "    <tr>\n",
       "      <th>3</th>\n",
       "      <td>2</td>\n",
       "      <td>2</td>\n",
       "      <td>2</td>\n",
       "      <td>BR00116999</td>\n",
       "      <td>A01</td>\n",
       "      <td>1</td>\n",
       "      <td>1</td>\n",
       "      <td>A01_s2--cell_outlines.png</td>\n",
       "      <td>A01_s2--nuclei_outlines.png</td>\n",
       "      <td>r01c01f02p01-ch5sk1fk1fl1.tiff</td>\n",
       "      <td>r01c01f02p01-ch3sk1fk1fl1.tiff</td>\n",
       "      <td>423</td>\n",
       "      <td>45</td>\n",
       "      <td>376</td>\n",
       "      <td>7</td>\n",
       "      <td>0.820085</td>\n",
       "      <td>1.069862</td>\n",
       "      <td>1.219385</td>\n",
       "    </tr>\n",
       "    <tr>\n",
       "      <th>4</th>\n",
       "      <td>2</td>\n",
       "      <td>2</td>\n",
       "      <td>3</td>\n",
       "      <td>BR00116999</td>\n",
       "      <td>A01</td>\n",
       "      <td>1</td>\n",
       "      <td>1</td>\n",
       "      <td>A01_s2--cell_outlines.png</td>\n",
       "      <td>A01_s2--nuclei_outlines.png</td>\n",
       "      <td>r01c01f02p01-ch5sk1fk1fl1.tiff</td>\n",
       "      <td>r01c01f02p01-ch3sk1fk1fl1.tiff</td>\n",
       "      <td>593</td>\n",
       "      <td>45</td>\n",
       "      <td>571</td>\n",
       "      <td>21</td>\n",
       "      <td>0.922451</td>\n",
       "      <td>0.205589</td>\n",
       "      <td>1.084068</td>\n",
       "    </tr>\n",
       "  </tbody>\n",
       "</table>\n",
       "</div>"
      ],
      "text/plain": [
       "   Metadata_ImageNumber  Image_Metadata_Site  Metadata_ObjectNumber  \\\n",
       "0                     1                    1                      1   \n",
       "1                     1                    1                      2   \n",
       "2                     2                    2                      1   \n",
       "3                     2                    2                      2   \n",
       "4                     2                    2                      3   \n",
       "\n",
       "  Metadata_Plate Metadata_Well  Image_Metadata_Col  Image_Metadata_Row  \\\n",
       "0     BR00116999           A01                   1                   1   \n",
       "1     BR00116999           A01                   1                   1   \n",
       "2     BR00116999           A01                   1                   1   \n",
       "3     BR00116999           A01                   1                   1   \n",
       "4     BR00116999           A01                   1                   1   \n",
       "\n",
       "  Image_FileName_CellOutlines Image_FileName_NucleiOutlines  \\\n",
       "0   A01_s1--cell_outlines.png   A01_s1--nuclei_outlines.png   \n",
       "1   A01_s1--cell_outlines.png   A01_s1--nuclei_outlines.png   \n",
       "2   A01_s2--cell_outlines.png   A01_s2--nuclei_outlines.png   \n",
       "3   A01_s2--cell_outlines.png   A01_s2--nuclei_outlines.png   \n",
       "4   A01_s2--cell_outlines.png   A01_s2--nuclei_outlines.png   \n",
       "\n",
       "           Image_FileName_OrigDNA          Image_FileName_OrigRNA  \\\n",
       "0  r01c01f01p01-ch5sk1fk1fl1.tiff  r01c01f01p01-ch3sk1fk1fl1.tiff   \n",
       "1  r01c01f01p01-ch5sk1fk1fl1.tiff  r01c01f01p01-ch3sk1fk1fl1.tiff   \n",
       "2  r01c01f02p01-ch5sk1fk1fl1.tiff  r01c01f02p01-ch3sk1fk1fl1.tiff   \n",
       "3  r01c01f02p01-ch5sk1fk1fl1.tiff  r01c01f02p01-ch3sk1fk1fl1.tiff   \n",
       "4  r01c01f02p01-ch5sk1fk1fl1.tiff  r01c01f02p01-ch3sk1fk1fl1.tiff   \n",
       "\n",
       "   Nuclei_AreaShape_BoundingBoxMaximum_X  \\\n",
       "0                                    490   \n",
       "1                                    496   \n",
       "2                                    652   \n",
       "3                                    423   \n",
       "4                                    593   \n",
       "\n",
       "   Nuclei_AreaShape_BoundingBoxMaximum_Y  \\\n",
       "0                                    267   \n",
       "1                                    371   \n",
       "2                                     39   \n",
       "3                                     45   \n",
       "4                                     45   \n",
       "\n",
       "   Nuclei_AreaShape_BoundingBoxMinimum_X  \\\n",
       "0                                    458   \n",
       "1                                    457   \n",
       "2                                    615   \n",
       "3                                    376   \n",
       "4                                    571   \n",
       "\n",
       "   Nuclei_AreaShape_BoundingBoxMinimum_Y  Nuclei_AreaShape_FormFactor  \\\n",
       "0                                    224                     0.898131   \n",
       "1                                    334                     0.899824   \n",
       "2                                     10                     0.903621   \n",
       "3                                      7                     0.820085   \n",
       "4                                     21                     0.922451   \n",
       "\n",
       "   Nuclei_Intensity_MassDisplacement_DNA  Nuclei_AreaShape_Compactness  \n",
       "0                               0.209406                      1.113423  \n",
       "1                               0.269529                      1.111328  \n",
       "2                               0.257325                      1.106659  \n",
       "3                               1.069862                      1.219385  \n",
       "4                               0.205589                      1.084068  "
      ]
     },
     "execution_count": 5,
     "metadata": {},
     "output_type": "execute_result"
    }
   ],
   "source": [
    "# set a list of metadata columns for use throughout\n",
    "metadata_cols = [\n",
    "    \"Metadata_ImageNumber\",\n",
    "    \"Image_Metadata_Site\",\n",
    "    \"Metadata_ObjectNumber\",\n",
    "    \"Metadata_Plate\",\n",
    "    \"Metadata_Well\",\n",
    "    \"Image_Metadata_Col\",\n",
    "    \"Image_Metadata_Row\",\n",
    "    \"Image_FileName_CellOutlines\",\n",
    "    \"Image_FileName_NucleiOutlines\",\n",
    "    \"Image_FileName_OrigDNA\",\n",
    "    \"Image_FileName_OrigRNA\",\n",
    "    \"Nuclei_AreaShape_BoundingBoxMaximum_X\",\n",
    "    \"Nuclei_AreaShape_BoundingBoxMaximum_Y\",\n",
    "    \"Nuclei_AreaShape_BoundingBoxMinimum_X\",\n",
    "    \"Nuclei_AreaShape_BoundingBoxMinimum_Y\",\n",
    "]\n",
    "\n",
    "# read only metadata columns with feature columns used for outlier detection\n",
    "df_merged_single_cells = pd.read_parquet(\n",
    "    path=merged_single_cells,\n",
    "    columns=[\n",
    "        *metadata_cols,\n",
    "        \"Nuclei_AreaShape_FormFactor\",\n",
    "        \"Nuclei_Intensity_MassDisplacement_DNA\",\n",
    "        \"Nuclei_AreaShape_Compactness\",\n",
    "    ],\n",
    ")\n",
    "print(df_merged_single_cells.shape)\n",
    "df_merged_single_cells.head()"
   ]
  },
  {
   "cell_type": "markdown",
   "id": "3579f0a4",
   "metadata": {
    "papermill": {
     "duration": 0.005581,
     "end_time": "2025-02-20T21:01:43.356382",
     "exception": false,
     "start_time": "2025-02-20T21:01:43.350801",
     "status": "completed"
    },
    "tags": []
   },
   "source": [
    "## Create mapping for the outlines to the images for CytoDataFrame"
   ]
  },
  {
   "cell_type": "code",
   "execution_count": 6,
   "id": "c0b86565",
   "metadata": {
    "execution": {
     "iopub.execute_input": "2025-02-20T21:01:43.374572Z",
     "iopub.status.busy": "2025-02-20T21:01:43.374201Z",
     "iopub.status.idle": "2025-02-20T21:01:44.145348Z",
     "shell.execute_reply": "2025-02-20T21:01:44.144820Z"
    },
    "papermill": {
     "duration": 0.784406,
     "end_time": "2025-02-20T21:01:44.146299",
     "exception": false,
     "start_time": "2025-02-20T21:01:43.361893",
     "status": "completed"
    },
    "tags": []
   },
   "outputs": [
    {
     "data": {
      "text/plain": [
       "('A01_s1--nuclei_outlines\\\\.png', 'r01c01f01p(\\\\d{2})-.*\\\\.tiff')"
      ]
     },
     "execution_count": 6,
     "metadata": {},
     "output_type": "execute_result"
    }
   ],
   "source": [
    "# create an outline and orig mapping dictionary to map original images to outlines\n",
    "# note: we turn off formatting here to avoid the key-value pairing definintion\n",
    "# from being reformatted by black, which is normally preferred.\n",
    "# fmt: off\n",
    "outline_to_orig_mapping = {\n",
    "    rf\"{record['Metadata_Well']}_s{record['Image_Metadata_Site']}--nuclei_outlines\\.png\":\n",
    "    rf\"r{record['Image_Metadata_Row']:02d}c{record['Image_Metadata_Col']:02d}f{record['Image_Metadata_Site']:02d}p(\\d{{2}})-.*\\.tiff\"\n",
    "    for record in df_merged_single_cells[\n",
    "        [\n",
    "            \"Metadata_Well\",\n",
    "            \"Image_Metadata_Row\",\n",
    "            \"Image_Metadata_Col\",\n",
    "            \"Image_Metadata_Site\",\n",
    "        ]\n",
    "    ].to_dict(orient=\"records\")\n",
    "}\n",
    "# fmt: on\n",
    "\n",
    "next(iter(outline_to_orig_mapping.items()))"
   ]
  },
  {
   "cell_type": "markdown",
   "id": "d237fa5d",
   "metadata": {
    "papermill": {
     "duration": 0.015366,
     "end_time": "2025-02-20T21:01:44.169424",
     "exception": false,
     "start_time": "2025-02-20T21:01:44.154058",
     "status": "completed"
    },
    "tags": []
   },
   "source": [
    "## Detect technically mis-segmented nuclei\n",
    "\n",
    "We define technically mis-segmented nuclei as segmentations that include more than one nuclei, under or over-segmentation, or segmentation of background/smudging.\n",
    "\n",
    "We are using the measurements in two different conditions:\n"
   ]
  },
  {
   "cell_type": "markdown",
   "id": "ef111895",
   "metadata": {
    "papermill": {
     "duration": 0.002793,
     "end_time": "2025-02-20T21:01:44.188379",
     "exception": false,
     "start_time": "2025-02-20T21:01:44.185586",
     "status": "completed"
    },
    "tags": []
   },
   "source": [
    "1. Irregular shaped nuclei where the intensity based center is much different than the shape's center\n",
    "\n",
    "This condition looks to detect any technical outliers with irregular shape and very high difference in centeroids, which can be detecting multiple different types of technical outliers.\n",
    "\n",
    "- `FormFactor`, which detects how irregular the shape is. \n",
    "- `MassDisplacement`, which detects how different the segmentation versus intensity based centeroids are (which can reflect multiple nuclei within one segmentation).\n",
    "We understand that interesting phenotypes will occur, so we are going to evaluate if this will identify the mis-segmentationsb"
   ]
  },
  {
   "cell_type": "markdown",
   "id": "e29ba3c9",
   "metadata": {
    "papermill": {
     "duration": 0.002811,
     "end_time": "2025-02-20T21:01:44.193858",
     "exception": false,
     "start_time": "2025-02-20T21:01:44.191047",
     "status": "completed"
    },
    "tags": []
   },
   "source": [
    "### Detect outliers and show single-cell image crops with CytoDataFrame (cdf)"
   ]
  },
  {
   "cell_type": "code",
   "execution_count": 7,
   "id": "44559bab",
   "metadata": {
    "execution": {
     "iopub.execute_input": "2025-02-20T21:01:44.200034Z",
     "iopub.status.busy": "2025-02-20T21:01:44.199833Z",
     "iopub.status.idle": "2025-02-20T21:01:52.201752Z",
     "shell.execute_reply": "2025-02-20T21:01:52.201233Z"
    },
    "papermill": {
     "duration": 8.005888,
     "end_time": "2025-02-20T21:01:52.202373",
     "exception": false,
     "start_time": "2025-02-20T21:01:44.196485",
     "status": "completed"
    },
    "tags": []
   },
   "outputs": [
    {
     "name": "stdout",
     "output_type": "stream",
     "text": [
      "Number of outliers: 3073 (0.79%)\n",
      "Outliers Range:\n",
      "Nuclei_AreaShape_FormFactor Min: 0.2382392939636043\n",
      "Nuclei_AreaShape_FormFactor Max: 0.6755315489397838\n",
      "Nuclei_Intensity_MassDisplacement_DNA Min: 0.9385108762193086\n",
      "Nuclei_Intensity_MassDisplacement_DNA Max: 7.352334038850726\n",
      "(3073, 3)\n"
     ]
    },
    {
     "data": {
      "text/html": [
       "<table border=\"1\" class=\"dataframe\">\n",
       "  <thead>\n",
       "    <tr style=\"text-align: right;\">\n",
       "      <th></th>\n",
       "      <th>Nuclei_AreaShape_FormFactor</th>\n",
       "      <th>Nuclei_Intensity_MassDisplacement_DNA</th>\n",
       "      <th>Image_FileName_OrigDNA</th>\n",
       "    </tr>\n",
       "  </thead>\n",
       "  <tbody>\n",
       "    <tr>\n",
       "      <th>225797</th>\n",
       "      <td>0.675532</td>\n",
       "      <td>0.959004</td>\n",
       "      <td>r08c10f02p01-ch5sk1fk1fl1.tiff</td>\n",
       "    </tr>\n",
       "    <tr>\n",
       "      <th>128039</th>\n",
       "      <td>0.675490</td>\n",
       "      <td>1.045053</td>\n",
       "      <td>r14c10f02p01-ch5sk1fk1fl1.tiff</td>\n",
       "    </tr>\n",
       "  </tbody>\n",
       "</table>"
      ],
      "text/plain": [
       "        Nuclei_AreaShape_FormFactor  Nuclei_Intensity_MassDisplacement_DNA  \\\n",
       "225797                     0.675532                               0.959004   \n",
       "128039                     0.675490                               1.045053   \n",
       "\n",
       "                Image_FileName_OrigDNA  \n",
       "225797  r08c10f02p01-ch5sk1fk1fl1.tiff  \n",
       "128039  r14c10f02p01-ch5sk1fk1fl1.tiff  "
      ]
     },
     "execution_count": 7,
     "metadata": {},
     "output_type": "execute_result"
    }
   ],
   "source": [
    "# find irregular shaped nuclei using thresholds that maximizes\n",
    "# removing most technical outliers and minimizes good cells\n",
    "feature_thresholds = {\n",
    "    \"Nuclei_AreaShape_FormFactor\": -2.35,\n",
    "    \"Nuclei_Intensity_MassDisplacement_DNA\": 1.5\n",
    "}\n",
    "\n",
    "irregular_nuclei_outliers = cosmicqc.find_outliers(\n",
    "    df=df_merged_single_cells,\n",
    "    metadata_columns=metadata_cols,\n",
    "    feature_thresholds=feature_thresholds\n",
    ")\n",
    "\n",
    "irregular_nuclei_outliers_cdf = CytoDataFrame(\n",
    "    data=pd.DataFrame(irregular_nuclei_outliers),\n",
    "    data_context_dir=f\"/media/jenna/8TB-C/work/JUMP-download-images/JUMP-single-cell/0.download_data/data/images/{plate_id}/orig\",\n",
    "    data_outline_context_dir=f\"/media/jenna/8TB-C/work/JUMP-download-images/JUMP-single-cell/0.download_data/data/images/{plate_id}/outlines\",\n",
    "    segmentation_file_regex=outline_to_orig_mapping,\n",
    ")[\n",
    "    [\n",
    "        \"Nuclei_AreaShape_FormFactor\",\n",
    "        \"Nuclei_Intensity_MassDisplacement_DNA\",\n",
    "        \"Image_FileName_OrigDNA\",\n",
    "    ]\n",
    "]\n",
    "\n",
    "\n",
    "print(irregular_nuclei_outliers_cdf.shape)\n",
    "irregular_nuclei_outliers_cdf.sort_values(by=\"Nuclei_AreaShape_FormFactor\", ascending=False).head(2)"
   ]
  },
  {
   "cell_type": "markdown",
   "id": "c5ac8357",
   "metadata": {
    "papermill": {
     "duration": 0.0028,
     "end_time": "2025-02-20T21:01:52.208371",
     "exception": false,
     "start_time": "2025-02-20T21:01:52.205571",
     "status": "completed"
    },
    "tags": []
   },
   "source": [
    "### Randomly sample outlier rows to visually inspect if the threshold looks to be optimized"
   ]
  },
  {
   "cell_type": "code",
   "execution_count": 8,
   "id": "d9ecd86e",
   "metadata": {
    "execution": {
     "iopub.execute_input": "2025-02-20T21:01:52.214920Z",
     "iopub.status.busy": "2025-02-20T21:01:52.214746Z",
     "iopub.status.idle": "2025-02-20T21:01:52.224013Z",
     "shell.execute_reply": "2025-02-20T21:01:52.223445Z"
    },
    "papermill": {
     "duration": 0.013554,
     "end_time": "2025-02-20T21:01:52.224674",
     "exception": false,
     "start_time": "2025-02-20T21:01:52.211120",
     "status": "completed"
    },
    "tags": []
   },
   "outputs": [
    {
     "data": {
      "text/html": [
       "<table border=\"1\" class=\"dataframe\">\n",
       "  <thead>\n",
       "    <tr style=\"text-align: right;\">\n",
       "      <th></th>\n",
       "      <th>Nuclei_AreaShape_FormFactor</th>\n",
       "      <th>Nuclei_Intensity_MassDisplacement_DNA</th>\n",
       "      <th>Image_FileName_OrigDNA</th>\n",
       "    </tr>\n",
       "  </thead>\n",
       "  <tbody>\n",
       "    <tr>\n",
       "      <th>226848</th>\n",
       "      <td>0.650406</td>\n",
       "      <td>1.964048</td>\n",
       "      <td>r11c03f05p01-ch5sk1fk1fl1.tiff</td>\n",
       "    </tr>\n",
       "    <tr>\n",
       "      <th>130641</th>\n",
       "      <td>0.642413</td>\n",
       "      <td>2.013209</td>\n",
       "      <td>r04c18f07p01-ch5sk1fk1fl1.tiff</td>\n",
       "    </tr>\n",
       "    <tr>\n",
       "      <th>109038</th>\n",
       "      <td>0.413985</td>\n",
       "      <td>2.200736</td>\n",
       "      <td>r10c05f05p01-ch5sk1fk1fl1.tiff</td>\n",
       "    </tr>\n",
       "    <tr>\n",
       "      <th>278593</th>\n",
       "      <td>0.486237</td>\n",
       "      <td>2.509497</td>\n",
       "      <td>r07c04f02p01-ch5sk1fk1fl1.tiff</td>\n",
       "    </tr>\n",
       "    <tr>\n",
       "      <th>283489</th>\n",
       "      <td>0.668746</td>\n",
       "      <td>1.439548</td>\n",
       "      <td>r16c12f04p01-ch5sk1fk1fl1.tiff</td>\n",
       "    </tr>\n",
       "  </tbody>\n",
       "</table>"
      ],
      "text/plain": [
       "        Nuclei_AreaShape_FormFactor  Nuclei_Intensity_MassDisplacement_DNA  \\\n",
       "226848                     0.650406                               1.964048   \n",
       "130641                     0.642413                               2.013209   \n",
       "109038                     0.413985                               2.200736   \n",
       "278593                     0.486237                               2.509497   \n",
       "283489                     0.668746                               1.439548   \n",
       "\n",
       "                Image_FileName_OrigDNA  \n",
       "226848  r11c03f05p01-ch5sk1fk1fl1.tiff  \n",
       "130641  r04c18f07p01-ch5sk1fk1fl1.tiff  \n",
       "109038  r10c05f05p01-ch5sk1fk1fl1.tiff  \n",
       "278593  r07c04f02p01-ch5sk1fk1fl1.tiff  \n",
       "283489  r16c12f04p01-ch5sk1fk1fl1.tiff  "
      ]
     },
     "execution_count": 8,
     "metadata": {},
     "output_type": "execute_result"
    }
   ],
   "source": [
    "irregular_nuclei_outliers_cdf.sample(n=5, random_state=0)"
   ]
  },
  {
   "cell_type": "markdown",
   "id": "6141a7b8",
   "metadata": {
    "papermill": {
     "duration": 0.003303,
     "end_time": "2025-02-20T21:01:52.231147",
     "exception": false,
     "start_time": "2025-02-20T21:01:52.227844",
     "status": "completed"
    },
    "tags": []
   },
   "source": [
    "### Generate a new dataframe to save the original indices for filtering prior to further preprocessing"
   ]
  },
  {
   "cell_type": "code",
   "execution_count": 9,
   "id": "5f2e8933",
   "metadata": {
    "execution": {
     "iopub.execute_input": "2025-02-20T21:01:52.237974Z",
     "iopub.status.busy": "2025-02-20T21:01:52.237812Z",
     "iopub.status.idle": "2025-02-20T21:01:52.270065Z",
     "shell.execute_reply": "2025-02-20T21:01:52.269560Z"
    },
    "papermill": {
     "duration": 0.036719,
     "end_time": "2025-02-20T21:01:52.271009",
     "exception": false,
     "start_time": "2025-02-20T21:01:52.234290",
     "status": "completed"
    },
    "tags": []
   },
   "outputs": [
    {
     "name": "stdout",
     "output_type": "stream",
     "text": [
      "(3073, 17)\n"
     ]
    },
    {
     "data": {
      "text/html": [
       "<div>\n",
       "<style scoped>\n",
       "    .dataframe tbody tr th:only-of-type {\n",
       "        vertical-align: middle;\n",
       "    }\n",
       "\n",
       "    .dataframe tbody tr th {\n",
       "        vertical-align: top;\n",
       "    }\n",
       "\n",
       "    .dataframe thead th {\n",
       "        text-align: right;\n",
       "    }\n",
       "</style>\n",
       "<table border=\"1\" class=\"dataframe\">\n",
       "  <thead>\n",
       "    <tr style=\"text-align: right;\">\n",
       "      <th></th>\n",
       "      <th>Metadata_ImageNumber</th>\n",
       "      <th>Image_Metadata_Site</th>\n",
       "      <th>Metadata_ObjectNumber</th>\n",
       "      <th>Metadata_Plate</th>\n",
       "      <th>Metadata_Well</th>\n",
       "      <th>Image_Metadata_Col</th>\n",
       "      <th>Image_Metadata_Row</th>\n",
       "      <th>Image_FileName_CellOutlines</th>\n",
       "      <th>Image_FileName_NucleiOutlines</th>\n",
       "      <th>Image_FileName_OrigDNA</th>\n",
       "      <th>Image_FileName_OrigRNA</th>\n",
       "      <th>Nuclei_AreaShape_BoundingBoxMaximum_X</th>\n",
       "      <th>Nuclei_AreaShape_BoundingBoxMaximum_Y</th>\n",
       "      <th>Nuclei_AreaShape_BoundingBoxMinimum_X</th>\n",
       "      <th>Nuclei_AreaShape_BoundingBoxMinimum_Y</th>\n",
       "      <th>original_index</th>\n",
       "      <th>cqc.formfactor_displacement_outlier</th>\n",
       "    </tr>\n",
       "  </thead>\n",
       "  <tbody>\n",
       "    <tr>\n",
       "      <th>0</th>\n",
       "      <td>183</td>\n",
       "      <td>3</td>\n",
       "      <td>2</td>\n",
       "      <td>BR00116999</td>\n",
       "      <td>A21</td>\n",
       "      <td>21</td>\n",
       "      <td>1</td>\n",
       "      <td>A21_s3--cell_outlines.png</td>\n",
       "      <td>A21_s3--nuclei_outlines.png</td>\n",
       "      <td>r01c21f03p01-ch5sk1fk1fl1.tiff</td>\n",
       "      <td>r01c21f03p01-ch3sk1fk1fl1.tiff</td>\n",
       "      <td>1062</td>\n",
       "      <td>459</td>\n",
       "      <td>1023</td>\n",
       "      <td>415</td>\n",
       "      <td>282</td>\n",
       "      <td>True</td>\n",
       "    </tr>\n",
       "    <tr>\n",
       "      <th>1</th>\n",
       "      <td>279</td>\n",
       "      <td>9</td>\n",
       "      <td>1</td>\n",
       "      <td>BR00116999</td>\n",
       "      <td>B07</td>\n",
       "      <td>7</td>\n",
       "      <td>2</td>\n",
       "      <td>B07_s9--cell_outlines.png</td>\n",
       "      <td>B07_s9--nuclei_outlines.png</td>\n",
       "      <td>r02c07f09p01-ch5sk1fk1fl1.tiff</td>\n",
       "      <td>r02c07f09p01-ch3sk1fk1fl1.tiff</td>\n",
       "      <td>426</td>\n",
       "      <td>90</td>\n",
       "      <td>372</td>\n",
       "      <td>57</td>\n",
       "      <td>448</td>\n",
       "      <td>True</td>\n",
       "    </tr>\n",
       "    <tr>\n",
       "      <th>2</th>\n",
       "      <td>353</td>\n",
       "      <td>2</td>\n",
       "      <td>1</td>\n",
       "      <td>BR00116999</td>\n",
       "      <td>B16</td>\n",
       "      <td>16</td>\n",
       "      <td>2</td>\n",
       "      <td>B16_s2--cell_outlines.png</td>\n",
       "      <td>B16_s2--nuclei_outlines.png</td>\n",
       "      <td>r02c16f02p01-ch5sk1fk1fl1.tiff</td>\n",
       "      <td>r02c16f02p01-ch3sk1fk1fl1.tiff</td>\n",
       "      <td>332</td>\n",
       "      <td>64</td>\n",
       "      <td>283</td>\n",
       "      <td>15</td>\n",
       "      <td>575</td>\n",
       "      <td>True</td>\n",
       "    </tr>\n",
       "    <tr>\n",
       "      <th>3</th>\n",
       "      <td>470</td>\n",
       "      <td>2</td>\n",
       "      <td>3</td>\n",
       "      <td>BR00116999</td>\n",
       "      <td>C05</td>\n",
       "      <td>5</td>\n",
       "      <td>3</td>\n",
       "      <td>C05_s2--cell_outlines.png</td>\n",
       "      <td>C05_s2--nuclei_outlines.png</td>\n",
       "      <td>r03c05f02p01-ch5sk1fk1fl1.tiff</td>\n",
       "      <td>r03c05f02p01-ch3sk1fk1fl1.tiff</td>\n",
       "      <td>281</td>\n",
       "      <td>65</td>\n",
       "      <td>227</td>\n",
       "      <td>13</td>\n",
       "      <td>765</td>\n",
       "      <td>True</td>\n",
       "    </tr>\n",
       "    <tr>\n",
       "      <th>4</th>\n",
       "      <td>592</td>\n",
       "      <td>7</td>\n",
       "      <td>3</td>\n",
       "      <td>BR00116999</td>\n",
       "      <td>C18</td>\n",
       "      <td>18</td>\n",
       "      <td>3</td>\n",
       "      <td>C18_s7--cell_outlines.png</td>\n",
       "      <td>C18_s7--nuclei_outlines.png</td>\n",
       "      <td>r03c18f07p01-ch5sk1fk1fl1.tiff</td>\n",
       "      <td>r03c18f07p01-ch3sk1fk1fl1.tiff</td>\n",
       "      <td>348</td>\n",
       "      <td>99</td>\n",
       "      <td>275</td>\n",
       "      <td>67</td>\n",
       "      <td>974</td>\n",
       "      <td>True</td>\n",
       "    </tr>\n",
       "  </tbody>\n",
       "</table>\n",
       "</div>"
      ],
      "text/plain": [
       "   Metadata_ImageNumber  Image_Metadata_Site  Metadata_ObjectNumber  \\\n",
       "0                   183                    3                      2   \n",
       "1                   279                    9                      1   \n",
       "2                   353                    2                      1   \n",
       "3                   470                    2                      3   \n",
       "4                   592                    7                      3   \n",
       "\n",
       "  Metadata_Plate Metadata_Well  Image_Metadata_Col  Image_Metadata_Row  \\\n",
       "0     BR00116999           A21                  21                   1   \n",
       "1     BR00116999           B07                   7                   2   \n",
       "2     BR00116999           B16                  16                   2   \n",
       "3     BR00116999           C05                   5                   3   \n",
       "4     BR00116999           C18                  18                   3   \n",
       "\n",
       "  Image_FileName_CellOutlines Image_FileName_NucleiOutlines  \\\n",
       "0   A21_s3--cell_outlines.png   A21_s3--nuclei_outlines.png   \n",
       "1   B07_s9--cell_outlines.png   B07_s9--nuclei_outlines.png   \n",
       "2   B16_s2--cell_outlines.png   B16_s2--nuclei_outlines.png   \n",
       "3   C05_s2--cell_outlines.png   C05_s2--nuclei_outlines.png   \n",
       "4   C18_s7--cell_outlines.png   C18_s7--nuclei_outlines.png   \n",
       "\n",
       "           Image_FileName_OrigDNA          Image_FileName_OrigRNA  \\\n",
       "0  r01c21f03p01-ch5sk1fk1fl1.tiff  r01c21f03p01-ch3sk1fk1fl1.tiff   \n",
       "1  r02c07f09p01-ch5sk1fk1fl1.tiff  r02c07f09p01-ch3sk1fk1fl1.tiff   \n",
       "2  r02c16f02p01-ch5sk1fk1fl1.tiff  r02c16f02p01-ch3sk1fk1fl1.tiff   \n",
       "3  r03c05f02p01-ch5sk1fk1fl1.tiff  r03c05f02p01-ch3sk1fk1fl1.tiff   \n",
       "4  r03c18f07p01-ch5sk1fk1fl1.tiff  r03c18f07p01-ch3sk1fk1fl1.tiff   \n",
       "\n",
       "   Nuclei_AreaShape_BoundingBoxMaximum_X  \\\n",
       "0                                   1062   \n",
       "1                                    426   \n",
       "2                                    332   \n",
       "3                                    281   \n",
       "4                                    348   \n",
       "\n",
       "   Nuclei_AreaShape_BoundingBoxMaximum_Y  \\\n",
       "0                                    459   \n",
       "1                                     90   \n",
       "2                                     64   \n",
       "3                                     65   \n",
       "4                                     99   \n",
       "\n",
       "   Nuclei_AreaShape_BoundingBoxMinimum_X  \\\n",
       "0                                   1023   \n",
       "1                                    372   \n",
       "2                                    283   \n",
       "3                                    227   \n",
       "4                                    275   \n",
       "\n",
       "   Nuclei_AreaShape_BoundingBoxMinimum_Y  original_index  \\\n",
       "0                                    415             282   \n",
       "1                                     57             448   \n",
       "2                                     15             575   \n",
       "3                                     13             765   \n",
       "4                                     67             974   \n",
       "\n",
       "   cqc.formfactor_displacement_outlier  \n",
       "0                                 True  \n",
       "1                                 True  \n",
       "2                                 True  \n",
       "3                                 True  \n",
       "4                                 True  "
      ]
     },
     "execution_count": 9,
     "metadata": {},
     "output_type": "execute_result"
    }
   ],
   "source": [
    "# Create a new dataframe for failed QC indices\n",
    "failed_qc_indices = irregular_nuclei_outliers[metadata_cols].copy()\n",
    "failed_qc_indices[\"original_index\"] = failed_qc_indices.index  # Store original index\n",
    "failed_qc_indices = failed_qc_indices.reset_index(drop=True)  # Reset index\n",
    "failed_qc_indices[\"cqc.formfactor_displacement_outlier\"] = True\n",
    "\n",
    "print(failed_qc_indices.shape)\n",
    "failed_qc_indices.head()"
   ]
  },
  {
   "cell_type": "markdown",
   "id": "0ce3a7a5",
   "metadata": {
    "papermill": {
     "duration": 0.006031,
     "end_time": "2025-02-20T21:01:52.283454",
     "exception": false,
     "start_time": "2025-02-20T21:01:52.277423",
     "status": "completed"
    },
    "tags": []
   },
   "source": [
    "2. Nuclei segmentations with holes and also irregular shaped\n",
    "\n",
    "We need to include this extra condition as it was discovered that there were more poorly segmented cells not caught, especially those over-segmented nuclei that contained holes, which is not common for a nuclei segmentation.\n",
    "\n",
    "- `Compactness`, which detects irregular nuclei and nuclei containing holes."
   ]
  },
  {
   "cell_type": "markdown",
   "id": "9608be20",
   "metadata": {
    "papermill": {
     "duration": 0.005973,
     "end_time": "2025-02-20T21:01:52.295593",
     "exception": false,
     "start_time": "2025-02-20T21:01:52.289620",
     "status": "completed"
    },
    "tags": []
   },
   "source": [
    "### Detect outliers and show single-cell image crops with CytoDataFrame (cdf)"
   ]
  },
  {
   "cell_type": "code",
   "execution_count": 10,
   "id": "e8156371",
   "metadata": {
    "execution": {
     "iopub.execute_input": "2025-02-20T21:01:52.308595Z",
     "iopub.status.busy": "2025-02-20T21:01:52.308401Z",
     "iopub.status.idle": "2025-02-20T21:02:00.111695Z",
     "shell.execute_reply": "2025-02-20T21:02:00.111103Z"
    },
    "papermill": {
     "duration": 7.811967,
     "end_time": "2025-02-20T21:02:00.112923",
     "exception": false,
     "start_time": "2025-02-20T21:01:52.300956",
     "status": "completed"
    },
    "tags": []
   },
   "outputs": [
    {
     "name": "stdout",
     "output_type": "stream",
     "text": [
      "Number of outliers: 3115 (0.80%)\n",
      "Outliers Range:\n",
      "Nuclei_AreaShape_Compactness Min: 1.7064852245580984\n",
      "Nuclei_AreaShape_Compactness Max: 5.107239178423518\n",
      "(3115, 2)\n"
     ]
    },
    {
     "data": {
      "text/html": [
       "<table border=\"1\" class=\"dataframe\">\n",
       "  <thead>\n",
       "    <tr style=\"text-align: right;\">\n",
       "      <th></th>\n",
       "      <th>Nuclei_AreaShape_Compactness</th>\n",
       "      <th>Image_FileName_OrigDNA</th>\n",
       "    </tr>\n",
       "  </thead>\n",
       "  <tbody>\n",
       "    <tr>\n",
       "      <th>351386</th>\n",
       "      <td>1.706485</td>\n",
       "      <td>r03c23f02p01-ch5sk1fk1fl1.tiff</td>\n",
       "    </tr>\n",
       "    <tr>\n",
       "      <th>361590</th>\n",
       "      <td>1.706535</td>\n",
       "      <td>r07c04f08p01-ch5sk1fk1fl1.tiff</td>\n",
       "    </tr>\n",
       "  </tbody>\n",
       "</table>"
      ],
      "text/plain": [
       "        Nuclei_AreaShape_Compactness          Image_FileName_OrigDNA\n",
       "351386                      1.706485  r03c23f02p01-ch5sk1fk1fl1.tiff\n",
       "361590                      1.706535  r07c04f08p01-ch5sk1fk1fl1.tiff"
      ]
     },
     "execution_count": 10,
     "metadata": {},
     "output_type": "execute_result"
    }
   ],
   "source": [
    "# find mis-segmented nuclei due using thresholds that maximizes\n",
    "# removing most technical outliers and minimizes good cells\n",
    "feature_thresholds = {\n",
    "    \"Nuclei_AreaShape_Compactness\": 4.05,\n",
    "}\n",
    "\n",
    "poor_nuclei_outliers = cosmicqc.find_outliers(\n",
    "    df=df_merged_single_cells,\n",
    "    metadata_columns=metadata_cols,\n",
    "    feature_thresholds=feature_thresholds\n",
    ")\n",
    "\n",
    "poor_nuclei_outliers_cdf = CytoDataFrame(\n",
    "    data=pd.DataFrame(poor_nuclei_outliers),\n",
    "    data_context_dir=f\"/media/jenna/8TB-C/work/JUMP-download-images/JUMP-single-cell/0.download_data/data/images/{plate_id}/orig\",\n",
    "    data_outline_context_dir=f\"/media/jenna/8TB-C/work/JUMP-download-images/JUMP-single-cell/0.download_data/data/images/{plate_id}/outlines\",\n",
    "    segmentation_file_regex=outline_to_orig_mapping,\n",
    ")[\n",
    "    [\n",
    "        \"Nuclei_AreaShape_Compactness\",\n",
    "        \"Image_FileName_OrigDNA\",\n",
    "    ]\n",
    "]\n",
    "\n",
    "\n",
    "print(poor_nuclei_outliers_cdf.shape)\n",
    "poor_nuclei_outliers_cdf.sort_values(by=\"Nuclei_AreaShape_Compactness\", ascending=True).head(2)"
   ]
  },
  {
   "cell_type": "markdown",
   "id": "b8e261be",
   "metadata": {
    "papermill": {
     "duration": 0.006164,
     "end_time": "2025-02-20T21:02:00.125654",
     "exception": false,
     "start_time": "2025-02-20T21:02:00.119490",
     "status": "completed"
    },
    "tags": []
   },
   "source": [
    "### Randomly sample outlier rows to visually inspect if the threshold looks to be optimized"
   ]
  },
  {
   "cell_type": "code",
   "execution_count": 11,
   "id": "12eb354c",
   "metadata": {
    "execution": {
     "iopub.execute_input": "2025-02-20T21:02:00.140555Z",
     "iopub.status.busy": "2025-02-20T21:02:00.140360Z",
     "iopub.status.idle": "2025-02-20T21:02:00.148721Z",
     "shell.execute_reply": "2025-02-20T21:02:00.148233Z"
    },
    "papermill": {
     "duration": 0.017483,
     "end_time": "2025-02-20T21:02:00.149749",
     "exception": false,
     "start_time": "2025-02-20T21:02:00.132266",
     "status": "completed"
    },
    "tags": []
   },
   "outputs": [
    {
     "data": {
      "text/html": [
       "<table border=\"1\" class=\"dataframe\">\n",
       "  <thead>\n",
       "    <tr style=\"text-align: right;\">\n",
       "      <th></th>\n",
       "      <th>Nuclei_AreaShape_Compactness</th>\n",
       "      <th>Image_FileName_OrigDNA</th>\n",
       "    </tr>\n",
       "  </thead>\n",
       "  <tbody>\n",
       "    <tr>\n",
       "      <th>296262</th>\n",
       "      <td>2.407886</td>\n",
       "      <td>r10c05f02p01-ch5sk1fk1fl1.tiff</td>\n",
       "    </tr>\n",
       "    <tr>\n",
       "      <th>336848</th>\n",
       "      <td>1.782967</td>\n",
       "      <td>r07c19f03p01-ch5sk1fk1fl1.tiff</td>\n",
       "    </tr>\n",
       "    <tr>\n",
       "      <th>369392</th>\n",
       "      <td>1.708414</td>\n",
       "      <td>r06c09f02p01-ch5sk1fk1fl1.tiff</td>\n",
       "    </tr>\n",
       "    <tr>\n",
       "      <th>185977</th>\n",
       "      <td>1.910645</td>\n",
       "      <td>r14c10f07p01-ch5sk1fk1fl1.tiff</td>\n",
       "    </tr>\n",
       "    <tr>\n",
       "      <th>332592</th>\n",
       "      <td>1.863542</td>\n",
       "      <td>r15c24f03p01-ch5sk1fk1fl1.tiff</td>\n",
       "    </tr>\n",
       "  </tbody>\n",
       "</table>"
      ],
      "text/plain": [
       "        Nuclei_AreaShape_Compactness          Image_FileName_OrigDNA\n",
       "296262                      2.407886  r10c05f02p01-ch5sk1fk1fl1.tiff\n",
       "336848                      1.782967  r07c19f03p01-ch5sk1fk1fl1.tiff\n",
       "369392                      1.708414  r06c09f02p01-ch5sk1fk1fl1.tiff\n",
       "185977                      1.910645  r14c10f07p01-ch5sk1fk1fl1.tiff\n",
       "332592                      1.863542  r15c24f03p01-ch5sk1fk1fl1.tiff"
      ]
     },
     "execution_count": 11,
     "metadata": {},
     "output_type": "execute_result"
    }
   ],
   "source": [
    "poor_nuclei_outliers_cdf.sample(n=5, random_state=0)"
   ]
  },
  {
   "cell_type": "markdown",
   "id": "35d94481",
   "metadata": {
    "papermill": {
     "duration": 0.006266,
     "end_time": "2025-02-20T21:02:00.162522",
     "exception": false,
     "start_time": "2025-02-20T21:02:00.156256",
     "status": "completed"
    },
    "tags": []
   },
   "source": [
    "### Save the original indices for failed single cells to compressed CSV files"
   ]
  },
  {
   "cell_type": "code",
   "execution_count": 12,
   "id": "d1354350",
   "metadata": {
    "execution": {
     "iopub.execute_input": "2025-02-20T21:02:00.175709Z",
     "iopub.status.busy": "2025-02-20T21:02:00.175525Z",
     "iopub.status.idle": "2025-02-20T21:02:00.286903Z",
     "shell.execute_reply": "2025-02-20T21:02:00.286346Z"
    },
    "papermill": {
     "duration": 0.119381,
     "end_time": "2025-02-20T21:02:00.288082",
     "exception": false,
     "start_time": "2025-02-20T21:02:00.168701",
     "status": "completed"
    },
    "tags": []
   },
   "outputs": [
    {
     "name": "stdout",
     "output_type": "stream",
     "text": [
      "Failed QC indices shape: (5084, 18)\n",
      "Percentage of single cells removed: 1.30%\n"
     ]
    },
    {
     "name": "stderr",
     "output_type": "stream",
     "text": [
      "/tmp/ipykernel_1942562/2551156104.py:16: FutureWarning: Downcasting object dtype arrays on .fillna, .ffill, .bfill is deprecated and will change in a future version. Call result.infer_objects(copy=False) instead. To opt-in to the future behavior, set `pd.set_option('future.no_silent_downcasting', True)`\n",
      "  failed_qc_indices[[\"cqc.formfactor_displacement_outlier\", \"cqc.compactness_outlier\"]]\n"
     ]
    },
    {
     "data": {
      "text/html": [
       "<div>\n",
       "<style scoped>\n",
       "    .dataframe tbody tr th:only-of-type {\n",
       "        vertical-align: middle;\n",
       "    }\n",
       "\n",
       "    .dataframe tbody tr th {\n",
       "        vertical-align: top;\n",
       "    }\n",
       "\n",
       "    .dataframe thead th {\n",
       "        text-align: right;\n",
       "    }\n",
       "</style>\n",
       "<table border=\"1\" class=\"dataframe\">\n",
       "  <thead>\n",
       "    <tr style=\"text-align: right;\">\n",
       "      <th></th>\n",
       "      <th>Metadata_ImageNumber</th>\n",
       "      <th>Image_Metadata_Site</th>\n",
       "      <th>Metadata_ObjectNumber</th>\n",
       "      <th>Metadata_Plate</th>\n",
       "      <th>Metadata_Well</th>\n",
       "      <th>Image_Metadata_Col</th>\n",
       "      <th>Image_Metadata_Row</th>\n",
       "      <th>Image_FileName_CellOutlines</th>\n",
       "      <th>Image_FileName_NucleiOutlines</th>\n",
       "      <th>Image_FileName_OrigDNA</th>\n",
       "      <th>Image_FileName_OrigRNA</th>\n",
       "      <th>Nuclei_AreaShape_BoundingBoxMaximum_X</th>\n",
       "      <th>Nuclei_AreaShape_BoundingBoxMaximum_Y</th>\n",
       "      <th>Nuclei_AreaShape_BoundingBoxMinimum_X</th>\n",
       "      <th>Nuclei_AreaShape_BoundingBoxMinimum_Y</th>\n",
       "      <th>original_index</th>\n",
       "      <th>cqc.formfactor_displacement_outlier</th>\n",
       "      <th>cqc.compactness_outlier</th>\n",
       "    </tr>\n",
       "  </thead>\n",
       "  <tbody>\n",
       "    <tr>\n",
       "      <th>0</th>\n",
       "      <td>2</td>\n",
       "      <td>2</td>\n",
       "      <td>17</td>\n",
       "      <td>BR00116999</td>\n",
       "      <td>A01</td>\n",
       "      <td>1</td>\n",
       "      <td>1</td>\n",
       "      <td>A01_s2--cell_outlines.png</td>\n",
       "      <td>A01_s2--nuclei_outlines.png</td>\n",
       "      <td>r01c01f02p01-ch5sk1fk1fl1.tiff</td>\n",
       "      <td>r01c01f02p01-ch3sk1fk1fl1.tiff</td>\n",
       "      <td>558</td>\n",
       "      <td>366</td>\n",
       "      <td>497</td>\n",
       "      <td>300</td>\n",
       "      <td>49723</td>\n",
       "      <td>True</td>\n",
       "      <td>True</td>\n",
       "    </tr>\n",
       "    <tr>\n",
       "      <th>1</th>\n",
       "      <td>2</td>\n",
       "      <td>2</td>\n",
       "      <td>18</td>\n",
       "      <td>BR00116999</td>\n",
       "      <td>A01</td>\n",
       "      <td>1</td>\n",
       "      <td>1</td>\n",
       "      <td>A01_s2--cell_outlines.png</td>\n",
       "      <td>A01_s2--nuclei_outlines.png</td>\n",
       "      <td>r01c01f02p01-ch5sk1fk1fl1.tiff</td>\n",
       "      <td>r01c01f02p01-ch3sk1fk1fl1.tiff</td>\n",
       "      <td>921</td>\n",
       "      <td>441</td>\n",
       "      <td>867</td>\n",
       "      <td>382</td>\n",
       "      <td>49724</td>\n",
       "      <td>False</td>\n",
       "      <td>True</td>\n",
       "    </tr>\n",
       "    <tr>\n",
       "      <th>2</th>\n",
       "      <td>2</td>\n",
       "      <td>2</td>\n",
       "      <td>20</td>\n",
       "      <td>BR00116999</td>\n",
       "      <td>A01</td>\n",
       "      <td>1</td>\n",
       "      <td>1</td>\n",
       "      <td>A01_s2--cell_outlines.png</td>\n",
       "      <td>A01_s2--nuclei_outlines.png</td>\n",
       "      <td>r01c01f02p01-ch5sk1fk1fl1.tiff</td>\n",
       "      <td>r01c01f02p01-ch3sk1fk1fl1.tiff</td>\n",
       "      <td>713</td>\n",
       "      <td>500</td>\n",
       "      <td>678</td>\n",
       "      <td>414</td>\n",
       "      <td>59240</td>\n",
       "      <td>False</td>\n",
       "      <td>True</td>\n",
       "    </tr>\n",
       "    <tr>\n",
       "      <th>3</th>\n",
       "      <td>2</td>\n",
       "      <td>2</td>\n",
       "      <td>38</td>\n",
       "      <td>BR00116999</td>\n",
       "      <td>A01</td>\n",
       "      <td>1</td>\n",
       "      <td>1</td>\n",
       "      <td>A01_s2--cell_outlines.png</td>\n",
       "      <td>A01_s2--nuclei_outlines.png</td>\n",
       "      <td>r01c01f02p01-ch5sk1fk1fl1.tiff</td>\n",
       "      <td>r01c01f02p01-ch3sk1fk1fl1.tiff</td>\n",
       "      <td>963</td>\n",
       "      <td>610</td>\n",
       "      <td>925</td>\n",
       "      <td>552</td>\n",
       "      <td>113080</td>\n",
       "      <td>False</td>\n",
       "      <td>True</td>\n",
       "    </tr>\n",
       "    <tr>\n",
       "      <th>4</th>\n",
       "      <td>2</td>\n",
       "      <td>2</td>\n",
       "      <td>39</td>\n",
       "      <td>BR00116999</td>\n",
       "      <td>A01</td>\n",
       "      <td>1</td>\n",
       "      <td>1</td>\n",
       "      <td>A01_s2--cell_outlines.png</td>\n",
       "      <td>A01_s2--nuclei_outlines.png</td>\n",
       "      <td>r01c01f02p01-ch5sk1fk1fl1.tiff</td>\n",
       "      <td>r01c01f02p01-ch3sk1fk1fl1.tiff</td>\n",
       "      <td>762</td>\n",
       "      <td>608</td>\n",
       "      <td>707</td>\n",
       "      <td>576</td>\n",
       "      <td>114264</td>\n",
       "      <td>False</td>\n",
       "      <td>True</td>\n",
       "    </tr>\n",
       "  </tbody>\n",
       "</table>\n",
       "</div>"
      ],
      "text/plain": [
       "   Metadata_ImageNumber  Image_Metadata_Site  Metadata_ObjectNumber  \\\n",
       "0                     2                    2                     17   \n",
       "1                     2                    2                     18   \n",
       "2                     2                    2                     20   \n",
       "3                     2                    2                     38   \n",
       "4                     2                    2                     39   \n",
       "\n",
       "  Metadata_Plate Metadata_Well  Image_Metadata_Col  Image_Metadata_Row  \\\n",
       "0     BR00116999           A01                   1                   1   \n",
       "1     BR00116999           A01                   1                   1   \n",
       "2     BR00116999           A01                   1                   1   \n",
       "3     BR00116999           A01                   1                   1   \n",
       "4     BR00116999           A01                   1                   1   \n",
       "\n",
       "  Image_FileName_CellOutlines Image_FileName_NucleiOutlines  \\\n",
       "0   A01_s2--cell_outlines.png   A01_s2--nuclei_outlines.png   \n",
       "1   A01_s2--cell_outlines.png   A01_s2--nuclei_outlines.png   \n",
       "2   A01_s2--cell_outlines.png   A01_s2--nuclei_outlines.png   \n",
       "3   A01_s2--cell_outlines.png   A01_s2--nuclei_outlines.png   \n",
       "4   A01_s2--cell_outlines.png   A01_s2--nuclei_outlines.png   \n",
       "\n",
       "           Image_FileName_OrigDNA          Image_FileName_OrigRNA  \\\n",
       "0  r01c01f02p01-ch5sk1fk1fl1.tiff  r01c01f02p01-ch3sk1fk1fl1.tiff   \n",
       "1  r01c01f02p01-ch5sk1fk1fl1.tiff  r01c01f02p01-ch3sk1fk1fl1.tiff   \n",
       "2  r01c01f02p01-ch5sk1fk1fl1.tiff  r01c01f02p01-ch3sk1fk1fl1.tiff   \n",
       "3  r01c01f02p01-ch5sk1fk1fl1.tiff  r01c01f02p01-ch3sk1fk1fl1.tiff   \n",
       "4  r01c01f02p01-ch5sk1fk1fl1.tiff  r01c01f02p01-ch3sk1fk1fl1.tiff   \n",
       "\n",
       "   Nuclei_AreaShape_BoundingBoxMaximum_X  \\\n",
       "0                                    558   \n",
       "1                                    921   \n",
       "2                                    713   \n",
       "3                                    963   \n",
       "4                                    762   \n",
       "\n",
       "   Nuclei_AreaShape_BoundingBoxMaximum_Y  \\\n",
       "0                                    366   \n",
       "1                                    441   \n",
       "2                                    500   \n",
       "3                                    610   \n",
       "4                                    608   \n",
       "\n",
       "   Nuclei_AreaShape_BoundingBoxMinimum_X  \\\n",
       "0                                    497   \n",
       "1                                    867   \n",
       "2                                    678   \n",
       "3                                    925   \n",
       "4                                    707   \n",
       "\n",
       "   Nuclei_AreaShape_BoundingBoxMinimum_Y  original_index  \\\n",
       "0                                    300           49723   \n",
       "1                                    382           49724   \n",
       "2                                    414           59240   \n",
       "3                                    552          113080   \n",
       "4                                    576          114264   \n",
       "\n",
       "   cqc.formfactor_displacement_outlier  cqc.compactness_outlier  \n",
       "0                                 True                     True  \n",
       "1                                False                     True  \n",
       "2                                False                     True  \n",
       "3                                False                     True  \n",
       "4                                False                     True  "
      ]
     },
     "execution_count": 12,
     "metadata": {},
     "output_type": "execute_result"
    }
   ],
   "source": [
    "# Create a new dataframe for poor nuclei outliers\n",
    "poor_qc_indices = poor_nuclei_outliers[metadata_cols].copy()\n",
    "poor_qc_indices[\"original_index\"] = poor_qc_indices.index  # Store original index\n",
    "poor_qc_indices = poor_qc_indices.reset_index(drop=True)  # Reset index\n",
    "poor_qc_indices[\"cqc.compactness_outlier\"] = True\n",
    "\n",
    "# Merge both outlier dataframes on metadata columns and original_index\n",
    "failed_qc_indices = failed_qc_indices.merge(\n",
    "    poor_qc_indices,\n",
    "    on=[*metadata_cols, \"original_index\"],\n",
    "    how=\"outer\"\n",
    ")\n",
    "\n",
    "# Fill missing values with False (ensuring only detected outliers are True)\n",
    "failed_qc_indices[[\"cqc.formfactor_displacement_outlier\", \"cqc.compactness_outlier\"]] = (\n",
    "    failed_qc_indices[[\"cqc.formfactor_displacement_outlier\", \"cqc.compactness_outlier\"]]\n",
    "    .fillna(False)\n",
    ")\n",
    "\n",
    "# Calculate percentage removed\n",
    "num_outliers = failed_qc_indices[\"original_index\"].nunique()\n",
    "total_cells = len(df_merged_single_cells)\n",
    "percentage_removed = (num_outliers / total_cells) * 100\n",
    "\n",
    "# Save the indices for failed single-cells as a compressed CSV file\n",
    "failed_qc_indices.to_csv(Path(f\"{qc_results_dir}/{plate_id}_failed_qc_indices.csv.gz\"), compression=\"gzip\")  # noqa: E501\n",
    "\n",
    "print(f\"Failed QC indices shape: {failed_qc_indices.shape}\")\n",
    "print(f\"Percentage of single cells removed: {percentage_removed:.2f}%\")\n",
    "failed_qc_indices.head()"
   ]
  }
 ],
 "metadata": {
  "kernelspec": {
   "display_name": "jump_sc",
   "language": "python",
   "name": "python3"
  },
  "language_info": {
   "codemirror_mode": {
    "name": "ipython",
    "version": 3
   },
   "file_extension": ".py",
   "mimetype": "text/x-python",
   "name": "python",
   "nbconvert_exporter": "python",
   "pygments_lexer": "ipython3",
   "version": "3.9.21"
  },
  "papermill": {
   "default_parameters": {},
   "duration": 20.299672,
   "end_time": "2025-02-20T21:02:00.715068",
   "environment_variables": {},
   "exception": null,
   "input_path": "single_cell_qc.ipynb",
   "output_path": "single_cell_qc.ipynb",
   "parameters": {
    "plate_id": "BR00116999"
   },
   "start_time": "2025-02-20T21:01:40.415396",
   "version": "2.6.0"
  }
 },
 "nbformat": 4,
 "nbformat_minor": 5
}
