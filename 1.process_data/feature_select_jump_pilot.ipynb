{
  "cells": [
    {
      "cell_type": "markdown",
      "metadata": {
        "jukit_cell_id": "M0WvWCZ1Aa"
      },
      "source": [
        "# Feature Select normalized JUMP Pilot Data"
      ]
    },
    {
      "cell_type": "markdown",
      "metadata": {
        "jukit_cell_id": "cDsoC3Gcm4"
      },
      "source": [
        "## Imports"
      ]
    },
    {
      "cell_type": "code",
      "metadata": {
        "jukit_cell_id": "DgPm3tAEsr"
      },
      "source": [
        "import time\n",
        "from pathlib import Path\n",
        "\n",
        "import pandas as pd\n",
        "from pycytominer import feature_select"
      ],
      "outputs": [],
      "execution_count": null
    },
    {
      "cell_type": "markdown",
      "metadata": {
        "jukit_cell_id": "NPDmhE8H6X"
      },
      "source": [
        "## Find the root of the git directory\n",
        "This allows file paths to be referenced in a system agnostic way"
      ]
    },
    {
      "cell_type": "code",
      "metadata": {
        "jukit_cell_id": "yZSVxXoYEz"
      },
      "source": [
        "# Get the current working directory\n",
        "cwd = Path.cwd()\n",
        "\n",
        "if (cwd / \".git\").is_dir():\n",
        "    root_dir = cwd\n",
        "\n",
        "else:\n",
        "    root_dir = None\n",
        "    for parent in cwd.parents:\n",
        "        if (parent / \".git\").is_dir():\n",
        "            root_dir = parent\n",
        "            break\n",
        "\n",
        "# Check if a Git root directory was found\n",
        "if root_dir is None:\n",
        "    raise FileNotFoundError(\"No Git root directory found.\")"
      ],
      "outputs": [],
      "execution_count": null
    },
    {
      "cell_type": "markdown",
      "metadata": {
        "jukit_cell_id": "EAFlLWTJ8h"
      },
      "source": [
        "## Define Paths"
      ]
    },
    {
      "cell_type": "code",
      "metadata": {
        "jukit_cell_id": "OZedqnuQgs"
      },
      "source": [
        "# Input paths\n",
        "big_drive_path = f\"{root_dir}/big_drive\"\n",
        "sqlite_data_path = f\"{big_drive_path}/sc_data\"\n",
        "ref_path = f\"{root_dir}/reference_plate_data\"\n",
        "barcode_platemap = f\"{ref_path}/barcode_platemap.csv\"\n",
        "normalized_path = Path(f\"{big_drive_path}/normalized_sc_data\")\n",
        "\n",
        "# Output paths\n",
        "feature_selected_path = Path(f\"{big_drive_path}/feature_selected_sc_data\")\n",
        "\n",
        "feature_selected_path.mkdir(parents=True, exist_ok=True)"
      ],
      "outputs": [],
      "execution_count": null
    },
    {
      "cell_type": "code",
      "metadata": {
        "jukit_cell_id": "b6AFJS78yk"
      },
      "source": [
        "# Create dataframe from barcode platemap\n",
        "barcode_df = pd.read_csv(barcode_platemap)"
      ],
      "outputs": [],
      "execution_count": null
    },
    {
      "cell_type": "markdown",
      "metadata": {
        "jukit_cell_id": "bNCoZA5auN"
      },
      "source": [
        "## Feature selection parameters"
      ]
    },
    {
      "cell_type": "code",
      "metadata": {
        "jukit_cell_id": "dV3yd9QOrq"
      },
      "source": [
        "feature_select_ops = [\n",
        "    \"variance_threshold\",\n",
        "    \"correlation_threshold\",\n",
        "    \"blocklist\",\n",
        "    \"drop_na_columns\",\n",
        "]"
      ],
      "outputs": [],
      "execution_count": null
    },
    {
      "cell_type": "markdown",
      "metadata": {
        "jukit_cell_id": "hNC232BAxW"
      },
      "source": [
        "## Merge, Normalize, and Feature Select plate data"
      ]
    },
    {
      "cell_type": "code",
      "metadata": {
        "jukit_cell_id": "B4ITtH72EK"
      },
      "source": [
        "# Record the start time\n",
        "start_time = time.time()\n",
        "\n",
        "# Iterate through each plate in the barcode dataframe\n",
        "for idx, row in barcode_df.iterrows():\n",
        "\n",
        "    plate_name = row[\"Assay_Plate_Barcode\"]\n",
        "\n",
        "    # Track progress\n",
        "    print(f\"\\nProcessing Plate {plate_name}\")\n",
        "\n",
        "    # Path of each normalized output single cell dataset\n",
        "    normalized_output = f\"{normalized_path}/{plate_name}_normalized_sc.parquet\"\n",
        "\n",
        "    # Path of each feature selected output single cell dataset\n",
        "    feature_selected_output = f\"{feature_selected_path}/{plate_name}_feature_selected_sc.parquet\"\n",
        "\n",
        "    # Feature select normalized data\n",
        "    feature_select(\n",
        "        normalized_output,\n",
        "        operation=feature_select_ops,\n",
        "        na_cutoff=0,\n",
        "        output_file=feature_selected_output,\n",
        "        output_type=\"parquet\",\n",
        "    )\n",
        "\n",
        "# Record the end time\n",
        "end_time = time.time()"
      ],
      "outputs": [],
      "execution_count": null
    },
    {
      "cell_type": "markdown",
      "metadata": {
        "jukit_cell_id": "FwAgRkxcQ6"
      },
      "source": [
        "## Specify the time taken"
      ]
    },
    {
      "cell_type": "code",
      "metadata": {
        "jukit_cell_id": "H6A3v3ORWD"
      },
      "source": [
        "t_minutes = (end_time - start_time) // 60\n",
        "t_hours = t_minutes / 60\n",
        "print(f\"Total time taken = {t_minutes} minutes\")\n",
        "print(f\"Total time taken = {t_hours} hours\")"
      ],
      "outputs": [],
      "execution_count": null
    }
  ],
  "metadata": {
    "anaconda-cloud": {},
    "kernelspec": {
      "display_name": "python",
      "language": "python",
      "name": "python3"
    }
  },
  "nbformat": 4,
  "nbformat_minor": 4
}