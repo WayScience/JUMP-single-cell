{
  "cells": [
    {
      "cell_type": "markdown",
      "metadata": {
        "jukit_cell_id": "M0WvWCZ1Aa"
      },
      "source": [
        "# Feature Select normalized JUMP Pilot Data"
      ]
    },
    {
      "cell_type": "markdown",
      "metadata": {
        "jukit_cell_id": "cDsoC3Gcm4"
      },
      "source": [
        "## Imports"
      ]
    },
    {
      "cell_type": "code",
      "metadata": {
        "jukit_cell_id": "DgPm3tAEsr"
      },
      "source": [
        "import sys\n",
        "from pathlib import Path\n",
        "\n",
        "import pandas as pd\n",
        "from pycytominer import feature_select"
      ],
      "outputs": [],
      "execution_count": null
    },
    {
      "cell_type": "markdown",
      "metadata": {
        "jukit_cell_id": "NPDmhE8H6X"
      },
      "source": [
        "## Find the root of the git directory\n",
        "This allows file paths to be referenced in a system agnostic way"
      ]
    },
    {
      "cell_type": "code",
      "metadata": {
        "jukit_cell_id": "yZSVxXoYEz"
      },
      "source": [
        "# Get the current working directory\n",
        "cwd = Path.cwd()\n",
        "\n",
        "if (cwd / \".git\").is_dir():\n",
        "    root_dir = cwd\n",
        "\n",
        "else:\n",
        "    root_dir = None\n",
        "    for parent in cwd.parents:\n",
        "        if (parent / \".git\").is_dir():\n",
        "            root_dir = parent\n",
        "            break\n",
        "\n",
        "# Check if a Git root directory was found\n",
        "if root_dir is None:\n",
        "    raise FileNotFoundError(\"No Git root directory found.\")"
      ],
      "outputs": [],
      "execution_count": null
    },
    {
      "cell_type": "markdown",
      "metadata": {
        "jukit_cell_id": "EAFlLWTJ8h"
      },
      "source": [
        "## Paths"
      ]
    },
    {
      "cell_type": "markdown",
      "metadata": {
        "jukit_cell_id": "ay82QcuUQs"
      },
      "source": [
        "### Inputs"
      ]
    },
    {
      "cell_type": "code",
      "metadata": {
        "jukit_cell_id": "OZedqnuQgs"
      },
      "source": [
        "big_drive_path = f\"{root_dir}/big_drive\"\n",
        "ref_path = f\"{root_dir}/reference_plate_data\"\n",
        "\n",
        "# Feature selected sc data\n",
        "feature_selected_plate_path = sys.argv[1]\n",
        "feature_selected_df = pd.read_parquet(feature_selected_plate_path)\n",
        "\n",
        "# Name of the plate\n",
        "plate_name = sys.argv[2]"
      ],
      "outputs": [],
      "execution_count": null
    },
    {
      "cell_type": "markdown",
      "metadata": {
        "jukit_cell_id": "Vo5hG6EkKw"
      },
      "source": [
        "### Outputs"
      ]
    },
    {
      "cell_type": "code",
      "metadata": {
        "jukit_cell_id": "otWzhsByWA"
      },
      "source": [
        "# Output paths\n",
        "feature_selected_path = Path(f\"{big_drive_path}/feature_selected_sc_data\")\n",
        "\n",
        "feature_selected_path.mkdir(parents=True, exist_ok=True)"
      ],
      "outputs": [],
      "execution_count": null
    },
    {
      "cell_type": "markdown",
      "metadata": {
        "jukit_cell_id": "bNCoZA5auN"
      },
      "source": [
        "## Feature selection parameters"
      ]
    },
    {
      "cell_type": "code",
      "metadata": {
        "jukit_cell_id": "dV3yd9QOrq"
      },
      "source": [
        "feature_select_ops = [\n",
        "    \"variance_threshold\",\n",
        "    \"correlation_threshold\",\n",
        "    \"blocklist\",\n",
        "    \"drop_na_columns\",\n",
        "]"
      ],
      "outputs": [],
      "execution_count": null
    },
    {
      "cell_type": "markdown",
      "metadata": {
        "jukit_cell_id": "hNC232BAxW"
      },
      "source": [
        "## Merge, Normalize, and Feature Select plate data"
      ]
    },
    {
      "cell_type": "code",
      "metadata": {
        "jukit_cell_id": "B4ITtH72EK"
      },
      "source": [
        "# Path of each feature selected output single cell dataset\n",
        "feature_selected_output = f\"{feature_selected_path}/{plate_name}_feature_selected_sc.parquet\"\n",
        "\n",
        "# Feature select normalized data\n",
        "feature_select(\n",
        "    feature_selected_df,\n",
        "    operation=feature_select_ops,\n",
        "    na_cutoff=0,\n",
        "    output_file=feature_selected_output,\n",
        "    output_type=\"parquet\",\n",
        ")"
      ],
      "outputs": [],
      "execution_count": null
    }
  ],
  "metadata": {
    "anaconda-cloud": {},
    "kernelspec": {
      "display_name": "python",
      "language": "python",
      "name": "python3"
    }
  },
  "nbformat": 4,
  "nbformat_minor": 4
}