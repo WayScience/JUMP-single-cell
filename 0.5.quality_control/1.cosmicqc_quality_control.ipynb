{
 "cells": [
  {
   "cell_type": "markdown",
   "id": "b7ed0cc5-e46b-41f7-b198-051f5325ae93",
   "metadata": {},
   "source": [
    "# coSMicQC Demonstration with JUMP Plate BR00117006"
   ]
  },
  {
   "cell_type": "code",
   "execution_count": 3,
   "id": "e141e8a5-8efb-44cd-a730-5155b8ef7984",
   "metadata": {},
   "outputs": [],
   "source": [
    "import pandas as pd\n",
    "import pyarrow as pa\n",
    "import pyarrow.parquet as pq"
   ]
  },
  {
   "cell_type": "code",
   "execution_count": 9,
   "id": "fe735499-3ed9-4214-9149-24f617001b71",
   "metadata": {},
   "outputs": [
    {
     "data": {
      "text/plain": [
       "['Image_FileName_CellOutlines',\n",
       " 'Image_FileName_IllumAGP',\n",
       " 'Image_FileName_IllumBrightfield',\n",
       " 'Image_FileName_IllumDNA',\n",
       " 'Image_FileName_IllumER',\n",
       " 'Image_FileName_IllumHighZBF',\n",
       " 'Image_FileName_IllumLowZBF',\n",
       " 'Image_FileName_IllumMito',\n",
       " 'Image_FileName_IllumRNA',\n",
       " 'Image_FileName_NucleiOutlines',\n",
       " 'Image_FileName_OrigAGP',\n",
       " 'Image_FileName_OrigBrightfield',\n",
       " 'Image_FileName_OrigDNA',\n",
       " 'Image_FileName_OrigER',\n",
       " 'Image_FileName_OrigHighZBF',\n",
       " 'Image_FileName_OrigLowZBF',\n",
       " 'Image_FileName_OrigMito',\n",
       " 'Image_FileName_OrigRNA',\n",
       " 'Image_PathName_CellOutlines',\n",
       " 'Image_PathName_IllumAGP',\n",
       " 'Image_PathName_IllumBrightfield',\n",
       " 'Image_PathName_IllumDNA',\n",
       " 'Image_PathName_IllumER',\n",
       " 'Image_PathName_IllumHighZBF',\n",
       " 'Image_PathName_IllumLowZBF',\n",
       " 'Image_PathName_IllumMito',\n",
       " 'Image_PathName_IllumRNA',\n",
       " 'Image_PathName_NucleiOutlines',\n",
       " 'Image_PathName_OrigAGP',\n",
       " 'Image_PathName_OrigBrightfield',\n",
       " 'Image_PathName_OrigDNA',\n",
       " 'Image_PathName_OrigER',\n",
       " 'Image_PathName_OrigHighZBF',\n",
       " 'Image_PathName_OrigLowZBF',\n",
       " 'Image_PathName_OrigMito',\n",
       " 'Image_PathName_OrigRNA']"
      ]
     },
     "execution_count": 9,
     "metadata": {},
     "output_type": "execute_result"
    }
   ],
   "source": [
    "# show the columns where images are included\n",
    "[\n",
    "    col\n",
    "    for col in pq.ParquetFile(\"data/plates/BR00117006/BR00117006.parquet\").schema.names\n",
    "    if any(word in col for word in [\"Path\", \"File\"])\n",
    "]"
   ]
  },
  {
   "cell_type": "code",
   "execution_count": null,
   "id": "945d46ba-ae63-4329-aab0-e1ddd27c36c3",
   "metadata": {},
   "outputs": [],
   "source": []
  }
 ],
 "metadata": {
  "kernelspec": {
   "display_name": "jump_sc (Python)",
   "language": "python",
   "name": "jump_sc"
  },
  "language_info": {
   "codemirror_mode": {
    "name": "ipython",
    "version": 3
   },
   "file_extension": ".py",
   "mimetype": "text/x-python",
   "name": "python",
   "nbconvert_exporter": "python",
   "pygments_lexer": "ipython3",
   "version": "3.9.20"
  }
 },
 "nbformat": 4,
 "nbformat_minor": 5
}
