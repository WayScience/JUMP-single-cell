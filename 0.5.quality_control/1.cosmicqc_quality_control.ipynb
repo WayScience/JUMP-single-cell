{
 "cells": [
  {
   "cell_type": "markdown",
   "id": "b7ed0cc5-e46b-41f7-b198-051f5325ae93",
   "metadata": {},
   "source": [
    "# coSMicQC Demonstration with JUMP Plate BR00117006"
   ]
  },
  {
   "cell_type": "code",
   "execution_count": 58,
   "id": "e141e8a5-8efb-44cd-a730-5155b8ef7984",
   "metadata": {},
   "outputs": [],
   "source": [
    "import json\n",
    "import pathlib\n",
    "\n",
    "import pandas as pd\n",
    "import pyarrow as pa\n",
    "import pyarrow.parquet as pq\n",
    "from cloudpathlib import S3Client"
   ]
  },
  {
   "cell_type": "code",
   "execution_count": 79,
   "id": "fe735499-3ed9-4214-9149-24f617001b71",
   "metadata": {},
   "outputs": [
    {
     "name": "stdout",
     "output_type": "stream",
     "text": [
      "[\n",
      "    [\n",
      "        \"Image_PathName_CellOutlines\",\n",
      "        \"Image_FileName_CellOutlines\"\n",
      "    ],\n",
      "    [\n",
      "        \"Image_PathName_NucleiOutlines\",\n",
      "        \"Image_FileName_NucleiOutlines\"\n",
      "    ],\n",
      "    [\n",
      "        \"Image_PathName_OrigAGP\",\n",
      "        \"Image_FileName_OrigAGP\"\n",
      "    ],\n",
      "    [\n",
      "        \"Image_PathName_OrigDNA\",\n",
      "        \"Image_FileName_OrigDNA\"\n",
      "    ],\n",
      "    [\n",
      "        \"Image_PathName_OrigRNA\",\n",
      "        \"Image_FileName_OrigRNA\"\n",
      "    ]\n",
      "]\n",
      "[\n",
      "    \"Image_FileName_CellOutlines\",\n",
      "    \"Image_FileName_NucleiOutlines\",\n",
      "    \"Image_FileName_OrigAGP\",\n",
      "    \"Image_FileName_OrigDNA\",\n",
      "    \"Image_FileName_OrigRNA\",\n",
      "    \"Image_PathName_CellOutlines\",\n",
      "    \"Image_PathName_NucleiOutlines\",\n",
      "    \"Image_PathName_OrigAGP\",\n",
      "    \"Image_PathName_OrigDNA\",\n",
      "    \"Image_PathName_OrigRNA\"\n",
      "]\n"
     ]
    }
   ],
   "source": [
    "# reference the file without reading it entirely\n",
    "target_file = pq.ParquetFile(\"data/plates/BR00117006/BR00117006.parquet\")\n",
    "\n",
    "# target image names\n",
    "target_image_names = [\n",
    "    \"CellOutlines\",\n",
    "    \"NucleiOutlines\",\n",
    "    \"OrigAGP\",\n",
    "    \"OrigDNA\",\n",
    "    \"OrigRNA\",\n",
    "]\n",
    "\n",
    "# create a column grouping for the columns we're interested in\n",
    "target_image_column_groups = [\n",
    "    (f\"Image_PathName_{name}\", f\"Image_FileName_{name}\") for name in target_image_names\n",
    "]\n",
    "# flatten the groupings from above\n",
    "target_flattened_columns = [\n",
    "    # flatten the groupings from above\n",
    "    col\n",
    "    for colgroup in target_image_columns\n",
    "    for col in colgroup\n",
    "]\n",
    "\n",
    "# show the paired column names\n",
    "print(json.dumps(target_image_column_groups, indent=4))\n",
    "\n",
    "# check that the columns where images are included\n",
    "print(\n",
    "    json.dumps(\n",
    "        [\n",
    "            col\n",
    "            for col in target_file.schema.names\n",
    "            if any(target in col for target in target_flattened_columns)\n",
    "        ],\n",
    "        indent=4,\n",
    "    )\n",
    ")"
   ]
  },
  {
   "cell_type": "code",
   "execution_count": 71,
   "id": "945d46ba-ae63-4329-aab0-e1ddd27c36c3",
   "metadata": {},
   "outputs": [
    {
     "name": "stdout",
     "output_type": "stream",
     "text": [
      "[\n",
      "    {\n",
      "        \"Image_PathName_CellOutlines\": \"/home/ubuntu/local_output/BR00117006/analysis/BR00117006-A01-1/outlines\",\n",
      "        \"Image_FileName_CellOutlines\": \"A01_s1--cell_outlines.png\",\n",
      "        \"Image_PathName_NucleiOutlines\": \"/home/ubuntu/local_output/BR00117006/analysis/BR00117006-A01-1/outlines\",\n",
      "        \"Image_FileName_NucleiOutlines\": \"A01_s1--nuclei_outlines.png\",\n",
      "        \"Image_PathName_OrigAGP\": \"/home/ubuntu/local_input/projects/2019_07_11_JUMP-CP/2020_11_04_CPJUMP1/images/BR00117006__2020-11-02T19_54_45-Measurement1/Images\",\n",
      "        \"Image_FileName_OrigAGP\": \"r01c01f01p01-ch2sk1fk1fl1.tiff\",\n",
      "        \"Image_PathName_OrigDNA\": \"/home/ubuntu/local_input/projects/2019_07_11_JUMP-CP/2020_11_04_CPJUMP1/images/BR00117006__2020-11-02T19_54_45-Measurement1/Images\",\n",
      "        \"Image_FileName_OrigDNA\": \"r01c01f01p01-ch5sk1fk1fl1.tiff\",\n",
      "        \"Image_PathName_OrigRNA\": \"/home/ubuntu/local_input/projects/2019_07_11_JUMP-CP/2020_11_04_CPJUMP1/images/BR00117006__2020-11-02T19_54_45-Measurement1/Images\",\n",
      "        \"Image_FileName_OrigRNA\": \"r01c01f01p01-ch3sk1fk1fl1.tiff\"\n",
      "    }\n",
      "]\n"
     ]
    }
   ],
   "source": [
    "# show first row of output to help determine where files are located\n",
    "# note: we do this to avoid reading the full dataset, which is > 20 GB\n",
    "df_example = pa.Table.from_batches(\n",
    "    [next(target_file.iter_batches(batch_size=1))]\n",
    ").to_pandas()[target_flattened_columns]\n",
    "\n",
    "# print the dictionary with indentation from the json module\n",
    "print(json.dumps(df_example.to_dict(orient=\"records\"), indent=4))"
   ]
  },
  {
   "cell_type": "code",
   "execution_count": 76,
   "id": "ca4b184b-1a8f-436b-941c-b30b3c5d562d",
   "metadata": {},
   "outputs": [
    {
     "name": "stdout",
     "output_type": "stream",
     "text": [
      "[\n",
      "    {\n",
      "        \"Image_PathName_CellOutlines\": \"/home/ubuntu/local_output/BR00117006/analysis/BR00117006-A01-1/outlines\",\n",
      "        \"Image_FileName_CellOutlines\": \"A01_s1--cell_outlines.png\",\n",
      "        \"Image_PathName_NucleiOutlines\": \"/home/ubuntu/local_output/BR00117006/analysis/BR00117006-A01-1/outlines\",\n",
      "        \"Image_FileName_NucleiOutlines\": \"A01_s1--nuclei_outlines.png\",\n",
      "        \"Image_PathName_OrigAGP\": \"/home/ubuntu/local_input/projects/2019_07_11_JUMP-CP/2020_11_04_CPJUMP1/images/BR00117006__2020-11-02T19_54_45-Measurement1/Images\",\n",
      "        \"Image_FileName_OrigAGP\": \"r01c01f01p01-ch2sk1fk1fl1.tiff\",\n",
      "        \"Image_PathName_OrigDNA\": \"/home/ubuntu/local_input/projects/2019_07_11_JUMP-CP/2020_11_04_CPJUMP1/images/BR00117006__2020-11-02T19_54_45-Measurement1/Images\",\n",
      "        \"Image_FileName_OrigDNA\": \"r01c01f01p01-ch5sk1fk1fl1.tiff\",\n",
      "        \"Image_PathName_OrigRNA\": \"/home/ubuntu/local_input/projects/2019_07_11_JUMP-CP/2020_11_04_CPJUMP1/images/BR00117006__2020-11-02T19_54_45-Measurement1/Images\",\n",
      "        \"Image_FileName_OrigRNA\": \"r01c01f01p01-ch3sk1fk1fl1.tiff\",\n",
      "        \"Image_S3Path_CellOutlines\": \"s3://cellpainting-gallery/cpg0000-jump-pilot/source_4/workspace/analysis/2020_11_04_CPJUMP1/BR00117006/analysis/BR00117006-A01-1/outlines/A01_s1--cell_outlines.png\",\n",
      "        \"Image_S3Path_NucleiOutlines\": \"s3://cellpainting-gallery/cpg0000-jump-pilot/source_4/workspace/analysis/2020_11_04_CPJUMP1/BR00117006/analysis/BR00117006-A01-1/outlines/A01_s1--nuclei_outlines.png\",\n",
      "        \"Image_S3Path_OrigAGP\": \"s3://cellpainting-gallery/cpg0000-jump-pilot/source_4/images/2020_11_04_CPJUMP1/images/BR00117006__2020-11-02T19_54_45-Measurement1/Images/r01c01f01p01-ch2sk1fk1fl1.tiff\",\n",
      "        \"Image_S3Path_OrigDNA\": \"s3://cellpainting-gallery/cpg0000-jump-pilot/source_4/images/2020_11_04_CPJUMP1/images/BR00117006__2020-11-02T19_54_45-Measurement1/Images/r01c01f01p01-ch5sk1fk1fl1.tiff\",\n",
      "        \"Image_S3Path_OrigRNA\": \"s3://cellpainting-gallery/cpg0000-jump-pilot/source_4/images/2020_11_04_CPJUMP1/images/BR00117006__2020-11-02T19_54_45-Measurement1/Images/r01c01f01p01-ch3sk1fk1fl1.tiff\"\n",
      "    }\n",
      "]\n"
     ]
    }
   ],
   "source": [
    "# create inferred AWS S3 paths for all images using the example\n",
    "s3_columns = []\n",
    "\n",
    "for pathname_col, filename_col in target_image_column_groups:\n",
    "\n",
    "    # form a column name for the s3 path\n",
    "    s3_column_name = f\"Image_S3Path_{filename_col.replace('Image_FileName_', '')}\"\n",
    "\n",
    "    # form an S3 path for the outlines, which are stored separately from originals\n",
    "    if \"Outlines\" in filename_col:\n",
    "        df_example[s3_column_name] = (\n",
    "            df_example[pathname_col].str.replace(\n",
    "                \"/home/ubuntu/local_output/\",\n",
    "                \"s3://cellpainting-gallery/cpg0000-jump-pilot/source_4/workspace/analysis/2020_11_04_CPJUMP1/\",\n",
    "            )\n",
    "            + \"/\"\n",
    "            + df_example[filename_col]\n",
    "        )\n",
    "\n",
    "    # form an S3 path for the originals\n",
    "    if \"Orig\" in filename_col:\n",
    "        df_example[s3_column_name] = (\n",
    "            df_example[pathname_col].str.replace(\n",
    "                \"/home/ubuntu/local_input/projects/2019_07_11_JUMP-CP/2020_11_04_CPJUMP1/\",\n",
    "                \"s3://cellpainting-gallery/cpg0000-jump-pilot/source_4/images/2020_11_04_CPJUMP1/\",\n",
    "            )\n",
    "            + \"/\"\n",
    "            + df_example[filename_col]\n",
    "        )\n",
    "\n",
    "    # collect the s3 column name\n",
    "    s3_columns.append(s3_column_name)\n",
    "\n",
    "# print the dictionary with indentation from the json module\n",
    "print(json.dumps(df_example.to_dict(orient=\"records\"), indent=4))"
   ]
  },
  {
   "cell_type": "code",
   "execution_count": 84,
   "id": "6b2cf2d3-e1bf-4f9e-87a0-a572ea767623",
   "metadata": {},
   "outputs": [],
   "source": [
    "# create a custom s3 client to utilize no-sign-request (for anonymous access to s3 resources)\n",
    "s3_cli = S3Client(no_sign_request=True)\n",
    "\n",
    "# create paths\n",
    "pathlib.Path(\"data/images/outlines\").mkdir(exist_ok=True, parents=True)\n",
    "pathlib.Path(\"data/images/orig\").mkdir(exist_ok=True, parents=True)\n",
    "\n",
    "# download images\n",
    "for record in df_example[s3_columns].to_dict(orient=\"records\"):\n",
    "\n",
    "    # iterate through all s3 columns\n",
    "    for s3_column in s3_columns:\n",
    "\n",
    "        # create a cloudpath\n",
    "        image_cloudpath = s3_cli.CloudPath(record[s3_column])\n",
    "\n",
    "        # download outlines images\n",
    "        if \"Outlines\" in s3_column:\n",
    "            image_cloudpath.download_to(f\"data/images/outlines/{image_cloudpath.name}\")\n",
    "\n",
    "        # download outlines images\n",
    "        if \"Orig\" in s3_column:\n",
    "            image_cloudpath.download_to(f\"data/images/orig/{image_cloudpath.name}\")"
   ]
  },
  {
   "cell_type": "code",
   "execution_count": 85,
   "id": "72564469-5ecb-4f26-b7de-665bf4c66226",
   "metadata": {},
   "outputs": [
    {
     "name": "stdout",
     "output_type": "stream",
     "text": [
      "\u001b[01;34mdata\u001b[0m\n",
      "├── \u001b[01;34mimages\u001b[0m\n",
      "│   ├── \u001b[01;34morig\u001b[0m\n",
      "│   │   ├── \u001b[00mr01c01f01p01-ch2sk1fk1fl1.tiff\u001b[0m\n",
      "│   │   ├── \u001b[00mr01c01f01p01-ch3sk1fk1fl1.tiff\u001b[0m\n",
      "│   │   └── \u001b[00mr01c01f01p01-ch5sk1fk1fl1.tiff\u001b[0m\n",
      "│   └── \u001b[01;34moutlines\u001b[0m\n",
      "│       ├── \u001b[00mA01_s1--cell_outlines.png\u001b[0m\n",
      "│       └── \u001b[00mA01_s1--nuclei_outlines.png\u001b[0m\n",
      "└── \u001b[01;34mplates\u001b[0m\n",
      "    └── \u001b[01;34mBR00117006\u001b[0m\n",
      "        └── \u001b[00mBR00117006.parquet\u001b[0m\n",
      "\n",
      "6 directories, 6 files\n"
     ]
    }
   ],
   "source": [
    "# show the data tree\n",
    "!tree data"
   ]
  },
  {
   "cell_type": "code",
   "execution_count": null,
   "id": "838c4ebf-c00e-4094-9d5a-ca06733a7618",
   "metadata": {},
   "outputs": [],
   "source": []
  }
 ],
 "metadata": {
  "kernelspec": {
   "display_name": "jump_sc (Python)",
   "language": "python",
   "name": "jump_sc"
  },
  "language_info": {
   "codemirror_mode": {
    "name": "ipython",
    "version": 3
   },
   "file_extension": ".py",
   "mimetype": "text/x-python",
   "name": "python",
   "nbconvert_exporter": "python",
   "pygments_lexer": "ipython3",
   "version": "3.9.20"
  }
 },
 "nbformat": 4,
 "nbformat_minor": 5
}
