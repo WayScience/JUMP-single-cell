{
  "cells": [
    {
      "cell_type": "markdown",
      "metadata": {
        "jukit_cell_id": "EzUt4Twg5N"
      },
      "source": [
        "# Identify Single Cell Anomalies\n",
        "In this part of the analysis, the single cell are computed using an isolation forest.\n",
        "The index of this file is used to reference the single cell index in the corresponding parquet files, where the \"Metadata_plate\" column refers to the plate name corresponding to the reference file."
      ]
    },
    {
      "cell_type": "markdown",
      "metadata": {
        "jukit_cell_id": "OvtZf6TNyh"
      },
      "source": [
        "### Import Libraries"
      ]
    },
    {
      "cell_type": "code",
      "metadata": {
        "jukit_cell_id": "QuNHIYPoOl"
      },
      "source": [
        "import pathlib\n",
        "\n",
        "import pandas as pd\n",
        "import sys\n",
        "from sklearn.ensemble import IsolationForest"
      ],
      "outputs": [],
      "execution_count": null
    },
    {
      "cell_type": "markdown",
      "metadata": {
        "jukit_cell_id": "nerqgPEMEZ"
      },
      "source": [
        "## Find the path of the git directory"
      ]
    },
    {
      "cell_type": "code",
      "metadata": {
        "jukit_cell_id": "w2uAipPz4U"
      },
      "source": [
        "# Get the current working directory\n",
        "cwd = pathlib.Path.cwd()\n",
        "\n",
        "if (cwd / \".git\").is_dir():\n",
        "    root_dir = cwd\n",
        "\n",
        "else:\n",
        "    root_dir = None\n",
        "    for parent in cwd.parents:\n",
        "        if (parent / \".git\").is_dir():\n",
        "            root_dir = parent\n",
        "            break\n",
        "\n",
        "# Check if a Git root directory was found\n",
        "if root_dir is None:\n",
        "    raise FileNotFoundError(\"No Git root directory found.\")"
      ],
      "outputs": [],
      "execution_count": null
    },
    {
      "cell_type": "markdown",
      "metadata": {
        "jukit_cell_id": "rHQcp3lptv"
      },
      "source": [
        "## Define paths"
      ]
    },
    {
      "cell_type": "markdown",
      "metadata": {
        "jukit_cell_id": "3MslTnvRwY"
      },
      "source": [
        "### Inputs"
      ]
    },
    {
      "cell_type": "code",
      "metadata": {
        "jukit_cell_id": "u0I43b5xFw"
      },
      "source": [
        "big_drive_path = f\"{root_dir}/big_drive\"\n",
        "\n",
        "# Feature selected sc data\n",
        "feature_selected_plate_path = sys.argv[1]\n",
        "feature_selected_df = pd.read_parquet(feature_selected_plate_path)\n",
        "\n",
        "# Name of the plate\n",
        "plate_name = sys.argv[2]"
      ],
      "outputs": [],
      "execution_count": null
    },
    {
      "cell_type": "markdown",
      "metadata": {
        "jukit_cell_id": "Vo5hG6EkKw"
      },
      "source": [
        "### Outputs"
      ]
    },
    {
      "cell_type": "code",
      "metadata": {
        "jukit_cell_id": "CLFFnku4sw"
      },
      "source": [
        "outlier_path = pathlib.Path(f\"{big_drive_path}/outlier_sc_fs_plate_data\")\n",
        "outlier_path.mkdir(parents=True, exist_ok=True)"
      ],
      "outputs": [],
      "execution_count": null
    },
    {
      "cell_type": "markdown",
      "metadata": {
        "jukit_cell_id": "Od3Z4Ripve"
      },
      "source": [
        "## Identify Single Cell Outliers"
      ]
    },
    {
      "cell_type": "code",
      "metadata": {
        "jukit_cell_id": "LxCzoc8wlD"
      },
      "source": [
        "# Metadata columns\n",
        "meta_cols = [col for col in feature_selected_df.columns if \"Metadata\" in col]\n",
        "\n",
        "# Cellprofiler feature data\n",
        "featdf = feature_selected_df.drop(columns=meta_cols)\n",
        "\n",
        "# Calculate anomalies\n",
        "isofor = IsolationForest(n_estimators=1000, random_state=0, n_jobs=-1)\n",
        "\n",
        "# Store anomaly data\n",
        "pd.DataFrame(\n",
        "    {\n",
        "        \"Result_inlier\": isofor.fit_predict(featdf),\n",
        "        \"Result_anomaly_score\": isofor.decision_function(featdf),\n",
        "        \"Metadata_Site\": feature_selected_df[\"Metadata_Site\"],\n",
        "        \"Metadata_Well\": feature_selected_df[\"Metadata_Well\"],\n",
        "        \"Metadata_Plate\": feature_selected_df[\"Metadata_Plate\"],\n",
        "        \"Metadata_ObjectNumber\": feature_selected_df[\"Metadata_ObjectNumber\"]\n",
        "    }\n",
        ").to_parquet(f\"{outlier_path}/single_cell_fs_outlier_plate_{plate_name}.parquet\", index=True)"
      ],
      "outputs": [],
      "execution_count": null
    }
  ],
  "metadata": {
    "anaconda-cloud": {},
    "kernelspec": {
      "display_name": "python",
      "language": "python",
      "name": "python3"
    }
  },
  "nbformat": 4,
  "nbformat_minor": 4
}