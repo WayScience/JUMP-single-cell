{
  "cells": [
    {
      "cell_type": "markdown",
      "metadata": {
        "jukit_cell_id": "EzUt4Twg5N"
      },
      "source": [
        "# Identify Single Cell Anomalies\n",
        "Here we train Anomalyze models on different pre-computed datasets."
      ]
    },
    {
      "cell_type": "markdown",
      "metadata": {
        "jukit_cell_id": "OvtZf6TNyh"
      },
      "source": [
        "### Import Libraries"
      ]
    },
    {
      "cell_type": "code",
      "metadata": {
        "jukit_cell_id": "QuNHIYPoOl"
      },
      "source": [
        "import pathlib\n",
        "import sys\n",
        "\n",
        "import joblib\n",
        "import pandas as pd\n",
        "import pyarrow.parquet as pq\n",
        "from sklearn.ensemble import IsolationForest"
      ],
      "outputs": [],
      "execution_count": null
    },
    {
      "cell_type": "markdown",
      "metadata": {
        "jukit_cell_id": "rHQcp3lptv"
      },
      "source": [
        "## Define paths"
      ]
    },
    {
      "cell_type": "markdown",
      "metadata": {
        "jukit_cell_id": "3MslTnvRwY"
      },
      "source": [
        "### Inputs"
      ]
    },
    {
      "cell_type": "code",
      "metadata": {
        "jukit_cell_id": "u0I43b5xFw"
      },
      "source": [
        "plate_data_name = pathlib.Path(sys.argv[1]).name\n",
        "sampled_plate_jump_data_path = sys.argv[2]\n",
        "\n",
        "sampled_platedf = pd.read_parquet(\n",
        "    f\"{sampled_plate_jump_data_path}/{plate_data_name}.parquet\"\n",
        ")"
      ],
      "outputs": [
        {
          "output_type": "stream",
          "name": "stdout",
          "text": "\u001b[0;31m--------------------------------------------------------------\u001b[0m\n\u001b[0;31mFileNotFoundError\u001b[0m            Traceback (most recent call last)\nCell \u001b[0;32mIn[7], line 4\u001b[0m\n\u001b[1;32m      1\u001b[0m big_drive_path \u001b[38;5;241m=\u001b[39m \u001b[38;5;124mf\u001b[39m\u001b[38;5;124m\"\u001b[39m\u001b[38;5;132;01m{\u001b[39;00mroot_dir\u001b[38;5;132;01m}\u001b[39;00m\u001b[38;5;124m/big_drive\u001b[39m\u001b[38;5;124m\"\u001b[39m\n\u001b[1;32m      3\u001b[0m \u001b[38;5;66;03m# Plate morphology data\u001b[39;00m\n\u001b[0;32m----> 4\u001b[0m plate_paths \u001b[38;5;241m=\u001b[39m \u001b[43mpathlib\u001b[49m\u001b[38;5;241;43m.\u001b[39;49m\u001b[43mPath\u001b[49m\u001b[43m(\u001b[49m\u001b[43msys\u001b[49m\u001b[38;5;241;43m.\u001b[39;49m\u001b[43margv\u001b[49m\u001b[43m[\u001b[49m\u001b[38;5;241;43m1\u001b[39;49m\u001b[43m]\u001b[49m\u001b[43m)\u001b[49m\u001b[38;5;241;43m.\u001b[39;49m\u001b[43mresolve\u001b[49m\u001b[43m(\u001b[49m\u001b[43mstrict\u001b[49m\u001b[38;5;241;43m=\u001b[39;49m\u001b[38;5;28;43;01mTrue\u001b[39;49;00m\u001b[43m)\u001b[49m\n\u001b[1;32m      6\u001b[0m \u001b[38;5;66;03m# Boolean flag for if the data is single-cell\u001b[39;00m\n\u001b[1;32m      7\u001b[0m is_sc \u001b[38;5;241m=\u001b[39m sys\u001b[38;5;241m.\u001b[39margv[\u001b[38;5;241m2\u001b[39m]\u001b[38;5;241m.\u001b[39mlower() \u001b[38;5;241m==\u001b[39m \u001b[38;5;124m\"\u001b[39m\u001b[38;5;124mtrue\u001b[39m\u001b[38;5;124m\"\u001b[39m\n\nFile \u001b[0;32m~/mambaforge-pypy3/envs/jump_sc/lib/python3.9/pathlib.py:1215\u001b[0m, in \u001b[0;36mPath.resolve\u001b[0;34m(self, strict)\u001b[0m\n\u001b[1;32m   1209\u001b[0m \u001b[38;5;28;01mdef\u001b[39;00m \u001b[38;5;21mresolve\u001b[39m(\u001b[38;5;28mself\u001b[39m, strict\u001b[38;5;241m=\u001b[39m\u001b[38;5;28;01mFalse\u001b[39;00m):\n\u001b[1;32m   1210\u001b[0m \u001b[38;5;250m    \u001b[39m\u001b[38;5;124;03m\"\"\"\u001b[39;00m\n\u001b[1;32m   1211\u001b[0m \u001b[38;5;124;03m    Make the path absolute, resolving all symlinks on the way and also\u001b[39;00m\n\u001b[1;32m   1212\u001b[0m \u001b[38;5;124;03m    normalizing it (for example turning slashes into backslashes under\u001b[39;00m\n\u001b[1;32m   1213\u001b[0m \u001b[38;5;124;03m    Windows).\u001b[39;00m\n\u001b[1;32m   1214\u001b[0m \u001b[38;5;124;03m    \"\"\"\u001b[39;00m\n\u001b[0;32m-> 1215\u001b[0m     s \u001b[38;5;241m=\u001b[39m \u001b[38;5;28;43mself\u001b[39;49m\u001b[38;5;241;43m.\u001b[39;49m\u001b[43m_flavour\u001b[49m\u001b[38;5;241;43m.\u001b[39;49m\u001b[43mresolve\u001b[49m\u001b[43m(\u001b[49m\u001b[38;5;28;43mself\u001b[39;49m\u001b[43m,\u001b[49m\u001b[43m \u001b[49m\u001b[43mstrict\u001b[49m\u001b[38;5;241;43m=\u001b[39;49m\u001b[43mstrict\u001b[49m\u001b[43m)\u001b[49m\n\u001b[1;32m   1216\u001b[0m     \u001b[38;5;28;01mif\u001b[39;00m s \u001b[38;5;129;01mis\u001b[39;00m \u001b[38;5;28;01mNone\u001b[39;00m:\n\u001b[1;32m   1217\u001b[0m         \u001b[38;5;66;03m# No symlink resolution => for consistency, raise an error if\u001b[39;00m\n\u001b[1;32m   1218\u001b[0m         \u001b[38;5;66;03m# the path doesn't exist or is forbidden\u001b[39;00m\n\u001b[1;32m   1219\u001b[0m         \u001b[38;5;28mself\u001b[39m\u001b[38;5;241m.\u001b[39mstat()\n\nFile \u001b[0;32m~/mambaforge-pypy3/envs/jump_sc/lib/python3.9/pathlib.py:373\u001b[0m, in \u001b[0;36m_PosixFlavour.resolve\u001b[0;34m(self, path, strict)\u001b[0m\n\u001b[1;32m    370\u001b[0m \u001b[38;5;66;03m# NOTE: according to POSIX, getcwd() cannot contain path components\u001b[39;00m\n\u001b[1;32m    371\u001b[0m \u001b[38;5;66;03m# which are symlinks.\u001b[39;00m\n\u001b[1;32m    372\u001b[0m base \u001b[38;5;241m=\u001b[39m \u001b[38;5;124m'\u001b[39m\u001b[38;5;124m'\u001b[39m \u001b[38;5;28;01mif\u001b[39;00m path\u001b[38;5;241m.\u001b[39mis_absolute() \u001b[38;5;28;01melse\u001b[39;00m os\u001b[38;5;241m.\u001b[39mgetcwd()\n\u001b[0;32m--> 373\u001b[0m \u001b[38;5;28;01mreturn\u001b[39;00m \u001b[43m_resolve\u001b[49m\u001b[43m(\u001b[49m\u001b[43mbase\u001b[49m\u001b[43m,\u001b[49m\u001b[43m \u001b[49m\u001b[38;5;28;43mstr\u001b[39;49m\u001b[43m(\u001b[49m\u001b[43mpath\u001b[49m\u001b[43m)\u001b[49m\u001b[43m)\u001b[49m \u001b[38;5;129;01mor\u001b[39;00m sep\n\nFile \u001b[0;32m~/mambaforge-pypy3/envs/jump_sc/lib/python3.9/pathlib.py:357\u001b[0m, in \u001b[0;36m_PosixFlavour.resolve.<locals>._resolve\u001b[0;34m(path, rest)\u001b[0m\n\u001b[1;32m    355\u001b[0m \u001b[38;5;66;03m# Resolve the symbolic link\u001b[39;00m\n\u001b[1;32m    356\u001b[0m \u001b[38;5;28;01mtry\u001b[39;00m:\n\u001b[0;32m--> 357\u001b[0m     target \u001b[38;5;241m=\u001b[39m \u001b[43maccessor\u001b[49m\u001b[38;5;241;43m.\u001b[39;49m\u001b[43mreadlink\u001b[49m\u001b[43m(\u001b[49m\u001b[43mnewpath\u001b[49m\u001b[43m)\u001b[49m\n\u001b[1;32m    358\u001b[0m \u001b[38;5;28;01mexcept\u001b[39;00m \u001b[38;5;167;01mOSError\u001b[39;00m \u001b[38;5;28;01mas\u001b[39;00m e:\n\u001b[1;32m    359\u001b[0m     \u001b[38;5;28;01mif\u001b[39;00m e\u001b[38;5;241m.\u001b[39merrno \u001b[38;5;241m!=\u001b[39m EINVAL \u001b[38;5;129;01mand\u001b[39;00m strict:\n\nFile \u001b[0;32m~/mambaforge-pypy3/envs/jump_sc/lib/python3.9/pathlib.py:462\u001b[0m, in \u001b[0;36m_NormalAccessor.readlink\u001b[0;34m(self, path)\u001b[0m\n\u001b[1;32m    461\u001b[0m \u001b[38;5;28;01mdef\u001b[39;00m \u001b[38;5;21mreadlink\u001b[39m(\u001b[38;5;28mself\u001b[39m, path):\n\u001b[0;32m--> 462\u001b[0m     \u001b[38;5;28;01mreturn\u001b[39;00m \u001b[43mos\u001b[49m\u001b[38;5;241;43m.\u001b[39;49m\u001b[43mreadlink\u001b[49m\u001b[43m(\u001b[49m\u001b[43mpath\u001b[49m\u001b[43m)\u001b[49m\n\n\u001b[0;31mFileNotFoundError\u001b[0m: [Errno 2] No such file or directory: '/home/camo/projects/JUMP-single-cell/2.evaluate_data/identify_sc_outlier_per_plate/-i'\n"
        }
      ],
      "execution_count": 1
    },
    {
      "cell_type": "markdown",
      "metadata": {
        "jukit_cell_id": "veVF0pgtq2"
      },
      "source": [
        "### Outputs"
      ]
    },
    {
      "cell_type": "code",
      "metadata": {
        "jukit_cell_id": "HeBnkGEuZf"
      },
      "source": [
        "isoforest_path = pathlib.Path(\"isolation_forest_models\")\n",
        "isoforest_path.mkdir(parents=True, exist_ok=True)\n",
        "\n",
        "isoforest_path = pathlib.Path(\n",
        "    isoforest_path / f\"{plate_data_name}_isolation_forest.joblib\"\n",
        ")"
      ],
      "outputs": [],
      "execution_count": null
    },
    {
      "cell_type": "markdown",
      "metadata": {
        "jukit_cell_id": "Od3Z4Ripve"
      },
      "source": [
        "## Train Anomalyze Models"
      ]
    },
    {
      "cell_type": "code",
      "metadata": {
        "jukit_cell_id": "LxCzoc8wlD"
      },
      "source": [
        "meta_cols = [col for col in sampled_platedf.columns if \"Metadata\" in col]\n",
        "featdf = sampled_platedf.drop(columns=meta_cols).dropna(axis=1, how=\"any\")\n",
        "\n",
        "# If 1_600 trees are trained with 256 samples per tree, then\n",
        "# 1_600 * 256 gives approximately the expected number of samples per tree.\n",
        "# For some of the plate data, this number of samples can barely fit in memory.\n",
        "# We also want to maximize the number of trees to learn many patterns for identifying anomalies.\n",
        "# 256 is empirically the largest number of samples per tree that allowed outliers to be isolated better.\n",
        "isofor = IsolationForest(n_estimators=1_600, random_state=0, n_jobs=-1)\n",
        "isofor.fit(featdf)\n",
        "\n",
        "joblib.dump(isofor, isoforest_path)"
      ],
      "outputs": [],
      "execution_count": null
    }
  ],
  "metadata": {
    "anaconda-cloud": {},
    "kernelspec": {
      "display_name": "python",
      "language": "python",
      "name": "python3"
    }
  },
  "nbformat": 4,
  "nbformat_minor": 4
}