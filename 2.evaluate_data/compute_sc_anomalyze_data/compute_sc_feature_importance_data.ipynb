{
  "cells": [
    {
      "cell_type": "markdown",
      "metadata": {
        "jukit_cell_id": "GKSjBhrcro"
      },
      "source": [
        "# Identify single cell anomalies\n",
        "In this analysis we compute single-cell anomaly data with anomalyze"
      ]
    },
    {
      "cell_type": "code",
      "metadata": {
        "jukit_cell_id": "wWc5vokN2k"
      },
      "source": [
        "import pathlib\n",
        "import sys\n",
        "\n",
        "sys.path.append(str((pathlib.Path.cwd().parent / \"utils\").resolve(strict=True)))\n",
        "import joblib\n",
        "import pandas as pd\n",
        "import pyarrow as pa\n",
        "import pyarrow.parquet as pq\n",
        "from isolation_forest_data_feature_importance import IsoforestFeatureImportance\n",
        "from sklearn.ensemble import IsolationForest"
      ],
      "outputs": [],
      "execution_count": null
    },
    {
      "cell_type": "markdown",
      "metadata": {
        "jukit_cell_id": "az7X2tr2FY"
      },
      "source": [
        "## Define inputs and outputs"
      ]
    },
    {
      "cell_type": "code",
      "metadata": {
        "jukit_cell_id": "0Qhap9H5Xu"
      },
      "source": [
        "sc_data_path = pathlib.Path(sys.argv[1]).resolve(strict=True)\n",
        "sc_data_dir_name = sc_data_path.parent.name\n",
        "pq_file = pq.ParquetFile(sc_data_path)\n",
        "\n",
        "iso_forest = joblib.load(pathlib.Path(sys.argv[2]).resolve(strict=True))\n",
        "iso_forest.n_jobs = -1\n",
        "\n",
        "feature_importance_data_path = (\n",
        "    pathlib.Path(sys.argv[3]) / sc_data_dir_name / sc_data_path.stem\n",
        ")\n",
        "feature_importance_data_path.mkdir(parents=True, exist_ok=True)"
      ],
      "outputs": [],
      "execution_count": null
    },
    {
      "cell_type": "markdown",
      "metadata": {
        "jukit_cell_id": "7oCv6Vb79n"
      },
      "source": [
        "## Compute Anomaly Data"
      ]
    },
    {
      "cell_type": "code",
      "metadata": {
        "jukit_cell_id": "kD5WcVSvOF"
      },
      "source": [
        "# Isolation forest reference:\n",
        "# https://ieeexplore.ieee.org/document/4781136\n",
        "# The data is batched here to reduce the memory burden\n",
        "for i, batch in enumerate(pq_file.iter_batches(batch_size=220_000)):\n",
        "    morphologydf = batch.to_pandas()[iso_forest.feature_names_in_]\n",
        "    IsoforestFeatureImportance(\n",
        "        _estimators=iso_forest.estimators_,\n",
        "        _morphology_data=morphologydf,\n",
        "        _num_train_samples_per_tree=iso_forest.max_samples_,\n",
        "    )().to_parquet(\n",
        "        feature_importance_data_path\n",
        "        / f\"{sc_data_path.stem}_feature_importance_{i}.parquet\"\n",
        "    )"
      ],
      "outputs": [],
      "execution_count": null
    }
  ],
  "metadata": {
    "anaconda-cloud": {},
    "kernelspec": {
      "display_name": "python",
      "language": "python",
      "name": "python3"
    }
  },
  "nbformat": 4,
  "nbformat_minor": 4
}