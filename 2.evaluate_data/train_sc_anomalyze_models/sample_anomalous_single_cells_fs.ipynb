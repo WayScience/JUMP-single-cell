{
  "cells": [
    {
      "cell_type": "markdown",
      "metadata": {
        "jukit_cell_id": "EzUt4Twg5N"
      },
      "source": [
        "# Sample data from each well\n",
        "Deterministically sample data from each plate dataset and get the intersection of all features not containing nans."
      ]
    },
    {
      "cell_type": "markdown",
      "metadata": {
        "jukit_cell_id": "OvtZf6TNyh"
      },
      "source": [
        "### Import Libraries"
      ]
    },
    {
      "cell_type": "code",
      "metadata": {
        "jukit_cell_id": "QuNHIYPoOl"
      },
      "source": [
        "import json\n",
        "import pathlib\n",
        "import sys\n",
        "\n",
        "import pandas as pd\n",
        "\n",
        "sys.path.append(str(pathlib.Path.cwd().parent / \"utils\"))\n",
        "from DeterministicSampling import DeterministicSampling"
      ],
      "outputs": [],
      "execution_count": null
    },
    {
      "cell_type": "markdown",
      "metadata": {
        "jukit_cell_id": "rHQcp3lptv"
      },
      "source": [
        "## Define paths"
      ]
    },
    {
      "cell_type": "markdown",
      "metadata": {
        "jukit_cell_id": "3MslTnvRwY"
      },
      "source": [
        "### Inputs"
      ]
    },
    {
      "cell_type": "code",
      "metadata": {
        "jukit_cell_id": "u0I43b5xFw"
      },
      "source": [
        "# Plate morphology data\n",
        "sc_data_path = pathlib.Path(sys.argv[1]).resolve(strict=True)\n",
        "sc_data_dir_name = sc_data_path.parent.name\n",
        "plate_path = pathlib.Path(sc_data_path).resolve(strict=True)\n",
        "platedf = pd.read_parquet(plate_path)\n",
        "\n",
        "sampled_plate_jump_path = pathlib.Path(sys.argv[2])\n",
        "\n",
        "anomaly_data_path = pathlib.Path(sys.argv[3]) / sc_data_dir_name\n",
        "anomaly_data_path.mkdir(parents=True, exist_ok=True)\n",
        "feat_col_path = anomaly_data_path / \"feature_columns.json\""
      ],
      "outputs": [
        {
          "output_type": "stream",
          "name": "stdout",
          "text": "\u001b[0;31m--------------------------------------------------------------\u001b[0m\n\u001b[0;31mFileNotFoundError\u001b[0m            Traceback (most recent call last)\nCell \u001b[0;32mIn[5], line 2\u001b[0m\n\u001b[1;32m      1\u001b[0m \u001b[38;5;66;03m# Plate morphology data\u001b[39;00m\n\u001b[0;32m----> 2\u001b[0m plate_path \u001b[38;5;241m=\u001b[39m \u001b[43mpathlib\u001b[49m\u001b[38;5;241;43m.\u001b[39;49m\u001b[43mPath\u001b[49m\u001b[43m(\u001b[49m\u001b[43msys\u001b[49m\u001b[38;5;241;43m.\u001b[39;49m\u001b[43margv\u001b[49m\u001b[43m[\u001b[49m\u001b[38;5;241;43m1\u001b[39;49m\u001b[43m]\u001b[49m\u001b[43m)\u001b[49m\u001b[38;5;241;43m.\u001b[39;49m\u001b[43mresolve\u001b[49m\u001b[43m(\u001b[49m\u001b[43mstrict\u001b[49m\u001b[38;5;241;43m=\u001b[39;49m\u001b[38;5;28;43;01mTrue\u001b[39;49;00m\u001b[43m)\u001b[49m\n\u001b[1;32m      3\u001b[0m platedf \u001b[38;5;241m=\u001b[39m pd\u001b[38;5;241m.\u001b[39mread_parquet(plate_path)\n\u001b[1;32m      5\u001b[0m \u001b[38;5;66;03m# Boolean flag for if the data is single-cell\u001b[39;00m\n\nFile \u001b[0;32m~/mambaforge-pypy3/envs/jump_sc/lib/python3.9/pathlib.py:1215\u001b[0m, in \u001b[0;36mPath.resolve\u001b[0;34m(self, strict)\u001b[0m\n\u001b[1;32m   1209\u001b[0m \u001b[38;5;28;01mdef\u001b[39;00m\u001b[38;5;250m \u001b[39m\u001b[38;5;21mresolve\u001b[39m(\u001b[38;5;28mself\u001b[39m, strict\u001b[38;5;241m=\u001b[39m\u001b[38;5;28;01mFalse\u001b[39;00m):\n\u001b[1;32m   1210\u001b[0m \u001b[38;5;250m    \u001b[39m\u001b[38;5;124;03m\"\"\"\u001b[39;00m\n\u001b[1;32m   1211\u001b[0m \u001b[38;5;124;03m    Make the path absolute, resolving all symlinks on the way and also\u001b[39;00m\n\u001b[1;32m   1212\u001b[0m \u001b[38;5;124;03m    normalizing it (for example turning slashes into backslashes under\u001b[39;00m\n\u001b[1;32m   1213\u001b[0m \u001b[38;5;124;03m    Windows).\u001b[39;00m\n\u001b[1;32m   1214\u001b[0m \u001b[38;5;124;03m    \"\"\"\u001b[39;00m\n\u001b[0;32m-> 1215\u001b[0m     s \u001b[38;5;241m=\u001b[39m \u001b[38;5;28;43mself\u001b[39;49m\u001b[38;5;241;43m.\u001b[39;49m\u001b[43m_flavour\u001b[49m\u001b[38;5;241;43m.\u001b[39;49m\u001b[43mresolve\u001b[49m\u001b[43m(\u001b[49m\u001b[38;5;28;43mself\u001b[39;49m\u001b[43m,\u001b[49m\u001b[43m \u001b[49m\u001b[43mstrict\u001b[49m\u001b[38;5;241;43m=\u001b[39;49m\u001b[43mstrict\u001b[49m\u001b[43m)\u001b[49m\n\u001b[1;32m   1216\u001b[0m     \u001b[38;5;28;01mif\u001b[39;00m s \u001b[38;5;129;01mis\u001b[39;00m \u001b[38;5;28;01mNone\u001b[39;00m:\n\u001b[1;32m   1217\u001b[0m         \u001b[38;5;66;03m# No symlink resolution => for consistency, raise an error if\u001b[39;00m\n\u001b[1;32m   1218\u001b[0m         \u001b[38;5;66;03m# the path doesn't exist or is forbidden\u001b[39;00m\n\u001b[1;32m   1219\u001b[0m         \u001b[38;5;28mself\u001b[39m\u001b[38;5;241m.\u001b[39mstat()\n\nFile \u001b[0;32m~/mambaforge-pypy3/envs/jump_sc/lib/python3.9/pathlib.py:373\u001b[0m, in \u001b[0;36m_PosixFlavour.resolve\u001b[0;34m(self, path, strict)\u001b[0m\n\u001b[1;32m    370\u001b[0m \u001b[38;5;66;03m# NOTE: according to POSIX, getcwd() cannot contain path components\u001b[39;00m\n\u001b[1;32m    371\u001b[0m \u001b[38;5;66;03m# which are symlinks.\u001b[39;00m\n\u001b[1;32m    372\u001b[0m base \u001b[38;5;241m=\u001b[39m \u001b[38;5;124m'\u001b[39m\u001b[38;5;124m'\u001b[39m \u001b[38;5;28;01mif\u001b[39;00m path\u001b[38;5;241m.\u001b[39mis_absolute() \u001b[38;5;28;01melse\u001b[39;00m os\u001b[38;5;241m.\u001b[39mgetcwd()\n\u001b[0;32m--> 373\u001b[0m \u001b[38;5;28;01mreturn\u001b[39;00m \u001b[43m_resolve\u001b[49m\u001b[43m(\u001b[49m\u001b[43mbase\u001b[49m\u001b[43m,\u001b[49m\u001b[43m \u001b[49m\u001b[38;5;28;43mstr\u001b[39;49m\u001b[43m(\u001b[49m\u001b[43mpath\u001b[49m\u001b[43m)\u001b[49m\u001b[43m)\u001b[49m \u001b[38;5;129;01mor\u001b[39;00m sep\n\nFile \u001b[0;32m~/mambaforge-pypy3/envs/jump_sc/lib/python3.9/pathlib.py:357\u001b[0m, in \u001b[0;36m_PosixFlavour.resolve.<locals>._resolve\u001b[0;34m(path, rest)\u001b[0m\n\u001b[1;32m    355\u001b[0m \u001b[38;5;66;03m# Resolve the symbolic link\u001b[39;00m\n\u001b[1;32m    356\u001b[0m \u001b[38;5;28;01mtry\u001b[39;00m:\n\u001b[0;32m--> 357\u001b[0m     target \u001b[38;5;241m=\u001b[39m \u001b[43maccessor\u001b[49m\u001b[38;5;241;43m.\u001b[39;49m\u001b[43mreadlink\u001b[49m\u001b[43m(\u001b[49m\u001b[43mnewpath\u001b[49m\u001b[43m)\u001b[49m\n\u001b[1;32m    358\u001b[0m \u001b[38;5;28;01mexcept\u001b[39;00m \u001b[38;5;167;01mOSError\u001b[39;00m \u001b[38;5;28;01mas\u001b[39;00m e:\n\u001b[1;32m    359\u001b[0m     \u001b[38;5;28;01mif\u001b[39;00m e\u001b[38;5;241m.\u001b[39merrno \u001b[38;5;241m!=\u001b[39m EINVAL \u001b[38;5;129;01mand\u001b[39;00m strict:\n\nFile \u001b[0;32m~/mambaforge-pypy3/envs/jump_sc/lib/python3.9/pathlib.py:462\u001b[0m, in \u001b[0;36m_NormalAccessor.readlink\u001b[0;34m(self, path)\u001b[0m\n\u001b[1;32m    461\u001b[0m \u001b[38;5;28;01mdef\u001b[39;00m\u001b[38;5;250m \u001b[39m\u001b[38;5;21mreadlink\u001b[39m(\u001b[38;5;28mself\u001b[39m, path):\n\u001b[0;32m--> 462\u001b[0m     \u001b[38;5;28;01mreturn\u001b[39;00m \u001b[43mos\u001b[49m\u001b[38;5;241;43m.\u001b[39;49m\u001b[43mreadlink\u001b[49m\u001b[43m(\u001b[49m\u001b[43mpath\u001b[49m\u001b[43m)\u001b[49m\n\n\u001b[0;31mFileNotFoundError\u001b[0m: [Errno 2] No such file or directory: '/home/camo/projects/JUMP-single-cell/2.evaluate_data/identify_sc_outlier_per_plate/-i'\n"
        }
      ],
      "execution_count": 1
    },
    {
      "cell_type": "markdown",
      "metadata": {
        "jukit_cell_id": "Vo5hG6EkKw"
      },
      "source": [
        "### Outputs"
      ]
    },
    {
      "cell_type": "code",
      "metadata": {
        "jukit_cell_id": "CLFFnku4sw"
      },
      "source": [
        "plate_data_path = sampled_plate_jump_path / f\"{plate_path.parent.name}.parquet\""
      ],
      "outputs": [
        {
          "output_type": "stream",
          "name": "stdout",
          "text": "\u001b[0;31m--------------------------------------------------------------\u001b[0m\n\u001b[0;31mNameError\u001b[0m                    Traceback (most recent call last)\nCell \u001b[0;32mIn[7], line 1\u001b[0m\n\u001b[0;32m----> 1\u001b[0m plate_data_path \u001b[38;5;241m=\u001b[39m \u001b[43msampled_plate_jump_path\u001b[49m \u001b[38;5;241m/\u001b[39m plate_path\u001b[38;5;241m.\u001b[39mparent\u001b[38;5;241m.\u001b[39mname\n\n\u001b[0;31mNameError\u001b[0m: name 'sampled_plate_jump_path' is not defined\n"
        }
      ],
      "execution_count": 2
    },
    {
      "cell_type": "markdown",
      "metadata": {
        "jukit_cell_id": "nJGYnPrMIE"
      },
      "source": [
        "## Save feature columns that don't contain NaNs"
      ]
    },
    {
      "cell_type": "code",
      "metadata": {
        "jukit_cell_id": "soht24BsrT"
      },
      "source": [
        "feat_cols = []\n",
        "non_na_cols = platedf.columns[platedf.notna().all()].tolist()\n",
        "non_na_cols = [col for col in non_na_cols if not \"Metadata\" in col]\n",
        "\n",
        "if feat_col_path.exists():\n",
        "    with feat_col_path.open(\"r\") as feat_col_obj:\n",
        "        feat_cols = json.load(feat_col_obj)\n",
        "        feat_cols = list(set(non_na_cols) & set(feat_cols))\n",
        "\n",
        "else:\n",
        "    feat_cols = non_na_cols\n",
        "\n",
        "with feat_col_path.open(\"w\") as feat_col_obj:\n",
        "    json.dump(feat_cols, feat_col_obj)"
      ],
      "outputs": [],
      "execution_count": null
    },
    {
      "cell_type": "markdown",
      "metadata": {
        "jukit_cell_id": "X0CVV2bWwS"
      },
      "source": [
        "## Sample single-cell data by Hash"
      ]
    },
    {
      "cell_type": "code",
      "metadata": {
        "jukit_cell_id": "5OrHDaTxQX"
      },
      "source": [
        "ds = DeterministicSampling(\n",
        "    _platedf=platedf,\n",
        "    # Number of samples per plate needed to train the JUMP isolation forests\n",
        "    # See identify_anomalous_single_cells_fs.py for more details\n",
        "    # Only 4_000 are needed, however each sampling will likely not be exactly 4_000 samples\n",
        "    # due to the probabilistic nature of hash-based sampling.\n",
        "    # To ensure a sufficient sample size I increased the threshold.\n",
        "    _samples_per_plate=4_100,\n",
        "    _plate_column=\"Metadata_Plate\",\n",
        "    _well_column=\"Metadata_Well\",\n",
        "    _cell_id_columns=[\"Metadata_Site\", \"Metadata_ObjectNumber\"],\n",
        ")\n",
        "\n",
        "sampled_platedf = ds.sample_plate_deterministically(_sample_strategy=\"well_sampling\")"
      ],
      "outputs": [
        {
          "output_type": "stream",
          "name": "stdout",
          "text": "\u001b[0;31m--------------------------------------------------------------\u001b[0m\n\u001b[0;31mNameError\u001b[0m                    Traceback (most recent call last)\nCell \u001b[0;32mIn[8], line 7\u001b[0m\n\u001b[1;32m      4\u001b[0m hash_cols \u001b[38;5;241m=\u001b[39m [\u001b[38;5;124m\"\u001b[39m\u001b[38;5;124mMetadata_Plate\u001b[39m\u001b[38;5;124m\"\u001b[39m, \u001b[38;5;124m\"\u001b[39m\u001b[38;5;124mMetadata_Well\u001b[39m\u001b[38;5;124m\"\u001b[39m]\n\u001b[1;32m      5\u001b[0m group_cols \u001b[38;5;241m=\u001b[39m hash_cols\u001b[38;5;241m.\u001b[39mcopy()\n\u001b[0;32m----> 7\u001b[0m \u001b[38;5;28;01mif\u001b[39;00m \u001b[43mis_sc\u001b[49m:\n\u001b[1;32m      8\u001b[0m     hash_cols \u001b[38;5;241m+\u001b[39m\u001b[38;5;241m=\u001b[39m [\u001b[38;5;124m\"\u001b[39m\u001b[38;5;124mMetadata_Site\u001b[39m\u001b[38;5;124m\"\u001b[39m, \u001b[38;5;124m\"\u001b[39m\u001b[38;5;124mMetadata_ObjectNumber\u001b[39m\u001b[38;5;124m\"\u001b[39m]\n\u001b[1;32m     10\u001b[0m platedf[\u001b[38;5;124m\"\u001b[39m\u001b[38;5;124mMetadata_farmhash\u001b[39m\u001b[38;5;124m\"\u001b[39m] \u001b[38;5;241m=\u001b[39m platedf\u001b[38;5;241m.\u001b[39mapply(\n\u001b[1;32m     11\u001b[0m     \u001b[38;5;28;01mlambda\u001b[39;00m row: Fingerprint64(\u001b[38;5;124m\"\u001b[39m\u001b[38;5;124m\"\u001b[39m\u001b[38;5;241m.\u001b[39mjoin(\u001b[38;5;28mstr\u001b[39m(row[col]) \u001b[38;5;28;01mfor\u001b[39;00m col \u001b[38;5;129;01min\u001b[39;00m hash_cols)) \u001b[38;5;241m%\u001b[39m divisor,\n\u001b[1;32m     12\u001b[0m     axis\u001b[38;5;241m=\u001b[39m\u001b[38;5;241m1\u001b[39m,\n\u001b[1;32m     13\u001b[0m )\n\n\u001b[0;31mNameError\u001b[0m: name 'is_sc' is not defined\n"
        }
      ],
      "execution_count": 3
    },
    {
      "cell_type": "markdown",
      "metadata": {
        "jukit_cell_id": "A98Gum4i9t"
      },
      "source": [
        "## Concatenate and Save Sampled Plate data"
      ]
    },
    {
      "cell_type": "code",
      "metadata": {
        "jukit_cell_id": "tEcACoqJrH"
      },
      "source": [
        "if plate_data_path.exists():\n",
        "    sampled_platedf = pd.concat(\n",
        "        [sampled_platedf, pd.read_parquet(plate_data_path)], axis=0\n",
        "    )\n",
        "\n",
        "sampled_platedf.to_parquet(plate_data_path)"
      ],
      "outputs": [
        {
          "output_type": "stream",
          "name": "stdout",
          "text": "\u001b[0;31m--------------------------------------------------------------\u001b[0m\n\u001b[0;31mNameError\u001b[0m                    Traceback (most recent call last)\nCell \u001b[0;32mIn[12], line 1\u001b[0m\n\u001b[0;32m----> 1\u001b[0m \u001b[38;5;28;01mif\u001b[39;00m \u001b[43mplate_data_path\u001b[49m\u001b[38;5;241m.\u001b[39mexists():\n\u001b[1;32m      2\u001b[0m     sampled_platedf \u001b[38;5;241m=\u001b[39m pd\u001b[38;5;241m.\u001b[39mconcat(\n\u001b[1;32m      3\u001b[0m         [sampled_platedf, pd\u001b[38;5;241m.\u001b[39mread_parquet(plate_data_path)], axis\u001b[38;5;241m=\u001b[39m\u001b[38;5;241m0\u001b[39m\n\u001b[1;32m      4\u001b[0m     )\n\u001b[1;32m      6\u001b[0m sampled_platedf\u001b[38;5;241m.\u001b[39mto_parquet(plate_data_path)\n\n\u001b[0;31mNameError\u001b[0m: name 'plate_data_path' is not defined\n"
        }
      ],
      "execution_count": 4
    }
  ],
  "metadata": {
    "anaconda-cloud": {},
    "kernelspec": {
      "display_name": "python",
      "language": "python",
      "name": "python3"
    }
  },
  "nbformat": 4,
  "nbformat_minor": 4
}