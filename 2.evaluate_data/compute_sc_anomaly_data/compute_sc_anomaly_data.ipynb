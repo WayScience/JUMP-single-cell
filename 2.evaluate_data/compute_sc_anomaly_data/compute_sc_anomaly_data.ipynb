{
  "cells": [
    {
      "cell_type": "markdown",
      "metadata": {
        "jukit_cell_id": "GKSjBhrcro"
      },
      "source": [
        "# Identify single cell anomalies\n",
        "In this analysis we compute single-cell anomaly data with anomalyze"
      ]
    },
    {
      "cell_type": "code",
      "metadata": {
        "jukit_cell_id": "wWc5vokN2k"
      },
      "source": [
        "import pathlib\n",
        "import sys\n",
        "\n",
        "import dask.dataframe as dd\n",
        "import joblib\n",
        "import pandas as pd\n",
        "from sklearn.ensemble import IsolationForest"
      ],
      "outputs": [],
      "execution_count": null
    },
    {
      "cell_type": "markdown",
      "metadata": {
        "jukit_cell_id": "7oCv6Vb79n"
      },
      "source": [
        "## Identify Anomaly Data"
      ]
    },
    {
      "cell_type": "code",
      "metadata": {
        "jukit_cell_id": "kD5WcVSvOF"
      },
      "source": [
        "def compute_sc_outlier_data(\n",
        "    _scdf: pd.DataFrame,\n",
        ") -> pd.DataFrame:\n",
        "    \"\"\"\n",
        "    Compute single-cell outlier data.\n",
        "\n",
        "    Parameters\n",
        "    ----------\n",
        "    _scdf: Single cell profile data containing morphology features and metadata.\n",
        "    \"\"\"\n",
        "\n",
        "    # Isolation forest reference:\n",
        "    # https://ieeexplore.ieee.org/document/4781136\n",
        "    isofor = IsolationForest(n_estimators=1_000, random_state=0, n_jobs=-1)\n",
        "    _scdf = _scdf.assign(Result_inlier=isofor.fit_predict(_scdf[feat_cols].copy()))\n",
        "    _scdf = _scdf[meta_cols].assign(\n",
        "        Result_anomaly_score=isofor.decision_function(_scdf[feat_cols].copy())\n",
        "    )\n",
        "\n",
        "    _scdf.sort_values(by=\"Result_anomaly_score\", ascending=True, inplace=True)\n",
        "\n",
        "    return _scdf[\n",
        "        meta_cols\n",
        "        + [\n",
        "            \"Result_inlier\",\n",
        "            \"Result_anomaly_score\",\n",
        "        ]\n",
        "    ]"
      ],
      "outputs": [],
      "execution_count": null
    },
    {
      "cell_type": "markdown",
      "metadata": {
        "jukit_cell_id": "az7X2tr2FY"
      },
      "source": [
        "## Define inputs and outputs"
      ]
    },
    {
      "cell_type": "code",
      "metadata": {
        "jukit_cell_id": "0Qhap9H5Xu"
      },
      "source": [
        "sc_data_path = pathlib.Path(sys.argv[1].resolve(strict=True))\n",
        "scddf = dd.read_parquet(sc_data_path / \"*.parquet\")\n",
        "\n",
        "iso_forest = joblib.load(pathlib.Path(sys.argv[2]).resolve(strict=True))\n",
        "\n",
        "anomaly_data_path = pathlib.Path(\"sc_anomaly_data\")\n",
        "anomaly_data_path.mkdir(parents=True, exist_ok=True)"
      ],
      "outputs": [],
      "execution_count": null
    },
    {
      "cell_type": "code",
      "metadata": {
        "jukit_cell_id": "H1uMt6i3l6"
      },
      "source": [
        "feat_cols = iso_forest.feature_names_in_\n",
        "meta_cols = [col for col in scddf.columns if \"Metadata\" in col]\n",
        "\n",
        "meta_dict = {col: scddf[col].dtype for col in meta_cols}\n",
        "meta_dict[\"Result_inlier\"] = \"i1\"  # int8\n",
        "meta_dict[\"Result_anomaly_score\"] = \"f8\"  # float64\n",
        "\n",
        "outlier_ddf = scddf.map_partitions(compute_sc_outlier_data, meta=meta_dict)\n",
        "outlier_ddf.to_parquet(\n",
        "    anomaly_data_path / sc_data_path.name / \"_anomaly_data.parquet\", write_index=False\n",
        ")"
      ],
      "outputs": [],
      "execution_count": null
    }
  ],
  "metadata": {
    "anaconda-cloud": {},
    "kernelspec": {
      "display_name": "python",
      "language": "python",
      "name": "python3"
    }
  },
  "nbformat": 4,
  "nbformat_minor": 4
}