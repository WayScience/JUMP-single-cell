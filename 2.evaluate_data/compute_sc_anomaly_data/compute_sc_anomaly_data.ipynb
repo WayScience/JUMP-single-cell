{
  "cells": [
    {
      "cell_type": "markdown",
      "metadata": {
        "jukit_cell_id": "GKSjBhrcro"
      },
      "source": [
        "# Identify single cell anomalies\n",
        "In this analysis we compute single-cell anomaly data with anomalyze"
      ]
    },
    {
      "cell_type": "code",
      "metadata": {
        "jukit_cell_id": "wWc5vokN2k"
      },
      "source": [
        "import pathlib\n",
        "import sys\n",
        "\n",
        "import joblib\n",
        "import pandas as pd\n",
        "import pyarrow as pa\n",
        "import pyarrow.parquet as pq\n",
        "from sklearn.ensemble import IsolationForest"
      ],
      "outputs": [],
      "execution_count": null
    },
    {
      "cell_type": "markdown",
      "metadata": {
        "jukit_cell_id": "az7X2tr2FY"
      },
      "source": [
        "## Define inputs and outputs"
      ]
    },
    {
      "cell_type": "code",
      "metadata": {
        "jukit_cell_id": "0Qhap9H5Xu"
      },
      "source": [
        "sc_data_path = pathlib.Path(sys.argv[1]).resolve(strict=True)\n",
        "sc_data_dir_name = sc_data_path.parent.name\n",
        "pq_file = pq.ParquetFile(sc_data_path)\n",
        "\n",
        "iso_forest = joblib.load(pathlib.Path(sys.argv[2]).resolve(strict=True))\n",
        "iso_forest.n_jobs = -1\n",
        "\n",
        "anomaly_data_path = pathlib.Path(sys.argv[3]) / sc_data_dir_name / sc_data_path.stem\n",
        "anomaly_data_path.mkdir(parents=True, exist_ok=True)"
      ],
      "outputs": [],
      "execution_count": null
    },
    {
      "cell_type": "code",
      "metadata": {
        "jukit_cell_id": "H1uMt6i3l6"
      },
      "source": [
        "feat_cols = iso_forest.feature_names_in_"
      ],
      "outputs": [],
      "execution_count": null
    },
    {
      "cell_type": "markdown",
      "metadata": {
        "jukit_cell_id": "7oCv6Vb79n"
      },
      "source": [
        "## Compute Anomaly Data"
      ]
    },
    {
      "cell_type": "code",
      "metadata": {
        "jukit_cell_id": "kD5WcVSvOF"
      },
      "source": [
        "# Isolation forest reference:\n",
        "# https://ieeexplore.ieee.org/document/4781136\n",
        "# The data is batched here to reduce the memory burden\n",
        "for i, batch in enumerate(pq_file.iter_batches(batch_size=220_000)):\n",
        "    pdf = batch.to_pandas()\n",
        "    meta_cols = [col for col in pdf.columns if \"Metadata\" in col]\n",
        "    pdf = pdf.assign(Result_inlier=iso_forest.predict(pdf[feat_cols]))\n",
        "    pdf = pdf.assign(Result_anomaly_score=iso_forest.decision_function(pdf[feat_cols]))\n",
        "    pdf.drop(feat_cols, axis=1, inplace=True)\n",
        "\n",
        "    pdf.sort_values(by=\"Result_anomaly_score\", ascending=True, inplace=True)\n",
        "\n",
        "    output_path = anomaly_data_path / f\"{sc_data_path.stem}_anomaly_batch_{i}.parquet\"\n",
        "    pdf.to_parquet(output_path)"
      ],
      "outputs": [],
      "execution_count": null
    }
  ],
  "metadata": {
    "anaconda-cloud": {},
    "kernelspec": {
      "display_name": "python",
      "language": "python",
      "name": "python3"
    }
  },
  "nbformat": 4,
  "nbformat_minor": 4
}